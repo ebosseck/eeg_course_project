﻿{
 "cells": [
  {
   "cell_type": "code",
   "execution_count": 3,
   "id": "initial_id",
   "metadata": {
    "collapsed": true,
    "ExecuteTime": {
     "end_time": "2024-01-24T14:10:03.066706Z",
     "start_time": "2024-01-24T14:10:03.019694300Z"
    }
   },
   "outputs": [],
   "source": [
    "from typing import Optional\n",
    "from mne_bids import BIDSPath\n",
    "def get_input_fnames_apply_ica(\n",
    "        *,\n",
    "        cfg,\n",
    "        subject: str,\n",
    "        session: Optional[str],\n",
    ") -> dict:\n",
    "    bids_basename = BIDSPath(\n",
    "        subject=subject,\n",
    "        session=session,\n",
    "        task=cfg.task,\n",
    "        acquisition=cfg.acq,\n",
    "        recording=cfg.rec,\n",
    "        space=cfg.space,\n",
    "        datatype='eeg',\n",
    "        root=cfg.deriv_root,\n",
    "        check=False,\n",
    "    )\n",
    "    paths = dict()\n",
    "    paths[\"ica\"] = bids_basename.copy().update(suffix=\"ica\", extension=\".fif\")\n",
    "    paths[\"raw\"] = bids_basename.copy().update(suffix=\"proc-filt_raw\", extension=\".fif\")\n",
    "    return paths\n",
    "\n",
    "\n",
    "\n",
    "from mne_bids_pipeline._config_import import _import_config\n",
    "cfg = _import_config(\n",
    "    config_path='./mne-bids/config/mne-bids-pipeline_fri.py'\n",
    ")"
   ]
  },
  {
   "cell_type": "code",
   "execution_count": 4,
   "outputs": [
    {
     "name": "stdout",
     "output_type": "stream",
     "text": [
      "<ICA | epochs decomposition, method: picard (fit in 39 iterations on 46632 samples), 8 ICA components (63 PCA components available), channel types: eeg, no sources marked for exclusion>\n",
      "<ICA | epochs decomposition, method: picard (fit in 18 iterations on 43416 samples), 5 ICA components (63 PCA components available), channel types: eeg, no sources marked for exclusion>\n",
      "<ICA | epochs decomposition, method: picard (fit in 34 iterations on 47235 samples), 6 ICA components (63 PCA components available), channel types: eeg, no sources marked for exclusion>\n",
      "<ICA | epochs decomposition, method: picard (fit in 16 iterations on 49044 samples), 7 ICA components (63 PCA components available), channel types: eeg, no sources marked for exclusion>\n",
      "<ICA | epochs decomposition, method: picard (fit in 3 iterations on 48642 samples), 2 ICA components (63 PCA components available), channel types: eeg, no sources marked for exclusion>\n",
      "<ICA | epochs decomposition, method: picard (fit in 12 iterations on 47235 samples), 7 ICA components (63 PCA components available), channel types: eeg, no sources marked for exclusion>\n",
      "<ICA | epochs decomposition, method: picard (fit in 19 iterations on 39396 samples), 4 ICA components (63 PCA components available), channel types: eeg, no sources marked for exclusion>\n",
      "<ICA | epochs decomposition, method: picard (fit in 10 iterations on 49044 samples), 4 ICA components (63 PCA components available), channel types: eeg, no sources marked for exclusion>\n",
      "<ICA | epochs decomposition, method: picard (fit in 4 iterations on 48240 samples), 3 ICA components (63 PCA components available), channel types: eeg, no sources marked for exclusion>\n",
      "<ICA | epochs decomposition, method: picard (fit in 19 iterations on 47436 samples), 6 ICA components (63 PCA components available), channel types: eeg, no sources marked for exclusion>\n",
      "<ICA | epochs decomposition, method: picard (fit in 14 iterations on 49044 samples), 5 ICA components (63 PCA components available), channel types: eeg, no sources marked for exclusion>\n",
      "<ICA | epochs decomposition, method: picard (fit in 14 iterations on 48843 samples), 5 ICA components (63 PCA components available), channel types: eeg, no sources marked for exclusion>\n",
      "<ICA | epochs decomposition, method: picard (fit in 7 iterations on 49044 samples), 3 ICA components (63 PCA components available), channel types: eeg, no sources marked for exclusion>\n",
      "<ICA | epochs decomposition, method: picard (fit in 16 iterations on 49044 samples), 6 ICA components (63 PCA components available), channel types: eeg, no sources marked for exclusion>\n",
      "<ICA | epochs decomposition, method: picard (fit in 8 iterations on 49044 samples), 4 ICA components (63 PCA components available), channel types: eeg, no sources marked for exclusion>\n",
      "<ICA | epochs decomposition, method: picard (fit in 9 iterations on 49044 samples), 3 ICA components (63 PCA components available), channel types: eeg, no sources marked for exclusion>\n",
      "<ICA | epochs decomposition, method: picard (fit in 4 iterations on 49044 samples), 3 ICA components (63 PCA components available), channel types: eeg, no sources marked for exclusion>\n",
      "<ICA | epochs decomposition, method: picard (fit in 6 iterations on 49044 samples), 3 ICA components (63 PCA components available), channel types: eeg, no sources marked for exclusion>\n",
      "<ICA | epochs decomposition, method: picard (fit in 3 iterations on 49044 samples), 2 ICA components (63 PCA components available), channel types: eeg, no sources marked for exclusion>\n",
      "<ICA | epochs decomposition, method: picard (fit in 3 iterations on 49044 samples), 2 ICA components (63 PCA components available), channel types: eeg, no sources marked for exclusion>\n",
      "<ICA | epochs decomposition, method: picard (fit in 33 iterations on 49044 samples), 7 ICA components (63 PCA components available), channel types: eeg, no sources marked for exclusion>\n",
      "<ICA | epochs decomposition, method: picard (fit in 5 iterations on 49044 samples), 3 ICA components (63 PCA components available), channel types: eeg, no sources marked for exclusion>\n",
      "<ICA | epochs decomposition, method: picard (fit in 14 iterations on 49044 samples), 5 ICA components (63 PCA components available), channel types: eeg, no sources marked for exclusion>\n",
      "<ICA | epochs decomposition, method: picard (fit in 18 iterations on 49044 samples), 4 ICA components (63 PCA components available), channel types: eeg, no sources marked for exclusion>\n",
      "<ICA | epochs decomposition, method: picard (fit in 20 iterations on 49044 samples), 5 ICA components (63 PCA components available), channel types: eeg, no sources marked for exclusion>\n",
      "<ICA | epochs decomposition, method: picard (fit in 28 iterations on 49044 samples), 7 ICA components (63 PCA components available), channel types: eeg, no sources marked for exclusion>\n",
      "<ICA | epochs decomposition, method: picard (fit in 37 iterations on 49044 samples), 12 ICA components (63 PCA components available), channel types: eeg, no sources marked for exclusion>\n",
      "<ICA | epochs decomposition, method: picard (fit in 3 iterations on 49044 samples), 2 ICA components (63 PCA components available), channel types: eeg, no sources marked for exclusion>\n",
      "<ICA | epochs decomposition, method: picard (fit in 44 iterations on 49044 samples), 4 ICA components (63 PCA components available), channel types: eeg, no sources marked for exclusion>\n",
      "<ICA | epochs decomposition, method: picard (fit in 34 iterations on 49044 samples), 5 ICA components (63 PCA components available), channel types: eeg, no sources marked for exclusion>\n",
      "<ICA | epochs decomposition, method: picard (fit in 8 iterations on 49044 samples), 4 ICA components (63 PCA components available), channel types: eeg, no sources marked for exclusion>\n",
      "<ICA | epochs decomposition, method: picard (fit in 11 iterations on 48039 samples), 3 ICA components (63 PCA components available), channel types: eeg, no sources marked for exclusion>\n",
      "<ICA | epochs decomposition, method: picard (fit in 8 iterations on 49044 samples), 3 ICA components (63 PCA components available), channel types: eeg, no sources marked for exclusion>\n",
      "<ICA | epochs decomposition, method: picard (fit in 27 iterations on 48843 samples), 4 ICA components (63 PCA components available), channel types: eeg, no sources marked for exclusion>\n",
      "<ICA | epochs decomposition, method: picard (fit in 13 iterations on 49044 samples), 4 ICA components (63 PCA components available), channel types: eeg, no sources marked for exclusion>\n",
      "<ICA | epochs decomposition, method: picard (fit in 8 iterations on 49044 samples), 3 ICA components (63 PCA components available), channel types: eeg, no sources marked for exclusion>\n",
      "<ICA | epochs decomposition, method: picard (fit in 12 iterations on 48843 samples), 4 ICA components (63 PCA components available), channel types: eeg, no sources marked for exclusion>\n",
      "<ICA | epochs decomposition, method: picard (fit in 13 iterations on 49044 samples), 5 ICA components (63 PCA components available), channel types: eeg, no sources marked for exclusion>\n",
      "<ICA | epochs decomposition, method: picard (fit in 6 iterations on 49044 samples), 3 ICA components (63 PCA components available), channel types: eeg, no sources marked for exclusion>\n",
      "<ICA | epochs decomposition, method: picard (fit in 28 iterations on 49044 samples), 7 ICA components (63 PCA components available), channel types: eeg, no sources marked for exclusion>\n",
      "<ICA | epochs decomposition, method: picard (fit in 4 iterations on 48843 samples), 3 ICA components (63 PCA components available), channel types: eeg, no sources marked for exclusion>\n",
      "<ICA | epochs decomposition, method: picard (fit in 6 iterations on 48843 samples), 3 ICA components (63 PCA components available), channel types: eeg, no sources marked for exclusion>\n",
      "<ICA | epochs decomposition, method: picard (fit in 4 iterations on 49044 samples), 2 ICA components (63 PCA components available), channel types: eeg, no sources marked for exclusion>\n",
      "<ICA | epochs decomposition, method: picard (fit in 5 iterations on 49044 samples), 3 ICA components (63 PCA components available), channel types: eeg, no sources marked for exclusion>\n",
      "<ICA | epochs decomposition, method: picard (fit in 23 iterations on 49044 samples), 7 ICA components (63 PCA components available), channel types: eeg, no sources marked for exclusion>\n"
     ]
    }
   ],
   "source": [
    "import mne\n",
    "import mne_icalabel\n",
    "from mne.preprocessing import read_ica\n",
    "from mne_bids_pipeline._config_utils import (\n",
    "    get_subjects,\n",
    "    get_sessions\n",
    ")\n",
    "for subject in get_subjects(cfg):\n",
    "    for session in get_sessions(cfg):\n",
    "        paths = get_input_fnames_apply_ica(cfg=cfg, subject=subject, session=session)\n",
    "        ica = read_ica(paths[\"ica\"])\n",
    "        raw = mne.io.read_raw_fif(paths[\"raw\"])\n",
    "        print(str(ica))\n",
    "        mne_icalabel.label_components(raw, ica, method=\"iclabel\")"
   ],
   "metadata": {
    "collapsed": false,
    "ExecuteTime": {
     "end_time": "2024-01-24T14:11:10.945464500Z",
     "start_time": "2024-01-24T14:10:03.067705500Z"
    }
   },
   "id": "1a29d63b8f355c09"
  }
 ],
 "metadata": {
  "kernelspec": {
   "display_name": "Python 3",
   "language": "python",
   "name": "python3"
  },
  "language_info": {
   "codemirror_mode": {
    "name": "ipython",
    "version": 2
   },
   "file_extension": ".py",
   "mimetype": "text/x-python",
   "name": "python",
   "nbconvert_exporter": "python",
   "pygments_lexer": "ipython2",
   "version": "2.7.6"
  }
 },
 "nbformat": 4,
 "nbformat_minor": 5
}
