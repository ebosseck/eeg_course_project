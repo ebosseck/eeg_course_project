{
 "cells": [
  {
   "cell_type": "markdown",
   "id": "f2646af1-9b3f-4ee3-8551-9bdceaca3ad8",
   "metadata": {},
   "source": [
    "# Run the MNE BIDS Pipeline\n",
    "\n",
    "Instead of the manual implementation using MNE, for this project the MNE-BIDS-Pipeline is chosen.\n",
    "The advantages of the pipeline include the clear sequential structure, the reproducability, and caching, as the authors write on [MNE-BIDS-Pipeline overview](https://mne.tools/mne-bids-pipeline/stable/features/overview.html).\n",
    "\n",
    "On the one hand, the structure introduces additional effort in some steps like customisations, on the other hand, it can help new users of EEG signal processing with their first steps.\n",
    "Additionally, the reproducability helps in the collaboration over different operating systems.\n",
    "And in the development, the caching helps to reduce the delay between subsequent changes due to tests running the pipeline.\n",
    "\n",
    "These reasons led to the use of MNE-BIDS-Pipeline.\n",
    "Therefore, this kind of implementation is given below in this notebook."
   ]
  },
  {
   "cell_type": "markdown",
   "id": "7c1210ee-b19c-4660-80fe-e0205da1fb44",
   "metadata": {},
   "source": [
    "## Steps for Running this Notebook\n",
    "\n",
    "1. Clone the Git repository of this project. (Since the Notebook is available, this step should be fulfilled.)\n",
    "2. Run preparatory notebook `prepare_data.ipynb` to install dependencies, download, and patch the dataset.\n",
    "3. Run the pipeline with checkups by running this notebook."
   ]
  },
  {
   "cell_type": "markdown",
   "id": "735b4a99-fe54-4962-9b3e-321a521de132",
   "metadata": {},
   "source": [
    "## Header: Load Modules, Set and Load Parameters, Define Functions\n",
    "Prior to running the main steps of the pipeline, multiple steps need to be performed:\n",
    "\n",
    "- Load modules:\n",
    "  Load modules needed for all (e. g. MNE BIDS pipeline), or few (e. g. `typing`) pipeline steps. Load custom modules (e. g. `ica_helpers`)\n",
    "- Set and load parameters:\n",
    "  Set the relative (or absolute) path to the pipeline configuration, and load the configuration from the file."
   ]
  },
  {
   "cell_type": "code",
   "execution_count": null,
   "id": "cebd9f38",
   "metadata": {
    "ExecuteTime": {
     "end_time": "2024-03-28T03:06:14.062207600Z",
     "start_time": "2024-03-28T03:06:13.542813700Z"
    }
   },
   "outputs": [],
   "source": [
    "# import basic EEG manipulation and analysis modules\n",
    "import mne_bids_pipeline\n",
    "import pandas\n",
    "import pandas as pd\n",
    "\n",
    "# import function to load configuration from file\n",
    "from mne_bids_pipeline._config_import import _import_config as getConfig\n",
    "\n",
    "# allow for accessing the command line within Python\n",
    "import sys"
   ]
  },
  {
   "cell_type": "code",
   "execution_count": null,
   "id": "241a668a-9095-4e64-a2aa-f4a3aeb99be9",
   "metadata": {
    "ExecuteTime": {
     "end_time": "2024-03-28T03:06:14.199844Z",
     "start_time": "2024-03-28T03:06:14.062207600Z"
    }
   },
   "outputs": [],
   "source": [
    "# allow for checkup plots based on data stored in files\n",
    "import mne # module for e.g. loading raw, or epoched signals from file\n",
    "import matplotlib\n",
    "import matplotlib.pyplot as plt # plotting module\n",
    "%matplotlib inline"
   ]
  },
  {
   "cell_type": "code",
   "execution_count": null,
   "id": "5a16acc5-b28b-40d5-975e-706a485f0729",
   "metadata": {
    "ExecuteTime": {
     "end_time": "2024-03-28T03:06:14.211847700Z",
     "start_time": "2024-03-28T03:06:14.197844Z"
    }
   },
   "outputs": [],
   "source": [
    "# set the file path of the main configuration file\n",
    "config_path = \"./mne-bids/config/mne-bids-pipeline.py\""
   ]
  },
  {
   "cell_type": "code",
   "execution_count": null,
   "id": "d9cf9f5e-9c87-4e11-b7ee-bfc872457cea",
   "metadata": {
    "ExecuteTime": {
     "end_time": "2024-03-28T03:06:14.604361700Z",
     "start_time": "2024-03-28T03:06:14.212847600Z"
    }
   },
   "outputs": [],
   "source": [
    "# define a function which gets used in application of the ICA results to the raw data\n",
    "import src.tools.ica_helpers as ih"
   ]
  },
  {
   "cell_type": "code",
   "execution_count": null,
   "id": "d4adb4b4-f133-4624-b7db-db086aa5b767",
   "metadata": {
    "ExecuteTime": {
     "end_time": "2024-03-28T03:06:14.619363100Z",
     "start_time": "2024-03-28T03:06:14.605361800Z"
    }
   },
   "outputs": [],
   "source": [
    "# custom module for plotting\n",
    "import src.tools.plot_power as pp\n",
    "import src.tools.cmd as cmd"
   ]
  },
  {
   "cell_type": "code",
   "execution_count": null,
   "id": "6d62c431",
   "metadata": {},
   "outputs": [],
   "source": [
    "# Custom command line output\n",
    "import src.tools.logtools as log"
   ]
  },
  {
   "cell_type": "markdown",
   "id": "f800a352",
   "metadata": {},
   "source": [
    "In order to speed up testing, we can enable and disable each individual pipeline step. STEPS_TO_RUN overrides this mechanic, forcing a full run of the pipeline."
   ]
  },
  {
   "cell_type": "code",
   "execution_count": null,
   "id": "e52d213029820ed",
   "metadata": {
    "ExecuteTime": {
     "end_time": "2024-03-28T03:06:14.638899700Z",
     "start_time": "2024-03-28T03:06:14.620363900Z"
    },
    "collapsed": false,
    "jupyter": {
     "outputs_hidden": false
    }
   },
   "outputs": [],
   "source": [
    "# set steps to be run in this running iteration\n",
    "# This helps to reduce the duration of runs in the project development.\n",
    "STEPS_TO_RUN = {\n",
    "    \"init\": False,\n",
    "    \"preprocessing/_01_data_quality\": False,\n",
    "    \"preprocessing/_02_head_pos\": False,\n",
    "    \"preprocessing/_03_maxfilter\": False,\n",
    "    \"preprocessing/_04_frequency_filter\": False,\n",
    "    \"preprocessing/_05_make_epochs\": False,\n",
    "    \"preprocessing/_06a_run_ica\": False,\n",
    "    \"preprocessing_apply_icalabel\": False,\n",
    "    \"preprocessing/_07a_apply_ica\": False,\n",
    "    \"preprocessing/_08_ptp_reject\": False,\n",
    "    \"sensor\": False,\n",
    "    \"source\": False,\n",
    "}\n",
    "\n",
    "RUN_ALL_STEPS = True"
   ]
  },
  {
   "cell_type": "code",
   "execution_count": null,
   "id": "3c9c55b680ff582e",
   "metadata": {
    "ExecuteTime": {
     "end_time": "2024-03-28T03:06:14.649865600Z",
     "start_time": "2024-03-28T03:06:14.634907600Z"
    },
    "collapsed": false,
    "jupyter": {
     "outputs_hidden": false
    }
   },
   "outputs": [],
   "source": [
    "if RUN_ALL_STEPS:\n",
    "    for step in STEPS_TO_RUN:\n",
    "        STEPS_TO_RUN[step] = True"
   ]
  },
  {
   "cell_type": "markdown",
   "id": "9460a033705c6710",
   "metadata": {
    "collapsed": false,
    "jupyter": {
     "outputs_hidden": false
    }
   },
   "source": []
  },
  {
   "cell_type": "markdown",
   "id": "719e1a06-8c6a-4539-967e-948f92db3fb5",
   "metadata": {},
   "source": [
    "## Pipeline\n",
    "\n",
    "Start the pipeline running these steps:\n",
    "\n",
    "- `preprocessing/_01_data_quality`\n",
    "- `preprocessing/_04_frequency_filter`\n",
    "- `preprocessing/_05_make_epochs`\n",
    "- `preprocessing/_06a_run_ica`, ica labelling, `preprocessing/_07a_apply_ica`\n",
    "- `preprocessing/_08_ptp_reject`\n",
    "- `sensor`\n",
    "- `source`\n",
    "\n",
    "Each of the steps contains one or more checkups for validating the results of the step.\n",
    "\n",
    "Since the step names of MNE BIDS pipeline were changed after the start of this notebooks creation, the step names should get updated for use with another module version.\n",
    "The simplest version could be to run all pre-processing by running `preprocessing` instead of the minor steps `preprocessing/_0*_*`."
   ]
  },
  {
   "cell_type": "markdown",
   "id": "93e0aced-ca85-4823-99f6-eba60a96f32a",
   "metadata": {},
   "source": [
    "### Initial Setup\n",
    "\n",
    "First, the selected pipeline configuration gets loaded.\n",
    "Few of its entries get printed as checkup.\n",
    "\n",
    "Then, the initial preparations for running the pipeline get started: configuration loading and directory creation.\n",
    "This also is followed by a checkup."
   ]
  },
  {
   "cell_type": "code",
   "execution_count": null,
   "id": "b1cd52dd-2250-4d73-9ab1-67a8af75c20d",
   "metadata": {
    "ExecuteTime": {
     "end_time": "2024-03-28T03:06:14.725387Z",
     "start_time": "2024-03-28T03:06:14.649865600Z"
    }
   },
   "outputs": [],
   "source": [
    "# load configured settings from file\n",
    "cfg = getConfig(\n",
    "    config_path=config_path\n",
    ")"
   ]
  },
  {
   "cell_type": "code",
   "execution_count": null,
   "id": "8c615dcf-35e3-49df-abdc-312f7c67201d",
   "metadata": {
    "ExecuteTime": {
     "end_time": "2024-03-28T03:06:14.742142Z",
     "start_time": "2024-03-28T03:06:14.725387Z"
    },
    "scrolled": true
   },
   "outputs": [],
   "source": [
    "# checkup: print config contents\n",
    "print(\n",
    "    \"study name:\\t\\t\", cfg.study_name, \n",
    "    \"\\nsubjects dir:\\t\\t\", cfg.subjects_dir, \n",
    "    \"\\ntask:\\t\\t\\t\", cfg.task, \n",
    "    \"\\nconditions:\\t\\t\", cfg.conditions, \n",
    "    \"\\nraw resample sfreq:\\t\", cfg.raw_resample_sfreq,\n",
    "    \"\\nl/h freq:\\t\\t\", [cfg.l_freq, cfg.h_freq],\n",
    "    \"\\nica max iterations:\\t\", cfg.ica_max_iterations, \n",
    "    \"\\nica n components:\\t\", cfg.ica_n_components, \n",
    "    \"\\ndecoding csp freqs:\\t\", cfg.decoding_csp_freqs\n",
    ")"
   ]
  },
  {
   "cell_type": "code",
   "execution_count": null,
   "id": "1ac2b9ff-635f-4040-863f-42e0d50bbc73",
   "metadata": {
    "ExecuteTime": {
     "end_time": "2024-03-28T03:06:14.784707Z",
     "start_time": "2024-03-28T03:06:14.740141800Z"
    }
   },
   "outputs": [],
   "source": [
    "# checkup: # print end of path to the stored bids root path\n",
    "cfg.bids_root.parts[-2:]"
   ]
  },
  {
   "cell_type": "code",
   "execution_count": null,
   "id": "59424cd4",
   "metadata": {
    "ExecuteTime": {
     "end_time": "2024-03-28T03:06:14.793709400Z",
     "start_time": "2024-03-28T03:06:14.755699800Z"
    }
   },
   "outputs": [],
   "source": [
    "curr_steps = \"init\"\n",
    "if curr_steps in STEPS_TO_RUN and STEPS_TO_RUN[curr_steps]:\n",
    "    !mne_bids_pipeline --config {config_path} --steps {curr_steps}"
   ]
  },
  {
   "cell_type": "code",
   "execution_count": null,
   "id": "af9de78c-9658-4f25-9bca-e42c2cdd048d",
   "metadata": {
    "ExecuteTime": {
     "end_time": "2024-03-28T03:06:14.794709900Z",
     "start_time": "2024-03-28T03:06:14.771703800Z"
    },
    "scrolled": true
   },
   "outputs": [],
   "source": [
    "# checkup: check, whether output directory was created\n",
    "#          The derivatives directory should exist and contain a subfolder per selected subject.\n",
    "#          The subjects subfolders should be empty if no data were alread generated.\n",
    "curr_bids_root = cfg.bids_root.__str__()\n",
    "cmd.ls(curr_bids_root + '/derivatives/mne-bids-pipeline/')"
   ]
  },
  {
   "cell_type": "markdown",
   "id": "92f0ee59-111d-40c4-ac6f-2f049bd8fb27",
   "metadata": {},
   "source": [
    "### Pre-processing: Data Quality\n",
    "Next, an investsigation on the provided data set is started.\n",
    "Per subject, a report gets created.\n",
    "A simple checkup is used to print an excerpt of one of the checkups."
   ]
  },
  {
   "cell_type": "code",
   "execution_count": null,
   "id": "c2bc75e7-f181-4b8e-87c8-b10a67217fe8",
   "metadata": {
    "ExecuteTime": {
     "end_time": "2024-03-28T03:06:14.806136300Z",
     "start_time": "2024-03-28T03:06:14.786707700Z"
    },
    "scrolled": true
   },
   "outputs": [],
   "source": [
    "curr_steps = \"preprocessing/_01_data_quality\"\n",
    "if curr_steps in STEPS_TO_RUN and STEPS_TO_RUN[curr_steps]:\n",
    "    !mne_bids_pipeline --config {config_path} --steps {curr_steps}"
   ]
  },
  {
   "cell_type": "code",
   "execution_count": null,
   "id": "16e75916-fd04-4fb2-8f17-916a1faf3060",
   "metadata": {
    "ExecuteTime": {
     "end_time": "2024-03-28T03:06:15.042233900Z",
     "start_time": "2024-03-28T03:06:14.804145200Z"
    }
   },
   "outputs": [],
   "source": [
    "# checkup: print some content which was written to file\n",
    "import h5py\n",
    "\n",
    "# set filename\n",
    "curr_checkup_filename = f\"{curr_bids_root}/derivatives/mne-bids-pipeline/sub-01/eeg/sub-01_task-SocialMemoryCuing_report.h5\"\n",
    "\n",
    "# print file name if file exists\n",
    "cmd.ls(curr_checkup_filename)\n",
    "\n",
    "\n",
    "# import data\n",
    "curr_checkup_h5file = h5py.File(curr_checkup_filename, 'r')\n",
    "curr_html_length = len(curr_checkup_h5file[\"mnepython/key__content/idx_0/key_html\"])\n",
    "htmlContent = ''.join([ chr(curr_checkup_h5file[\"mnepython/key__content/idx_0/key_html\"][idx] ) for idx in range(curr_html_length) ])\n",
    "curr_checkup_h5file.close()\n",
    "# print excerpt of html output\n",
    "print(f\"[...]\\n{htmlContent[2500:2850]}\\n[...]\")\n",
    "\n",
    "# print hint regarding extra data\n",
    "print(\"\\n===\\nmore data: see at..\")\n",
    "# for more data, open the written html report file\n",
    "cmd.ls(\"./\" + cfg.bids_root.parts[-2] + \"/\" +cfg.bids_root.parts[-1] + \"/derivatives/mne-bids-pipeline/sub-01/eeg/sub-01_task-SocialMemoryCuing_report.html\")"
   ]
  },
  {
   "cell_type": "markdown",
   "id": "dcb150e7-f998-4ca4-aad9-d59d1c4848e7",
   "metadata": {},
   "source": [
    "Since this checkup prints a part of the HTML source code of the data quality analysis output, the previously run step has exported data to this HTML file.\n",
    "These results can get reviewed in the HTML file together with other pipeline outputs."
   ]
  },
  {
   "cell_type": "markdown",
   "id": "15aa1e65-4c17-4a57-87ab-dbcd76ed7ed5",
   "metadata": {},
   "source": [
    "### Pre-processing: Skipped Steps\n",
    "These two steps get ignored in the selected pipeline."
   ]
  },
  {
   "cell_type": "code",
   "execution_count": null,
   "id": "03c2ad4b-3eae-4be7-9696-5a1ecf5cc076",
   "metadata": {
    "ExecuteTime": {
     "end_time": "2024-03-28T03:06:15.060239Z",
     "start_time": "2024-03-28T03:06:15.044234500Z"
    }
   },
   "outputs": [],
   "source": [
    "curr_steps = \"preprocessing/_02_head_pos\"\n",
    "if curr_steps in STEPS_TO_RUN and STEPS_TO_RUN[curr_steps]:\n",
    "    !mne_bids_pipeline --config {config_path} --steps {curr_steps}"
   ]
  },
  {
   "cell_type": "code",
   "execution_count": null,
   "id": "0f860145-2fcd-4b31-99f2-fc309c434526",
   "metadata": {
    "ExecuteTime": {
     "end_time": "2024-03-28T03:06:15.078243600Z",
     "start_time": "2024-03-28T03:06:15.058238300Z"
    }
   },
   "outputs": [],
   "source": [
    "# checkup: not needed, since this step was skipped"
   ]
  },
  {
   "cell_type": "code",
   "execution_count": null,
   "id": "524be875-79b9-431e-980f-b74027f2a0cd",
   "metadata": {
    "ExecuteTime": {
     "end_time": "2024-03-28T03:06:15.092247200Z",
     "start_time": "2024-03-28T03:06:15.073242300Z"
    }
   },
   "outputs": [],
   "source": [
    "curr_steps = \"preprocessing/_03_maxfilter\"\n",
    "if curr_steps in STEPS_TO_RUN and STEPS_TO_RUN[curr_steps]:\n",
    "    !mne_bids_pipeline --config {config_path} --steps {curr_steps}"
   ]
  },
  {
   "cell_type": "code",
   "execution_count": null,
   "id": "df401ca1-27cb-493b-869f-33177749f661",
   "metadata": {
    "ExecuteTime": {
     "end_time": "2024-03-28T03:06:15.108251200Z",
     "start_time": "2024-03-28T03:06:15.087245200Z"
    }
   },
   "outputs": [],
   "source": [
    "# checkup: not needed, since this step was skipped"
   ]
  },
  {
   "cell_type": "markdown",
   "id": "00c53c73-7c44-4146-a640-06deac0be73b",
   "metadata": {},
   "source": [
    "### Pre-processing: Band Pass Filter etc.\n",
    "The frequency filter step applies multiple linear, time invariant filters.\n",
    "An example is the applied band pass filter with cutoff frequencies at 1.0 Hz and 30.0 Hz.\n",
    "The lowpass filter removes most high frequency noise from the data, including D/C noise. \n",
    "The highpass filter does some implicit detrending, and is a good practice in preparation for the ICA artefact removal.\n",
    "\n",
    "We decided for such a narrow filter band, as our analysis is based on more narrow bandwidths.\n",
    "These frequency bands in our analysis are alpha and theta oscillations.\n",
    "Both bands cutoff frequencies are in the range of 3 Hz to 12 Hz. \n",
    "\n",
    "Thus, removing the energy of frequency bands below 1 Hz and above 30 Hz should not remove relevant information for this analysis.\n",
    "Furthermore, the lowpass frequency of 30 Hz allows for downsampling the signals with sample rates of at least 60 Hz.\n",
    "\n",
    "This is based on the Nyquist theoreme: The sample rate should be at least twice as high as the highest frequency given in the signal.\n",
    "If this is not fulfilled, by aliasing the energy of the signal at frequencies higher than the Nyquist frequency gets added to the downsampled signal at other frequencies.\n",
    "\n",
    "Since the filter curve is expected to be non-perfect in the sense of implementing a step from 0 dB amplification to -∞ dB at the cutoff frequency, a decreasing energy over the frequency above the cutoff frequency is expected.\n",
    "Based on this energy decay over the frequency, we chose a higher sample rate of 100 Hz to get a slightly improved signal to noise ratio compared to a lower sample rate.\n",
    "\n",
    "The application of this pre-processing step is followed by a plot of the resulting spectral density of the power over the frequency for a single subject.\n",
    "This plot shows the effectiveness of the band pass filter.\n",
    "Additionally, the existence of the filtered signal file is proven."
   ]
  },
  {
   "cell_type": "code",
   "execution_count": null,
   "id": "e9871691-da11-49ce-9403-5cf294e0cc58",
   "metadata": {
    "ExecuteTime": {
     "end_time": "2024-03-28T03:06:15.121254400Z",
     "start_time": "2024-03-28T03:06:15.104249900Z"
    },
    "scrolled": true
   },
   "outputs": [],
   "source": [
    "curr_steps = \"preprocessing/_04_frequency_filter\"\n",
    "if curr_steps in STEPS_TO_RUN and STEPS_TO_RUN[curr_steps]:\n",
    "    !mne_bids_pipeline --config {config_path} --steps {curr_steps}"
   ]
  },
  {
   "cell_type": "markdown",
   "id": "aa683b7b-7d80-4102-bc0e-671920de88b6",
   "metadata": {},
   "source": [
    "To check for a successful application of the bandpass filter, the power spectral density of the filtered signal gets plotted."
   ]
  },
  {
   "cell_type": "code",
   "execution_count": null,
   "id": "7559252e-0835-49ee-9d81-5e6c13a335ec",
   "metadata": {
    "ExecuteTime": {
     "end_time": "2024-03-28T03:06:15.162706500Z",
     "start_time": "2024-03-28T03:06:15.119255800Z"
    }
   },
   "outputs": [],
   "source": [
    "%matplotlib widget"
   ]
  },
  {
   "cell_type": "code",
   "execution_count": null,
   "id": "4c9e43ca-acd7-4f87-833e-1f02096d5ed9",
   "metadata": {
    "ExecuteTime": {
     "end_time": "2024-03-28T03:06:15.177709900Z",
     "start_time": "2024-03-28T03:06:15.163706100Z"
    }
   },
   "outputs": [],
   "source": []
  },
  {
   "cell_type": "code",
   "execution_count": null,
   "id": "e89260c9-bd91-4a62-be9a-1f73c84e7210",
   "metadata": {
    "ExecuteTime": {
     "end_time": "2024-03-28T03:06:16.073964Z",
     "start_time": "2024-03-28T03:06:15.179710500Z"
    }
   },
   "outputs": [],
   "source": [
    "# checkup: print spectrum of original and filtered signals, print sample rate of new raw data file\n",
    "curr_checkup_filename = f\"{curr_bids_root}/derivatives/mne-bids-pipeline/sub-01/eeg/sub-01_task-SocialMemoryCuing_proc-filt_raw.fif\"\n",
    "curr_checkup_raw_filtered = mne.io.read_raw_fif(curr_checkup_filename, preload=True)\n",
    "curr_checkup_raw_filtered.plot_psd()\n",
    "print(\"checkup plot showing reduced bandwidth of eeg signals\")"
   ]
  },
  {
   "cell_type": "markdown",
   "id": "6dede51a-cb20-47a4-8c3d-0687dd73272f",
   "metadata": {},
   "source": [
    "This checkup shows multiple results:\n",
    "\n",
    "- For low frequencies, the power per frequency bin gets reduced by approximately 30-40 dB between 1 Hz and 0 Hz compared to constant power over frequency.\n",
    "    - ⇒ The high pass filter seems to work.\n",
    "- For high frequencies, the power per frequency bin gets reduced by about 60 dB compared to constant power over frequency in a third octave above the upper cutoff frequency at 30 Hz.\n",
    "    - ⇒ The low pass filter seems to work.\n",
    "- The 2d electrode position map (top right corner) seems to be somewhat valid.\n",
    "    - ⇒ The electrode positions seem to be loaded correctly.\n",
    "- The spectral power density seems to be similar for all electrodes for this subject.\n",
    "    - ⇒ At first glance, the electrodes seem to have been mounted in a similar way. This could indicate a correct use of the EEG measurement technology by trained personal."
   ]
  },
  {
   "cell_type": "code",
   "execution_count": null,
   "id": "47d6fb9b-bd99-4380-941b-94d5b553f7a7",
   "metadata": {
    "ExecuteTime": {
     "end_time": "2024-03-28T03:06:16.145697700Z",
     "start_time": "2024-03-28T03:06:16.071963200Z"
    }
   },
   "outputs": [],
   "source": [
    "# checkup: print file name if the processed file exists\n",
    "curr_subject_path = f\"{curr_bids_root}/derivatives/mne-bids-pipeline/sub-01/eeg\"\n",
    "cmd.ls(curr_subject_path + \"/sub-01_task-SocialMemoryCuing_proc-filt_raw.fif\")"
   ]
  },
  {
   "cell_type": "markdown",
   "id": "4799a636-088d-40df-afae-c084fcc2e1f6",
   "metadata": {},
   "source": [
    "The file seems to exist. This indicates a correctly downloaded and extracted dataset at the expected path."
   ]
  },
  {
   "cell_type": "markdown",
   "id": "d6d7fb7d-0115-4413-adbd-a3816f41f94c",
   "metadata": {},
   "source": [
    "### Pre-processing: Split Signal to Epochs\n",
    "\n",
    "In the next step, the signal gets split to epochs per subject.\n",
    "This extraction is followed by the plot of all epochs of an example subject.\n",
    "\n",
    "The epochs start one second before the cue object appears, and end them seven seconds later.\n",
    "Therefore, the time interval is -1.0 to 6.0 seconds relative to the cue appearance.\n",
    "\n",
    "The epochs contain multiple time frames:\n",
    "\n",
    "- The baseline of 1 second (-1s to 0s),\n",
    "- the cue pointing downwards (0s to 1.5s),\n",
    "- the cue shifting upwards (1.5s to 2s),\n",
    "- the cue \"looking\" at the subject directly (2s to 3s),\n",
    "- the cue shifting left or right (3s to 3.5s), and\n",
    "- the memory targets being shown (3.5s to 4s).\n",
    "\n",
    "Since the content of these two seconds are not relevant for the main research question, they are removed from the interval:\n",
    "\n",
    "- maintenance interval (4s to 5s), and\n",
    "- showing of the location target to the subject (5s to 6s)\n",
    "\n",
    "This results in the shortened interval of 5 seconds of -1 second to +4 seconds relative to the cue object appearance.\n",
    "In addition to better focus on the more relevant data, the shortened duration should reduce the processing time by two in seven parts. This equals an expected increased processing speed by 28.6 % based on the number of to-be-processed samples."
   ]
  },
  {
   "cell_type": "code",
   "execution_count": null,
   "id": "8ae2e819-7e3a-417f-aae6-52a28744bc7d",
   "metadata": {
    "ExecuteTime": {
     "end_time": "2024-03-28T03:06:16.145697700Z",
     "start_time": "2024-03-28T03:06:16.087965700Z"
    },
    "scrolled": true
   },
   "outputs": [],
   "source": [
    "curr_steps = \"preprocessing/_05_make_epochs\"\n",
    "if curr_steps in STEPS_TO_RUN and STEPS_TO_RUN[curr_steps]:\n",
    "    !mne_bids_pipeline --config {config_path} --steps {curr_steps}"
   ]
  },
  {
   "cell_type": "code",
   "execution_count": null,
   "id": "1be4676f-a31b-4728-9083-14a3e550fa14",
   "metadata": {
    "ExecuteTime": {
     "end_time": "2024-03-28T03:06:16.947212200Z",
     "start_time": "2024-03-28T03:06:16.101969300Z"
    }
   },
   "outputs": [],
   "source": [
    "# checkup: plot epochs\n",
    "curr_checkup_epochs = mne.read_epochs(f\"{curr_subject_path}/sub-01_task-SocialMemoryCuing_epo.fif\")\n",
    "mne.viz.plot_epochs_image(curr_checkup_epochs)"
   ]
  },
  {
   "cell_type": "markdown",
   "id": "24bbb830-e4bc-4eff-b96e-27913119c664",
   "metadata": {},
   "source": [
    "This checkup plot shows the amplitude in μV per epoch over time.\n",
    "Here, increased activity is visible around -1 seconds, and at 0.5 to 3 seconds.\n",
    "The roughly matching onset time of the activity and time frames with low amplitudes indicate a roughly correct epoching."
   ]
  },
  {
   "cell_type": "markdown",
   "id": "4129c4f6",
   "metadata": {},
   "source": [
    "Next, we compare the detected number of epochs with the expected number of epochs recovered from the provided metadata."
   ]
  },
  {
   "cell_type": "code",
   "execution_count": null,
   "id": "1be7cee9",
   "metadata": {},
   "outputs": [],
   "source": [
    "import pandas\n",
    "from mne.epochs import EpochsFIF\n",
    "\n",
    "FILE_PATH_TEMPLATE = '{data}/derivatives/mne-bids-pipeline/sub-{sub}/eeg/sub-{sub}_task-SocialMemoryCuing_epo.fif'\n",
    "\n",
    "METADATA_PATH_TEMPLATE = '{data}/derivatives/BehaviouralData_TableStudyVR/TableStudyRawdata/sub-{sub}/sub-{sub}__task-SocialMemoryCuing_{cue}_trial_results.csv'\n",
    "\n",
    "SUBJECT_IDS = [ \"01\", \"02\", \"03\", \"04\",       \"06\", \"07\",       \"09\", \"10\",\n",
    "                \"11\", \"12\", \"13\", \"14\", \"15\", \"16\", \"17\", \"18\", \"19\",\n",
    "                \"21\", \"22\", \"23\", \"24\", \"25\", \"26\", \"27\", \"28\",       \"30\",\n",
    "                \"32\", \"33\", \"34\", \"35\",             \"38\", \"39\", \"40\",\n",
    "                \"41\",       \"43\", \"44\", \"45\", \"46\",       \"48\", \"49\", \"50\"]\n",
    "\n",
    "CLEAN_SUBJECT_IDS = []\n",
    "\n",
    "clean_subjects = 0\n",
    "\n",
    "for sub_str in SUBJECT_IDS:\n",
    "    path = FILE_PATH_TEMPLATE.format(data=cfg.bids_root, sub=sub_str)\n",
    "    epochs: EpochsFIF = mne.read_epochs(path)\n",
    "\n",
    "    detected_stick_length = len(epochs['sticks'].metadata)\n",
    "    detected_avatar_length = len(epochs['avatar'].metadata)\n",
    "\n",
    "    path_meta_avatar = METADATA_PATH_TEMPLATE.format(data=cfg.bids_root, sub=sub_str, cue=\"AVATAR\")\n",
    "    path_meta_stick = METADATA_PATH_TEMPLATE.format(data=cfg.bids_root, sub=sub_str, cue=\"STICK\")\n",
    "\n",
    "    meta_avatar_length = len(pandas.read_csv(path_meta_avatar))\n",
    "    meta_stick_length = len(pandas.read_csv(path_meta_stick))\n",
    "    \n",
    "    isClean = False\n",
    "    \n",
    "    if meta_avatar_length - detected_avatar_length == 0 and meta_stick_length - detected_stick_length == 0:\n",
    "        clean_subjects += 1\n",
    "        CLEAN_SUBJECT_IDS.append(sub_str)\n",
    "        isClean = True\n",
    "    log.print(\"Subject {}: Lost Epochs: Avatar: {} Sticks: {}\".format(sub_str,\n",
    "                                                                  meta_avatar_length - detected_avatar_length,\n",
    "                                                                  meta_stick_length - detected_stick_length), style=log.STYLE_TEXT_GREEN if isClean else log.STYLE_HIGHLIGHT_RED)\n",
    "\n",
    "log.print(log.formatString(\"Total number of Subjects without missing Epochs:\", style=log.STYLE_TEXT_BLUE), log.formatString(clean_subjects, style=[log.STYLE_BOLD, log.STYLE_TEXT_DARK_YELLOW]))\n",
    "\n",
    "log.print(log.formatString(\"The following subjects are clean:\", style=log.STYLE_TEXT_BLUE), log.formatString(*CLEAN_SUBJECT_IDS, style=log.STYLE_TEXT_DARK_YELLOW, sep=', '))"
   ]
  },
  {
   "cell_type": "markdown",
   "id": "d90d49e8",
   "metadata": {},
   "source": [
    "As we can see, this results in only 29 subjects without any lost epochs. Lost epochs are somewhat problematic when applying the external metadata, since the locations of the lost epochs are not known, which may lead to misalignment between measured data and metadata. Unfortunately, mne-bids-pipeline does not seem to store the original timecodes of epochs in the metadata, therefore we can not match detected epochs with external metadata by timecode. If we needed more subjects, we could try to match epochs by their measurement values (or their deltas). Given the 500 floating point samples per epoch (because of subsampling to 100 hz and an epoch length of 5 seconds), this should provide a reasonably good chance to identify the epochs. But due to the limited time availabe, and 29 subjects still being enough for the purpose of this course, we decided not to implement this rather convoluted, computationally expensive epoch identification method."
   ]
  },
  {
   "cell_type": "code",
   "execution_count": null,
   "id": "f1ae6e51",
   "metadata": {},
   "outputs": [],
   "source": [
    "from pandas import DataFrame\n",
    "import pandas as pd\n",
    "\n",
    "for sub_str in CLEAN_SUBJECT_IDS:\n",
    "    path = FILE_PATH_TEMPLATE.format(data=cfg.bids_root, sub=sub_str)\n",
    "    epochs: EpochsFIF = mne.read_epochs(path)\n",
    "\n",
    "    detected_avatar_length = len(epochs['avatar'].metadata)\n",
    "    \n",
    "\n",
    "    path_meta_avatar = METADATA_PATH_TEMPLATE.format(data=cfg.bids_root, sub=sub_str, cue=\"AVATAR\")\n",
    "    path_meta_stick = METADATA_PATH_TEMPLATE.format(data=cfg.bids_root, sub=sub_str, cue=\"STICK\")\n",
    "    \n",
    "    avatar_extern = pandas.read_csv(path_meta_avatar, index_col=False)\n",
    "    stick_extern = pandas.read_csv(path_meta_stick, index_col=False)\n",
    "    \n",
    "    avatar_intern: DataFrame = epochs['avatar'].metadata\n",
    "    stick_intern = epochs['sticks'].metadata\n",
    "    \n",
    "    idx_avatar = avatar_intern.index[0]\n",
    "    idx_sticks = stick_intern.index[0]\n",
    "    \n",
    "    if idx_avatar < idx_sticks:\n",
    "        extern = pd.concat([avatar_extern, stick_extern], axis=0, ignore_index=True)\n",
    "    else:\n",
    "        extern = pd.concat([stick_extern, avatar_extern], axis=0, ignore_index=True)\n",
    "    \n",
    "    metadata = pd.concat([epochs.metadata, extern], axis=1)\n",
    "    \n",
    "    epochs.metadata = metadata\n",
    "    epochs.save(path, overwrite=True)"
   ]
  },
  {
   "cell_type": "markdown",
   "id": "88b83fe8",
   "metadata": {},
   "source": [
    "With this, we added the additional metadata provided for the study, and save the epochs with additional metadata for further processing using the pipeline. In order to verify that adding the metadata worked properly, we take a quick look at the saved epoch's metadata for subject 3."
   ]
  },
  {
   "cell_type": "code",
   "execution_count": null,
   "id": "cab7010a",
   "metadata": {},
   "outputs": [],
   "source": [
    "from IPython.display import display\n",
    "\n",
    "path = FILE_PATH_TEMPLATE.format(data=cfg.bids_root, sub=\"03\")\n",
    "epochs: EpochsFIF = mne.read_epochs(path)\n",
    "\n",
    "frame: DataFrame = epochs.metadata\n",
    "display(frame)"
   ]
  },
  {
   "cell_type": "markdown",
   "id": "e67c562a-b898-4fa9-9e77-43af168bbc24",
   "metadata": {},
   "source": [
    "### Pre-processing: ICA\n",
    "\n",
    "Running the ICA is split to three steps:\n",
    "\n",
    "- component analysis\n",
    "- component labelling (`good` vs. `bad`)\n",
    "- signal cleaning\n",
    "\n",
    "#### ICA: Analysis\n",
    "\n",
    "For the analysis, per subject the algorithm selected in the configuration file gets run.\n",
    "Here, extended infomax is selected, which follows peak to peak rejection (PTP) for better ICA results.\n",
    "Since with low threshold the PTP does not return enough epochs, a high threshold of 400 μV is selected matching the default pipeline threshold.\n",
    "\n",
    "For few subjects, the amplitudes are too high for this PTP threshold.\n",
    "Here, two possibilities seem to be reachable:\n",
    "Either few subjects need to get removed from the pipeline due to too high amplitudes resulting in removal of all epochs,\n",
    "or the threshold needs to get increased to a value above all subjects amplitude.\n",
    "To reach a good overall quality, the few subjects are removed from the pipeline.\n",
    "\n",
    "More accurate PTP is later run on the ICA cleaned epoch signals.\n",
    "\n",
    "The analysis is followed by a checkup plot of unlabelled components."
   ]
  },
  {
   "cell_type": "code",
   "execution_count": null,
   "id": "37522a72-cf8e-414f-965f-807164672ea7",
   "metadata": {
    "ExecuteTime": {
     "end_time": "2024-03-28T03:06:17.021387500Z",
     "start_time": "2024-03-28T03:06:16.948212800Z"
    },
    "scrolled": true
   },
   "outputs": [],
   "source": [
    "curr_steps = \"preprocessing/_06a_run_ica\"\n",
    "if curr_steps in STEPS_TO_RUN and STEPS_TO_RUN[curr_steps]:\n",
    "    !mne_bids_pipeline --config {config_path} --steps {curr_steps}"
   ]
  },
  {
   "cell_type": "code",
   "execution_count": null,
   "id": "9006e449-86bd-4b29-bfcc-0d3da7e59e1c",
   "metadata": {
    "ExecuteTime": {
     "end_time": "2024-03-28T03:06:17.847884300Z",
     "start_time": "2024-03-28T03:06:16.963785700Z"
    }
   },
   "outputs": [],
   "source": [
    "# checkup: plot ica components\n",
    "curr_checkup_ica = mne.preprocessing.read_ica(f\"{curr_subject_path}/sub-01_task-SocialMemoryCuing_ica.fif\")\n",
    "curr_checkup_ica.apply(curr_checkup_raw_filtered)\n",
    "curr_checkup_ica.plot_components(inst=curr_checkup_raw_filtered)\n",
    "print(\"checkup: ICA component plots of the selected subject\")"
   ]
  },
  {
   "cell_type": "markdown",
   "id": "10bd1db7-33cf-436a-9f55-b5c08d09c1a8",
   "metadata": {},
   "source": [
    "#### ICA: Labelling\n",
    "\n",
    "For automatic labelling of the components, the ICA label algorithms provided in the MNE framework get applied.\n",
    "The verbose version of the custom functions output is returned by this custom function.\n",
    "This is is followed by the content of a single subjects updated component label file.\n",
    "\n",
    "Components labelled as `brain` or `other` are kept.\n",
    "These labels usually indicate, there are no or too few information for excluding the component.\n",
    "\n",
    "Components labelled differently get marked as `bad` in the `*.tsv` file.\n",
    "Examples for such labels are muscle artifact, eye blink, and channel noise.\n",
    "The components labelled as `bad` are going to be excluded in the next step."
   ]
  },
  {
   "cell_type": "code",
   "execution_count": null,
   "id": "91e892dd",
   "metadata": {
    "ExecuteTime": {
     "end_time": "2024-03-28T03:07:27.771360900Z",
     "start_time": "2024-03-28T03:06:17.841901100Z"
    },
    "scrolled": true
   },
   "outputs": [],
   "source": [
    "curr_steps = \"preprocessing_apply_icalabel\"\n",
    "if curr_steps in STEPS_TO_RUN and STEPS_TO_RUN[curr_steps]:\n",
    "    ih.update_ica_labels(cfg=cfg, do_print_verbose=True)"
   ]
  },
  {
   "cell_type": "code",
   "execution_count": null,
   "id": "7fc01d65-e0d9-405c-ae4c-7f8ae00158d8",
   "metadata": {
    "ExecuteTime": {
     "end_time": "2024-03-28T03:07:27.783867300Z",
     "start_time": "2024-03-28T03:07:27.768360300Z"
    }
   },
   "outputs": [],
   "source": [
    "# checkup: print list of components given in updated …_proc-ica+components.tsv file\n",
    "#!cat \"{curr_subject_path}/sub-01_task-SocialMemoryCuing_proc-ica_components.tsv\"\n",
    "cmd.cat(curr_subject_path + \"/sub-01_task-SocialMemoryCuing_proc-ica_components.tsv\")\n",
    "# This file should contain a status like \"bad\" for eye blinks, or \"good\" for brain activity, as it is indicated above and visible in the ICA component plots."
   ]
  },
  {
   "cell_type": "markdown",
   "id": "37e58c26-f885-43c8-b614-22aff6863d22",
   "metadata": {},
   "source": [
    "This checkup prints the components of a subject with status in {`good`, `bad`}.\n",
    "Since both labels are given, while the initial setup contains only `good` for all commponents, the ICA label software seems to work."
   ]
  },
  {
   "cell_type": "markdown",
   "id": "9ac7b9c8-1004-4377-84b7-165c9a45f4be",
   "metadata": {},
   "source": [
    "#### ICA: Cleaning\n",
    "Based on the component labels, the signals of the corresponding subject get cleaned.\n",
    "\n",
    "The resulting epoch signals get plotted in comparison to the not-ICA-cleaned epoch signals as checkup.\n",
    "The amplitude of the epoch signals is visualised based on the colourbar on the right hand side.\n",
    "This colourbar is independent per plot.\n",
    "Therefore, the scale should be kept in mind while comparing versions."
   ]
  },
  {
   "cell_type": "code",
   "execution_count": null,
   "id": "b0e70992",
   "metadata": {
    "ExecuteTime": {
     "end_time": "2024-03-28T03:07:27.827400600Z",
     "start_time": "2024-03-28T03:07:27.783867300Z"
    },
    "scrolled": true
   },
   "outputs": [],
   "source": [
    "curr_steps = \"preprocessing/_07a_apply_ica\"\n",
    "if curr_steps in STEPS_TO_RUN and STEPS_TO_RUN[curr_steps]:\n",
    "    !mne_bids_pipeline --config {config_path} --steps {curr_steps}"
   ]
  },
  {
   "cell_type": "code",
   "execution_count": null,
   "id": "3d13510c-e87f-4e43-b5b8-84a8119bd806",
   "metadata": {
    "ExecuteTime": {
     "end_time": "2024-03-28T03:07:28.455594900Z",
     "start_time": "2024-03-28T03:07:27.798374300Z"
    }
   },
   "outputs": [],
   "source": [
    "# checkup: plot original (conventionally filtered) epochs\n",
    "curr_checkup_epochs = mne.read_epochs(f\"{curr_subject_path}/sub-01_task-SocialMemoryCuing_epo.fif\")\n",
    "mne.viz.plot_epochs_image(curr_checkup_epochs)\n",
    "print(\"checkup: original (top) vs. ica-applied (bottom) epochs\")"
   ]
  },
  {
   "cell_type": "code",
   "execution_count": null,
   "id": "d844daf0-8c06-4ff9-b00a-9d71ef0d6a48",
   "metadata": {
    "ExecuteTime": {
     "end_time": "2024-03-28T03:07:29.389019800Z",
     "start_time": "2024-03-28T03:07:28.449580900Z"
    }
   },
   "outputs": [],
   "source": [
    "# checkup: plot ICA-corrected epochs\n",
    "curr_checkup_epochs_ica = mne.read_epochs(f\"{curr_subject_path}/sub-01_task-SocialMemoryCuing_proc-ica_epo.fif\")\n",
    "mne.viz.plot_epochs_image(curr_checkup_epochs_ica)\n",
    "print(\"checkup: original (top) vs. ica-applied (bottom) epochs; Compare the scale in μV.\")"
   ]
  },
  {
   "cell_type": "markdown",
   "id": "ec63db97-31ee-4864-a0ce-0183ed48bfbc",
   "metadata": {},
   "source": [
    "### Pre-processing: Peak to Peak Rejection\n",
    "The last step in the pre-processing is the peak to peak rejection.\n",
    "This also is followed by plots comparing the original epoch signals after basic filtering to the ICA and PTP filtered epoch signals."
   ]
  },
  {
   "cell_type": "code",
   "execution_count": null,
   "id": "419f1629-19ef-46a0-93c6-22f840beb280",
   "metadata": {
    "ExecuteTime": {
     "end_time": "2024-03-28T03:07:29.463593700Z",
     "start_time": "2024-03-28T03:07:29.391020800Z"
    },
    "scrolled": true
   },
   "outputs": [],
   "source": [
    "curr_steps = \"preprocessing/_08_ptp_reject\"\n",
    "if curr_steps in STEPS_TO_RUN and STEPS_TO_RUN[curr_steps]:\n",
    "    !mne_bids_pipeline --config {config_path} --steps {curr_steps}"
   ]
  },
  {
   "cell_type": "code",
   "execution_count": null,
   "id": "f68661a7-4ebf-43d8-8616-bcc5336e57f3",
   "metadata": {
    "ExecuteTime": {
     "end_time": "2024-03-28T03:07:30.149029500Z",
     "start_time": "2024-03-28T03:07:29.405023700Z"
    }
   },
   "outputs": [],
   "source": [
    "# checkup: plot original (conventionally filtered) epochs\n",
    "curr_checkup_epochs = mne.read_epochs(f\"{curr_subject_path}/sub-01_task-SocialMemoryCuing_epo.fif\")\n",
    "mne.viz.plot_epochs_image(curr_checkup_epochs)\n",
    "print(\"checkup: original epochs\")"
   ]
  },
  {
   "cell_type": "code",
   "execution_count": null,
   "id": "edb6a27f-effb-4981-b5a2-5bf384e50edc",
   "metadata": {
    "ExecuteTime": {
     "end_time": "2024-03-28T03:07:30.967108100Z",
     "start_time": "2024-03-28T03:07:30.146028200Z"
    }
   },
   "outputs": [],
   "source": [
    "# checkup: plot cleaned epochs\n",
    "curr_checkup_epochs_ptp = mne.read_epochs(f\"{curr_subject_path}/sub-01_task-SocialMemoryCuing_proc-clean_epo.fif\")\n",
    "mne.viz.plot_epochs_image(curr_checkup_epochs_ptp)\n",
    "print(\"checkup: original (top) vs. cleaned epochs (bottom)\")"
   ]
  },
  {
   "cell_type": "markdown",
   "id": "15b63fee-d429-43db-a17f-552e375f7f88",
   "metadata": {},
   "source": [
    "## Analysis\n",
    "The pre-processing steps get followed by the analysis steps.\n",
    "\n",
    "### Analysis: Sensor\n",
    "Some plots including topography plot and power per electrode position/epoch/time are given by the separate notebook `more_visuals.ipynb`.\n",
    "\n",
    "The topography plot indicates high amplitudes located in the front of the head.\n",
    "For other regions, the absolute value of the energy seems to be lower.\n",
    "\n",
    "In the power over time plot per electrode, increased power is visible for several time frames. This is visible through the little or missing change over multiple epochs."
   ]
  },
  {
   "cell_type": "code",
   "execution_count": null,
   "id": "9ea9a5f3-26f8-4c8b-8f68-318c6a3baf51",
   "metadata": {
    "ExecuteTime": {
     "end_time": "2024-03-28T03:07:30.979628400Z",
     "start_time": "2024-03-28T03:07:30.966116300Z"
    },
    "scrolled": true
   },
   "outputs": [],
   "source": [
    "curr_steps = \"sensor\"\n",
    "if curr_steps in STEPS_TO_RUN and STEPS_TO_RUN[curr_steps]:\n",
    "    !mne_bids_pipeline --config {config_path} --steps {curr_steps}"
   ]
  },
  {
   "cell_type": "markdown",
   "id": "92c2b0cb-edd4-4485-85da-f56dfe76a637",
   "metadata": {},
   "source": [
    "Another short test is printing the average Receiver Operating Characteristic Area Under the Curve (ROC AUC) results file content.\n",
    "This checkup returns headings and values.\n",
    "\n",
    "Since the content gets printed, the matching file for average ROC AUC output is known to exist."
   ]
  },
  {
   "cell_type": "code",
   "execution_count": null,
   "id": "ee91633c-3889-4a92-a4f2-e408bdf25f75",
   "metadata": {},
   "outputs": [],
   "source": [
    "cmd.cat(\"./data/ds003702/derivatives/mne-bids-pipeline/sub-01/eeg/sub-01_task-SocialMemoryCuing_proc-avatar+sticks+FullEpochs+rocauc_decoding.tsv\")"
   ]
  },
  {
   "cell_type": "markdown",
   "id": "4535dbf6-b923-483c-b80b-7bdcb4c97d72",
   "metadata": {},
   "source": [
    "### Analysis: Source Space Analysis"
   ]
  },
  {
   "cell_type": "code",
   "execution_count": null,
   "id": "16c0472c",
   "metadata": {
    "ExecuteTime": {
     "end_time": "2024-03-28T03:07:31.053482500Z",
     "start_time": "2024-03-28T03:07:30.980628500Z"
    },
    "scrolled": true
   },
   "outputs": [],
   "source": [
    "curr_steps = \"source\"\n",
    "if curr_steps in STEPS_TO_RUN and STEPS_TO_RUN[curr_steps]:\n",
    "    !mne_bids_pipeline --config {config_path} --steps {curr_steps}"
   ]
  },
  {
   "cell_type": "markdown",
   "id": "43ee7dd7-2fdb-4ba5-833d-306f30db80a1",
   "metadata": {},
   "source": [
    "## Files per Step\n",
    "\n",
    "To allow for additional investigation on the processed signals, the following list contains the exported files per step for the first subject.\n",
    "These file names shall also help to interprete the check ups performed by printing file names of existing files.\n",
    "\n",
    "- `preprocessing/_01_data_quality`\n",
    "    ```\n",
    "    sub-01_task-SocialMemoryCuing_report.h5\n",
    "    sub-01_task-SocialMemoryCuing_report.h5.lock\n",
    "    sub-01_task-SocialMemoryCuing_report.html\n",
    "    ```\n",
    "- `preprocessing/_04_frequency_filter`\n",
    "    ```\n",
    "    sub-01_task-SocialMemoryCuing_proc-filt_raw.fif\n",
    "    ```\n",
    "- `preprocessing/_05_make_epochs`\n",
    "    ```\n",
    "    sub-01_task-SocialMemoryCuing_epo.fif\n",
    "    ```\n",
    "- `preprocessing/_06a_run_ica`\n",
    "\n",
    "    ```\n",
    "    sub-01_task-SocialMemoryCuing_ica.fif\n",
    "    sub-01_task-SocialMemoryCuing_proc-ica_components.tsv\n",
    "    sub-01_task-SocialMemoryCuing_proc-ica+components_report.html\n",
    "    ```\n",
    "- ica labelling: no new file (just changes of `*.tsv` file)\n",
    "- `preprocessing/_07a_apply_ica`\n",
    "    ```\n",
    "    sub-01_task-SocialMemoryCuing_proc-ica_epo.fif\n",
    "    sub-01_task-SocialMemoryCuing_proc-ica_report.html\n",
    "    ```\n",
    "- `preprocessing/_08_ptp_reject`\n",
    "    ```\n",
    "    sub-01_task-SocialMemoryCuing_proc-clean_epo.fif\n",
    "    ```\n",
    "- `sensor`\n",
    "    ```\n",
    "    sub-01_task-SocialMemoryCuing_ave.fif  # average data\n",
    "\n",
    "    # decoding analysis results related to ROC AUC (Receiver Operating Characteristic Area Under the Curve) metric, Matlab and tab separated file versions:\n",
    "    sub-01_task-SocialMemoryCuing_proc-avatar+sticks+FullEpochs+rocauc_decoding.mat\n",
    "    sub-01_task-SocialMemoryCuing_proc-avatar+sticks+FullEpochs+rocauc_decoding.tsv\n",
    "    sub-01_task-SocialMemoryCuing_proc-avatar+sticks+TimeByTime+rocauc_decoding.mat\n",
    "    sub-01_task-SocialMemoryCuing_proc-avatar+sticks+TimeByTime+rocauc_decoding.tsv\n",
    "\n",
    "    # time frequency analysis results related to Time-Frequency Representation (TFR):\n",
    "    sub-01_task-SocialMemoryCuing_itc+avatar+tfr.h5   # Inter-Trial Coherence (ITC)\n",
    "    sub-01_task-SocialMemoryCuing_itc+sticks+tfr.h5\n",
    "    sub-01_task-SocialMemoryCuing_power+avatar+tfr.h5 # power spectral density (PSD) \n",
    "    sub-01_task-SocialMemoryCuing_power+sticks+tfr.h5\n",
    "    \n",
    "    sub-01_task-SocialMemoryCuing_cov.fif\n",
    "    sub-01_task-SocialMemoryCuing_proc-avatar+sticks+CSP+rocauc_decoding.xlsx\n",
    "    ```\n",
    "- `source`\n",
    "    ```\n",
    "    sub-01_task-SocialMemoryCuing_fwd.fif\n",
    "    sub-01_task-SocialMemoryCuing_trans.fif\n",
    "    ```\n"
   ]
  },
  {
   "cell_type": "markdown",
   "id": "d2e47e4f-f97b-4f26-a309-1ee5be3e4af1",
   "metadata": {},
   "source": [
    "## Further Comparison"
   ]
  },
  {
   "cell_type": "code",
   "execution_count": null,
   "id": "67e7351f-ca2d-49b5-9f79-d44362056de8",
   "metadata": {
    "ExecuteTime": {
     "end_time": "2024-03-28T03:07:31.053482500Z",
     "start_time": "2024-03-28T03:07:30.995627400Z"
    }
   },
   "outputs": [],
   "source": [
    "SUBJECT_IDS = [ \"01\", \"02\", \"03\", \"04\",       \"06\", \"07\",       \"09\", \"10\",\n",
    "                \"11\", \"12\", \"13\", \"14\", \"15\", \"16\", \"17\", \"18\", \"19\",      \n",
    "                \"21\", \"22\", \"23\", \"24\", \"25\", \"26\", \"27\", \"28\",       \"30\",\n",
    "                      \"32\", \"33\", \"34\", \"35\",             \"38\", \"39\", \"40\",\n",
    "                \"41\",       \"43\", \"44\", \"45\", \"46\",       \"48\", \"49\", \"50\"]\n",
    "\n",
    "data_path = cfg.bids_root\n",
    "cues_list = ['avatar', 'sticks']\n",
    "bands_list = ['alpha', 'theta']\n",
    "time_ranges = [[2, 3], [3.6, 4]]\n",
    "# '{data}/derivatives/mne-bids-pipeline/sub-{sub}/eeg/sub-{sub}_task-SocialMemoryCuing_power+{cue}+tfr.h5'"
   ]
  },
  {
   "cell_type": "code",
   "execution_count": null,
   "id": "172f2821-6229-480c-ae8e-8d42014e0943",
   "metadata": {
    "ExecuteTime": {
     "end_time": "2024-03-28T03:07:33.228074500Z",
     "start_time": "2024-03-28T03:07:31.010471Z"
    }
   },
   "outputs": [],
   "source": [
    "from IPython.core.display import Markdown\n",
    "from IPython.display import display, display_markdown\n",
    "\n",
    "for subject_str in SUBJECT_IDS:\n",
    "    display_markdown(Markdown(\"## Subject: {}\".format(subject_str)))\n",
    "    for idx_cue in range(len(cues_list)):\n",
    "        for idx_time in range(len(time_ranges)):\n",
    "            fig, axes = plt.subplots(1, 2)\n",
    "    \n",
    "            curr_filename_str = f\"plot_power_sub-{subject_str}_{cues_list[idx_cue]}_\" + \\\n",
    "                                f\"{time_ranges[idx_time][0]:01.1f}-{time_ranges[idx_time][1]:01.1f}.png\"\n",
    "            \n",
    "            for idx_band in range(len(bands_list)):\n",
    "                \n",
    "                #print(curr_filename_str)\n",
    "                pwr = pp.plot_power(\n",
    "                    config_path = config_path,\n",
    "                    subject = subject_str,\n",
    "                    cue = cues_list[idx_cue],\n",
    "                    band = bands_list[idx_band],\n",
    "                    time_range = time_ranges[idx_time],\n",
    "                )\n",
    "                fig_power = pwr.plot_topomap(ch_type='eeg', show=True, axes=axes[idx_band])\n",
    "                axes[idx_band].set_title('{}: {} from {} s to {} s'.format(cues_list[idx_cue], bands_list[idx_band], *time_ranges[idx_time]))\n",
    "            fig.set_size_inches(10, 5)\n",
    "            fig.savefig(curr_filename_str)\n",
    "            display(fig)\n",
    "            plt.close(fig)"
   ]
  },
  {
   "cell_type": "code",
   "execution_count": null,
   "id": "7042db0d44c624d1",
   "metadata": {
    "ExecuteTime": {
     "end_time": "2024-03-28T03:07:33.244644200Z",
     "start_time": "2024-03-28T03:07:33.229074800Z"
    },
    "collapsed": false,
    "jupyter": {
     "outputs_hidden": false
    }
   },
   "outputs": [],
   "source": []
  }
 ],
 "metadata": {
  "kernelspec": {
   "display_name": "Python 3 (ipykernel)",
   "language": "python",
   "name": "python3"
  },
  "language_info": {
   "codemirror_mode": {
    "name": "ipython",
    "version": 3
   },
   "file_extension": ".py",
   "mimetype": "text/x-python",
   "name": "python",
   "nbconvert_exporter": "python",
   "pygments_lexer": "ipython3",
   "version": "3.11.8"
  }
 },
 "nbformat": 4,
 "nbformat_minor": 5
}
