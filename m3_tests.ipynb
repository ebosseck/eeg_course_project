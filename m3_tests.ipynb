{
 "cells": [
  {
   "cell_type": "markdown",
   "id": "4684fa49-f9ee-4215-866d-32e3c734ec62",
   "metadata": {
    "editable": true,
    "slideshow": {
     "slide_type": ""
    },
    "tags": []
   },
   "source": [
    "# Hyazintharas • Milestone 3 • Implementation of Analysis of a Single Subject\n",
    "\n",
    "Steps according to our milestone 2:\n",
    "\n",
    "- Preamble: import used modules like `mne`, `mne-bids`, `numpy` as `np`, and `matplotlib.pyplot` as `plt`\n",
    "- Input: load EEG data\n",
    "- Filter: Apply a band pass filter to the loaded multi channel signal.\n",
    "- Re-sampling: Apply `mne.filter.resample()` with `newFsHz=80`\n",
    "- Epoching: -1 s … +1 s (relative to stimulus label)\n",
    "- Re-referencing: global mean\n",
    "    - may shift before epoching?\n",
    "- Cleaning: rejection (based on subject, channel, and time)\n",
    "    - optional: Do automatic rejection to minimise effort of milestone 4 implementation.\n",
    "- Interpolation: Interpolate rejected channels\n",
    "- ICA: Apply ICA component analysis\n",
    "    - note: Do not apply FastICA, but choose another version based on lecture notes.\n",
    "- Transform: Apply Morlet Wavelet Transform.\n",
    "- Averaging: Perform Averaging over repetitions per condition.\n",
    "- Filtering: Apply band pass filters to split to α (8-12 Hz) and β (3-7 Hz) bands.\n",
    "- Analysis:\n",
    "    - Difference between conditions\n",
    "    - Decoding\n",
    "    - Source space\n",
    "    - Time frequency"
   ]
  },
  {
   "cell_type": "code",
   "execution_count": 1,
   "id": "8a130f84-6cca-490b-8f7f-310778ec0875",
   "metadata": {
    "editable": true,
    "slideshow": {
     "slide_type": ""
    },
    "tags": [],
    "ExecuteTime": {
     "end_time": "2023-12-19T01:23:59.995651800Z",
     "start_time": "2023-12-19T01:23:55.315143900Z"
    }
   },
   "outputs": [],
   "source": [
    "# Preamble: import used modules \n",
    "\n",
    "# tools for importing the EEG signals and for first checkups\n",
    "from mne_bids import BIDSPath, read_raw_bids, inspect_dataset\n",
    "\n",
    "# EEG data processing tools\n",
    "import mne\n",
    "\n",
    "# math and array processing tools\n",
    "import numpy as np\n",
    "\n",
    "# Set Matplotlib to render figures using Qt. This allows for interactive figures in dedicated windows.\n",
    "import matplotlib\n",
    "matplotlib.use('qtagg')\n",
    "\n",
    "# expand search path to additional directories:\n",
    "# - with notebooks/ as working directory: Git repository root directory + src/ subdirectory\n",
    "# - with Git root as working directory: src/\n",
    "import sys\n",
    "for newpath in [\"../src\", \"src\"]:\n",
    "  sys.path.insert(0, newpath)\n",
    "\n",
    "# custom modules for data loading and handling\n",
    "import data_handling.data_downloader as dl\n",
    "import data_handling.data_patcher as patch"
   ]
  },
  {
   "cell_type": "markdown",
   "id": "4e586c22-5cb8-469a-a353-ace8de7a6172",
   "metadata": {},
   "source": [
    "## Input: Load and Prepare Data"
   ]
  },
  {
   "cell_type": "code",
   "execution_count": 3,
   "id": "bd903266-8279-4da2-87ff-2494208fd259",
   "metadata": {
    "ExecuteTime": {
     "end_time": "2023-12-19T01:24:43.749468Z",
     "start_time": "2023-12-19T01:24:43.732466700Z"
    }
   },
   "outputs": [],
   "source": [
    "# set the directory in which the dataset should be or shall get stored\n",
    "dl.DATA_BASE_DIR = \"./data/\""
   ]
  },
  {
   "cell_type": "code",
   "execution_count": 3,
   "id": "0aebb07f-ca64-404a-81c2-7e47c6e034d7",
   "metadata": {
    "editable": true,
    "slideshow": {
     "slide_type": ""
    },
    "tags": []
   },
   "outputs": [],
   "source": [
    "# check data, if missing or invalid download them, and if needed patch the file paths\n",
    "dl.fetchData()\n",
    "patch.patchAllFiles()"
   ]
  },
  {
   "cell_type": "code",
   "execution_count": 4,
   "id": "4805e35c-b11f-4045-b7df-fdf8db096866",
   "metadata": {
    "editable": true,
    "slideshow": {
     "slide_type": ""
    },
    "tags": [],
    "ExecuteTime": {
     "end_time": "2023-12-19T01:25:14.760510600Z",
     "start_time": "2023-12-19T01:25:14.746507600Z"
    }
   },
   "outputs": [],
   "source": [
    "# set the dataset base path\n",
    "bids_root = \"./data/ds003702\""
   ]
  },
  {
   "cell_type": "raw",
   "id": "8b50ac4a-aecb-43a3-8817-c81890a41a7f",
   "metadata": {},
   "source": [
    "# TODO: Check, whether ./data or ../data is actually used; Previously, ../data was used when ./data was specified.\n",
    "# note: This workaround is in place:\n",
    "# !cd ..\n",
    "# ln --symbolic eeg_course_project/data data\n",
    "# cd eeg_course_project"
   ]
  },
  {
   "cell_type": "code",
   "execution_count": 5,
   "id": "26eed499-f441-4d17-8c79-58bc46743042",
   "metadata": {},
   "outputs": [],
   "source": [
    "# load the current subjects data\n",
    "\n",
    "# set the parameters\n",
    "subject_id_int = 2  # Set the index of the current subject.\n",
    "                    # Valid subject indices are given in the printed list of directories in the preious cell.\n",
    "                    # Here, indices 1 to 50 seem to be valid.\n",
    "subject_id_str = f\"{subject_id_int:02d}\"\n",
    "datatype = \"eeg\"\n",
    "suffix = \"eeg\"\n",
    "task = \"SocialMemoryCuing\"\n",
    "\n",
    "# generate the BIDS path object\n",
    "bids_path = BIDSPath(\n",
    "    subject=subject_id_str,\n",
    "    task=task,\n",
    "    datatype=datatype,\n",
    "    suffix=suffix,\n",
    "    root=bids_root\n",
    ")\n",
    "\n",
    "# TODO (optional): load re-sampled multi channel signal (pre-processed regarding band pass filter and resampling, smaller file size)\n",
    "#  note: may use pickle or any other tool"
   ]
  },
  {
   "cell_type": "code",
   "execution_count": 6,
   "id": "4f4b0cb0-db23-492c-99c0-a6a721ec3572",
   "metadata": {},
   "outputs": [
    {
     "name": "stdout",
     "output_type": "stream",
     "text": [
      "data/ds003702/sub-02/eeg/sub-02_task-SocialMemoryCuing_eeg.vhdr\n"
     ]
    }
   ],
   "source": [
    "# checkup: print the BIDS path objects content (path to the data file)\n",
    "print(bids_path)"
   ]
  },
  {
   "cell_type": "code",
   "execution_count": 7,
   "id": "130c1d06-6d01-4e1f-83e1-78131b739490",
   "metadata": {
    "editable": true,
    "slideshow": {
     "slide_type": ""
    },
    "tags": []
   },
   "outputs": [
    {
     "name": "stdout",
     "output_type": "stream",
     "text": [
      "Extracting parameters from data/ds003702/sub-02/eeg/sub-02_task-SocialMemoryCuing_eeg.vhdr...\n",
      "Setting channel info structure...\n",
      "Reading channel info from data/ds003702/sub-02/eeg/sub-02_task-SocialMemoryCuing_channels.tsv.\n"
     ]
    },
    {
     "name": "stderr",
     "output_type": "stream",
     "text": [
      "/tmp/ipykernel_213430/2821730418.py:2: RuntimeWarning: Limited 1 annotation(s) that were expanding outside the data range.\n",
      "  raw = read_raw_bids(bids_path)\n",
      "/tmp/ipykernel_213430/2821730418.py:2: RuntimeWarning: Did not find any events.tsv associated with sub-02_task-SocialMemoryCuing.\n",
      "\n",
      "The search_str was \"data/ds003702/sub-02/**/eeg/sub-02*events.tsv\"\n",
      "  raw = read_raw_bids(bids_path)\n",
      "/tmp/ipykernel_213430/2821730418.py:2: RuntimeWarning: The number of channels in the channels.tsv sidecar file (59) does not match the number of channels in the raw data file (64). Will not try to set channel names.\n",
      "  raw = read_raw_bids(bids_path)\n"
     ]
    }
   ],
   "source": [
    "# load the raw EEG data according to the previously generated BIDS path object\n",
    "raw = read_raw_bids(bids_path) "
   ]
  },
  {
   "cell_type": "code",
   "execution_count": 8,
   "id": "102a3f7d-16fb-4b3d-a044-354f12e1e642",
   "metadata": {
    "scrolled": true
   },
   "outputs": [
    {
     "name": "stdout",
     "output_type": "stream",
     "text": [
      "Setting up band-pass filter from 1 - 32 Hz\n",
      "\n",
      "IIR filter parameters\n",
      "---------------------\n",
      "Butterworth bandpass zero-phase (two-pass forward and reverse) non-causal filter:\n",
      "- Filter order 16 (effective, after forward-backward)\n",
      "- Cutoffs at 1.00, 32.00 Hz: -6.02, -6.02 dB\n"
     ]
    }
   ],
   "source": [
    "# Filter\n",
    "# Apply a band pass filter to the loaded multi channel signal.\n",
    "\n",
    "f_sample_hz = 500 # see e.g. <bids_root>/sub-01/eeg/<…>.json -> \"SamplingFrequency: 500\"\n",
    "f_cutoff_low_hz  =  1\n",
    "f_cutoff_high_hz = 32\n",
    "\n",
    "raw_filtered = mne.filter.filter_data( # alternative: raw.copy().filter(\n",
    "    data=raw.get_data(), # return 2D (n_channels, n_times), or 3D (n_epochs, n_channels, n_times) array of data\n",
    "    picks=None, # choose data for filtering; None: pick all channels, <list>: pick selected channels\n",
    "    l_freq=f_cutoff_low_hz,\n",
    "    h_freq=f_cutoff_high_hz,\n",
    "    sfreq=f_sample_hz,\n",
    "    filter_length=\"auto\",\n",
    "    method=\"iir\", # alternatively, use \"fir\" for fixed duration of influence, but slower filter response\n",
    "    iir_params=None, # default: 4 th order Butterworth filters; else: set parameters in dict()\n",
    "    # n_jobs=None, # if cupy is installed and `method=\"fir\"` is selected, `n_jobs=\"cuda\"` is valid\n",
    "    copy=False, # True: return filtered copy; False: operate in place\n",
    "    verbose=True # logging level\n",
    ")\n",
    "\n",
    "# TODOs:\n",
    "# - check, whether raw, raw.get_data(), or anything else needs to get passed for passing data to the filtering function\n",
    "# - check, which other parameters should get passed\n",
    "# - check, why the IIR filter design generates the Butterworth filter for -6 dB at both f_cutoff. This should be 50 % of the power and therefore -3 dB.\n",
    "# - plot comparison of unfiltered and filtered signals (1-2 channels, each)"
   ]
  },
  {
   "cell_type": "code",
   "execution_count": 9,
   "id": "09ac22d1-6df5-4257-af02-e43b541dab41",
   "metadata": {},
   "outputs": [
    {
     "data": {
      "text/plain": [
       "(64, 1454787)"
      ]
     },
     "execution_count": 9,
     "metadata": {},
     "output_type": "execute_result"
    }
   ],
   "source": [
    "# checkup: print shape of the filtered data object\n",
    "# results: 2d array of shape [n channels x n frames]\n",
    "raw_filtered.shape"
   ]
  },
  {
   "cell_type": "raw",
   "id": "1df8ffd3-ddac-4365-9455-38da3a0a6d4a",
   "metadata": {},
   "source": [
    "help(raw.copy().filter)"
   ]
  },
  {
   "cell_type": "raw",
   "id": "56c836cf-4c26-4d64-bfbd-112fbb3c411e",
   "metadata": {},
   "source": [
    "help(mne.filter.filter_data)"
   ]
  },
  {
   "cell_type": "code",
   "execution_count": 10,
   "id": "6252185a-9f87-403a-8c05-19584d3ef52a",
   "metadata": {},
   "outputs": [
    {
     "name": "stdout",
     "output_type": "stream",
     "text": [
      "Apply downsampling by a factor of 6.25 from 500 to 80.\n"
     ]
    }
   ],
   "source": [
    "# Re-sampling for reducing computational effort and memory occupation\n",
    "\n",
    "# set new sample rate in Hz\n",
    "f_sample_new_hz = 80\n",
    "downsampling_factor = f_sample_hz / f_sample_new_hz\n",
    "print(f\"Apply downsampling by a factor of {np.round(downsampling_factor, 2)} from {f_sample_hz} to {f_sample_new_hz}.\")\n",
    "\n",
    "# apply re-sampling\n",
    "raw_resampled = mne.filter.resample(x=raw_filtered, down=downsampling_factor, npad=\"auto\", axis=1) # TODO: set axis and other parameters"
   ]
  },
  {
   "cell_type": "code",
   "execution_count": 11,
   "id": "698947e2-7a93-4d6a-88bb-16d50e021411",
   "metadata": {},
   "outputs": [
    {
     "name": "stdout",
     "output_type": "stream",
     "text": [
      "shape of the loaded signal with dimensions [n channels, n frames]:      (64, 1454787)\n",
      "shape of the filtered signal with dimensions [n channels, n frames]:    (64, 1454787)\n",
      "shape of the downsampled signal with dimensions [n channels, n frames]: (64, 232766)\n"
     ]
    }
   ],
   "source": [
    "print(f\"shape of the loaded signal with dimensions [n channels, n frames]:      {raw.get_data().shape}\")\n",
    "print(f\"shape of the filtered signal with dimensions [n channels, n frames]:    {raw_filtered.shape}\")\n",
    "print(f\"shape of the downsampled signal with dimensions [n channels, n frames]: {raw_resampled.shape}\")"
   ]
  },
  {
   "cell_type": "raw",
   "id": "dccdcb1e-457f-4370-8c73-33b702ecffc7",
   "metadata": {},
   "source": [
    "help(mne.filter.resample)"
   ]
  },
  {
   "cell_type": "code",
   "execution_count": 12,
   "id": "dafb79ed-2393-42c0-b2d2-136d178154c9",
   "metadata": {},
   "outputs": [],
   "source": [
    "# TODO (optional): store re-sampled multi channel signal to get smaller files in the next run\n",
    "#  note: may use pickle or any other tool"
   ]
  },
  {
   "cell_type": "code",
   "execution_count": 13,
   "id": "154a1db0-f9e3-44d8-9b14-e1395f3c4804",
   "metadata": {},
   "outputs": [],
   "source": [
    "# Epoching: -1 s … +1 s (relative to stimulus label)\n",
    "#  note: see own solution"
   ]
  },
  {
   "cell_type": "code",
   "execution_count": 14,
   "id": "b704729e-205e-4e52-b689-76c77590c64f",
   "metadata": {},
   "outputs": [],
   "source": [
    "# Re-referencing: global mean\n",
    "#  note: may shift this step to before epoching?\n",
    "#  note: see own solution of prev. semester"
   ]
  },
  {
   "cell_type": "code",
   "execution_count": 15,
   "id": "9e87d8b2-ea9f-4424-8d37-f65c55671cf8",
   "metadata": {},
   "outputs": [],
   "source": [
    "# Cleaning: rejection (based on subject, channel, and time)\n",
    "#  optional: Do automatic rejection to minimise effort of milestone 4 implementation.\n",
    "#  note: see solution of example tasks for automatic rejection"
   ]
  },
  {
   "cell_type": "code",
   "execution_count": 16,
   "id": "b7063983-4ccb-463b-a916-fbd9d3a1c730",
   "metadata": {},
   "outputs": [],
   "source": [
    "# Interpolation: Interpolate rejected channels\n"
   ]
  },
  {
   "cell_type": "code",
   "execution_count": 17,
   "id": "41c2cfe0-76d4-4bc1-9766-c8d757491543",
   "metadata": {},
   "outputs": [],
   "source": [
    "# ICA: Apply ICA component analysis\n",
    "    # note: Do not apply FastICA, but choose another version based on lecture notes.\n",
    "    # note: for implementation, see prev. semester's implementation\n",
    "    # note: may apply additional band pass filter for better results"
   ]
  },
  {
   "cell_type": "code",
   "execution_count": 18,
   "id": "3d0061cd-ea4d-48c1-a588-c6f9530c9e87",
   "metadata": {},
   "outputs": [],
   "source": [
    "# ICA: Apply denoising using ICA results\n",
    "    # note: may apply on loaded signal with lower high-pass filter cutoff frequency"
   ]
  },
  {
   "cell_type": "code",
   "execution_count": 19,
   "id": "4bb7e62f-9153-4be8-8f15-8c48636b8439",
   "metadata": {},
   "outputs": [],
   "source": [
    "# Transform: Apply Morlet Wavelet Transform.\n"
   ]
  },
  {
   "cell_type": "code",
   "execution_count": 20,
   "id": "70783309-b092-4df4-85b5-c44d162c5ddf",
   "metadata": {},
   "outputs": [],
   "source": [
    "# Averaging: Perform Averaging over repetitions per condition.\n"
   ]
  },
  {
   "cell_type": "code",
   "execution_count": 21,
   "id": "db8c5fc1-a0b0-4b96-91a5-6a50c1e81d15",
   "metadata": {},
   "outputs": [],
   "source": [
    "# Filtering: Apply band pass filters to split to α (8-12 Hz) and β (3-7 Hz) bands.\n"
   ]
  },
  {
   "cell_type": "code",
   "execution_count": 22,
   "id": "cc737b3d-6012-484b-90e0-09966695f28c",
   "metadata": {},
   "outputs": [],
   "source": [
    "# Analysis: Difference between conditions\n",
    "    # note: include basic statistics"
   ]
  },
  {
   "cell_type": "code",
   "execution_count": 23,
   "id": "da088858-c54f-4d6e-97cf-f2b9abdf82a0",
   "metadata": {},
   "outputs": [],
   "source": [
    "# Analysis: Decoding"
   ]
  },
  {
   "cell_type": "code",
   "execution_count": 24,
   "id": "ba26e8ed-dcde-4c59-b958-df69d46a52f2",
   "metadata": {},
   "outputs": [],
   "source": [
    "# Analysis: Source space\n",
    "    # note: plot computed location of the main effects"
   ]
  },
  {
   "cell_type": "code",
   "execution_count": 25,
   "id": "81a29a3c-ae94-42a7-8bc5-fa42ca2c258d",
   "metadata": {},
   "outputs": [],
   "source": [
    "# Analysis: Time frequency"
   ]
  }
 ],
 "metadata": {
  "kernelspec": {
   "display_name": "Python 3 (ipykernel)",
   "language": "python",
   "name": "python3"
  },
  "language_info": {
   "codemirror_mode": {
    "name": "ipython",
    "version": 3
   },
   "file_extension": ".py",
   "mimetype": "text/x-python",
   "name": "python",
   "nbconvert_exporter": "python",
   "pygments_lexer": "ipython3",
   "version": "3.11.6"
  }
 },
 "nbformat": 4,
 "nbformat_minor": 5
}
