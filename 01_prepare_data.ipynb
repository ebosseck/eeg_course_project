{
 "cells": [
  {
   "cell_type": "markdown",
   "id": "568c70ac9cd0d450",
   "metadata": {
    "collapsed": false
   },
   "source": [
    "# Group: Hyacinthara - Report\n",
    "\n",
    "## Introductory Notes\n",
    "\n",
    "This project including Jupyter notebooks and additional source code was created as submission to the EEG course in winter 2023/24.\n",
    "This notebook `01_prepare_data.ipynb` serves as guide and interactive installation and setup software.\n",
    "The pipeline gets run in the subsequent notebook `02_run_pipeline.ipynb`.\n",
    "\n",
    "To run this notebook, matching software including Python and e. g. Jupyter Lab need to be installed.\n",
    "\n",
    "For a better overview, in Jupyter Lab, the Table of Contents tab can get opened in the left column.\n",
    "Since the entries are interactive, it automatically updated and a click on the title initiates a jump to the section.\n",
    "\n",
    "## System and Dependencies\n",
    "\n",
    "All operations were tested on computers with 64 Bit multi-core processor and at least 16 GB RAM.\n",
    "As operating systems, Microsoft Windows 10, Microsoft Windows 11, Manjaro Linux 23.1.3, and Fedora Linux 39 were used.\n",
    "On all computers, Python 3.10 or 3.11 - e. g. Python 3.11.8 - was installed for running `pip` and the pipeline.\n",
    "\n",
    "To make sure that all required Python packages are available, the installation gets started in the following cell.\n",
    "\n",
    "- `!` allows for running the following command on the command line.\n",
    "- `pip install -r <textfile>` (or depending on the installation `python3 -m pip …`) installs the module dependencies in the versions with which this notebook was created.\n",
    "- With these module versions combined with Python 3.11.8, the notebook was tested and running. With other versions, errors can occur. One example of a problem caused by non-matching versions is the changed step naming of different `mne-bids-pipeline` versions."
   ]
  },
  {
   "cell_type": "code",
   "execution_count": 1,
   "id": "d2f1a44d77400139",
   "metadata": {
    "pycharm": {
     "is_executing": true
    },
    "scrolled": true,
    "ExecuteTime": {
     "end_time": "2024-03-29T03:47:54.641390100Z",
     "start_time": "2024-03-29T03:47:52.251273300Z"
    }
   },
   "outputs": [
    {
     "name": "stdout",
     "output_type": "stream",
     "text": [
      "Requirement already satisfied: aiohttp==3.9.0 in b:\\uni\\master\\semester_03\\eeg\\project\\repo\\eeg_course_project\\venv2\\lib\\site-packages (from -r requirements.txt (line 1)) (3.9.0)\n",
      "Requirement already satisfied: aiosignal==1.3.1 in b:\\uni\\master\\semester_03\\eeg\\project\\repo\\eeg_course_project\\venv2\\lib\\site-packages (from -r requirements.txt (line 2)) (1.3.1)\n",
      "Requirement already satisfied: annotated-types==0.6.0 in b:\\uni\\master\\semester_03\\eeg\\project\\repo\\eeg_course_project\\venv2\\lib\\site-packages (from -r requirements.txt (line 3)) (0.6.0)\n",
      "Requirement already satisfied: anyio==4.0.0 in b:\\uni\\master\\semester_03\\eeg\\project\\repo\\eeg_course_project\\venv2\\lib\\site-packages (from -r requirements.txt (line 4)) (4.0.0)\n",
      "Requirement already satisfied: argon2-cffi==23.1.0 in b:\\uni\\master\\semester_03\\eeg\\project\\repo\\eeg_course_project\\venv2\\lib\\site-packages (from -r requirements.txt (line 5)) (23.1.0)\n",
      "Requirement already satisfied: argon2-cffi-bindings==21.2.0 in b:\\uni\\master\\semester_03\\eeg\\project\\repo\\eeg_course_project\\venv2\\lib\\site-packages (from -r requirements.txt (line 6)) (21.2.0)\n",
      "Requirement already satisfied: arrow==1.3.0 in b:\\uni\\master\\semester_03\\eeg\\project\\repo\\eeg_course_project\\venv2\\lib\\site-packages (from -r requirements.txt (line 7)) (1.3.0)\n",
      "Requirement already satisfied: asttokens==2.4.1 in b:\\uni\\master\\semester_03\\eeg\\project\\repo\\eeg_course_project\\venv2\\lib\\site-packages (from -r requirements.txt (line 8)) (2.4.1)\n",
      "Requirement already satisfied: async-lru==2.0.4 in b:\\uni\\master\\semester_03\\eeg\\project\\repo\\eeg_course_project\\venv2\\lib\\site-packages (from -r requirements.txt (line 9)) (2.0.4)\n",
      "Requirement already satisfied: async-timeout==4.0.3 in b:\\uni\\master\\semester_03\\eeg\\project\\repo\\eeg_course_project\\venv2\\lib\\site-packages (from -r requirements.txt (line 10)) (4.0.3)\n",
      "Requirement already satisfied: attrs==23.1.0 in b:\\uni\\master\\semester_03\\eeg\\project\\repo\\eeg_course_project\\venv2\\lib\\site-packages (from -r requirements.txt (line 11)) (23.1.0)\n",
      "Requirement already satisfied: autoreject==0.4.3 in b:\\uni\\master\\semester_03\\eeg\\project\\repo\\eeg_course_project\\venv2\\lib\\site-packages (from -r requirements.txt (line 12)) (0.4.3)\n",
      "Requirement already satisfied: Babel==2.13.1 in b:\\uni\\master\\semester_03\\eeg\\project\\repo\\eeg_course_project\\venv2\\lib\\site-packages (from -r requirements.txt (line 13)) (2.13.1)\n",
      "Requirement already satisfied: beautifulsoup4==4.12.2 in b:\\uni\\master\\semester_03\\eeg\\project\\repo\\eeg_course_project\\venv2\\lib\\site-packages (from -r requirements.txt (line 14)) (4.12.2)\n",
      "Requirement already satisfied: bleach==6.1.0 in b:\\uni\\master\\semester_03\\eeg\\project\\repo\\eeg_course_project\\venv2\\lib\\site-packages (from -r requirements.txt (line 15)) (6.1.0)\n",
      "Requirement already satisfied: bokeh==2.4.3 in b:\\uni\\master\\semester_03\\eeg\\project\\repo\\eeg_course_project\\venv2\\lib\\site-packages (from -r requirements.txt (line 16)) (2.4.3)\n",
      "Requirement already satisfied: certifi==2023.11.17 in b:\\uni\\master\\semester_03\\eeg\\project\\repo\\eeg_course_project\\venv2\\lib\\site-packages (from -r requirements.txt (line 17)) (2023.11.17)\n",
      "Requirement already satisfied: cffi==1.16.0 in b:\\uni\\master\\semester_03\\eeg\\project\\repo\\eeg_course_project\\venv2\\lib\\site-packages (from -r requirements.txt (line 18)) (1.16.0)\n",
      "Requirement already satisfied: charset-normalizer==3.3.2 in b:\\uni\\master\\semester_03\\eeg\\project\\repo\\eeg_course_project\\venv2\\lib\\site-packages (from -r requirements.txt (line 19)) (3.3.2)\n",
      "Requirement already satisfied: click==8.1.7 in b:\\uni\\master\\semester_03\\eeg\\project\\repo\\eeg_course_project\\venv2\\lib\\site-packages (from -r requirements.txt (line 20)) (8.1.7)\n",
      "Requirement already satisfied: cloudpickle==3.0.0 in b:\\uni\\master\\semester_03\\eeg\\project\\repo\\eeg_course_project\\venv2\\lib\\site-packages (from -r requirements.txt (line 21)) (3.0.0)\n",
      "Requirement already satisfied: colorama==0.4.6 in b:\\uni\\master\\semester_03\\eeg\\project\\repo\\eeg_course_project\\venv2\\lib\\site-packages (from -r requirements.txt (line 22)) (0.4.6)\n",
      "Requirement already satisfied: comm==0.2.0 in b:\\uni\\master\\semester_03\\eeg\\project\\repo\\eeg_course_project\\venv2\\lib\\site-packages (from -r requirements.txt (line 23)) (0.2.0)\n",
      "Requirement already satisfied: contourpy==1.2.0 in b:\\uni\\master\\semester_03\\eeg\\project\\repo\\eeg_course_project\\venv2\\lib\\site-packages (from -r requirements.txt (line 24)) (1.2.0)\n",
      "Requirement already satisfied: cycler==0.12.1 in b:\\uni\\master\\semester_03\\eeg\\project\\repo\\eeg_course_project\\venv2\\lib\\site-packages (from -r requirements.txt (line 25)) (0.12.1)\n",
      "Requirement already satisfied: dask==2023.11.0 in b:\\uni\\master\\semester_03\\eeg\\project\\repo\\eeg_course_project\\venv2\\lib\\site-packages (from -r requirements.txt (line 26)) (2023.11.0)\n",
      "Requirement already satisfied: debugpy==1.8.0 in b:\\uni\\master\\semester_03\\eeg\\project\\repo\\eeg_course_project\\venv2\\lib\\site-packages (from -r requirements.txt (line 27)) (1.8.0)\n",
      "Requirement already satisfied: decorator==5.1.1 in b:\\uni\\master\\semester_03\\eeg\\project\\repo\\eeg_course_project\\venv2\\lib\\site-packages (from -r requirements.txt (line 28)) (5.1.1)\n",
      "Requirement already satisfied: defusedxml==0.7.1 in b:\\uni\\master\\semester_03\\eeg\\project\\repo\\eeg_course_project\\venv2\\lib\\site-packages (from -r requirements.txt (line 29)) (0.7.1)\n",
      "Requirement already satisfied: distributed==2023.11.0 in b:\\uni\\master\\semester_03\\eeg\\project\\repo\\eeg_course_project\\venv2\\lib\\site-packages (from -r requirements.txt (line 30)) (2023.11.0)\n",
      "Requirement already satisfied: EDFlib-Python==1.0.8 in b:\\uni\\master\\semester_03\\eeg\\project\\repo\\eeg_course_project\\venv2\\lib\\site-packages (from -r requirements.txt (line 31)) (1.0.8)\n",
      "Requirement already satisfied: eeg-positions==2.1.0 in b:\\uni\\master\\semester_03\\eeg\\project\\repo\\eeg_course_project\\venv2\\lib\\site-packages (from -r requirements.txt (line 32)) (2.1.0)\n",
      "Requirement already satisfied: eeglabio==0.0.2.post4 in b:\\uni\\master\\semester_03\\eeg\\project\\repo\\eeg_course_project\\venv2\\lib\\site-packages (from -r requirements.txt (line 33)) (0.0.2.post4)\n",
      "Requirement already satisfied: et-xmlfile==1.1.0 in b:\\uni\\master\\semester_03\\eeg\\project\\repo\\eeg_course_project\\venv2\\lib\\site-packages (from -r requirements.txt (line 34)) (1.1.0)\n",
      "Requirement already satisfied: exceptiongroup==1.1.3 in b:\\uni\\master\\semester_03\\eeg\\project\\repo\\eeg_course_project\\venv2\\lib\\site-packages (from -r requirements.txt (line 35)) (1.1.3)\n",
      "Requirement already satisfied: executing==2.0.1 in b:\\uni\\master\\semester_03\\eeg\\project\\repo\\eeg_course_project\\venv2\\lib\\site-packages (from -r requirements.txt (line 36)) (2.0.1)\n",
      "Requirement already satisfied: fastjsonschema==2.19.0 in b:\\uni\\master\\semester_03\\eeg\\project\\repo\\eeg_course_project\\venv2\\lib\\site-packages (from -r requirements.txt (line 37)) (2.19.0)\n",
      "Requirement already satisfied: filelock==3.13.1 in b:\\uni\\master\\semester_03\\eeg\\project\\repo\\eeg_course_project\\venv2\\lib\\site-packages (from -r requirements.txt (line 38)) (3.13.1)\n",
      "Requirement already satisfied: fonttools==4.45.0 in b:\\uni\\master\\semester_03\\eeg\\project\\repo\\eeg_course_project\\venv2\\lib\\site-packages (from -r requirements.txt (line 39)) (4.45.0)\n",
      "Requirement already satisfied: fqdn==1.5.1 in b:\\uni\\master\\semester_03\\eeg\\project\\repo\\eeg_course_project\\venv2\\lib\\site-packages (from -r requirements.txt (line 40)) (1.5.1)\n",
      "Requirement already satisfied: frozenlist==1.4.0 in b:\\uni\\master\\semester_03\\eeg\\project\\repo\\eeg_course_project\\venv2\\lib\\site-packages (from -r requirements.txt (line 41)) (1.4.0)\n",
      "Requirement already satisfied: fsspec==2023.10.0 in b:\\uni\\master\\semester_03\\eeg\\project\\repo\\eeg_course_project\\venv2\\lib\\site-packages (from -r requirements.txt (line 42)) (2023.10.0)\n",
      "Requirement already satisfied: h5io==0.1.9 in b:\\uni\\master\\semester_03\\eeg\\project\\repo\\eeg_course_project\\venv2\\lib\\site-packages (from -r requirements.txt (line 43)) (0.1.9)\n",
      "Requirement already satisfied: h5py==3.10.0 in b:\\uni\\master\\semester_03\\eeg\\project\\repo\\eeg_course_project\\venv2\\lib\\site-packages (from -r requirements.txt (line 44)) (3.10.0)\n",
      "Requirement already satisfied: idna==3.4 in b:\\uni\\master\\semester_03\\eeg\\project\\repo\\eeg_course_project\\venv2\\lib\\site-packages (from -r requirements.txt (line 45)) (3.4)\n",
      "Requirement already satisfied: importlib-metadata==6.8.0 in b:\\uni\\master\\semester_03\\eeg\\project\\repo\\eeg_course_project\\venv2\\lib\\site-packages (from -r requirements.txt (line 46)) (6.8.0)\n",
      "Requirement already satisfied: ipykernel==6.26.0 in b:\\uni\\master\\semester_03\\eeg\\project\\repo\\eeg_course_project\\venv2\\lib\\site-packages (from -r requirements.txt (line 47)) (6.26.0)\n",
      "Requirement already satisfied: ipympl==0.9.3 in b:\\uni\\master\\semester_03\\eeg\\project\\repo\\eeg_course_project\\venv2\\lib\\site-packages (from -r requirements.txt (line 48)) (0.9.3)\n",
      "Requirement already satisfied: ipython==8.17.2 in b:\\uni\\master\\semester_03\\eeg\\project\\repo\\eeg_course_project\\venv2\\lib\\site-packages (from -r requirements.txt (line 49)) (8.17.2)\n",
      "Requirement already satisfied: ipython-genutils==0.2.0 in b:\\uni\\master\\semester_03\\eeg\\project\\repo\\eeg_course_project\\venv2\\lib\\site-packages (from -r requirements.txt (line 50)) (0.2.0)\n",
      "Requirement already satisfied: ipywidgets==8.1.1 in b:\\uni\\master\\semester_03\\eeg\\project\\repo\\eeg_course_project\\venv2\\lib\\site-packages (from -r requirements.txt (line 51)) (8.1.1)\n",
      "Requirement already satisfied: isoduration==20.11.0 in b:\\uni\\master\\semester_03\\eeg\\project\\repo\\eeg_course_project\\venv2\\lib\\site-packages (from -r requirements.txt (line 52)) (20.11.0)\n",
      "Requirement already satisfied: jedi==0.19.1 in b:\\uni\\master\\semester_03\\eeg\\project\\repo\\eeg_course_project\\venv2\\lib\\site-packages (from -r requirements.txt (line 53)) (0.19.1)\n",
      "Requirement already satisfied: Jinja2==3.1.2 in b:\\uni\\master\\semester_03\\eeg\\project\\repo\\eeg_course_project\\venv2\\lib\\site-packages (from -r requirements.txt (line 54)) (3.1.2)\n",
      "Requirement already satisfied: joblib==1.3.2 in b:\\uni\\master\\semester_03\\eeg\\project\\repo\\eeg_course_project\\venv2\\lib\\site-packages (from -r requirements.txt (line 55)) (1.3.2)\n",
      "Requirement already satisfied: json-tricks==3.17.3 in b:\\uni\\master\\semester_03\\eeg\\project\\repo\\eeg_course_project\\venv2\\lib\\site-packages (from -r requirements.txt (line 56)) (3.17.3)\n",
      "Requirement already satisfied: json5==0.9.14 in b:\\uni\\master\\semester_03\\eeg\\project\\repo\\eeg_course_project\\venv2\\lib\\site-packages (from -r requirements.txt (line 57)) (0.9.14)\n",
      "Requirement already satisfied: jsonpointer==2.4 in b:\\uni\\master\\semester_03\\eeg\\project\\repo\\eeg_course_project\\venv2\\lib\\site-packages (from -r requirements.txt (line 58)) (2.4)\n",
      "Requirement already satisfied: jsonschema==4.20.0 in b:\\uni\\master\\semester_03\\eeg\\project\\repo\\eeg_course_project\\venv2\\lib\\site-packages (from -r requirements.txt (line 59)) (4.20.0)\n",
      "Requirement already satisfied: jsonschema-specifications==2023.11.1 in b:\\uni\\master\\semester_03\\eeg\\project\\repo\\eeg_course_project\\venv2\\lib\\site-packages (from -r requirements.txt (line 60)) (2023.11.1)\n",
      "Requirement already satisfied: jupyter==1.0.0 in b:\\uni\\master\\semester_03\\eeg\\project\\repo\\eeg_course_project\\venv2\\lib\\site-packages (from -r requirements.txt (line 61)) (1.0.0)\n",
      "Requirement already satisfied: jupyter-console==6.6.3 in b:\\uni\\master\\semester_03\\eeg\\project\\repo\\eeg_course_project\\venv2\\lib\\site-packages (from -r requirements.txt (line 62)) (6.6.3)\n",
      "Requirement already satisfied: jupyter-events==0.9.0 in b:\\uni\\master\\semester_03\\eeg\\project\\repo\\eeg_course_project\\venv2\\lib\\site-packages (from -r requirements.txt (line 63)) (0.9.0)\n",
      "Requirement already satisfied: jupyter-lsp==2.2.0 in b:\\uni\\master\\semester_03\\eeg\\project\\repo\\eeg_course_project\\venv2\\lib\\site-packages (from -r requirements.txt (line 64)) (2.2.0)\n",
      "Requirement already satisfied: jupyter_client==8.6.0 in b:\\uni\\master\\semester_03\\eeg\\project\\repo\\eeg_course_project\\venv2\\lib\\site-packages (from -r requirements.txt (line 65)) (8.6.0)\n",
      "Requirement already satisfied: jupyter_core==5.5.0 in b:\\uni\\master\\semester_03\\eeg\\project\\repo\\eeg_course_project\\venv2\\lib\\site-packages (from -r requirements.txt (line 66)) (5.5.0)\n",
      "Requirement already satisfied: jupyter_server==2.10.1 in b:\\uni\\master\\semester_03\\eeg\\project\\repo\\eeg_course_project\\venv2\\lib\\site-packages (from -r requirements.txt (line 67)) (2.10.1)\n",
      "Requirement already satisfied: jupyter_server_proxy==4.1.0 in b:\\uni\\master\\semester_03\\eeg\\project\\repo\\eeg_course_project\\venv2\\lib\\site-packages (from -r requirements.txt (line 68)) (4.1.0)\n",
      "Requirement already satisfied: jupyter_server_terminals==0.4.4 in b:\\uni\\master\\semester_03\\eeg\\project\\repo\\eeg_course_project\\venv2\\lib\\site-packages (from -r requirements.txt (line 69)) (0.4.4)\n",
      "Requirement already satisfied: jupyterlab==4.0.9 in b:\\uni\\master\\semester_03\\eeg\\project\\repo\\eeg_course_project\\venv2\\lib\\site-packages (from -r requirements.txt (line 70)) (4.0.9)\n",
      "Requirement already satisfied: jupyterlab-pygments==0.2.2 in b:\\uni\\master\\semester_03\\eeg\\project\\repo\\eeg_course_project\\venv2\\lib\\site-packages (from -r requirements.txt (line 71)) (0.2.2)\n",
      "Requirement already satisfied: jupyterlab-widgets==3.0.9 in b:\\uni\\master\\semester_03\\eeg\\project\\repo\\eeg_course_project\\venv2\\lib\\site-packages (from -r requirements.txt (line 72)) (3.0.9)\n",
      "Requirement already satisfied: jupyterlab_server==2.25.2 in b:\\uni\\master\\semester_03\\eeg\\project\\repo\\eeg_course_project\\venv2\\lib\\site-packages (from -r requirements.txt (line 73)) (2.25.2)\n",
      "Requirement already satisfied: kiwisolver==1.4.5 in b:\\uni\\master\\semester_03\\eeg\\project\\repo\\eeg_course_project\\venv2\\lib\\site-packages (from -r requirements.txt (line 74)) (1.4.5)\n",
      "Requirement already satisfied: lazy_loader==0.3 in b:\\uni\\master\\semester_03\\eeg\\project\\repo\\eeg_course_project\\venv2\\lib\\site-packages (from -r requirements.txt (line 75)) (0.3)\n",
      "Requirement already satisfied: locket==1.0.0 in b:\\uni\\master\\semester_03\\eeg\\project\\repo\\eeg_course_project\\venv2\\lib\\site-packages (from -r requirements.txt (line 76)) (1.0.0)\n",
      "Requirement already satisfied: markdown-it-py==3.0.0 in b:\\uni\\master\\semester_03\\eeg\\project\\repo\\eeg_course_project\\venv2\\lib\\site-packages (from -r requirements.txt (line 77)) (3.0.0)\n",
      "Requirement already satisfied: MarkupSafe==2.1.3 in b:\\uni\\master\\semester_03\\eeg\\project\\repo\\eeg_course_project\\venv2\\lib\\site-packages (from -r requirements.txt (line 78)) (2.1.3)\n",
      "Requirement already satisfied: matplotlib==3.8.2 in b:\\uni\\master\\semester_03\\eeg\\project\\repo\\eeg_course_project\\venv2\\lib\\site-packages (from -r requirements.txt (line 79)) (3.8.2)\n",
      "Requirement already satisfied: matplotlib-inline==0.1.6 in b:\\uni\\master\\semester_03\\eeg\\project\\repo\\eeg_course_project\\venv2\\lib\\site-packages (from -r requirements.txt (line 80)) (0.1.6)\n",
      "Requirement already satisfied: mdurl==0.1.2 in b:\\uni\\master\\semester_03\\eeg\\project\\repo\\eeg_course_project\\venv2\\lib\\site-packages (from -r requirements.txt (line 81)) (0.1.2)\n",
      "Requirement already satisfied: mistune==3.0.2 in b:\\uni\\master\\semester_03\\eeg\\project\\repo\\eeg_course_project\\venv2\\lib\\site-packages (from -r requirements.txt (line 82)) (3.0.2)\n",
      "Requirement already satisfied: mne==1.6.1 in b:\\uni\\master\\semester_03\\eeg\\project\\repo\\eeg_course_project\\venv2\\lib\\site-packages (from -r requirements.txt (line 83)) (1.6.1)\n",
      "Requirement already satisfied: mne-bids==0.14 in b:\\uni\\master\\semester_03\\eeg\\project\\repo\\eeg_course_project\\venv2\\lib\\site-packages (from -r requirements.txt (line 84)) (0.14)\n",
      "Requirement already satisfied: mne-bids-pipeline==1.5.0 in b:\\uni\\master\\semester_03\\eeg\\project\\repo\\eeg_course_project\\venv2\\lib\\site-packages (from -r requirements.txt (line 85)) (1.5.0)\n",
      "Requirement already satisfied: mne-icalabel==0.6.0 in b:\\uni\\master\\semester_03\\eeg\\project\\repo\\eeg_course_project\\venv2\\lib\\site-packages (from -r requirements.txt (line 86)) (0.6.0)\n",
      "Requirement already satisfied: mpmath==1.3.0 in b:\\uni\\master\\semester_03\\eeg\\project\\repo\\eeg_course_project\\venv2\\lib\\site-packages (from -r requirements.txt (line 87)) (1.3.0)\n",
      "Requirement already satisfied: msgpack==1.0.7 in b:\\uni\\master\\semester_03\\eeg\\project\\repo\\eeg_course_project\\venv2\\lib\\site-packages (from -r requirements.txt (line 88)) (1.0.7)\n",
      "Requirement already satisfied: multidict==6.0.4 in b:\\uni\\master\\semester_03\\eeg\\project\\repo\\eeg_course_project\\venv2\\lib\\site-packages (from -r requirements.txt (line 89)) (6.0.4)\n",
      "Requirement already satisfied: nbclient==0.9.0 in b:\\uni\\master\\semester_03\\eeg\\project\\repo\\eeg_course_project\\venv2\\lib\\site-packages (from -r requirements.txt (line 90)) (0.9.0)\n",
      "Requirement already satisfied: nbconvert==7.11.0 in b:\\uni\\master\\semester_03\\eeg\\project\\repo\\eeg_course_project\\venv2\\lib\\site-packages (from -r requirements.txt (line 91)) (7.11.0)\n",
      "Requirement already satisfied: nbformat==5.9.2 in b:\\uni\\master\\semester_03\\eeg\\project\\repo\\eeg_course_project\\venv2\\lib\\site-packages (from -r requirements.txt (line 92)) (5.9.2)\n",
      "Requirement already satisfied: nest-asyncio==1.5.8 in b:\\uni\\master\\semester_03\\eeg\\project\\repo\\eeg_course_project\\venv2\\lib\\site-packages (from -r requirements.txt (line 93)) (1.5.8)\n",
      "Requirement already satisfied: networkx==3.0 in b:\\uni\\master\\semester_03\\eeg\\project\\repo\\eeg_course_project\\venv2\\lib\\site-packages (from -r requirements.txt (line 94)) (3.0)\n",
      "Requirement already satisfied: nibabel==5.1.0 in b:\\uni\\master\\semester_03\\eeg\\project\\repo\\eeg_course_project\\venv2\\lib\\site-packages (from -r requirements.txt (line 95)) (5.1.0)\n",
      "Requirement already satisfied: notebook==7.0.6 in b:\\uni\\master\\semester_03\\eeg\\project\\repo\\eeg_course_project\\venv2\\lib\\site-packages (from -r requirements.txt (line 96)) (7.0.6)\n",
      "Requirement already satisfied: notebook_shim==0.2.3 in b:\\uni\\master\\semester_03\\eeg\\project\\repo\\eeg_course_project\\venv2\\lib\\site-packages (from -r requirements.txt (line 97)) (0.2.3)\n",
      "Requirement already satisfied: numexpr==2.8.7 in b:\\uni\\master\\semester_03\\eeg\\project\\repo\\eeg_course_project\\venv2\\lib\\site-packages (from -r requirements.txt (line 98)) (2.8.7)\n",
      "Requirement already satisfied: numpy==1.26.2 in b:\\uni\\master\\semester_03\\eeg\\project\\repo\\eeg_course_project\\venv2\\lib\\site-packages (from -r requirements.txt (line 99)) (1.26.2)\n",
      "Requirement already satisfied: openpyxl==3.1.2 in b:\\uni\\master\\semester_03\\eeg\\project\\repo\\eeg_course_project\\venv2\\lib\\site-packages (from -r requirements.txt (line 100)) (3.1.2)\n",
      "Requirement already satisfied: overrides==7.4.0 in b:\\uni\\master\\semester_03\\eeg\\project\\repo\\eeg_course_project\\venv2\\lib\\site-packages (from -r requirements.txt (line 101)) (7.4.0)\n",
      "Requirement already satisfied: packaging==23.2 in b:\\uni\\master\\semester_03\\eeg\\project\\repo\\eeg_course_project\\venv2\\lib\\site-packages (from -r requirements.txt (line 102)) (23.2)\n",
      "Requirement already satisfied: pandas==2.1.3 in b:\\uni\\master\\semester_03\\eeg\\project\\repo\\eeg_course_project\\venv2\\lib\\site-packages (from -r requirements.txt (line 103)) (2.1.3)\n",
      "Requirement already satisfied: pandocfilters==1.5.0 in b:\\uni\\master\\semester_03\\eeg\\project\\repo\\eeg_course_project\\venv2\\lib\\site-packages (from -r requirements.txt (line 104)) (1.5.0)\n",
      "Requirement already satisfied: parso==0.8.3 in b:\\uni\\master\\semester_03\\eeg\\project\\repo\\eeg_course_project\\venv2\\lib\\site-packages (from -r requirements.txt (line 105)) (0.8.3)\n",
      "Requirement already satisfied: partd==1.4.1 in b:\\uni\\master\\semester_03\\eeg\\project\\repo\\eeg_course_project\\venv2\\lib\\site-packages (from -r requirements.txt (line 106)) (1.4.1)\n",
      "Requirement already satisfied: Pillow==10.1.0 in b:\\uni\\master\\semester_03\\eeg\\project\\repo\\eeg_course_project\\venv2\\lib\\site-packages (from -r requirements.txt (line 107)) (10.1.0)\n",
      "Requirement already satisfied: platformdirs==4.0.0 in b:\\uni\\master\\semester_03\\eeg\\project\\repo\\eeg_course_project\\venv2\\lib\\site-packages (from -r requirements.txt (line 108)) (4.0.0)\n",
      "Requirement already satisfied: pooch==1.8.0 in b:\\uni\\master\\semester_03\\eeg\\project\\repo\\eeg_course_project\\venv2\\lib\\site-packages (from -r requirements.txt (line 109)) (1.8.0)\n",
      "Requirement already satisfied: prometheus-client==0.18.0 in b:\\uni\\master\\semester_03\\eeg\\project\\repo\\eeg_course_project\\venv2\\lib\\site-packages (from -r requirements.txt (line 110)) (0.18.0)\n",
      "Requirement already satisfied: prompt-toolkit==3.0.41 in b:\\uni\\master\\semester_03\\eeg\\project\\repo\\eeg_course_project\\venv2\\lib\\site-packages (from -r requirements.txt (line 111)) (3.0.41)\n",
      "Requirement already satisfied: psutil==5.9.6 in b:\\uni\\master\\semester_03\\eeg\\project\\repo\\eeg_course_project\\venv2\\lib\\site-packages (from -r requirements.txt (line 112)) (5.9.6)\n",
      "Requirement already satisfied: pure-eval==0.2.2 in b:\\uni\\master\\semester_03\\eeg\\project\\repo\\eeg_course_project\\venv2\\lib\\site-packages (from -r requirements.txt (line 113)) (0.2.2)\n",
      "Requirement already satisfied: pybv==0.7.5 in b:\\uni\\master\\semester_03\\eeg\\project\\repo\\eeg_course_project\\venv2\\lib\\site-packages (from -r requirements.txt (line 114)) (0.7.5)\n",
      "Requirement already satisfied: pycparser==2.21 in b:\\uni\\master\\semester_03\\eeg\\project\\repo\\eeg_course_project\\venv2\\lib\\site-packages (from -r requirements.txt (line 115)) (2.21)\n",
      "Requirement already satisfied: pydantic==2.5.2 in b:\\uni\\master\\semester_03\\eeg\\project\\repo\\eeg_course_project\\venv2\\lib\\site-packages (from -r requirements.txt (line 116)) (2.5.2)\n",
      "Requirement already satisfied: pydantic_core==2.14.5 in b:\\uni\\master\\semester_03\\eeg\\project\\repo\\eeg_course_project\\venv2\\lib\\site-packages (from -r requirements.txt (line 117)) (2.14.5)\n",
      "Requirement already satisfied: Pygments==2.17.0 in b:\\uni\\master\\semester_03\\eeg\\project\\repo\\eeg_course_project\\venv2\\lib\\site-packages (from -r requirements.txt (line 118)) (2.17.0)\n",
      "Requirement already satisfied: pymatreader==0.0.32 in b:\\uni\\master\\semester_03\\eeg\\project\\repo\\eeg_course_project\\venv2\\lib\\site-packages (from -r requirements.txt (line 119)) (0.0.32)\n",
      "Requirement already satisfied: pyparsing==3.1.1 in b:\\uni\\master\\semester_03\\eeg\\project\\repo\\eeg_course_project\\venv2\\lib\\site-packages (from -r requirements.txt (line 120)) (3.1.1)\n",
      "Requirement already satisfied: PyQt6==6.6.0 in b:\\uni\\master\\semester_03\\eeg\\project\\repo\\eeg_course_project\\venv2\\lib\\site-packages (from -r requirements.txt (line 121)) (6.6.0)\n",
      "Requirement already satisfied: PyQt6-Qt6==6.6.0 in b:\\uni\\master\\semester_03\\eeg\\project\\repo\\eeg_course_project\\venv2\\lib\\site-packages (from -r requirements.txt (line 122)) (6.6.0)\n",
      "Requirement already satisfied: PyQt6-sip==13.6.0 in b:\\uni\\master\\semester_03\\eeg\\project\\repo\\eeg_course_project\\venv2\\lib\\site-packages (from -r requirements.txt (line 123)) (13.6.0)\n",
      "Requirement already satisfied: python-dateutil==2.8.2 in b:\\uni\\master\\semester_03\\eeg\\project\\repo\\eeg_course_project\\venv2\\lib\\site-packages (from -r requirements.txt (line 124)) (2.8.2)\n",
      "Requirement already satisfied: python-json-logger==2.0.7 in b:\\uni\\master\\semester_03\\eeg\\project\\repo\\eeg_course_project\\venv2\\lib\\site-packages (from -r requirements.txt (line 125)) (2.0.7)\n",
      "Requirement already satisfied: python-picard==0.7 in b:\\uni\\master\\semester_03\\eeg\\project\\repo\\eeg_course_project\\venv2\\lib\\site-packages (from -r requirements.txt (line 126)) (0.7)\n",
      "Requirement already satisfied: pytz==2023.3.post1 in b:\\uni\\master\\semester_03\\eeg\\project\\repo\\eeg_course_project\\venv2\\lib\\site-packages (from -r requirements.txt (line 127)) (2023.3.post1)\n",
      "Requirement already satisfied: pyvista==0.42.3 in b:\\uni\\master\\semester_03\\eeg\\project\\repo\\eeg_course_project\\venv2\\lib\\site-packages (from -r requirements.txt (line 128)) (0.42.3)\n",
      "Requirement already satisfied: pyvistaqt==0.11.0 in b:\\uni\\master\\semester_03\\eeg\\project\\repo\\eeg_course_project\\venv2\\lib\\site-packages (from -r requirements.txt (line 129)) (0.11.0)\n",
      "Requirement already satisfied: PyYAML==6.0.1 in b:\\uni\\master\\semester_03\\eeg\\project\\repo\\eeg_course_project\\venv2\\lib\\site-packages (from -r requirements.txt (line 130)) (6.0.1)\n",
      "Requirement already satisfied: pyzmq==25.1.1 in b:\\uni\\master\\semester_03\\eeg\\project\\repo\\eeg_course_project\\venv2\\lib\\site-packages (from -r requirements.txt (line 131)) (25.1.1)\n",
      "Requirement already satisfied: qtconsole==5.5.1 in b:\\uni\\master\\semester_03\\eeg\\project\\repo\\eeg_course_project\\venv2\\lib\\site-packages (from -r requirements.txt (line 132)) (5.5.1)\n",
      "Requirement already satisfied: QtPy==2.4.1 in b:\\uni\\master\\semester_03\\eeg\\project\\repo\\eeg_course_project\\venv2\\lib\\site-packages (from -r requirements.txt (line 133)) (2.4.1)\n",
      "Requirement already satisfied: referencing==0.31.0 in b:\\uni\\master\\semester_03\\eeg\\project\\repo\\eeg_course_project\\venv2\\lib\\site-packages (from -r requirements.txt (line 134)) (0.31.0)\n",
      "Requirement already satisfied: requests==2.31.0 in b:\\uni\\master\\semester_03\\eeg\\project\\repo\\eeg_course_project\\venv2\\lib\\site-packages (from -r requirements.txt (line 135)) (2.31.0)\n",
      "Requirement already satisfied: rfc3339-validator==0.1.4 in b:\\uni\\master\\semester_03\\eeg\\project\\repo\\eeg_course_project\\venv2\\lib\\site-packages (from -r requirements.txt (line 136)) (0.1.4)\n",
      "Requirement already satisfied: rfc3986-validator==0.1.1 in b:\\uni\\master\\semester_03\\eeg\\project\\repo\\eeg_course_project\\venv2\\lib\\site-packages (from -r requirements.txt (line 137)) (0.1.1)\n",
      "Requirement already satisfied: rich==13.7.0 in b:\\uni\\master\\semester_03\\eeg\\project\\repo\\eeg_course_project\\venv2\\lib\\site-packages (from -r requirements.txt (line 138)) (13.7.0)\n",
      "Requirement already satisfied: rpds-py==0.13.0 in b:\\uni\\master\\semester_03\\eeg\\project\\repo\\eeg_course_project\\venv2\\lib\\site-packages (from -r requirements.txt (line 139)) (0.13.0)\n",
      "Requirement already satisfied: scikit-learn==1.3.2 in b:\\uni\\master\\semester_03\\eeg\\project\\repo\\eeg_course_project\\venv2\\lib\\site-packages (from -r requirements.txt (line 140)) (1.3.2)\n",
      "Requirement already satisfied: scipy==1.11.4 in b:\\uni\\master\\semester_03\\eeg\\project\\repo\\eeg_course_project\\venv2\\lib\\site-packages (from -r requirements.txt (line 141)) (1.11.4)\n",
      "Requirement already satisfied: scooby==0.9.2 in b:\\uni\\master\\semester_03\\eeg\\project\\repo\\eeg_course_project\\venv2\\lib\\site-packages (from -r requirements.txt (line 142)) (0.9.2)\n",
      "Requirement already satisfied: seaborn==0.13.0 in b:\\uni\\master\\semester_03\\eeg\\project\\repo\\eeg_course_project\\venv2\\lib\\site-packages (from -r requirements.txt (line 143)) (0.13.0)\n",
      "Requirement already satisfied: Send2Trash==1.8.2 in b:\\uni\\master\\semester_03\\eeg\\project\\repo\\eeg_course_project\\venv2\\lib\\site-packages (from -r requirements.txt (line 144)) (1.8.2)\n",
      "Requirement already satisfied: simpervisor==1.0.0 in b:\\uni\\master\\semester_03\\eeg\\project\\repo\\eeg_course_project\\venv2\\lib\\site-packages (from -r requirements.txt (line 145)) (1.0.0)\n",
      "Requirement already satisfied: six==1.16.0 in b:\\uni\\master\\semester_03\\eeg\\project\\repo\\eeg_course_project\\venv2\\lib\\site-packages (from -r requirements.txt (line 146)) (1.16.0)\n",
      "Requirement already satisfied: sniffio==1.3.0 in b:\\uni\\master\\semester_03\\eeg\\project\\repo\\eeg_course_project\\venv2\\lib\\site-packages (from -r requirements.txt (line 147)) (1.3.0)\n",
      "Requirement already satisfied: sortedcontainers==2.4.0 in b:\\uni\\master\\semester_03\\eeg\\project\\repo\\eeg_course_project\\venv2\\lib\\site-packages (from -r requirements.txt (line 148)) (2.4.0)\n",
      "Requirement already satisfied: soupsieve==2.5 in b:\\uni\\master\\semester_03\\eeg\\project\\repo\\eeg_course_project\\venv2\\lib\\site-packages (from -r requirements.txt (line 149)) (2.5)\n",
      "Requirement already satisfied: stack-data==0.6.3 in b:\\uni\\master\\semester_03\\eeg\\project\\repo\\eeg_course_project\\venv2\\lib\\site-packages (from -r requirements.txt (line 150)) (0.6.3)\n",
      "Requirement already satisfied: sympy==1.12 in b:\\uni\\master\\semester_03\\eeg\\project\\repo\\eeg_course_project\\venv2\\lib\\site-packages (from -r requirements.txt (line 151)) (1.12)\n",
      "Requirement already satisfied: tblib==3.0.0 in b:\\uni\\master\\semester_03\\eeg\\project\\repo\\eeg_course_project\\venv2\\lib\\site-packages (from -r requirements.txt (line 152)) (3.0.0)\n",
      "Requirement already satisfied: terminado==0.18.0 in b:\\uni\\master\\semester_03\\eeg\\project\\repo\\eeg_course_project\\venv2\\lib\\site-packages (from -r requirements.txt (line 153)) (0.18.0)\n",
      "Requirement already satisfied: threadpoolctl==3.2.0 in b:\\uni\\master\\semester_03\\eeg\\project\\repo\\eeg_course_project\\venv2\\lib\\site-packages (from -r requirements.txt (line 154)) (3.2.0)\n",
      "Requirement already satisfied: tinycss2==1.2.1 in b:\\uni\\master\\semester_03\\eeg\\project\\repo\\eeg_course_project\\venv2\\lib\\site-packages (from -r requirements.txt (line 155)) (1.2.1)\n",
      "Requirement already satisfied: tomli==2.0.1 in b:\\uni\\master\\semester_03\\eeg\\project\\repo\\eeg_course_project\\venv2\\lib\\site-packages (from -r requirements.txt (line 156)) (2.0.1)\n",
      "Requirement already satisfied: toolz==0.12.0 in b:\\uni\\master\\semester_03\\eeg\\project\\repo\\eeg_course_project\\venv2\\lib\\site-packages (from -r requirements.txt (line 157)) (0.12.0)\n",
      "Requirement already satisfied: torch==2.1.2 in b:\\uni\\master\\semester_03\\eeg\\project\\repo\\eeg_course_project\\venv2\\lib\\site-packages (from -r requirements.txt (line 158)) (2.1.2)\n",
      "Requirement already satisfied: torchaudio==2.1.2 in b:\\uni\\master\\semester_03\\eeg\\project\\repo\\eeg_course_project\\venv2\\lib\\site-packages (from -r requirements.txt (line 159)) (2.1.2)\n",
      "Requirement already satisfied: torchvision==0.16.2 in b:\\uni\\master\\semester_03\\eeg\\project\\repo\\eeg_course_project\\venv2\\lib\\site-packages (from -r requirements.txt (line 160)) (0.16.2)\n",
      "Requirement already satisfied: tornado==6.3.3 in b:\\uni\\master\\semester_03\\eeg\\project\\repo\\eeg_course_project\\venv2\\lib\\site-packages (from -r requirements.txt (line 161)) (6.3.3)\n",
      "Requirement already satisfied: tqdm==4.66.1 in b:\\uni\\master\\semester_03\\eeg\\project\\repo\\eeg_course_project\\venv2\\lib\\site-packages (from -r requirements.txt (line 162)) (4.66.1)\n",
      "Requirement already satisfied: traitlets==5.13.0 in b:\\uni\\master\\semester_03\\eeg\\project\\repo\\eeg_course_project\\venv2\\lib\\site-packages (from -r requirements.txt (line 163)) (5.13.0)\n",
      "Requirement already satisfied: types-python-dateutil==2.8.19.14 in b:\\uni\\master\\semester_03\\eeg\\project\\repo\\eeg_course_project\\venv2\\lib\\site-packages (from -r requirements.txt (line 164)) (2.8.19.14)\n",
      "Requirement already satisfied: typing_extensions==4.8.0 in b:\\uni\\master\\semester_03\\eeg\\project\\repo\\eeg_course_project\\venv2\\lib\\site-packages (from -r requirements.txt (line 165)) (4.8.0)\n",
      "Requirement already satisfied: tzdata==2023.3 in b:\\uni\\master\\semester_03\\eeg\\project\\repo\\eeg_course_project\\venv2\\lib\\site-packages (from -r requirements.txt (line 166)) (2023.3)\n",
      "Requirement already satisfied: uri-template==1.3.0 in b:\\uni\\master\\semester_03\\eeg\\project\\repo\\eeg_course_project\\venv2\\lib\\site-packages (from -r requirements.txt (line 167)) (1.3.0)\n",
      "Requirement already satisfied: urllib3==2.1.0 in b:\\uni\\master\\semester_03\\eeg\\project\\repo\\eeg_course_project\\venv2\\lib\\site-packages (from -r requirements.txt (line 168)) (2.1.0)\n",
      "Requirement already satisfied: vtk==9.3.0 in b:\\uni\\master\\semester_03\\eeg\\project\\repo\\eeg_course_project\\venv2\\lib\\site-packages (from -r requirements.txt (line 169)) (9.3.0)\n",
      "Requirement already satisfied: wcwidth==0.2.10 in b:\\uni\\master\\semester_03\\eeg\\project\\repo\\eeg_course_project\\venv2\\lib\\site-packages (from -r requirements.txt (line 170)) (0.2.10)\n",
      "Requirement already satisfied: webcolors==1.13 in b:\\uni\\master\\semester_03\\eeg\\project\\repo\\eeg_course_project\\venv2\\lib\\site-packages (from -r requirements.txt (line 171)) (1.13)\n",
      "Requirement already satisfied: webencodings==0.5.1 in b:\\uni\\master\\semester_03\\eeg\\project\\repo\\eeg_course_project\\venv2\\lib\\site-packages (from -r requirements.txt (line 172)) (0.5.1)\n",
      "Requirement already satisfied: websocket-client==1.6.4 in b:\\uni\\master\\semester_03\\eeg\\project\\repo\\eeg_course_project\\venv2\\lib\\site-packages (from -r requirements.txt (line 173)) (1.6.4)\n",
      "Requirement already satisfied: widgetsnbextension==4.0.9 in b:\\uni\\master\\semester_03\\eeg\\project\\repo\\eeg_course_project\\venv2\\lib\\site-packages (from -r requirements.txt (line 174)) (4.0.9)\n",
      "Requirement already satisfied: xmltodict==0.13.0 in b:\\uni\\master\\semester_03\\eeg\\project\\repo\\eeg_course_project\\venv2\\lib\\site-packages (from -r requirements.txt (line 175)) (0.13.0)\n",
      "Requirement already satisfied: yarl==1.9.3 in b:\\uni\\master\\semester_03\\eeg\\project\\repo\\eeg_course_project\\venv2\\lib\\site-packages (from -r requirements.txt (line 176)) (1.9.3)\n",
      "Requirement already satisfied: zict==3.0.0 in b:\\uni\\master\\semester_03\\eeg\\project\\repo\\eeg_course_project\\venv2\\lib\\site-packages (from -r requirements.txt (line 177)) (3.0.0)\n",
      "Requirement already satisfied: zipp==3.17.0 in b:\\uni\\master\\semester_03\\eeg\\project\\repo\\eeg_course_project\\venv2\\lib\\site-packages (from -r requirements.txt (line 178)) (3.17.0)\n",
      "Requirement already satisfied: pywin32>=300 in b:\\uni\\master\\semester_03\\eeg\\project\\repo\\eeg_course_project\\venv2\\lib\\site-packages (from jupyter_core==5.5.0->-r requirements.txt (line 66)) (306)\n",
      "Requirement already satisfied: pywinpty in b:\\uni\\master\\semester_03\\eeg\\project\\repo\\eeg_course_project\\venv2\\lib\\site-packages (from jupyter_server==2.10.1->-r requirements.txt (line 67)) (2.0.13)\n",
      "Requirement already satisfied: setuptools>=65 in b:\\uni\\master\\semester_03\\eeg\\project\\repo\\eeg_course_project\\venv2\\lib\\site-packages (from mne-bids-pipeline==1.5.0->-r requirements.txt (line 85)) (68.2.0)\n",
      "env: PYTHONIOENCODING=utf8\n"
     ]
    },
    {
     "name": "stderr",
     "output_type": "stream",
     "text": [
      "WARNING: Ignoring invalid distribution -otebook (b:\\uni\\master\\semester_03\\eeg\\project\\repo\\eeg_course_project\\venv2\\lib\\site-packages)\n",
      "WARNING: Ignoring invalid distribution -pds-py (b:\\uni\\master\\semester_03\\eeg\\project\\repo\\eeg_course_project\\venv2\\lib\\site-packages)\n",
      "WARNING: Ignoring invalid distribution -otebook (b:\\uni\\master\\semester_03\\eeg\\project\\repo\\eeg_course_project\\venv2\\lib\\site-packages)\n",
      "WARNING: Ignoring invalid distribution -pds-py (b:\\uni\\master\\semester_03\\eeg\\project\\repo\\eeg_course_project\\venv2\\lib\\site-packages)\n",
      "\n",
      "[notice] A new release of pip is available: 23.2.1 -> 24.0\n",
      "[notice] To update, run: python.exe -m pip install --upgrade pip\n"
     ]
    }
   ],
   "source": [
    "# Install dependencies\n",
    "!pip install -r requirements.txt\n",
    "# Try to set UTF8 Encoding (required for MNE-Bids pipeline)\n",
    "%env PYTHONIOENCODING=utf8"
   ]
  },
  {
   "cell_type": "markdown",
   "id": "956e3b8b3c55a98d",
   "metadata": {
    "collapsed": false
   },
   "source": [
    "## Download and Pre-process the Dataset\n",
    "\n",
    "Now, that all required Python packages are installed, we can start to fetch all required data and perform some clean-up operations on the data.\n",
    "Then, we can use the data with the MNE-BIDS pipeline.\n",
    "\n",
    "### Preamble\n",
    "To perform the pre-processing, the custom Python module gets added to the search path.\n",
    "Then, the needed modules for loading the configuration file and for fetching the dataset get loaded.\n",
    "\n",
    "To allow for plotting, a plotting library with API similar to the one of Matlab gets loaded.\n",
    "This then is set to use a QT-based rendering."
   ]
  },
  {
   "cell_type": "code",
   "execution_count": 2,
   "id": "initial_id",
   "metadata": {
    "ExecuteTime": {
     "end_time": "2024-03-29T03:47:55.124908600Z",
     "start_time": "2024-03-29T03:47:54.641390100Z"
    }
   },
   "outputs": [],
   "source": [
    "# Add the project source code directory to the search path\n",
    "import sys\n",
    "import os\n",
    "sys.path.append(os.path.abspath('./src/'))\n",
    "\n",
    "# import function to load configuration from file\n",
    "from mne_bids_pipeline._config_import import _import_config as getConfig\n",
    "from tools.logtools import *\n",
    "\n",
    "# tools to get fresh data\n",
    "import data_handling.data_downloader as dl\n",
    "import data_handling.data_cleaner as clean\n",
    "\n",
    "import matplotlib\n",
    "matplotlib.use('qtagg')"
   ]
  },
  {
   "cell_type": "markdown",
   "id": "f98e700f72b77cb5",
   "metadata": {
    "collapsed": false
   },
   "source": [
    "### Load Configuration\n",
    "\n",
    "First of all, the configuration for the MNE BIDS pipeline gets loaded from the prepared file.\n",
    "Note, that file existence checks are disabled here.\n",
    "Otherwise, the import would fail, if the data are not yet available.\n",
    "Therefore, in the first run of this notebook, loading the configuration would fail.\n",
    "\n",
    "In the Jupyter notebook for running the pipeline, short checkups get performed.\n",
    "These show few data written to the configuration, if the file gets properly loaded."
   ]
  },
  {
   "cell_type": "code",
   "execution_count": 3,
   "id": "f9c8ac0a1562327c",
   "metadata": {
    "collapsed": false,
    "ExecuteTime": {
     "end_time": "2024-03-29T03:47:55.265416100Z",
     "start_time": "2024-03-29T03:47:55.124908600Z"
    }
   },
   "outputs": [],
   "source": [
    "# set the file path of the main configuration file\n",
    "bids_config_path = \"./mne-bids/config/mne-bids-pipeline.py\"\n",
    "# load configured settings from file\n",
    "bids_cfg = getConfig(\n",
    "    config_path=bids_config_path,\n",
    "    check=False\n",
    ")"
   ]
  },
  {
   "cell_type": "markdown",
   "id": "a0067e01f3b48c6f",
   "metadata": {
    "collapsed": false
   },
   "source": [
    "### Dataset Download\n",
    "\n",
    "After loading the custom data handling module, a check for the dataset existence is started.\n",
    "For ensuring to have an unchanged version of the dataset, the fresh download can get enforced.\n",
    "\n",
    "If the dataset does not exist in the location specified in the configuration file, a copy gets downloaded and extracted.\n",
    "Please ensure that you have enough disk space available. About 130 GB are needed for download and extraction. Additional 40 GB should be free for running the pipeline, which can be freed by deleting the file `ds003702.zip` after successful extraction.\n",
    "\n",
    "For existence checkup and download, there are some configuration options in the following cell."
   ]
  },
  {
   "cell_type": "code",
   "execution_count": 4,
   "id": "80b28eb3a3f246b0",
   "metadata": {
    "collapsed": false,
    "ExecuteTime": {
     "end_time": "2024-03-29T03:47:55.281420600Z",
     "start_time": "2024-03-29T03:47:55.261414800Z"
    }
   },
   "outputs": [],
   "source": [
    "from data_handling import getDataPathFromBidsRoot\n",
    "\n",
    "dl.CLEAN_DATA = False # if true, clears the data directory in order to force downloading a fresh copy of the data\n",
    "dl.DATA_BASE_DIR = getDataPathFromBidsRoot(bids_cfg.bids_root) # get the data folder from the bids pipeline configuration\n",
    "dl.VALIDATE_DATA = True # if true, checks that the downloaded zip file is the expected file (this may take a while)"
   ]
  },
  {
   "cell_type": "code",
   "execution_count": 15,
   "outputs": [
    {
     "name": "stdout",
     "output_type": "stream",
     "text": [
      "\u001B[0m\u001B[92mData directory is found: \u001B[0m \u001B[94mB:\\Uni\\Master\\Semester_03\\EEG\\project\\repo\\eeg_course_project\\data/\u001B[0m\u001B[0m\n",
      "\u001B[0m\u001B[93mChecking file:\u001B[0m \u001B[94mB:\\Uni\\Master\\Semester_03\\EEG\\project\\repo\\eeg_course_project\\data/ds003702/sub-01/eeg/sub-01_task-SocialMemoryCuing_channels.tsv\u001B[0m\u001B[0m\n",
      "\u001B[0m\u001B[93mChecking file:\u001B[0m \u001B[94mB:\\Uni\\Master\\Semester_03\\EEG\\project\\repo\\eeg_course_project\\data/ds003702/sub-01/eeg/sub-01_task-SocialMemoryCuing_eeg.eeg\u001B[0m\u001B[0m\n",
      "\u001B[0m\u001B[93mChecking file:\u001B[0m \u001B[94mB:\\Uni\\Master\\Semester_03\\EEG\\project\\repo\\eeg_course_project\\data/ds003702/sub-01/eeg/sub-01_task-SocialMemoryCuing_eeg.json\u001B[0m\u001B[0m\n",
      "\u001B[0m\u001B[93mChecking file:\u001B[0m \u001B[94mB:\\Uni\\Master\\Semester_03\\EEG\\project\\repo\\eeg_course_project\\data/ds003702/sub-01/eeg/sub-01_task-SocialMemoryCuing_eeg.vhdr\u001B[0m\u001B[0m\n",
      "\u001B[0m\u001B[93mChecking file:\u001B[0m \u001B[94mB:\\Uni\\Master\\Semester_03\\EEG\\project\\repo\\eeg_course_project\\data/ds003702/sub-01/eeg/sub-01_task-SocialMemoryCuing_eeg.vmrk\u001B[0m\u001B[0m\n",
      "\u001B[0m\u001B[93mChecking file:\u001B[0m \u001B[94mB:\\Uni\\Master\\Semester_03\\EEG\\project\\repo\\eeg_course_project\\data/ds003702/sub-02/eeg/sub-02_task-SocialMemoryCuing_channels.tsv\u001B[0m\u001B[0m\n",
      "\u001B[0m\u001B[93mChecking file:\u001B[0m \u001B[94mB:\\Uni\\Master\\Semester_03\\EEG\\project\\repo\\eeg_course_project\\data/ds003702/sub-02/eeg/sub-02_task-SocialMemoryCuing_eeg.eeg\u001B[0m\u001B[0m\n",
      "\u001B[0m\u001B[93mChecking file:\u001B[0m \u001B[94mB:\\Uni\\Master\\Semester_03\\EEG\\project\\repo\\eeg_course_project\\data/ds003702/sub-02/eeg/sub-02_task-SocialMemoryCuing_eeg.json\u001B[0m\u001B[0m\n",
      "\u001B[0m\u001B[93mChecking file:\u001B[0m \u001B[94mB:\\Uni\\Master\\Semester_03\\EEG\\project\\repo\\eeg_course_project\\data/ds003702/sub-02/eeg/sub-02_task-SocialMemoryCuing_eeg.vhdr\u001B[0m\u001B[0m\n",
      "\u001B[0m\u001B[93mChecking file:\u001B[0m \u001B[94mB:\\Uni\\Master\\Semester_03\\EEG\\project\\repo\\eeg_course_project\\data/ds003702/sub-02/eeg/sub-02_task-SocialMemoryCuing_eeg.vmrk\u001B[0m\u001B[0m\n",
      "\u001B[0m\u001B[93mChecking file:\u001B[0m \u001B[94mB:\\Uni\\Master\\Semester_03\\EEG\\project\\repo\\eeg_course_project\\data/ds003702/sub-03/eeg/sub-03_task-SocialMemoryCuing_channels.tsv\u001B[0m\u001B[0m\n",
      "\u001B[0m\u001B[93mChecking file:\u001B[0m \u001B[94mB:\\Uni\\Master\\Semester_03\\EEG\\project\\repo\\eeg_course_project\\data/ds003702/sub-03/eeg/sub-03_task-SocialMemoryCuing_eeg.eeg\u001B[0m\u001B[0m\n",
      "\u001B[0m\u001B[93mChecking file:\u001B[0m \u001B[94mB:\\Uni\\Master\\Semester_03\\EEG\\project\\repo\\eeg_course_project\\data/ds003702/sub-03/eeg/sub-03_task-SocialMemoryCuing_eeg.json\u001B[0m\u001B[0m\n",
      "\u001B[0m\u001B[93mChecking file:\u001B[0m \u001B[94mB:\\Uni\\Master\\Semester_03\\EEG\\project\\repo\\eeg_course_project\\data/ds003702/sub-03/eeg/sub-03_task-SocialMemoryCuing_eeg.vhdr\u001B[0m\u001B[0m\n",
      "\u001B[0m\u001B[93mChecking file:\u001B[0m \u001B[94mB:\\Uni\\Master\\Semester_03\\EEG\\project\\repo\\eeg_course_project\\data/ds003702/sub-03/eeg/sub-03_task-SocialMemoryCuing_eeg.vmrk\u001B[0m\u001B[0m\n",
      "\u001B[0m\u001B[93mChecking file:\u001B[0m \u001B[94mB:\\Uni\\Master\\Semester_03\\EEG\\project\\repo\\eeg_course_project\\data/ds003702/sub-04/eeg/sub-04_task-SocialMemoryCuing_channels.tsv\u001B[0m\u001B[0m\n",
      "\u001B[0m\u001B[93mChecking file:\u001B[0m \u001B[94mB:\\Uni\\Master\\Semester_03\\EEG\\project\\repo\\eeg_course_project\\data/ds003702/sub-04/eeg/sub-04_task-SocialMemoryCuing_eeg.eeg\u001B[0m\u001B[0m\n",
      "\u001B[0m\u001B[93mChecking file:\u001B[0m \u001B[94mB:\\Uni\\Master\\Semester_03\\EEG\\project\\repo\\eeg_course_project\\data/ds003702/sub-04/eeg/sub-04_task-SocialMemoryCuing_eeg.json\u001B[0m\u001B[0m\n",
      "\u001B[0m\u001B[93mChecking file:\u001B[0m \u001B[94mB:\\Uni\\Master\\Semester_03\\EEG\\project\\repo\\eeg_course_project\\data/ds003702/sub-04/eeg/sub-04_task-SocialMemoryCuing_eeg.vhdr\u001B[0m\u001B[0m\n",
      "\u001B[0m\u001B[93mChecking file:\u001B[0m \u001B[94mB:\\Uni\\Master\\Semester_03\\EEG\\project\\repo\\eeg_course_project\\data/ds003702/sub-04/eeg/sub-04_task-SocialMemoryCuing_eeg.vmrk\u001B[0m\u001B[0m\n",
      "\u001B[0m\u001B[93mChecking file:\u001B[0m \u001B[94mB:\\Uni\\Master\\Semester_03\\EEG\\project\\repo\\eeg_course_project\\data/ds003702/sub-05/eeg/sub-05_task-SocialMemoryCuing_channels.tsv\u001B[0m\u001B[0m\n",
      "\u001B[0m\u001B[93mChecking file:\u001B[0m \u001B[94mB:\\Uni\\Master\\Semester_03\\EEG\\project\\repo\\eeg_course_project\\data/ds003702/sub-05/eeg/sub-05_task-SocialMemoryCuing_eeg.eeg\u001B[0m\u001B[0m\n",
      "\u001B[0m\u001B[93mChecking file:\u001B[0m \u001B[94mB:\\Uni\\Master\\Semester_03\\EEG\\project\\repo\\eeg_course_project\\data/ds003702/sub-05/eeg/sub-05_task-SocialMemoryCuing_eeg.json\u001B[0m\u001B[0m\n",
      "\u001B[0m\u001B[93mChecking file:\u001B[0m \u001B[94mB:\\Uni\\Master\\Semester_03\\EEG\\project\\repo\\eeg_course_project\\data/ds003702/sub-05/eeg/sub-05_task-SocialMemoryCuing_eeg.vhdr\u001B[0m\u001B[0m\n",
      "\u001B[0m\u001B[93mChecking file:\u001B[0m \u001B[94mB:\\Uni\\Master\\Semester_03\\EEG\\project\\repo\\eeg_course_project\\data/ds003702/sub-05/eeg/sub-05_task-SocialMemoryCuing_eeg.vmrk\u001B[0m\u001B[0m\n",
      "\u001B[0m\u001B[93mChecking file:\u001B[0m \u001B[94mB:\\Uni\\Master\\Semester_03\\EEG\\project\\repo\\eeg_course_project\\data/ds003702/sub-06/eeg/sub-06_task-SocialMemoryCuing_channels.tsv\u001B[0m\u001B[0m\n",
      "\u001B[0m\u001B[93mChecking file:\u001B[0m \u001B[94mB:\\Uni\\Master\\Semester_03\\EEG\\project\\repo\\eeg_course_project\\data/ds003702/sub-06/eeg/sub-06_task-SocialMemoryCuing_eeg.eeg\u001B[0m\u001B[0m\n",
      "\u001B[0m\u001B[93mChecking file:\u001B[0m \u001B[94mB:\\Uni\\Master\\Semester_03\\EEG\\project\\repo\\eeg_course_project\\data/ds003702/sub-06/eeg/sub-06_task-SocialMemoryCuing_eeg.json\u001B[0m\u001B[0m\n",
      "\u001B[0m\u001B[93mChecking file:\u001B[0m \u001B[94mB:\\Uni\\Master\\Semester_03\\EEG\\project\\repo\\eeg_course_project\\data/ds003702/sub-06/eeg/sub-06_task-SocialMemoryCuing_eeg.vhdr\u001B[0m\u001B[0m\n",
      "\u001B[0m\u001B[93mChecking file:\u001B[0m \u001B[94mB:\\Uni\\Master\\Semester_03\\EEG\\project\\repo\\eeg_course_project\\data/ds003702/sub-06/eeg/sub-06_task-SocialMemoryCuing_eeg.vmrk\u001B[0m\u001B[0m\n",
      "\u001B[0m\u001B[93mChecking file:\u001B[0m \u001B[94mB:\\Uni\\Master\\Semester_03\\EEG\\project\\repo\\eeg_course_project\\data/ds003702/sub-07/eeg/sub-07_task-SocialMemoryCuing_channels.tsv\u001B[0m\u001B[0m\n",
      "\u001B[0m\u001B[93mChecking file:\u001B[0m \u001B[94mB:\\Uni\\Master\\Semester_03\\EEG\\project\\repo\\eeg_course_project\\data/ds003702/sub-07/eeg/sub-07_task-SocialMemoryCuing_eeg.eeg\u001B[0m\u001B[0m\n",
      "\u001B[0m\u001B[93mChecking file:\u001B[0m \u001B[94mB:\\Uni\\Master\\Semester_03\\EEG\\project\\repo\\eeg_course_project\\data/ds003702/sub-07/eeg/sub-07_task-SocialMemoryCuing_eeg.json\u001B[0m\u001B[0m\n",
      "\u001B[0m\u001B[93mChecking file:\u001B[0m \u001B[94mB:\\Uni\\Master\\Semester_03\\EEG\\project\\repo\\eeg_course_project\\data/ds003702/sub-07/eeg/sub-07_task-SocialMemoryCuing_eeg.vhdr\u001B[0m\u001B[0m\n",
      "\u001B[0m\u001B[93mChecking file:\u001B[0m \u001B[94mB:\\Uni\\Master\\Semester_03\\EEG\\project\\repo\\eeg_course_project\\data/ds003702/sub-07/eeg/sub-07_task-SocialMemoryCuing_eeg.vmrk\u001B[0m\u001B[0m\n",
      "\u001B[0m\u001B[93mChecking file:\u001B[0m \u001B[94mB:\\Uni\\Master\\Semester_03\\EEG\\project\\repo\\eeg_course_project\\data/ds003702/sub-09/eeg/sub-09_task-SocialMemoryCuing_channels.tsv\u001B[0m\u001B[0m\n",
      "\u001B[0m\u001B[93mChecking file:\u001B[0m \u001B[94mB:\\Uni\\Master\\Semester_03\\EEG\\project\\repo\\eeg_course_project\\data/ds003702/sub-09/eeg/sub-09_task-SocialMemoryCuing_eeg.eeg\u001B[0m\u001B[0m\n",
      "\u001B[0m\u001B[93mChecking file:\u001B[0m \u001B[94mB:\\Uni\\Master\\Semester_03\\EEG\\project\\repo\\eeg_course_project\\data/ds003702/sub-09/eeg/sub-09_task-SocialMemoryCuing_eeg.json\u001B[0m\u001B[0m\n",
      "\u001B[0m\u001B[93mChecking file:\u001B[0m \u001B[94mB:\\Uni\\Master\\Semester_03\\EEG\\project\\repo\\eeg_course_project\\data/ds003702/sub-09/eeg/sub-09_task-SocialMemoryCuing_eeg.vhdr\u001B[0m\u001B[0m\n",
      "\u001B[0m\u001B[93mChecking file:\u001B[0m \u001B[94mB:\\Uni\\Master\\Semester_03\\EEG\\project\\repo\\eeg_course_project\\data/ds003702/sub-09/eeg/sub-09_task-SocialMemoryCuing_eeg.vmrk\u001B[0m\u001B[0m\n",
      "\u001B[0m\u001B[93mChecking file:\u001B[0m \u001B[94mB:\\Uni\\Master\\Semester_03\\EEG\\project\\repo\\eeg_course_project\\data/ds003702/sub-10/eeg/sub-10_task-SocialMemoryCuing_channels.tsv\u001B[0m\u001B[0m\n",
      "\u001B[0m\u001B[93mChecking file:\u001B[0m \u001B[94mB:\\Uni\\Master\\Semester_03\\EEG\\project\\repo\\eeg_course_project\\data/ds003702/sub-10/eeg/sub-10_task-SocialMemoryCuing_eeg.eeg\u001B[0m\u001B[0m\n",
      "\u001B[0m\u001B[93mChecking file:\u001B[0m \u001B[94mB:\\Uni\\Master\\Semester_03\\EEG\\project\\repo\\eeg_course_project\\data/ds003702/sub-10/eeg/sub-10_task-SocialMemoryCuing_eeg.json\u001B[0m\u001B[0m\n",
      "\u001B[0m\u001B[93mChecking file:\u001B[0m \u001B[94mB:\\Uni\\Master\\Semester_03\\EEG\\project\\repo\\eeg_course_project\\data/ds003702/sub-10/eeg/sub-10_task-SocialMemoryCuing_eeg.vhdr\u001B[0m\u001B[0m\n",
      "\u001B[0m\u001B[93mChecking file:\u001B[0m \u001B[94mB:\\Uni\\Master\\Semester_03\\EEG\\project\\repo\\eeg_course_project\\data/ds003702/sub-10/eeg/sub-10_task-SocialMemoryCuing_eeg.vmrk\u001B[0m\u001B[0m\n",
      "\u001B[0m\u001B[93mChecking file:\u001B[0m \u001B[94mB:\\Uni\\Master\\Semester_03\\EEG\\project\\repo\\eeg_course_project\\data/ds003702/sub-11/eeg/sub-11_task-SocialMemoryCuing_channels.tsv\u001B[0m\u001B[0m\n",
      "\u001B[0m\u001B[93mChecking file:\u001B[0m \u001B[94mB:\\Uni\\Master\\Semester_03\\EEG\\project\\repo\\eeg_course_project\\data/ds003702/sub-11/eeg/sub-11_task-SocialMemoryCuing_eeg.eeg\u001B[0m\u001B[0m\n",
      "\u001B[0m\u001B[93mChecking file:\u001B[0m \u001B[94mB:\\Uni\\Master\\Semester_03\\EEG\\project\\repo\\eeg_course_project\\data/ds003702/sub-11/eeg/sub-11_task-SocialMemoryCuing_eeg.json\u001B[0m\u001B[0m\n",
      "\u001B[0m\u001B[93mChecking file:\u001B[0m \u001B[94mB:\\Uni\\Master\\Semester_03\\EEG\\project\\repo\\eeg_course_project\\data/ds003702/sub-11/eeg/sub-11_task-SocialMemoryCuing_eeg.vhdr\u001B[0m\u001B[0m\n",
      "\u001B[0m\u001B[93mChecking file:\u001B[0m \u001B[94mB:\\Uni\\Master\\Semester_03\\EEG\\project\\repo\\eeg_course_project\\data/ds003702/sub-11/eeg/sub-11_task-SocialMemoryCuing_eeg.vmrk\u001B[0m\u001B[0m\n",
      "\u001B[0m\u001B[93mChecking file:\u001B[0m \u001B[94mB:\\Uni\\Master\\Semester_03\\EEG\\project\\repo\\eeg_course_project\\data/ds003702/sub-12/eeg/sub-12_task-SocialMemoryCuing_channels.tsv\u001B[0m\u001B[0m\n",
      "\u001B[0m\u001B[93mChecking file:\u001B[0m \u001B[94mB:\\Uni\\Master\\Semester_03\\EEG\\project\\repo\\eeg_course_project\\data/ds003702/sub-12/eeg/sub-12_task-SocialMemoryCuing_eeg.eeg\u001B[0m\u001B[0m\n",
      "\u001B[0m\u001B[93mChecking file:\u001B[0m \u001B[94mB:\\Uni\\Master\\Semester_03\\EEG\\project\\repo\\eeg_course_project\\data/ds003702/sub-12/eeg/sub-12_task-SocialMemoryCuing_eeg.json\u001B[0m\u001B[0m\n",
      "\u001B[0m\u001B[93mChecking file:\u001B[0m \u001B[94mB:\\Uni\\Master\\Semester_03\\EEG\\project\\repo\\eeg_course_project\\data/ds003702/sub-12/eeg/sub-12_task-SocialMemoryCuing_eeg.vhdr\u001B[0m\u001B[0m\n",
      "\u001B[0m\u001B[93mChecking file:\u001B[0m \u001B[94mB:\\Uni\\Master\\Semester_03\\EEG\\project\\repo\\eeg_course_project\\data/ds003702/sub-12/eeg/sub-12_task-SocialMemoryCuing_eeg.vmrk\u001B[0m\u001B[0m\n",
      "\u001B[0m\u001B[93mChecking file:\u001B[0m \u001B[94mB:\\Uni\\Master\\Semester_03\\EEG\\project\\repo\\eeg_course_project\\data/ds003702/sub-13/eeg/sub-13_task-SocialMemoryCuing_channels.tsv\u001B[0m\u001B[0m\n",
      "\u001B[0m\u001B[93mChecking file:\u001B[0m \u001B[94mB:\\Uni\\Master\\Semester_03\\EEG\\project\\repo\\eeg_course_project\\data/ds003702/sub-13/eeg/sub-13_task-SocialMemoryCuing_eeg.eeg\u001B[0m\u001B[0m\n",
      "\u001B[0m\u001B[93mChecking file:\u001B[0m \u001B[94mB:\\Uni\\Master\\Semester_03\\EEG\\project\\repo\\eeg_course_project\\data/ds003702/sub-13/eeg/sub-13_task-SocialMemoryCuing_eeg.json\u001B[0m\u001B[0m\n",
      "\u001B[0m\u001B[93mChecking file:\u001B[0m \u001B[94mB:\\Uni\\Master\\Semester_03\\EEG\\project\\repo\\eeg_course_project\\data/ds003702/sub-13/eeg/sub-13_task-SocialMemoryCuing_eeg.vhdr\u001B[0m\u001B[0m\n",
      "\u001B[0m\u001B[93mChecking file:\u001B[0m \u001B[94mB:\\Uni\\Master\\Semester_03\\EEG\\project\\repo\\eeg_course_project\\data/ds003702/sub-13/eeg/sub-13_task-SocialMemoryCuing_eeg.vmrk\u001B[0m\u001B[0m\n",
      "\u001B[0m\u001B[93mChecking file:\u001B[0m \u001B[94mB:\\Uni\\Master\\Semester_03\\EEG\\project\\repo\\eeg_course_project\\data/ds003702/sub-14/eeg/sub-14_task-SocialMemoryCuing_channels.tsv\u001B[0m\u001B[0m\n",
      "\u001B[0m\u001B[93mChecking file:\u001B[0m \u001B[94mB:\\Uni\\Master\\Semester_03\\EEG\\project\\repo\\eeg_course_project\\data/ds003702/sub-14/eeg/sub-14_task-SocialMemoryCuing_eeg.eeg\u001B[0m\u001B[0m\n",
      "\u001B[0m\u001B[93mChecking file:\u001B[0m \u001B[94mB:\\Uni\\Master\\Semester_03\\EEG\\project\\repo\\eeg_course_project\\data/ds003702/sub-14/eeg/sub-14_task-SocialMemoryCuing_eeg.json\u001B[0m\u001B[0m\n",
      "\u001B[0m\u001B[93mChecking file:\u001B[0m \u001B[94mB:\\Uni\\Master\\Semester_03\\EEG\\project\\repo\\eeg_course_project\\data/ds003702/sub-14/eeg/sub-14_task-SocialMemoryCuing_eeg.vhdr\u001B[0m\u001B[0m\n",
      "\u001B[0m\u001B[93mChecking file:\u001B[0m \u001B[94mB:\\Uni\\Master\\Semester_03\\EEG\\project\\repo\\eeg_course_project\\data/ds003702/sub-14/eeg/sub-14_task-SocialMemoryCuing_eeg.vmrk\u001B[0m\u001B[0m\n",
      "\u001B[0m\u001B[93mChecking file:\u001B[0m \u001B[94mB:\\Uni\\Master\\Semester_03\\EEG\\project\\repo\\eeg_course_project\\data/ds003702/sub-15/eeg/sub-15_task-SocialMemoryCuing_channels.tsv\u001B[0m\u001B[0m\n",
      "\u001B[0m\u001B[93mChecking file:\u001B[0m \u001B[94mB:\\Uni\\Master\\Semester_03\\EEG\\project\\repo\\eeg_course_project\\data/ds003702/sub-15/eeg/sub-15_task-SocialMemoryCuing_eeg.eeg\u001B[0m\u001B[0m\n",
      "\u001B[0m\u001B[93mChecking file:\u001B[0m \u001B[94mB:\\Uni\\Master\\Semester_03\\EEG\\project\\repo\\eeg_course_project\\data/ds003702/sub-15/eeg/sub-15_task-SocialMemoryCuing_eeg.json\u001B[0m\u001B[0m\n",
      "\u001B[0m\u001B[93mChecking file:\u001B[0m \u001B[94mB:\\Uni\\Master\\Semester_03\\EEG\\project\\repo\\eeg_course_project\\data/ds003702/sub-15/eeg/sub-15_task-SocialMemoryCuing_eeg.vhdr\u001B[0m\u001B[0m\n",
      "\u001B[0m\u001B[93mChecking file:\u001B[0m \u001B[94mB:\\Uni\\Master\\Semester_03\\EEG\\project\\repo\\eeg_course_project\\data/ds003702/sub-15/eeg/sub-15_task-SocialMemoryCuing_eeg.vmrk\u001B[0m\u001B[0m\n",
      "\u001B[0m\u001B[93mChecking file:\u001B[0m \u001B[94mB:\\Uni\\Master\\Semester_03\\EEG\\project\\repo\\eeg_course_project\\data/ds003702/sub-16/eeg/sub-16_task-SocialMemoryCuing_channels.tsv\u001B[0m\u001B[0m\n",
      "\u001B[0m\u001B[93mChecking file:\u001B[0m \u001B[94mB:\\Uni\\Master\\Semester_03\\EEG\\project\\repo\\eeg_course_project\\data/ds003702/sub-16/eeg/sub-16_task-SocialMemoryCuing_eeg.eeg\u001B[0m\u001B[0m\n",
      "\u001B[0m\u001B[93mChecking file:\u001B[0m \u001B[94mB:\\Uni\\Master\\Semester_03\\EEG\\project\\repo\\eeg_course_project\\data/ds003702/sub-16/eeg/sub-16_task-SocialMemoryCuing_eeg.json\u001B[0m\u001B[0m\n",
      "\u001B[0m\u001B[93mChecking file:\u001B[0m \u001B[94mB:\\Uni\\Master\\Semester_03\\EEG\\project\\repo\\eeg_course_project\\data/ds003702/sub-16/eeg/sub-16_task-SocialMemoryCuing_eeg.vhdr\u001B[0m\u001B[0m\n",
      "\u001B[0m\u001B[93mChecking file:\u001B[0m \u001B[94mB:\\Uni\\Master\\Semester_03\\EEG\\project\\repo\\eeg_course_project\\data/ds003702/sub-16/eeg/sub-16_task-SocialMemoryCuing_eeg.vmrk\u001B[0m\u001B[0m\n",
      "\u001B[0m\u001B[93mChecking file:\u001B[0m \u001B[94mB:\\Uni\\Master\\Semester_03\\EEG\\project\\repo\\eeg_course_project\\data/ds003702/sub-17/eeg/sub-17_task-SocialMemoryCuing_channels.tsv\u001B[0m\u001B[0m\n",
      "\u001B[0m\u001B[93mChecking file:\u001B[0m \u001B[94mB:\\Uni\\Master\\Semester_03\\EEG\\project\\repo\\eeg_course_project\\data/ds003702/sub-17/eeg/sub-17_task-SocialMemoryCuing_eeg.eeg\u001B[0m\u001B[0m\n",
      "\u001B[0m\u001B[93mChecking file:\u001B[0m \u001B[94mB:\\Uni\\Master\\Semester_03\\EEG\\project\\repo\\eeg_course_project\\data/ds003702/sub-17/eeg/sub-17_task-SocialMemoryCuing_eeg.json\u001B[0m\u001B[0m\n",
      "\u001B[0m\u001B[93mChecking file:\u001B[0m \u001B[94mB:\\Uni\\Master\\Semester_03\\EEG\\project\\repo\\eeg_course_project\\data/ds003702/sub-17/eeg/sub-17_task-SocialMemoryCuing_eeg.vhdr\u001B[0m\u001B[0m\n",
      "\u001B[0m\u001B[93mChecking file:\u001B[0m \u001B[94mB:\\Uni\\Master\\Semester_03\\EEG\\project\\repo\\eeg_course_project\\data/ds003702/sub-17/eeg/sub-17_task-SocialMemoryCuing_eeg.vmrk\u001B[0m\u001B[0m\n",
      "\u001B[0m\u001B[93mChecking file:\u001B[0m \u001B[94mB:\\Uni\\Master\\Semester_03\\EEG\\project\\repo\\eeg_course_project\\data/ds003702/sub-18/eeg/sub-18_task-SocialMemoryCuing_channels.tsv\u001B[0m\u001B[0m\n",
      "\u001B[0m\u001B[93mChecking file:\u001B[0m \u001B[94mB:\\Uni\\Master\\Semester_03\\EEG\\project\\repo\\eeg_course_project\\data/ds003702/sub-18/eeg/sub-18_task-SocialMemoryCuing_eeg.eeg\u001B[0m\u001B[0m\n",
      "\u001B[0m\u001B[93mChecking file:\u001B[0m \u001B[94mB:\\Uni\\Master\\Semester_03\\EEG\\project\\repo\\eeg_course_project\\data/ds003702/sub-18/eeg/sub-18_task-SocialMemoryCuing_eeg.json\u001B[0m\u001B[0m\n",
      "\u001B[0m\u001B[93mChecking file:\u001B[0m \u001B[94mB:\\Uni\\Master\\Semester_03\\EEG\\project\\repo\\eeg_course_project\\data/ds003702/sub-18/eeg/sub-18_task-SocialMemoryCuing_eeg.vhdr\u001B[0m\u001B[0m\n",
      "\u001B[0m\u001B[93mChecking file:\u001B[0m \u001B[94mB:\\Uni\\Master\\Semester_03\\EEG\\project\\repo\\eeg_course_project\\data/ds003702/sub-18/eeg/sub-18_task-SocialMemoryCuing_eeg.vmrk\u001B[0m\u001B[0m\n",
      "\u001B[0m\u001B[93mChecking file:\u001B[0m \u001B[94mB:\\Uni\\Master\\Semester_03\\EEG\\project\\repo\\eeg_course_project\\data/ds003702/sub-19/eeg/sub-19_task-SocialMemoryCuing_channels.tsv\u001B[0m\u001B[0m\n",
      "\u001B[0m\u001B[93mChecking file:\u001B[0m \u001B[94mB:\\Uni\\Master\\Semester_03\\EEG\\project\\repo\\eeg_course_project\\data/ds003702/sub-19/eeg/sub-19_task-SocialMemoryCuing_eeg.eeg\u001B[0m\u001B[0m\n",
      "\u001B[0m\u001B[93mChecking file:\u001B[0m \u001B[94mB:\\Uni\\Master\\Semester_03\\EEG\\project\\repo\\eeg_course_project\\data/ds003702/sub-19/eeg/sub-19_task-SocialMemoryCuing_eeg.json\u001B[0m\u001B[0m\n",
      "\u001B[0m\u001B[93mChecking file:\u001B[0m \u001B[94mB:\\Uni\\Master\\Semester_03\\EEG\\project\\repo\\eeg_course_project\\data/ds003702/sub-19/eeg/sub-19_task-SocialMemoryCuing_eeg.vhdr\u001B[0m\u001B[0m\n",
      "\u001B[0m\u001B[93mChecking file:\u001B[0m \u001B[94mB:\\Uni\\Master\\Semester_03\\EEG\\project\\repo\\eeg_course_project\\data/ds003702/sub-19/eeg/sub-19_task-SocialMemoryCuing_eeg.vmrk\u001B[0m\u001B[0m\n",
      "\u001B[0m\u001B[93mChecking file:\u001B[0m \u001B[94mB:\\Uni\\Master\\Semester_03\\EEG\\project\\repo\\eeg_course_project\\data/ds003702/sub-20/eeg/sub-20_task-SocialMemoryCuing_channels.tsv\u001B[0m\u001B[0m\n",
      "\u001B[0m\u001B[93mChecking file:\u001B[0m \u001B[94mB:\\Uni\\Master\\Semester_03\\EEG\\project\\repo\\eeg_course_project\\data/ds003702/sub-20/eeg/sub-20_task-SocialMemoryCuing_eeg.eeg\u001B[0m\u001B[0m\n",
      "\u001B[0m\u001B[93mChecking file:\u001B[0m \u001B[94mB:\\Uni\\Master\\Semester_03\\EEG\\project\\repo\\eeg_course_project\\data/ds003702/sub-20/eeg/sub-20_task-SocialMemoryCuing_eeg.json\u001B[0m\u001B[0m\n",
      "\u001B[0m\u001B[93mChecking file:\u001B[0m \u001B[94mB:\\Uni\\Master\\Semester_03\\EEG\\project\\repo\\eeg_course_project\\data/ds003702/sub-20/eeg/sub-20_task-SocialMemoryCuing_eeg.vhdr\u001B[0m\u001B[0m\n",
      "\u001B[0m\u001B[93mChecking file:\u001B[0m \u001B[94mB:\\Uni\\Master\\Semester_03\\EEG\\project\\repo\\eeg_course_project\\data/ds003702/sub-20/eeg/sub-20_task-SocialMemoryCuing_eeg.vmrk\u001B[0m\u001B[0m\n",
      "\u001B[0m\u001B[93mChecking file:\u001B[0m \u001B[94mB:\\Uni\\Master\\Semester_03\\EEG\\project\\repo\\eeg_course_project\\data/ds003702/sub-21/eeg/sub-21_task-SocialMemoryCuing_channels.tsv\u001B[0m\u001B[0m\n",
      "\u001B[0m\u001B[93mChecking file:\u001B[0m \u001B[94mB:\\Uni\\Master\\Semester_03\\EEG\\project\\repo\\eeg_course_project\\data/ds003702/sub-21/eeg/sub-21_task-SocialMemoryCuing_eeg.eeg\u001B[0m\u001B[0m\n",
      "\u001B[0m\u001B[93mChecking file:\u001B[0m \u001B[94mB:\\Uni\\Master\\Semester_03\\EEG\\project\\repo\\eeg_course_project\\data/ds003702/sub-21/eeg/sub-21_task-SocialMemoryCuing_eeg.json\u001B[0m\u001B[0m\n",
      "\u001B[0m\u001B[93mChecking file:\u001B[0m \u001B[94mB:\\Uni\\Master\\Semester_03\\EEG\\project\\repo\\eeg_course_project\\data/ds003702/sub-21/eeg/sub-21_task-SocialMemoryCuing_eeg.vhdr\u001B[0m\u001B[0m\n",
      "\u001B[0m\u001B[93mChecking file:\u001B[0m \u001B[94mB:\\Uni\\Master\\Semester_03\\EEG\\project\\repo\\eeg_course_project\\data/ds003702/sub-21/eeg/sub-21_task-SocialMemoryCuing_eeg.vmrk\u001B[0m\u001B[0m\n",
      "\u001B[0m\u001B[93mChecking file:\u001B[0m \u001B[94mB:\\Uni\\Master\\Semester_03\\EEG\\project\\repo\\eeg_course_project\\data/ds003702/sub-22/eeg/sub-22_task-SocialMemoryCuing_channels.tsv\u001B[0m\u001B[0m\n",
      "\u001B[0m\u001B[93mChecking file:\u001B[0m \u001B[94mB:\\Uni\\Master\\Semester_03\\EEG\\project\\repo\\eeg_course_project\\data/ds003702/sub-22/eeg/sub-22_task-SocialMemoryCuing_eeg.eeg\u001B[0m\u001B[0m\n",
      "\u001B[0m\u001B[93mChecking file:\u001B[0m \u001B[94mB:\\Uni\\Master\\Semester_03\\EEG\\project\\repo\\eeg_course_project\\data/ds003702/sub-22/eeg/sub-22_task-SocialMemoryCuing_eeg.json\u001B[0m\u001B[0m\n",
      "\u001B[0m\u001B[93mChecking file:\u001B[0m \u001B[94mB:\\Uni\\Master\\Semester_03\\EEG\\project\\repo\\eeg_course_project\\data/ds003702/sub-22/eeg/sub-22_task-SocialMemoryCuing_eeg.vhdr\u001B[0m\u001B[0m\n",
      "\u001B[0m\u001B[93mChecking file:\u001B[0m \u001B[94mB:\\Uni\\Master\\Semester_03\\EEG\\project\\repo\\eeg_course_project\\data/ds003702/sub-22/eeg/sub-22_task-SocialMemoryCuing_eeg.vmrk\u001B[0m\u001B[0m\n",
      "\u001B[0m\u001B[93mChecking file:\u001B[0m \u001B[94mB:\\Uni\\Master\\Semester_03\\EEG\\project\\repo\\eeg_course_project\\data/ds003702/sub-23/eeg/sub-23_task-SocialMemoryCuing_channels.tsv\u001B[0m\u001B[0m\n",
      "\u001B[0m\u001B[93mChecking file:\u001B[0m \u001B[94mB:\\Uni\\Master\\Semester_03\\EEG\\project\\repo\\eeg_course_project\\data/ds003702/sub-23/eeg/sub-23_task-SocialMemoryCuing_eeg.eeg\u001B[0m\u001B[0m\n",
      "\u001B[0m\u001B[93mChecking file:\u001B[0m \u001B[94mB:\\Uni\\Master\\Semester_03\\EEG\\project\\repo\\eeg_course_project\\data/ds003702/sub-23/eeg/sub-23_task-SocialMemoryCuing_eeg.json\u001B[0m\u001B[0m\n",
      "\u001B[0m\u001B[93mChecking file:\u001B[0m \u001B[94mB:\\Uni\\Master\\Semester_03\\EEG\\project\\repo\\eeg_course_project\\data/ds003702/sub-23/eeg/sub-23_task-SocialMemoryCuing_eeg.vhdr\u001B[0m\u001B[0m\n",
      "\u001B[0m\u001B[93mChecking file:\u001B[0m \u001B[94mB:\\Uni\\Master\\Semester_03\\EEG\\project\\repo\\eeg_course_project\\data/ds003702/sub-23/eeg/sub-23_task-SocialMemoryCuing_eeg.vmrk\u001B[0m\u001B[0m\n",
      "\u001B[0m\u001B[93mChecking file:\u001B[0m \u001B[94mB:\\Uni\\Master\\Semester_03\\EEG\\project\\repo\\eeg_course_project\\data/ds003702/sub-24/eeg/sub-24_task-SocialMemoryCuing_channels.tsv\u001B[0m\u001B[0m\n",
      "\u001B[0m\u001B[93mChecking file:\u001B[0m \u001B[94mB:\\Uni\\Master\\Semester_03\\EEG\\project\\repo\\eeg_course_project\\data/ds003702/sub-24/eeg/sub-24_task-SocialMemoryCuing_eeg.eeg\u001B[0m\u001B[0m\n",
      "\u001B[0m\u001B[93mChecking file:\u001B[0m \u001B[94mB:\\Uni\\Master\\Semester_03\\EEG\\project\\repo\\eeg_course_project\\data/ds003702/sub-24/eeg/sub-24_task-SocialMemoryCuing_eeg.json\u001B[0m\u001B[0m\n",
      "\u001B[0m\u001B[93mChecking file:\u001B[0m \u001B[94mB:\\Uni\\Master\\Semester_03\\EEG\\project\\repo\\eeg_course_project\\data/ds003702/sub-24/eeg/sub-24_task-SocialMemoryCuing_eeg.vhdr\u001B[0m\u001B[0m\n",
      "\u001B[0m\u001B[93mChecking file:\u001B[0m \u001B[94mB:\\Uni\\Master\\Semester_03\\EEG\\project\\repo\\eeg_course_project\\data/ds003702/sub-24/eeg/sub-24_task-SocialMemoryCuing_eeg.vmrk\u001B[0m\u001B[0m\n",
      "\u001B[0m\u001B[93mChecking file:\u001B[0m \u001B[94mB:\\Uni\\Master\\Semester_03\\EEG\\project\\repo\\eeg_course_project\\data/ds003702/sub-25/eeg/sub-25_task-SocialMemoryCuing_channels.tsv\u001B[0m\u001B[0m\n",
      "\u001B[0m\u001B[93mChecking file:\u001B[0m \u001B[94mB:\\Uni\\Master\\Semester_03\\EEG\\project\\repo\\eeg_course_project\\data/ds003702/sub-25/eeg/sub-25_task-SocialMemoryCuing_eeg.eeg\u001B[0m\u001B[0m\n",
      "\u001B[0m\u001B[93mChecking file:\u001B[0m \u001B[94mB:\\Uni\\Master\\Semester_03\\EEG\\project\\repo\\eeg_course_project\\data/ds003702/sub-25/eeg/sub-25_task-SocialMemoryCuing_eeg.json\u001B[0m\u001B[0m\n",
      "\u001B[0m\u001B[93mChecking file:\u001B[0m \u001B[94mB:\\Uni\\Master\\Semester_03\\EEG\\project\\repo\\eeg_course_project\\data/ds003702/sub-25/eeg/sub-25_task-SocialMemoryCuing_eeg.vhdr\u001B[0m\u001B[0m\n",
      "\u001B[0m\u001B[93mChecking file:\u001B[0m \u001B[94mB:\\Uni\\Master\\Semester_03\\EEG\\project\\repo\\eeg_course_project\\data/ds003702/sub-25/eeg/sub-25_task-SocialMemoryCuing_eeg.vmrk\u001B[0m\u001B[0m\n",
      "\u001B[0m\u001B[93mChecking file:\u001B[0m \u001B[94mB:\\Uni\\Master\\Semester_03\\EEG\\project\\repo\\eeg_course_project\\data/ds003702/sub-26/eeg/sub-26_task-SocialMemoryCuing_channels.tsv\u001B[0m\u001B[0m\n",
      "\u001B[0m\u001B[93mChecking file:\u001B[0m \u001B[94mB:\\Uni\\Master\\Semester_03\\EEG\\project\\repo\\eeg_course_project\\data/ds003702/sub-26/eeg/sub-26_task-SocialMemoryCuing_eeg.eeg\u001B[0m\u001B[0m\n",
      "\u001B[0m\u001B[93mChecking file:\u001B[0m \u001B[94mB:\\Uni\\Master\\Semester_03\\EEG\\project\\repo\\eeg_course_project\\data/ds003702/sub-26/eeg/sub-26_task-SocialMemoryCuing_eeg.json\u001B[0m\u001B[0m\n",
      "\u001B[0m\u001B[93mChecking file:\u001B[0m \u001B[94mB:\\Uni\\Master\\Semester_03\\EEG\\project\\repo\\eeg_course_project\\data/ds003702/sub-26/eeg/sub-26_task-SocialMemoryCuing_eeg.vhdr\u001B[0m\u001B[0m\n",
      "\u001B[0m\u001B[93mChecking file:\u001B[0m \u001B[94mB:\\Uni\\Master\\Semester_03\\EEG\\project\\repo\\eeg_course_project\\data/ds003702/sub-26/eeg/sub-26_task-SocialMemoryCuing_eeg.vmrk\u001B[0m\u001B[0m\n",
      "\u001B[0m\u001B[93mChecking file:\u001B[0m \u001B[94mB:\\Uni\\Master\\Semester_03\\EEG\\project\\repo\\eeg_course_project\\data/ds003702/sub-27/eeg/sub-27_task-SocialMemoryCuing_channels.tsv\u001B[0m\u001B[0m\n",
      "\u001B[0m\u001B[93mChecking file:\u001B[0m \u001B[94mB:\\Uni\\Master\\Semester_03\\EEG\\project\\repo\\eeg_course_project\\data/ds003702/sub-27/eeg/sub-27_task-SocialMemoryCuing_eeg.eeg\u001B[0m\u001B[0m\n",
      "\u001B[0m\u001B[93mChecking file:\u001B[0m \u001B[94mB:\\Uni\\Master\\Semester_03\\EEG\\project\\repo\\eeg_course_project\\data/ds003702/sub-27/eeg/sub-27_task-SocialMemoryCuing_eeg.json\u001B[0m\u001B[0m\n",
      "\u001B[0m\u001B[93mChecking file:\u001B[0m \u001B[94mB:\\Uni\\Master\\Semester_03\\EEG\\project\\repo\\eeg_course_project\\data/ds003702/sub-27/eeg/sub-27_task-SocialMemoryCuing_eeg.vhdr\u001B[0m\u001B[0m\n",
      "\u001B[0m\u001B[93mChecking file:\u001B[0m \u001B[94mB:\\Uni\\Master\\Semester_03\\EEG\\project\\repo\\eeg_course_project\\data/ds003702/sub-27/eeg/sub-27_task-SocialMemoryCuing_eeg.vmrk\u001B[0m\u001B[0m\n",
      "\u001B[0m\u001B[93mChecking file:\u001B[0m \u001B[94mB:\\Uni\\Master\\Semester_03\\EEG\\project\\repo\\eeg_course_project\\data/ds003702/sub-28/eeg/sub-28_task-SocialMemoryCuing_channels.tsv\u001B[0m\u001B[0m\n",
      "\u001B[0m\u001B[93mChecking file:\u001B[0m \u001B[94mB:\\Uni\\Master\\Semester_03\\EEG\\project\\repo\\eeg_course_project\\data/ds003702/sub-28/eeg/sub-28_task-SocialMemoryCuing_eeg.eeg\u001B[0m\u001B[0m\n",
      "\u001B[0m\u001B[93mChecking file:\u001B[0m \u001B[94mB:\\Uni\\Master\\Semester_03\\EEG\\project\\repo\\eeg_course_project\\data/ds003702/sub-28/eeg/sub-28_task-SocialMemoryCuing_eeg.json\u001B[0m\u001B[0m\n",
      "\u001B[0m\u001B[93mChecking file:\u001B[0m \u001B[94mB:\\Uni\\Master\\Semester_03\\EEG\\project\\repo\\eeg_course_project\\data/ds003702/sub-28/eeg/sub-28_task-SocialMemoryCuing_eeg.vhdr\u001B[0m\u001B[0m\n",
      "\u001B[0m\u001B[93mChecking file:\u001B[0m \u001B[94mB:\\Uni\\Master\\Semester_03\\EEG\\project\\repo\\eeg_course_project\\data/ds003702/sub-28/eeg/sub-28_task-SocialMemoryCuing_eeg.vmrk\u001B[0m\u001B[0m\n",
      "\u001B[0m\u001B[93mChecking file:\u001B[0m \u001B[94mB:\\Uni\\Master\\Semester_03\\EEG\\project\\repo\\eeg_course_project\\data/ds003702/sub-29/eeg/sub-29_task-SocialMemoryCuing_channels.tsv\u001B[0m\u001B[0m\n",
      "\u001B[0m\u001B[93mChecking file:\u001B[0m \u001B[94mB:\\Uni\\Master\\Semester_03\\EEG\\project\\repo\\eeg_course_project\\data/ds003702/sub-29/eeg/sub-29_task-SocialMemoryCuing_eeg.eeg\u001B[0m\u001B[0m\n",
      "\u001B[0m\u001B[93mChecking file:\u001B[0m \u001B[94mB:\\Uni\\Master\\Semester_03\\EEG\\project\\repo\\eeg_course_project\\data/ds003702/sub-29/eeg/sub-29_task-SocialMemoryCuing_eeg.json\u001B[0m\u001B[0m\n",
      "\u001B[0m\u001B[93mChecking file:\u001B[0m \u001B[94mB:\\Uni\\Master\\Semester_03\\EEG\\project\\repo\\eeg_course_project\\data/ds003702/sub-29/eeg/sub-29_task-SocialMemoryCuing_eeg.vhdr\u001B[0m\u001B[0m\n",
      "\u001B[0m\u001B[93mChecking file:\u001B[0m \u001B[94mB:\\Uni\\Master\\Semester_03\\EEG\\project\\repo\\eeg_course_project\\data/ds003702/sub-29/eeg/sub-29_task-SocialMemoryCuing_eeg.vmrk\u001B[0m\u001B[0m\n",
      "\u001B[0m\u001B[93mChecking file:\u001B[0m \u001B[94mB:\\Uni\\Master\\Semester_03\\EEG\\project\\repo\\eeg_course_project\\data/ds003702/sub-30/eeg/sub-30_task-SocialMemoryCuing_channels.tsv\u001B[0m\u001B[0m\n",
      "\u001B[0m\u001B[93mChecking file:\u001B[0m \u001B[94mB:\\Uni\\Master\\Semester_03\\EEG\\project\\repo\\eeg_course_project\\data/ds003702/sub-30/eeg/sub-30_task-SocialMemoryCuing_eeg.eeg\u001B[0m\u001B[0m\n",
      "\u001B[0m\u001B[93mChecking file:\u001B[0m \u001B[94mB:\\Uni\\Master\\Semester_03\\EEG\\project\\repo\\eeg_course_project\\data/ds003702/sub-30/eeg/sub-30_task-SocialMemoryCuing_eeg.json\u001B[0m\u001B[0m\n",
      "\u001B[0m\u001B[93mChecking file:\u001B[0m \u001B[94mB:\\Uni\\Master\\Semester_03\\EEG\\project\\repo\\eeg_course_project\\data/ds003702/sub-30/eeg/sub-30_task-SocialMemoryCuing_eeg.vhdr\u001B[0m\u001B[0m\n",
      "\u001B[0m\u001B[93mChecking file:\u001B[0m \u001B[94mB:\\Uni\\Master\\Semester_03\\EEG\\project\\repo\\eeg_course_project\\data/ds003702/sub-30/eeg/sub-30_task-SocialMemoryCuing_eeg.vmrk\u001B[0m\u001B[0m\n",
      "\u001B[0m\u001B[93mChecking file:\u001B[0m \u001B[94mB:\\Uni\\Master\\Semester_03\\EEG\\project\\repo\\eeg_course_project\\data/ds003702/sub-31/eeg/sub-31_task-SocialMemoryCuing_channels.tsv\u001B[0m\u001B[0m\n",
      "\u001B[0m\u001B[93mChecking file:\u001B[0m \u001B[94mB:\\Uni\\Master\\Semester_03\\EEG\\project\\repo\\eeg_course_project\\data/ds003702/sub-31/eeg/sub-31_task-SocialMemoryCuing_eeg.eeg\u001B[0m\u001B[0m\n",
      "\u001B[0m\u001B[93mChecking file:\u001B[0m \u001B[94mB:\\Uni\\Master\\Semester_03\\EEG\\project\\repo\\eeg_course_project\\data/ds003702/sub-31/eeg/sub-31_task-SocialMemoryCuing_eeg.json\u001B[0m\u001B[0m\n",
      "\u001B[0m\u001B[93mChecking file:\u001B[0m \u001B[94mB:\\Uni\\Master\\Semester_03\\EEG\\project\\repo\\eeg_course_project\\data/ds003702/sub-31/eeg/sub-31_task-SocialMemoryCuing_eeg.vhdr\u001B[0m\u001B[0m\n",
      "\u001B[0m\u001B[93mChecking file:\u001B[0m \u001B[94mB:\\Uni\\Master\\Semester_03\\EEG\\project\\repo\\eeg_course_project\\data/ds003702/sub-31/eeg/sub-31_task-SocialMemoryCuing_eeg.vmrk\u001B[0m\u001B[0m\n",
      "\u001B[0m\u001B[93mChecking file:\u001B[0m \u001B[94mB:\\Uni\\Master\\Semester_03\\EEG\\project\\repo\\eeg_course_project\\data/ds003702/sub-32/eeg/sub-32_task-SocialMemoryCuing_channels.tsv\u001B[0m\u001B[0m\n",
      "\u001B[0m\u001B[93mChecking file:\u001B[0m \u001B[94mB:\\Uni\\Master\\Semester_03\\EEG\\project\\repo\\eeg_course_project\\data/ds003702/sub-32/eeg/sub-32_task-SocialMemoryCuing_eeg.eeg\u001B[0m\u001B[0m\n",
      "\u001B[0m\u001B[93mChecking file:\u001B[0m \u001B[94mB:\\Uni\\Master\\Semester_03\\EEG\\project\\repo\\eeg_course_project\\data/ds003702/sub-32/eeg/sub-32_task-SocialMemoryCuing_eeg.json\u001B[0m\u001B[0m\n",
      "\u001B[0m\u001B[93mChecking file:\u001B[0m \u001B[94mB:\\Uni\\Master\\Semester_03\\EEG\\project\\repo\\eeg_course_project\\data/ds003702/sub-32/eeg/sub-32_task-SocialMemoryCuing_eeg.vhdr\u001B[0m\u001B[0m\n",
      "\u001B[0m\u001B[93mChecking file:\u001B[0m \u001B[94mB:\\Uni\\Master\\Semester_03\\EEG\\project\\repo\\eeg_course_project\\data/ds003702/sub-32/eeg/sub-32_task-SocialMemoryCuing_eeg.vmrk\u001B[0m\u001B[0m\n",
      "\u001B[0m\u001B[93mChecking file:\u001B[0m \u001B[94mB:\\Uni\\Master\\Semester_03\\EEG\\project\\repo\\eeg_course_project\\data/ds003702/sub-33/eeg/sub-33_task-SocialMemoryCuing_channels.tsv\u001B[0m\u001B[0m\n",
      "\u001B[0m\u001B[93mChecking file:\u001B[0m \u001B[94mB:\\Uni\\Master\\Semester_03\\EEG\\project\\repo\\eeg_course_project\\data/ds003702/sub-33/eeg/sub-33_task-SocialMemoryCuing_eeg.eeg\u001B[0m\u001B[0m\n",
      "\u001B[0m\u001B[93mChecking file:\u001B[0m \u001B[94mB:\\Uni\\Master\\Semester_03\\EEG\\project\\repo\\eeg_course_project\\data/ds003702/sub-33/eeg/sub-33_task-SocialMemoryCuing_eeg.json\u001B[0m\u001B[0m\n",
      "\u001B[0m\u001B[93mChecking file:\u001B[0m \u001B[94mB:\\Uni\\Master\\Semester_03\\EEG\\project\\repo\\eeg_course_project\\data/ds003702/sub-33/eeg/sub-33_task-SocialMemoryCuing_eeg.vhdr\u001B[0m\u001B[0m\n",
      "\u001B[0m\u001B[93mChecking file:\u001B[0m \u001B[94mB:\\Uni\\Master\\Semester_03\\EEG\\project\\repo\\eeg_course_project\\data/ds003702/sub-33/eeg/sub-33_task-SocialMemoryCuing_eeg.vmrk\u001B[0m\u001B[0m\n",
      "\u001B[0m\u001B[93mChecking file:\u001B[0m \u001B[94mB:\\Uni\\Master\\Semester_03\\EEG\\project\\repo\\eeg_course_project\\data/ds003702/sub-34/eeg/sub-34_task-SocialMemoryCuing_channels.tsv\u001B[0m\u001B[0m\n",
      "\u001B[0m\u001B[93mChecking file:\u001B[0m \u001B[94mB:\\Uni\\Master\\Semester_03\\EEG\\project\\repo\\eeg_course_project\\data/ds003702/sub-34/eeg/sub-34_task-SocialMemoryCuing_eeg.eeg\u001B[0m\u001B[0m\n",
      "\u001B[0m\u001B[93mChecking file:\u001B[0m \u001B[94mB:\\Uni\\Master\\Semester_03\\EEG\\project\\repo\\eeg_course_project\\data/ds003702/sub-34/eeg/sub-34_task-SocialMemoryCuing_eeg.json\u001B[0m\u001B[0m\n",
      "\u001B[0m\u001B[93mChecking file:\u001B[0m \u001B[94mB:\\Uni\\Master\\Semester_03\\EEG\\project\\repo\\eeg_course_project\\data/ds003702/sub-34/eeg/sub-34_task-SocialMemoryCuing_eeg.vhdr\u001B[0m\u001B[0m\n",
      "\u001B[0m\u001B[93mChecking file:\u001B[0m \u001B[94mB:\\Uni\\Master\\Semester_03\\EEG\\project\\repo\\eeg_course_project\\data/ds003702/sub-34/eeg/sub-34_task-SocialMemoryCuing_eeg.vmrk\u001B[0m\u001B[0m\n",
      "\u001B[0m\u001B[93mChecking file:\u001B[0m \u001B[94mB:\\Uni\\Master\\Semester_03\\EEG\\project\\repo\\eeg_course_project\\data/ds003702/sub-35/eeg/sub-35_task-SocialMemoryCuing_channels.tsv\u001B[0m\u001B[0m\n",
      "\u001B[0m\u001B[93mChecking file:\u001B[0m \u001B[94mB:\\Uni\\Master\\Semester_03\\EEG\\project\\repo\\eeg_course_project\\data/ds003702/sub-35/eeg/sub-35_task-SocialMemoryCuing_eeg.eeg\u001B[0m\u001B[0m\n",
      "\u001B[0m\u001B[93mChecking file:\u001B[0m \u001B[94mB:\\Uni\\Master\\Semester_03\\EEG\\project\\repo\\eeg_course_project\\data/ds003702/sub-35/eeg/sub-35_task-SocialMemoryCuing_eeg.json\u001B[0m\u001B[0m\n",
      "\u001B[0m\u001B[93mChecking file:\u001B[0m \u001B[94mB:\\Uni\\Master\\Semester_03\\EEG\\project\\repo\\eeg_course_project\\data/ds003702/sub-35/eeg/sub-35_task-SocialMemoryCuing_eeg.vhdr\u001B[0m\u001B[0m\n",
      "\u001B[0m\u001B[93mChecking file:\u001B[0m \u001B[94mB:\\Uni\\Master\\Semester_03\\EEG\\project\\repo\\eeg_course_project\\data/ds003702/sub-35/eeg/sub-35_task-SocialMemoryCuing_eeg.vmrk\u001B[0m\u001B[0m\n",
      "\u001B[0m\u001B[93mChecking file:\u001B[0m \u001B[94mB:\\Uni\\Master\\Semester_03\\EEG\\project\\repo\\eeg_course_project\\data/ds003702/sub-36/eeg/sub-36_task-SocialMemoryCuing_channels.tsv\u001B[0m\u001B[0m\n",
      "\u001B[0m\u001B[93mChecking file:\u001B[0m \u001B[94mB:\\Uni\\Master\\Semester_03\\EEG\\project\\repo\\eeg_course_project\\data/ds003702/sub-36/eeg/sub-36_task-SocialMemoryCuing_eeg.eeg\u001B[0m\u001B[0m\n",
      "\u001B[0m\u001B[93mChecking file:\u001B[0m \u001B[94mB:\\Uni\\Master\\Semester_03\\EEG\\project\\repo\\eeg_course_project\\data/ds003702/sub-36/eeg/sub-36_task-SocialMemoryCuing_eeg.json\u001B[0m\u001B[0m\n",
      "\u001B[0m\u001B[93mChecking file:\u001B[0m \u001B[94mB:\\Uni\\Master\\Semester_03\\EEG\\project\\repo\\eeg_course_project\\data/ds003702/sub-36/eeg/sub-36_task-SocialMemoryCuing_eeg.vhdr\u001B[0m\u001B[0m\n",
      "\u001B[0m\u001B[93mChecking file:\u001B[0m \u001B[94mB:\\Uni\\Master\\Semester_03\\EEG\\project\\repo\\eeg_course_project\\data/ds003702/sub-36/eeg/sub-36_task-SocialMemoryCuing_eeg.vmrk\u001B[0m\u001B[0m\n",
      "\u001B[0m\u001B[93mChecking file:\u001B[0m \u001B[94mB:\\Uni\\Master\\Semester_03\\EEG\\project\\repo\\eeg_course_project\\data/ds003702/sub-37/eeg/sub-37_task-SocialMemoryCuing_channels.tsv\u001B[0m\u001B[0m\n",
      "\u001B[0m\u001B[93mChecking file:\u001B[0m \u001B[94mB:\\Uni\\Master\\Semester_03\\EEG\\project\\repo\\eeg_course_project\\data/ds003702/sub-37/eeg/sub-37_task-SocialMemoryCuing_eeg.eeg\u001B[0m\u001B[0m\n",
      "\u001B[0m\u001B[93mChecking file:\u001B[0m \u001B[94mB:\\Uni\\Master\\Semester_03\\EEG\\project\\repo\\eeg_course_project\\data/ds003702/sub-37/eeg/sub-37_task-SocialMemoryCuing_eeg.json\u001B[0m\u001B[0m\n",
      "\u001B[0m\u001B[93mChecking file:\u001B[0m \u001B[94mB:\\Uni\\Master\\Semester_03\\EEG\\project\\repo\\eeg_course_project\\data/ds003702/sub-37/eeg/sub-37_task-SocialMemoryCuing_eeg.vhdr\u001B[0m\u001B[0m\n",
      "\u001B[0m\u001B[93mChecking file:\u001B[0m \u001B[94mB:\\Uni\\Master\\Semester_03\\EEG\\project\\repo\\eeg_course_project\\data/ds003702/sub-37/eeg/sub-37_task-SocialMemoryCuing_eeg.vmrk\u001B[0m\u001B[0m\n",
      "\u001B[0m\u001B[93mChecking file:\u001B[0m \u001B[94mB:\\Uni\\Master\\Semester_03\\EEG\\project\\repo\\eeg_course_project\\data/ds003702/sub-38/eeg/sub-38_task-SocialMemoryCuing_channels.tsv\u001B[0m\u001B[0m\n",
      "\u001B[0m\u001B[93mChecking file:\u001B[0m \u001B[94mB:\\Uni\\Master\\Semester_03\\EEG\\project\\repo\\eeg_course_project\\data/ds003702/sub-38/eeg/sub-38_task-SocialMemoryCuing_eeg.eeg\u001B[0m\u001B[0m\n",
      "\u001B[0m\u001B[93mChecking file:\u001B[0m \u001B[94mB:\\Uni\\Master\\Semester_03\\EEG\\project\\repo\\eeg_course_project\\data/ds003702/sub-38/eeg/sub-38_task-SocialMemoryCuing_eeg.json\u001B[0m\u001B[0m\n",
      "\u001B[0m\u001B[93mChecking file:\u001B[0m \u001B[94mB:\\Uni\\Master\\Semester_03\\EEG\\project\\repo\\eeg_course_project\\data/ds003702/sub-38/eeg/sub-38_task-SocialMemoryCuing_eeg.vhdr\u001B[0m\u001B[0m\n",
      "\u001B[0m\u001B[93mChecking file:\u001B[0m \u001B[94mB:\\Uni\\Master\\Semester_03\\EEG\\project\\repo\\eeg_course_project\\data/ds003702/sub-38/eeg/sub-38_task-SocialMemoryCuing_eeg.vmrk\u001B[0m\u001B[0m\n",
      "\u001B[0m\u001B[93mChecking file:\u001B[0m \u001B[94mB:\\Uni\\Master\\Semester_03\\EEG\\project\\repo\\eeg_course_project\\data/ds003702/sub-39/eeg/sub-39_task-SocialMemoryCuing_channels.tsv\u001B[0m\u001B[0m\n",
      "\u001B[0m\u001B[93mChecking file:\u001B[0m \u001B[94mB:\\Uni\\Master\\Semester_03\\EEG\\project\\repo\\eeg_course_project\\data/ds003702/sub-39/eeg/sub-39_task-SocialMemoryCuing_eeg.eeg\u001B[0m\u001B[0m\n",
      "\u001B[0m\u001B[93mChecking file:\u001B[0m \u001B[94mB:\\Uni\\Master\\Semester_03\\EEG\\project\\repo\\eeg_course_project\\data/ds003702/sub-39/eeg/sub-39_task-SocialMemoryCuing_eeg.json\u001B[0m\u001B[0m\n",
      "\u001B[0m\u001B[93mChecking file:\u001B[0m \u001B[94mB:\\Uni\\Master\\Semester_03\\EEG\\project\\repo\\eeg_course_project\\data/ds003702/sub-39/eeg/sub-39_task-SocialMemoryCuing_eeg.vhdr\u001B[0m\u001B[0m\n",
      "\u001B[0m\u001B[93mChecking file:\u001B[0m \u001B[94mB:\\Uni\\Master\\Semester_03\\EEG\\project\\repo\\eeg_course_project\\data/ds003702/sub-39/eeg/sub-39_task-SocialMemoryCuing_eeg.vmrk\u001B[0m\u001B[0m\n",
      "\u001B[0m\u001B[93mChecking file:\u001B[0m \u001B[94mB:\\Uni\\Master\\Semester_03\\EEG\\project\\repo\\eeg_course_project\\data/ds003702/sub-40/eeg/sub-40_task-SocialMemoryCuing_channels.tsv\u001B[0m\u001B[0m\n",
      "\u001B[0m\u001B[93mChecking file:\u001B[0m \u001B[94mB:\\Uni\\Master\\Semester_03\\EEG\\project\\repo\\eeg_course_project\\data/ds003702/sub-40/eeg/sub-40_task-SocialMemoryCuing_eeg.eeg\u001B[0m\u001B[0m\n",
      "\u001B[0m\u001B[93mChecking file:\u001B[0m \u001B[94mB:\\Uni\\Master\\Semester_03\\EEG\\project\\repo\\eeg_course_project\\data/ds003702/sub-40/eeg/sub-40_task-SocialMemoryCuing_eeg.json\u001B[0m\u001B[0m\n",
      "\u001B[0m\u001B[93mChecking file:\u001B[0m \u001B[94mB:\\Uni\\Master\\Semester_03\\EEG\\project\\repo\\eeg_course_project\\data/ds003702/sub-40/eeg/sub-40_task-SocialMemoryCuing_eeg.vhdr\u001B[0m\u001B[0m\n",
      "\u001B[0m\u001B[93mChecking file:\u001B[0m \u001B[94mB:\\Uni\\Master\\Semester_03\\EEG\\project\\repo\\eeg_course_project\\data/ds003702/sub-40/eeg/sub-40_task-SocialMemoryCuing_eeg.vmrk\u001B[0m\u001B[0m\n",
      "\u001B[0m\u001B[93mChecking file:\u001B[0m \u001B[94mB:\\Uni\\Master\\Semester_03\\EEG\\project\\repo\\eeg_course_project\\data/ds003702/sub-41/eeg/sub-41_task-SocialMemoryCuing_channels.tsv\u001B[0m\u001B[0m\n",
      "\u001B[0m\u001B[93mChecking file:\u001B[0m \u001B[94mB:\\Uni\\Master\\Semester_03\\EEG\\project\\repo\\eeg_course_project\\data/ds003702/sub-41/eeg/sub-41_task-SocialMemoryCuing_eeg.eeg\u001B[0m\u001B[0m\n",
      "\u001B[0m\u001B[93mChecking file:\u001B[0m \u001B[94mB:\\Uni\\Master\\Semester_03\\EEG\\project\\repo\\eeg_course_project\\data/ds003702/sub-41/eeg/sub-41_task-SocialMemoryCuing_eeg.json\u001B[0m\u001B[0m\n",
      "\u001B[0m\u001B[93mChecking file:\u001B[0m \u001B[94mB:\\Uni\\Master\\Semester_03\\EEG\\project\\repo\\eeg_course_project\\data/ds003702/sub-41/eeg/sub-41_task-SocialMemoryCuing_eeg.vhdr\u001B[0m\u001B[0m\n",
      "\u001B[0m\u001B[93mChecking file:\u001B[0m \u001B[94mB:\\Uni\\Master\\Semester_03\\EEG\\project\\repo\\eeg_course_project\\data/ds003702/sub-41/eeg/sub-41_task-SocialMemoryCuing_eeg.vmrk\u001B[0m\u001B[0m\n",
      "\u001B[0m\u001B[93mChecking file:\u001B[0m \u001B[94mB:\\Uni\\Master\\Semester_03\\EEG\\project\\repo\\eeg_course_project\\data/ds003702/sub-43/eeg/sub-43_task-SocialMemoryCuing_channels.tsv\u001B[0m\u001B[0m\n",
      "\u001B[0m\u001B[93mChecking file:\u001B[0m \u001B[94mB:\\Uni\\Master\\Semester_03\\EEG\\project\\repo\\eeg_course_project\\data/ds003702/sub-43/eeg/sub-43_task-SocialMemoryCuing_eeg.eeg\u001B[0m\u001B[0m\n",
      "\u001B[0m\u001B[93mChecking file:\u001B[0m \u001B[94mB:\\Uni\\Master\\Semester_03\\EEG\\project\\repo\\eeg_course_project\\data/ds003702/sub-43/eeg/sub-43_task-SocialMemoryCuing_eeg.json\u001B[0m\u001B[0m\n",
      "\u001B[0m\u001B[93mChecking file:\u001B[0m \u001B[94mB:\\Uni\\Master\\Semester_03\\EEG\\project\\repo\\eeg_course_project\\data/ds003702/sub-43/eeg/sub-43_task-SocialMemoryCuing_eeg.vhdr\u001B[0m\u001B[0m\n",
      "\u001B[0m\u001B[93mChecking file:\u001B[0m \u001B[94mB:\\Uni\\Master\\Semester_03\\EEG\\project\\repo\\eeg_course_project\\data/ds003702/sub-43/eeg/sub-43_task-SocialMemoryCuing_eeg.vmrk\u001B[0m\u001B[0m\n",
      "\u001B[0m\u001B[93mChecking file:\u001B[0m \u001B[94mB:\\Uni\\Master\\Semester_03\\EEG\\project\\repo\\eeg_course_project\\data/ds003702/sub-44/eeg/sub-44_task-SocialMemoryCuing_channels.tsv\u001B[0m\u001B[0m\n",
      "\u001B[0m\u001B[93mChecking file:\u001B[0m \u001B[94mB:\\Uni\\Master\\Semester_03\\EEG\\project\\repo\\eeg_course_project\\data/ds003702/sub-44/eeg/sub-44_task-SocialMemoryCuing_eeg.eeg\u001B[0m\u001B[0m\n",
      "\u001B[0m\u001B[93mChecking file:\u001B[0m \u001B[94mB:\\Uni\\Master\\Semester_03\\EEG\\project\\repo\\eeg_course_project\\data/ds003702/sub-44/eeg/sub-44_task-SocialMemoryCuing_eeg.json\u001B[0m\u001B[0m\n",
      "\u001B[0m\u001B[93mChecking file:\u001B[0m \u001B[94mB:\\Uni\\Master\\Semester_03\\EEG\\project\\repo\\eeg_course_project\\data/ds003702/sub-44/eeg/sub-44_task-SocialMemoryCuing_eeg.vhdr\u001B[0m\u001B[0m\n",
      "\u001B[0m\u001B[93mChecking file:\u001B[0m \u001B[94mB:\\Uni\\Master\\Semester_03\\EEG\\project\\repo\\eeg_course_project\\data/ds003702/sub-44/eeg/sub-44_task-SocialMemoryCuing_eeg.vmrk\u001B[0m\u001B[0m\n",
      "\u001B[0m\u001B[93mChecking file:\u001B[0m \u001B[94mB:\\Uni\\Master\\Semester_03\\EEG\\project\\repo\\eeg_course_project\\data/ds003702/sub-45/eeg/sub-45_task-SocialMemoryCuing_channels.tsv\u001B[0m\u001B[0m\n",
      "\u001B[0m\u001B[93mChecking file:\u001B[0m \u001B[94mB:\\Uni\\Master\\Semester_03\\EEG\\project\\repo\\eeg_course_project\\data/ds003702/sub-45/eeg/sub-45_task-SocialMemoryCuing_eeg.eeg\u001B[0m\u001B[0m\n",
      "\u001B[0m\u001B[93mChecking file:\u001B[0m \u001B[94mB:\\Uni\\Master\\Semester_03\\EEG\\project\\repo\\eeg_course_project\\data/ds003702/sub-45/eeg/sub-45_task-SocialMemoryCuing_eeg.json\u001B[0m\u001B[0m\n",
      "\u001B[0m\u001B[93mChecking file:\u001B[0m \u001B[94mB:\\Uni\\Master\\Semester_03\\EEG\\project\\repo\\eeg_course_project\\data/ds003702/sub-45/eeg/sub-45_task-SocialMemoryCuing_eeg.vhdr\u001B[0m\u001B[0m\n",
      "\u001B[0m\u001B[93mChecking file:\u001B[0m \u001B[94mB:\\Uni\\Master\\Semester_03\\EEG\\project\\repo\\eeg_course_project\\data/ds003702/sub-45/eeg/sub-45_task-SocialMemoryCuing_eeg.vmrk\u001B[0m\u001B[0m\n",
      "\u001B[0m\u001B[93mChecking file:\u001B[0m \u001B[94mB:\\Uni\\Master\\Semester_03\\EEG\\project\\repo\\eeg_course_project\\data/ds003702/sub-46/eeg/sub-46_task-SocialMemoryCuing_channels.tsv\u001B[0m\u001B[0m\n",
      "\u001B[0m\u001B[93mChecking file:\u001B[0m \u001B[94mB:\\Uni\\Master\\Semester_03\\EEG\\project\\repo\\eeg_course_project\\data/ds003702/sub-46/eeg/sub-46_task-SocialMemoryCuing_eeg.eeg\u001B[0m\u001B[0m\n",
      "\u001B[0m\u001B[93mChecking file:\u001B[0m \u001B[94mB:\\Uni\\Master\\Semester_03\\EEG\\project\\repo\\eeg_course_project\\data/ds003702/sub-46/eeg/sub-46_task-SocialMemoryCuing_eeg.json\u001B[0m\u001B[0m\n",
      "\u001B[0m\u001B[93mChecking file:\u001B[0m \u001B[94mB:\\Uni\\Master\\Semester_03\\EEG\\project\\repo\\eeg_course_project\\data/ds003702/sub-46/eeg/sub-46_task-SocialMemoryCuing_eeg.vhdr\u001B[0m\u001B[0m\n",
      "\u001B[0m\u001B[93mChecking file:\u001B[0m \u001B[94mB:\\Uni\\Master\\Semester_03\\EEG\\project\\repo\\eeg_course_project\\data/ds003702/sub-46/eeg/sub-46_task-SocialMemoryCuing_eeg.vmrk\u001B[0m\u001B[0m\n",
      "\u001B[0m\u001B[93mChecking file:\u001B[0m \u001B[94mB:\\Uni\\Master\\Semester_03\\EEG\\project\\repo\\eeg_course_project\\data/ds003702/sub-48/eeg/sub-48_task-SocialMemoryCuing_channels.tsv\u001B[0m\u001B[0m\n",
      "\u001B[0m\u001B[93mChecking file:\u001B[0m \u001B[94mB:\\Uni\\Master\\Semester_03\\EEG\\project\\repo\\eeg_course_project\\data/ds003702/sub-48/eeg/sub-48_task-SocialMemoryCuing_eeg.eeg\u001B[0m\u001B[0m\n",
      "\u001B[0m\u001B[93mChecking file:\u001B[0m \u001B[94mB:\\Uni\\Master\\Semester_03\\EEG\\project\\repo\\eeg_course_project\\data/ds003702/sub-48/eeg/sub-48_task-SocialMemoryCuing_eeg.json\u001B[0m\u001B[0m\n",
      "\u001B[0m\u001B[93mChecking file:\u001B[0m \u001B[94mB:\\Uni\\Master\\Semester_03\\EEG\\project\\repo\\eeg_course_project\\data/ds003702/sub-48/eeg/sub-48_task-SocialMemoryCuing_eeg.vhdr\u001B[0m\u001B[0m\n",
      "\u001B[0m\u001B[93mChecking file:\u001B[0m \u001B[94mB:\\Uni\\Master\\Semester_03\\EEG\\project\\repo\\eeg_course_project\\data/ds003702/sub-48/eeg/sub-48_task-SocialMemoryCuing_eeg.vmrk\u001B[0m\u001B[0m\n",
      "\u001B[0m\u001B[93mChecking file:\u001B[0m \u001B[94mB:\\Uni\\Master\\Semester_03\\EEG\\project\\repo\\eeg_course_project\\data/ds003702/sub-49/eeg/sub-49_task-SocialMemoryCuing_channels.tsv\u001B[0m\u001B[0m\n",
      "\u001B[0m\u001B[93mChecking file:\u001B[0m \u001B[94mB:\\Uni\\Master\\Semester_03\\EEG\\project\\repo\\eeg_course_project\\data/ds003702/sub-49/eeg/sub-49_task-SocialMemoryCuing_eeg.eeg\u001B[0m\u001B[0m\n",
      "\u001B[0m\u001B[93mChecking file:\u001B[0m \u001B[94mB:\\Uni\\Master\\Semester_03\\EEG\\project\\repo\\eeg_course_project\\data/ds003702/sub-49/eeg/sub-49_task-SocialMemoryCuing_eeg.json\u001B[0m\u001B[0m\n",
      "\u001B[0m\u001B[93mChecking file:\u001B[0m \u001B[94mB:\\Uni\\Master\\Semester_03\\EEG\\project\\repo\\eeg_course_project\\data/ds003702/sub-49/eeg/sub-49_task-SocialMemoryCuing_eeg.vhdr\u001B[0m\u001B[0m\n",
      "\u001B[0m\u001B[93mChecking file:\u001B[0m \u001B[94mB:\\Uni\\Master\\Semester_03\\EEG\\project\\repo\\eeg_course_project\\data/ds003702/sub-49/eeg/sub-49_task-SocialMemoryCuing_eeg.vmrk\u001B[0m\u001B[0m\n",
      "\u001B[0m\u001B[93mChecking file:\u001B[0m \u001B[94mB:\\Uni\\Master\\Semester_03\\EEG\\project\\repo\\eeg_course_project\\data/ds003702/sub-50/eeg/sub-50_task-SocialMemoryCuing_channels.tsv\u001B[0m\u001B[0m\n",
      "\u001B[0m\u001B[93mChecking file:\u001B[0m \u001B[94mB:\\Uni\\Master\\Semester_03\\EEG\\project\\repo\\eeg_course_project\\data/ds003702/sub-50/eeg/sub-50_task-SocialMemoryCuing_eeg.eeg\u001B[0m\u001B[0m\n",
      "\u001B[0m\u001B[93mChecking file:\u001B[0m \u001B[94mB:\\Uni\\Master\\Semester_03\\EEG\\project\\repo\\eeg_course_project\\data/ds003702/sub-50/eeg/sub-50_task-SocialMemoryCuing_eeg.json\u001B[0m\u001B[0m\n",
      "\u001B[0m\u001B[93mChecking file:\u001B[0m \u001B[94mB:\\Uni\\Master\\Semester_03\\EEG\\project\\repo\\eeg_course_project\\data/ds003702/sub-50/eeg/sub-50_task-SocialMemoryCuing_eeg.vhdr\u001B[0m\u001B[0m\n",
      "\u001B[0m\u001B[93mChecking file:\u001B[0m \u001B[94mB:\\Uni\\Master\\Semester_03\\EEG\\project\\repo\\eeg_course_project\\data/ds003702/sub-50/eeg/sub-50_task-SocialMemoryCuing_eeg.vmrk\u001B[0m\u001B[0m\n",
      "\u001B[92mAll subject data files are present !\u001B[0m\n"
     ]
    }
   ],
   "source": [
    "if dl.CLEAN_DATA:\n",
    "    clean.removeDirectory(dl.DATA_BASE_DIR)\n",
    "dl.fetchData()"
   ],
   "metadata": {
    "collapsed": false,
    "ExecuteTime": {
     "end_time": "2024-03-29T04:05:27.938651600Z",
     "start_time": "2024-03-29T04:05:27.834566Z"
    }
   },
   "id": "2cd3e8883be7ee99"
  },
  {
   "cell_type": "markdown",
   "id": "b68769931b45f518",
   "metadata": {
    "collapsed": false
   },
   "source": [
    "### Pre-processing of Data Files\n",
    "\n",
    "Once all data is downloaded and unpacked, the format and content of multiple contained files needs to get updated.\n",
    "This allows for direct use of the updated dataset with tools of MNE BIDS pipeline.\n",
    "\n",
    "For this data set, this consists mainly of two tasks:\n",
    "\n",
    "1. Fix file links in `*.vhdr` and `*.vmrk` files. This is needed, because the files got renamed after exporting, but the original authors did not fix the file links\n",
    "2. Generate a `*_events.tsv` file containing for each subject, which contains onset time, duration, and type for each labelled time frame."
   ]
  },
  {
   "cell_type": "code",
   "execution_count": 16,
   "id": "956ddf79dffd021e",
   "metadata": {
    "collapsed": false,
    "ExecuteTime": {
     "end_time": "2024-03-29T04:08:25.224739600Z",
     "start_time": "2024-03-29T04:08:24.665611Z"
    }
   },
   "outputs": [
    {
     "name": "stdout",
     "output_type": "stream",
     "text": [
      "\u001B[0m\u001B[0mPatching file names for Subject:\u001B[0m \u001B[94m1\u001B[0m\u001B[0m\n",
      "\u001B[0m\u001B[0mPatching file names for Subject:\u001B[0m \u001B[94m2\u001B[0m\u001B[0m\n",
      "\u001B[0m\u001B[0mPatching file names for Subject:\u001B[0m \u001B[94m3\u001B[0m\u001B[0m\n",
      "\u001B[0m\u001B[0mPatching file names for Subject:\u001B[0m \u001B[94m4\u001B[0m\u001B[0m\n",
      "\u001B[0m\u001B[0mPatching file names for Subject:\u001B[0m \u001B[94m5\u001B[0m\u001B[0m\n",
      "\u001B[0m\u001B[0mPatching file names for Subject:\u001B[0m \u001B[94m6\u001B[0m\u001B[0m\n",
      "\u001B[0m\u001B[0mPatching file names for Subject:\u001B[0m \u001B[94m7\u001B[0m\u001B[0m\n",
      "\u001B[0m\u001B[0mPatching file names for Subject:\u001B[0m \u001B[94m9\u001B[0m\u001B[0m\n",
      "\u001B[0m\u001B[0mPatching file names for Subject:\u001B[0m \u001B[94m10\u001B[0m\u001B[0m\n",
      "\u001B[0m\u001B[0mPatching file names for Subject:\u001B[0m \u001B[94m11\u001B[0m\u001B[0m\n",
      "\u001B[0m\u001B[0mPatching file names for Subject:\u001B[0m \u001B[94m12\u001B[0m\u001B[0m\n",
      "\u001B[0m\u001B[0mPatching file names for Subject:\u001B[0m \u001B[94m13\u001B[0m\u001B[0m\n",
      "\u001B[0m\u001B[0mPatching file names for Subject:\u001B[0m \u001B[94m14\u001B[0m\u001B[0m\n",
      "\u001B[0m\u001B[0mPatching file names for Subject:\u001B[0m \u001B[94m15\u001B[0m\u001B[0m\n",
      "\u001B[0m\u001B[0mPatching file names for Subject:\u001B[0m \u001B[94m16\u001B[0m\u001B[0m\n",
      "\u001B[0m\u001B[0mPatching file names for Subject:\u001B[0m \u001B[94m17\u001B[0m\u001B[0m\n",
      "\u001B[0m\u001B[0mPatching file names for Subject:\u001B[0m \u001B[94m18\u001B[0m\u001B[0m\n",
      "\u001B[0m\u001B[0mPatching file names for Subject:\u001B[0m \u001B[94m19\u001B[0m\u001B[0m\n",
      "\u001B[0m\u001B[0mPatching file names for Subject:\u001B[0m \u001B[94m20\u001B[0m\u001B[0m\n",
      "\u001B[0m\u001B[0mPatching file names for Subject:\u001B[0m \u001B[94m21\u001B[0m\u001B[0m\n",
      "\u001B[0m\u001B[0mPatching file names for Subject:\u001B[0m \u001B[94m22\u001B[0m\u001B[0m\n",
      "\u001B[0m\u001B[0mPatching file names for Subject:\u001B[0m \u001B[94m23\u001B[0m\u001B[0m\n",
      "\u001B[0m\u001B[0mPatching file names for Subject:\u001B[0m \u001B[94m24\u001B[0m\u001B[0m\n",
      "\u001B[0m\u001B[0mPatching file names for Subject:\u001B[0m \u001B[94m25\u001B[0m\u001B[0m\n",
      "\u001B[0m\u001B[0mPatching file names for Subject:\u001B[0m \u001B[94m26\u001B[0m\u001B[0m\n",
      "\u001B[0m\u001B[0mPatching file names for Subject:\u001B[0m \u001B[94m27\u001B[0m\u001B[0m\n",
      "\u001B[0m\u001B[0mPatching file names for Subject:\u001B[0m \u001B[94m28\u001B[0m\u001B[0m\n",
      "\u001B[0m\u001B[0mPatching file names for Subject:\u001B[0m \u001B[94m29\u001B[0m\u001B[0m\n",
      "\u001B[0m\u001B[0mPatching file names for Subject:\u001B[0m \u001B[94m30\u001B[0m\u001B[0m\n",
      "\u001B[0m\u001B[0mPatching file names for Subject:\u001B[0m \u001B[94m31\u001B[0m\u001B[0m\n",
      "\u001B[0m\u001B[0mPatching file names for Subject:\u001B[0m \u001B[94m32\u001B[0m\u001B[0m\n",
      "\u001B[0m\u001B[0mPatching file names for Subject:\u001B[0m \u001B[94m33\u001B[0m\u001B[0m\n",
      "\u001B[0m\u001B[0mPatching file names for Subject:\u001B[0m \u001B[94m34\u001B[0m\u001B[0m\n",
      "\u001B[0m\u001B[0mPatching file names for Subject:\u001B[0m \u001B[94m35\u001B[0m\u001B[0m\n",
      "\u001B[0m\u001B[0mPatching file names for Subject:\u001B[0m \u001B[94m36\u001B[0m\u001B[0m\n",
      "\u001B[0m\u001B[0mPatching file names for Subject:\u001B[0m \u001B[94m37\u001B[0m\u001B[0m\n",
      "\u001B[0m\u001B[0mPatching file names for Subject:\u001B[0m \u001B[94m38\u001B[0m\u001B[0m\n",
      "\u001B[0m\u001B[0mPatching file names for Subject:\u001B[0m \u001B[94m39\u001B[0m\u001B[0m\n",
      "\u001B[0m\u001B[0mPatching file names for Subject:\u001B[0m \u001B[94m40\u001B[0m\u001B[0m\n",
      "\u001B[0m\u001B[0mPatching file names for Subject:\u001B[0m \u001B[94m41\u001B[0m\u001B[0m\n",
      "\u001B[0m\u001B[0mPatching file names for Subject:\u001B[0m \u001B[94m43\u001B[0m\u001B[0m\n",
      "\u001B[0m\u001B[0mPatching file names for Subject:\u001B[0m \u001B[94m44\u001B[0m\u001B[0m\n",
      "\u001B[0m\u001B[0mPatching file names for Subject:\u001B[0m \u001B[94m45\u001B[0m\u001B[0m\n",
      "\u001B[0m\u001B[0mPatching file names for Subject:\u001B[0m \u001B[94m46\u001B[0m\u001B[0m\n",
      "\u001B[0m\u001B[0mPatching file names for Subject:\u001B[0m \u001B[94m48\u001B[0m\u001B[0m\n",
      "\u001B[0m\u001B[0mPatching file names for Subject:\u001B[0m \u001B[94m49\u001B[0m\u001B[0m\n",
      "\u001B[0m\u001B[0mPatching file names for Subject:\u001B[0m \u001B[94m50\u001B[0m\u001B[0m\n",
      "\u001B[0m\u001B[0mBuilding events.tsv for Subject:\u001B[0m \u001B[94m1\u001B[0m\u001B[0m\n",
      "\u001B[0m\u001B[0mBuilding events.tsv for Subject:\u001B[0m \u001B[94m2\u001B[0m\u001B[0m\n",
      "\u001B[93mSkipping, events.tsv already exists.\u001B[0m\n",
      "\u001B[0m\u001B[0mBuilding events.tsv for Subject:\u001B[0m \u001B[94m3\u001B[0m\u001B[0m\n",
      "\u001B[93mSkipping, events.tsv already exists.\u001B[0m\n",
      "\u001B[0m\u001B[0mBuilding events.tsv for Subject:\u001B[0m \u001B[94m4\u001B[0m\u001B[0m\n",
      "\u001B[93mSkipping, events.tsv already exists.\u001B[0m\n",
      "\u001B[0m\u001B[0mBuilding events.tsv for Subject:\u001B[0m \u001B[94m5\u001B[0m\u001B[0m\n",
      "\u001B[93mSkipping, events.tsv already exists.\u001B[0m\n",
      "\u001B[0m\u001B[0mBuilding events.tsv for Subject:\u001B[0m \u001B[94m6\u001B[0m\u001B[0m\n",
      "\u001B[93mSkipping, events.tsv already exists.\u001B[0m\n",
      "\u001B[0m\u001B[0mBuilding events.tsv for Subject:\u001B[0m \u001B[94m7\u001B[0m\u001B[0m\n",
      "\u001B[93mSkipping, events.tsv already exists.\u001B[0m\n",
      "\u001B[0m\u001B[0mBuilding events.tsv for Subject:\u001B[0m \u001B[94m9\u001B[0m\u001B[0m\n",
      "\u001B[93mSkipping, events.tsv already exists.\u001B[0m\n",
      "\u001B[0m\u001B[0mBuilding events.tsv for Subject:\u001B[0m \u001B[94m10\u001B[0m\u001B[0m\n",
      "\u001B[93mSkipping, events.tsv already exists.\u001B[0m\n",
      "\u001B[0m\u001B[0mBuilding events.tsv for Subject:\u001B[0m \u001B[94m11\u001B[0m\u001B[0m\n",
      "\u001B[93mSkipping, events.tsv already exists.\u001B[0m\n",
      "\u001B[0m\u001B[0mBuilding events.tsv for Subject:\u001B[0m \u001B[94m12\u001B[0m\u001B[0m\n",
      "\u001B[93mSkipping, events.tsv already exists.\u001B[0m\n",
      "\u001B[0m\u001B[0mBuilding events.tsv for Subject:\u001B[0m \u001B[94m13\u001B[0m\u001B[0m\n",
      "\u001B[93mSkipping, events.tsv already exists.\u001B[0m\n",
      "\u001B[0m\u001B[0mBuilding events.tsv for Subject:\u001B[0m \u001B[94m14\u001B[0m\u001B[0m\n",
      "\u001B[93mSkipping, events.tsv already exists.\u001B[0m\n",
      "\u001B[0m\u001B[0mBuilding events.tsv for Subject:\u001B[0m \u001B[94m15\u001B[0m\u001B[0m\n",
      "\u001B[93mSkipping, events.tsv already exists.\u001B[0m\n",
      "\u001B[0m\u001B[0mBuilding events.tsv for Subject:\u001B[0m \u001B[94m16\u001B[0m\u001B[0m\n",
      "\u001B[93mSkipping, events.tsv already exists.\u001B[0m\n",
      "\u001B[0m\u001B[0mBuilding events.tsv for Subject:\u001B[0m \u001B[94m17\u001B[0m\u001B[0m\n",
      "\u001B[93mSkipping, events.tsv already exists.\u001B[0m\n",
      "\u001B[0m\u001B[0mBuilding events.tsv for Subject:\u001B[0m \u001B[94m18\u001B[0m\u001B[0m\n",
      "\u001B[93mSkipping, events.tsv already exists.\u001B[0m\n",
      "\u001B[0m\u001B[0mBuilding events.tsv for Subject:\u001B[0m \u001B[94m19\u001B[0m\u001B[0m\n",
      "\u001B[93mSkipping, events.tsv already exists.\u001B[0m\n",
      "\u001B[0m\u001B[0mBuilding events.tsv for Subject:\u001B[0m \u001B[94m20\u001B[0m\u001B[0m\n",
      "\u001B[93mSkipping, events.tsv already exists.\u001B[0m\n",
      "\u001B[0m\u001B[0mBuilding events.tsv for Subject:\u001B[0m \u001B[94m21\u001B[0m\u001B[0m\n",
      "\u001B[93mSkipping, events.tsv already exists.\u001B[0m\n",
      "\u001B[0m\u001B[0mBuilding events.tsv for Subject:\u001B[0m \u001B[94m22\u001B[0m\u001B[0m\n",
      "\u001B[93mSkipping, events.tsv already exists.\u001B[0m\n",
      "\u001B[0m\u001B[0mBuilding events.tsv for Subject:\u001B[0m \u001B[94m23\u001B[0m\u001B[0m\n",
      "\u001B[93mSkipping, events.tsv already exists.\u001B[0m\n",
      "\u001B[0m\u001B[0mBuilding events.tsv for Subject:\u001B[0m \u001B[94m24\u001B[0m\u001B[0m\n",
      "\u001B[93mSkipping, events.tsv already exists.\u001B[0m\n",
      "\u001B[0m\u001B[0mBuilding events.tsv for Subject:\u001B[0m \u001B[94m25\u001B[0m\u001B[0m\n",
      "\u001B[93mSkipping, events.tsv already exists.\u001B[0m\n",
      "\u001B[0m\u001B[0mBuilding events.tsv for Subject:\u001B[0m \u001B[94m26\u001B[0m\u001B[0m\n",
      "\u001B[93mSkipping, events.tsv already exists.\u001B[0m\n",
      "\u001B[0m\u001B[0mBuilding events.tsv for Subject:\u001B[0m \u001B[94m27\u001B[0m\u001B[0m\n",
      "\u001B[93mSkipping, events.tsv already exists.\u001B[0m\n",
      "\u001B[0m\u001B[0mBuilding events.tsv for Subject:\u001B[0m \u001B[94m28\u001B[0m\u001B[0m\n",
      "\u001B[93mSkipping, events.tsv already exists.\u001B[0m\n",
      "\u001B[0m\u001B[0mBuilding events.tsv for Subject:\u001B[0m \u001B[94m29\u001B[0m\u001B[0m\n",
      "\u001B[93mSkipping, events.tsv already exists.\u001B[0m\n",
      "\u001B[0m\u001B[0mBuilding events.tsv for Subject:\u001B[0m \u001B[94m30\u001B[0m\u001B[0m\n",
      "\u001B[93mSkipping, events.tsv already exists.\u001B[0m\n",
      "\u001B[0m\u001B[0mBuilding events.tsv for Subject:\u001B[0m \u001B[94m31\u001B[0m\u001B[0m\n",
      "\u001B[93mSkipping, events.tsv already exists.\u001B[0m\n",
      "\u001B[0m\u001B[0mBuilding events.tsv for Subject:\u001B[0m \u001B[94m32\u001B[0m\u001B[0m\n",
      "\u001B[93mSkipping, events.tsv already exists.\u001B[0m\n",
      "\u001B[0m\u001B[0mBuilding events.tsv for Subject:\u001B[0m \u001B[94m33\u001B[0m\u001B[0m\n",
      "\u001B[93mSkipping, events.tsv already exists.\u001B[0m\n",
      "\u001B[0m\u001B[0mBuilding events.tsv for Subject:\u001B[0m \u001B[94m34\u001B[0m\u001B[0m\n",
      "\u001B[93mSkipping, events.tsv already exists.\u001B[0m\n",
      "\u001B[0m\u001B[0mBuilding events.tsv for Subject:\u001B[0m \u001B[94m35\u001B[0m\u001B[0m\n",
      "\u001B[93mSkipping, events.tsv already exists.\u001B[0m\n",
      "\u001B[0m\u001B[0mBuilding events.tsv for Subject:\u001B[0m \u001B[94m36\u001B[0m\u001B[0m\n",
      "\u001B[93mSkipping, events.tsv already exists.\u001B[0m\n",
      "\u001B[0m\u001B[0mBuilding events.tsv for Subject:\u001B[0m \u001B[94m37\u001B[0m\u001B[0m\n",
      "\u001B[93mSkipping, events.tsv already exists.\u001B[0m\n",
      "\u001B[0m\u001B[0mBuilding events.tsv for Subject:\u001B[0m \u001B[94m38\u001B[0m\u001B[0m\n",
      "\u001B[93mSkipping, events.tsv already exists.\u001B[0m\n",
      "\u001B[0m\u001B[0mBuilding events.tsv for Subject:\u001B[0m \u001B[94m39\u001B[0m\u001B[0m\n",
      "\u001B[93mSkipping, events.tsv already exists.\u001B[0m\n",
      "\u001B[0m\u001B[0mBuilding events.tsv for Subject:\u001B[0m \u001B[94m40\u001B[0m\u001B[0m\n",
      "\u001B[93mSkipping, events.tsv already exists.\u001B[0m\n",
      "\u001B[0m\u001B[0mBuilding events.tsv for Subject:\u001B[0m \u001B[94m41\u001B[0m\u001B[0m\n",
      "\u001B[93mSkipping, events.tsv already exists.\u001B[0m\n",
      "\u001B[0m\u001B[0mBuilding events.tsv for Subject:\u001B[0m \u001B[94m43\u001B[0m\u001B[0m\n",
      "\u001B[93mSkipping, events.tsv already exists.\u001B[0m\n",
      "\u001B[0m\u001B[0mBuilding events.tsv for Subject:\u001B[0m \u001B[94m44\u001B[0m\u001B[0m\n",
      "\u001B[93mSkipping, events.tsv already exists.\u001B[0m\n",
      "\u001B[0m\u001B[0mBuilding events.tsv for Subject:\u001B[0m \u001B[94m45\u001B[0m\u001B[0m\n",
      "\u001B[93mSkipping, events.tsv already exists.\u001B[0m\n",
      "\u001B[0m\u001B[0mBuilding events.tsv for Subject:\u001B[0m \u001B[94m46\u001B[0m\u001B[0m\n",
      "\u001B[93mSkipping, events.tsv already exists.\u001B[0m\n",
      "\u001B[0m\u001B[0mBuilding events.tsv for Subject:\u001B[0m \u001B[94m48\u001B[0m\u001B[0m\n",
      "\u001B[93mSkipping, events.tsv already exists.\u001B[0m\n",
      "\u001B[0m\u001B[0mBuilding events.tsv for Subject:\u001B[0m \u001B[94m49\u001B[0m\u001B[0m\n",
      "\u001B[93mSkipping, events.tsv already exists.\u001B[0m\n",
      "\u001B[0m\u001B[0mBuilding events.tsv for Subject:\u001B[0m \u001B[94m50\u001B[0m\u001B[0m\n",
      "\u001B[93mSkipping, events.tsv already exists.\u001B[0m\n"
     ]
    }
   ],
   "source": [
    "# import tools to patch fresh data\n",
    "import data_handling.data_patcher as patch\n",
    "import data_handling.convert_brainvision2bids as convert\n",
    "\n",
    "# run patches\n",
    "patch.patchAllFiles(bids_cfg.bids_root)\n",
    "convert.buildEventTSV(bids_cfg.bids_root)"
   ]
  },
  {
   "cell_type": "markdown",
   "id": "72bfd512c3fba5ca",
   "metadata": {
    "collapsed": false
   },
   "source": [
    "### Validity Check\n",
    "\n",
    "Now that we got all the data we require, we can import the config again.\n",
    "This time, it is done with checks for all parameters being valid."
   ]
  },
  {
   "cell_type": "code",
   "execution_count": 17,
   "id": "c3088771f4cffa8e",
   "metadata": {
    "collapsed": false,
    "ExecuteTime": {
     "end_time": "2024-03-29T04:08:31.727504800Z",
     "start_time": "2024-03-29T04:08:31.619801300Z"
    }
   },
   "outputs": [],
   "source": [
    "bids_cfg = getConfig(\n",
    "    config_path=bids_config_path,\n",
    ")"
   ]
  },
  {
   "cell_type": "markdown",
   "id": "c2acedeb38ffb903",
   "metadata": {
    "collapsed": false
   },
   "source": [
    "### Electrode Coordinates\n",
    "Next, we look at the used electrode coordinates.\n",
    "The authors have chosen the 1010 system.\n",
    "Since this is not directly given, we chose to load the coordinates of the 1005 system electrodes insdead of defining a custom 1010 system.\n",
    "\n",
    "The unused positions get ignored.\n",
    "The electrodes, for which recorded signals are given, are virtually positioned at the correct positions in the pipeline."
   ]
  },
  {
   "cell_type": "markdown",
   "id": "6fb02521fb594da7",
   "metadata": {
    "collapsed": false
   },
   "source": [
    "## Run the Pipeline\n",
    "\n",
    "Once the preparatory steps are done and a configuration is loaded, the pipeline can get run.\n",
    "\n",
    "In this notebook, the initial setup of the pipeline output gets run.\n",
    "These steps include loading modules as dependencies, optionally resetting the output data directory, and - if empty - initialising the output directory.\n",
    "\n",
    "### Load Dependencies\n",
    "\n",
    "In addition to the modules loaded as dependencies in the next cell, some dependencies were loaded in a previous cell.\n",
    "This includes `mne-bids-pipeline`, which is in use for loading the configuration from the prepared file."
   ]
  },
  {
   "cell_type": "code",
   "execution_count": 18,
   "id": "e811e39d8ee675e7",
   "metadata": {
    "collapsed": false,
    "ExecuteTime": {
     "end_time": "2024-03-29T04:08:35.437349500Z",
     "start_time": "2024-03-29T04:08:35.417277200Z"
    }
   },
   "outputs": [],
   "source": [
    "# allow for calling mne_bids_pipeline within Python\n",
    "import sys\n",
    "\n",
    "from mne_bids import BIDSPath\n",
    "from typing import Optional"
   ]
  },
  {
   "cell_type": "markdown",
   "id": "113709b71277e18e",
   "metadata": {
    "collapsed": false
   },
   "source": [
    "### Deletion of Prior Outputs (Optional)\n",
    "\n",
    "In case errors occur while running the pipeline, we remove the output of the previous pipeline runs.\n",
    "This gets done by running the following two cells after setting `CLEAR_PIPELINE_OUTPUT` to `True`.\n",
    "\n",
    "Note: If the value is set to `True`, the computations of the pipeline will need more time than when using some pre-processed output."
   ]
  },
  {
   "cell_type": "code",
   "execution_count": 27,
   "id": "d72fe23fbac4c448",
   "metadata": {
    "collapsed": false,
    "ExecuteTime": {
     "end_time": "2024-03-30T17:14:30.350540200Z",
     "start_time": "2024-03-30T17:14:30.341538100Z"
    }
   },
   "outputs": [],
   "source": [
    "CLEAR_PIPELINE_OUTPUT = True # False: Keep previous pipeline output; True: Delete all previous pipeline outputs"
   ]
  },
  {
   "cell_type": "code",
   "execution_count": 28,
   "id": "f87e970eb4371de4",
   "metadata": {
    "collapsed": false,
    "ExecuteTime": {
     "end_time": "2024-03-30T17:14:32.095443700Z",
     "start_time": "2024-03-30T17:14:31.637316600Z"
    }
   },
   "outputs": [
    {
     "name": "stdout",
     "output_type": "stream",
     "text": [
      "\u001B[0m\u001B[31mRemoving directory:\u001B[0m \u001B[94mB:\\Uni\\Master\\Semester_03\\EEG\\project\\repo\\eeg_course_project\\data\\ds003702/derivatives/mne-bids-pipeline\u001B[0m\u001B[0m\n"
     ]
    }
   ],
   "source": [
    "if CLEAR_PIPELINE_OUTPUT:\n",
    "    clean.removeDirectory(\"{}/derivatives/mne-bids-pipeline\".format(bids_cfg.bids_root))\n"
   ]
  },
  {
   "cell_type": "markdown",
   "id": "1d1d7feb115806f7",
   "metadata": {
    "collapsed": false
   },
   "source": [
    "### Pipeline: Initial Pipeline Run\n",
    "\n",
    "At this step, the preparations are finished.\n",
    "Therefore, we can start running the pipeline based on the configuration file.\n",
    "\n",
    "The initialisation should create e. g. needed directories for the subsequent steps."
   ]
  },
  {
   "cell_type": "code",
   "execution_count": 24,
   "id": "a7b85f17c1e50329",
   "metadata": {
    "collapsed": false,
    "ExecuteTime": {
     "end_time": "2024-03-29T15:49:21.578070700Z",
     "start_time": "2024-03-29T15:49:12.971769200Z"
    }
   },
   "outputs": [
    {
     "name": "stdout",
     "output_type": "stream",
     "text": [
      "┌────────┬ Welcome aboard MNE-BIDS-Pipeline! 👋 ───────────────────────────────\n",
      "¦16:49:21¦ 📝 Using configuration: ./mne-bids/config/mne-bids-pipeline.py\n",
      "└────────┴ \n",
      "┌────────┬ init/_01_init_derivatives_dir ──────────────────────────────────────\n",
      "¦16:49:21¦ ⏳️ Initializing output directories.\n",
      "└────────┴ done (1s)\n",
      "┌────────┬ init/_02_find_empty_room ───────────────────────────────────────────\n",
      "¦16:49:21¦ ⏩ Skipping, empty-room data only relevant for MEG …\n",
      "└────────┴ done (1s)\n",
      "┌────────┬ init/_01_init_derivatives_dir ──────────────────────────────────────\n",
      "¦16:49:21¦ ✅ Output directories already exist …\n",
      "└────────┴ done (1s)\n",
      "┌────────┬ init/_02_find_empty_room ───────────────────────────────────────────\n",
      "¦16:49:21¦ ⏩ Skipping, empty-room data only relevant for MEG …\n",
      "└────────┴ done (1s)\n"
     ]
    }
   ],
   "source": [
    "curr_steps = \"init\"\n",
    "!mne_bids_pipeline --config {bids_config_path} --steps {curr_steps}"
   ]
  },
  {
   "cell_type": "markdown",
   "id": "97841505b3f049b",
   "metadata": {
    "collapsed": false
   },
   "source": [
    "In case of Unicode encode errors when attempting to run the pipeline, make sure that the following environment variable is set:"
   ]
  },
  {
   "cell_type": "raw",
   "id": "198744ccc077d5a9",
   "metadata": {
    "collapsed": false
   },
   "source": [
    "PYTHONIOENCODING=utf8"
   ]
  },
  {
   "cell_type": "markdown",
   "id": "922764c372c2fcb8",
   "metadata": {
    "collapsed": false
   },
   "source": [
    "The environment variable should already be set, if the first cell - the cell containing the module installation via `pip` - was run after starting the current Python kernel.\n",
    "\n",
    "Remember to restart Jupyter after setting the environment variable."
   ]
  },
  {
   "cell_type": "markdown",
   "id": "35b95c04-344c-4e40-8df3-838faaf1069a",
   "metadata": {},
   "source": [
    "### Pipeline: Pre-processing and Analysis\n",
    "\n",
    "The following steps get run in the next Jupyter notebook:\n",
    "```\n",
    "02_run_pipeline.ipynb\n",
    "```\n"
   ]
  },
  {
   "cell_type": "code",
   "execution_count": 11,
   "outputs": [],
   "source": [],
   "metadata": {
    "collapsed": false,
    "ExecuteTime": {
     "end_time": "2024-03-29T03:49:56.351233100Z",
     "start_time": "2024-03-29T03:49:56.309224300Z"
    }
   },
   "id": "d4ce69d8b22e192"
  }
 ],
 "metadata": {
  "kernelspec": {
   "display_name": "Python 3 (ipykernel)",
   "language": "python",
   "name": "python3"
  },
  "language_info": {
   "codemirror_mode": {
    "name": "ipython",
    "version": 3
   },
   "file_extension": ".py",
   "mimetype": "text/x-python",
   "name": "python",
   "nbconvert_exporter": "python",
   "pygments_lexer": "ipython3",
   "version": "3.11.8"
  }
 },
 "nbformat": 4,
 "nbformat_minor": 5
}
