{
 "cells": [
  {
   "cell_type": "markdown",
   "id": "f2646af1-9b3f-4ee3-8551-9bdceaca3ad8",
   "metadata": {},
   "source": [
    "# Run the MNE BIDS Pipeline"
   ]
  },
  {
   "cell_type": "code",
   "execution_count": 33,
   "id": "143e173d-0f37-44ef-b9e4-36164be2500d",
   "metadata": {
    "ExecuteTime": {
     "end_time": "2024-01-20T21:34:51.836568400Z",
     "start_time": "2024-01-20T21:34:51.820563800Z"
    }
   },
   "outputs": [],
   "source": [
    "import mne_bids_pipeline"
   ]
  },
  {
   "cell_type": "code",
   "execution_count": 34,
   "id": "e5e6a5b7-d8af-4a6b-8740-b1e50b1ffee0",
   "metadata": {
    "ExecuteTime": {
     "end_time": "2024-01-20T21:34:51.853571800Z",
     "start_time": "2024-01-20T21:34:51.836568400Z"
    }
   },
   "outputs": [],
   "source": [
    "%matplotlib qt"
   ]
  },
  {
   "cell_type": "code",
   "execution_count": 34,
   "outputs": [],
   "source": [],
   "metadata": {
    "collapsed": false,
    "ExecuteTime": {
     "end_time": "2024-01-20T21:34:51.870576500Z",
     "start_time": "2024-01-20T21:34:51.851571200Z"
    }
   },
   "id": "4480f37917e79f1d"
  },
  {
   "cell_type": "code",
   "execution_count": 36,
   "outputs": [
    {
     "name": "stderr",
     "output_type": "stream",
     "text": [
      "Traceback (most recent call last):\n",
      "  File \"C:\\Program Files\\WindowsApps\\PythonSoftwareFoundation.Python.3.10_3.10.3056.0_x64__qbz5n2kfra8p0\\lib\\runpy.py\", line 196, in _run_module_as_main\n",
      "    return _run_code(code, main_globals, None,\n",
      "  File \"C:\\Program Files\\WindowsApps\\PythonSoftwareFoundation.Python.3.10_3.10.3056.0_x64__qbz5n2kfra8p0\\lib\\runpy.py\", line 86, in _run_code\n",
      "    exec(code, run_globals)\n",
      "  File \"B:\\Uni\\Master\\Semester_03\\EEG\\project\\repo\\eeg_course_project\\venv\\Scripts\\mne_bids_pipeline.exe\\__main__.py\", line 7, in <module>\n",
      "  File \"B:\\Uni\\Master\\Semester_03\\EEG\\project\\repo\\eeg_course_project\\venv\\lib\\site-packages\\mne_bids_pipeline\\_main.py\", line 214, in main\n",
      "    logger.title(\"Welcome aboard MNE-BIDS-Pipeline!\")\n",
      "  File \"B:\\Uni\\Master\\Semester_03\\EEG\\project\\repo\\eeg_course_project\\venv\\lib\\site-packages\\mne_bids_pipeline\\_logging.py\", line 52, in title\n",
      "    self._console.rule(title=title, characters=\"\\u2500\", style=\"title\", align=\"left\")\n",
      "  File \"B:\\Uni\\Master\\Semester_03\\EEG\\project\\repo\\eeg_course_project\\venv\\lib\\site-packages\\rich\\console.py\", line 1580, in rule\n",
      "    self.print(rule)\n",
      "  File \"B:\\Uni\\Master\\Semester_03\\EEG\\project\\repo\\eeg_course_project\\venv\\lib\\site-packages\\rich\\console.py\", line 1673, in print\n",
      "    with self:\n",
      "  File \"B:\\Uni\\Master\\Semester_03\\EEG\\project\\repo\\eeg_course_project\\venv\\lib\\site-packages\\rich\\console.py\", line 865, in __exit__\n",
      "    self._exit_buffer()\n",
      "  File \"B:\\Uni\\Master\\Semester_03\\EEG\\project\\repo\\eeg_course_project\\venv\\lib\\site-packages\\rich\\console.py\", line 823, in _exit_buffer\n",
      "    self._check_buffer()\n",
      "  File \"B:\\Uni\\Master\\Semester_03\\EEG\\project\\repo\\eeg_course_project\\venv\\lib\\site-packages\\rich\\console.py\", line 2027, in _check_buffer\n",
      "    legacy_windows_render(buffer, LegacyWindowsTerm(self.file))\n",
      "  File \"B:\\Uni\\Master\\Semester_03\\EEG\\project\\repo\\eeg_course_project\\venv\\lib\\site-packages\\rich\\_windows_renderer.py\", line 17, in legacy_windows_render\n",
      "    term.write_styled(text, style)\n",
      "  File \"B:\\Uni\\Master\\Semester_03\\EEG\\project\\repo\\eeg_course_project\\venv\\lib\\site-packages\\rich\\_win32_console.py\", line 442, in write_styled\n",
      "    self.write_text(text)\n",
      "  File \"B:\\Uni\\Master\\Semester_03\\EEG\\project\\repo\\eeg_course_project\\venv\\lib\\site-packages\\rich\\_win32_console.py\", line 403, in write_text\n",
      "    self.write(text)\n",
      "  File \"C:\\Program Files\\WindowsApps\\PythonSoftwareFoundation.Python.3.10_3.10.3056.0_x64__qbz5n2kfra8p0\\lib\\encodings\\cp1252.py\", line 19, in encode\n",
      "    return codecs.charmap_encode(input,self.errors,encoding_table)[0]\n",
      "UnicodeEncodeError: 'charmap' codec can't encode characters in position 0-9: character maps to <undefined>\n"
     ]
    }
   ],
   "source": [
    "!mne_bids_pipeline --config ./mne-bids/config/mne-bids-pipeline.py "
   ],
   "metadata": {
    "collapsed": false,
    "ExecuteTime": {
     "end_time": "2024-01-24T13:17:28.538873500Z",
     "start_time": "2024-01-24T13:17:27.158399800Z"
    }
   },
   "id": "1dbef3338e5fbcb5"
  },
  {
   "cell_type": "code",
   "execution_count": 35,
   "id": "89668cb0-9049-43ec-babf-a46cb80db252",
   "metadata": {
    "ExecuteTime": {
     "end_time": "2024-01-20T21:34:53.180979400Z",
     "start_time": "2024-01-20T21:34:53.138226200Z"
    }
   },
   "outputs": [],
   "source": []
  }
 ],
 "metadata": {
  "kernelspec": {
   "display_name": "Python 3 (ipykernel)",
   "language": "python",
   "name": "python3"
  },
  "language_info": {
   "codemirror_mode": {
    "name": "ipython",
    "version": 3
   },
   "file_extension": ".py",
   "mimetype": "text/x-python",
   "name": "python",
   "nbconvert_exporter": "python",
   "pygments_lexer": "ipython3",
   "version": "3.11.6"
  }
 },
 "nbformat": 4,
 "nbformat_minor": 5
}
