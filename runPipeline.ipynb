{
 "cells": [
  {
   "cell_type": "markdown",
   "id": "f2646af1-9b3f-4ee3-8551-9bdceaca3ad8",
   "metadata": {},
   "source": [
    "# Run the MNE BIDS Pipeline"
   ]
  },
  {
   "cell_type": "code",
   "execution_count": 1,
   "id": "143e173d-0f37-44ef-b9e4-36164be2500d",
   "metadata": {
    "ExecuteTime": {
     "end_time": "2023-12-21T09:38:47.784276800Z",
     "start_time": "2023-12-21T09:38:47.770757400Z"
    }
   },
   "outputs": [],
   "source": [
    "import mne_bids_pipeline"
   ]
  },
  {
   "cell_type": "code",
   "execution_count": 2,
   "id": "e5e6a5b7-d8af-4a6b-8740-b1e50b1ffee0",
   "metadata": {
    "ExecuteTime": {
     "end_time": "2023-12-21T09:38:47.803281600Z",
     "start_time": "2023-12-21T09:38:47.786277200Z"
    }
   },
   "outputs": [],
   "source": [
    "%matplotlib qt"
   ]
  },
  {
   "cell_type": "code",
   "execution_count": 3,
   "id": "101f87c8-6c40-4391-8f90-1f5072de7cb0",
   "metadata": {
    "ExecuteTime": {
     "end_time": "2023-12-21T09:38:49.144684Z",
     "start_time": "2023-12-21T09:38:47.800280800Z"
    }
   },
   "outputs": [
    {
     "name": "stderr",
     "output_type": "stream",
     "text": [
      "Traceback (most recent call last):\n",
      "  File \"C:\\Program Files\\WindowsApps\\PythonSoftwareFoundation.Python.3.10_3.10.3056.0_x64__qbz5n2kfra8p0\\lib\\runpy.py\", line 196, in _run_module_as_main\n",
      "    return _run_code(code, main_globals, None,\n",
      "  File \"C:\\Program Files\\WindowsApps\\PythonSoftwareFoundation.Python.3.10_3.10.3056.0_x64__qbz5n2kfra8p0\\lib\\runpy.py\", line 86, in _run_code\n",
      "    exec(code, run_globals)\n",
      "  File \"B:\\Uni\\Master\\Semester_03\\EEG\\project\\repo\\eeg_course_project\\venv\\Scripts\\mne_bids_pipeline.exe\\__main__.py\", line 7, in <module>\n",
      "  File \"B:\\Uni\\Master\\Semester_03\\EEG\\project\\repo\\eeg_course_project\\venv\\lib\\site-packages\\mne_bids_pipeline\\_main.py\", line 214, in main\n",
      "    logger.title(\"Welcome aboard MNE-BIDS-Pipeline!\")\n",
      "  File \"B:\\Uni\\Master\\Semester_03\\EEG\\project\\repo\\eeg_course_project\\venv\\lib\\site-packages\\mne_bids_pipeline\\_logging.py\", line 52, in title\n",
      "    self._console.rule(title=title, characters=\"\\u2500\", style=\"title\", align=\"left\")\n",
      "  File \"B:\\Uni\\Master\\Semester_03\\EEG\\project\\repo\\eeg_course_project\\venv\\lib\\site-packages\\rich\\console.py\", line 1580, in rule\n",
      "    self.print(rule)\n",
      "  File \"B:\\Uni\\Master\\Semester_03\\EEG\\project\\repo\\eeg_course_project\\venv\\lib\\site-packages\\rich\\console.py\", line 1673, in print\n",
      "    with self:\n",
      "  File \"B:\\Uni\\Master\\Semester_03\\EEG\\project\\repo\\eeg_course_project\\venv\\lib\\site-packages\\rich\\console.py\", line 865, in __exit__\n",
      "    self._exit_buffer()\n",
      "  File \"B:\\Uni\\Master\\Semester_03\\EEG\\project\\repo\\eeg_course_project\\venv\\lib\\site-packages\\rich\\console.py\", line 823, in _exit_buffer\n",
      "    self._check_buffer()\n",
      "  File \"B:\\Uni\\Master\\Semester_03\\EEG\\project\\repo\\eeg_course_project\\venv\\lib\\site-packages\\rich\\console.py\", line 2027, in _check_buffer\n",
      "    legacy_windows_render(buffer, LegacyWindowsTerm(self.file))\n",
      "  File \"B:\\Uni\\Master\\Semester_03\\EEG\\project\\repo\\eeg_course_project\\venv\\lib\\site-packages\\rich\\_windows_renderer.py\", line 17, in legacy_windows_render\n",
      "    term.write_styled(text, style)\n",
      "  File \"B:\\Uni\\Master\\Semester_03\\EEG\\project\\repo\\eeg_course_project\\venv\\lib\\site-packages\\rich\\_win32_console.py\", line 442, in write_styled\n",
      "    self.write_text(text)\n",
      "  File \"B:\\Uni\\Master\\Semester_03\\EEG\\project\\repo\\eeg_course_project\\venv\\lib\\site-packages\\rich\\_win32_console.py\", line 403, in write_text\n",
      "    self.write(text)\n",
      "  File \"C:\\Program Files\\WindowsApps\\PythonSoftwareFoundation.Python.3.10_3.10.3056.0_x64__qbz5n2kfra8p0\\lib\\encodings\\cp1252.py\", line 19, in encode\n",
      "    return codecs.charmap_encode(input,self.errors,encoding_table)[0]\n",
      "UnicodeEncodeError: 'charmap' codec can't encode characters in position 0-9: character maps to <undefined>\n"
     ]
    }
   ],
   "source": [
    "!mne_bids_pipeline --config ./mne-bids/config/mne-bids-pipeline.py "
   ]
  },
  {
   "cell_type": "code",
   "execution_count": null,
   "id": "89668cb0-9049-43ec-babf-a46cb80db252",
   "metadata": {
    "is_executing": true
   },
   "outputs": [],
   "source": []
  }
 ],
 "metadata": {
  "kernelspec": {
   "display_name": "Python 3 (ipykernel)",
   "language": "python",
   "name": "python3"
  },
  "language_info": {
   "codemirror_mode": {
    "name": "ipython",
    "version": 3
   },
   "file_extension": ".py",
   "mimetype": "text/x-python",
   "name": "python",
   "nbconvert_exporter": "python",
   "pygments_lexer": "ipython3",
   "version": "3.10.11"
  }
 },
 "nbformat": 4,
 "nbformat_minor": 5
}
