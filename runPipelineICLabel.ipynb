{
 "cells": [
  {
   "cell_type": "markdown",
   "id": "f2646af1-9b3f-4ee3-8551-9bdceaca3ad8",
   "metadata": {},
   "source": [
    "# Run the MNE BIDS Pipeline"
   ]
  },
  {
   "cell_type": "code",
   "execution_count": 1,
   "id": "cebd9f38",
   "metadata": {},
   "outputs": [],
   "source": [
    "import mne_bids_pipeline\n",
    "from typing import Optional\n",
    "from mne_bids import BIDSPath\n",
    "def get_input_fnames_apply_ica(\n",
    "    *,\n",
    "    cfg,\n",
    "    subject: str,\n",
    "    session: Optional[str],\n",
    ") -> dict:\n",
    "    bids_basename = BIDSPath(\n",
    "        subject=subject,\n",
    "        session=session,\n",
    "        task=cfg.task,\n",
    "        acquisition=cfg.acq,\n",
    "        recording=cfg.rec,\n",
    "        space=cfg.space,\n",
    "        datatype='eeg',\n",
    "        root=cfg.deriv_root,\n",
    "        check=False,\n",
    "    )\n",
    "    paths = dict()\n",
    "    paths[\"ica\"] = bids_basename.copy().update(suffix=\"ica\", extension=\".fif\")\n",
    "    paths[\"raw\"] = bids_basename.copy().update(suffix=\"proc-filt_raw\", extension=\".fif\")\n",
    "    return paths"
   ]
  },
  {
   "cell_type": "code",
   "execution_count": 2,
   "id": "aaedd3d7",
   "metadata": {},
   "outputs": [],
   "source": [
    "from mne_bids_pipeline._config_import import _import_config\n",
    "cfg = _import_config(\n",
    "        config_path='./mne-bids/config/mne-bids-pipeline_fri.py'\n",
    "    )"
   ]
  },
  {
   "cell_type": "code",
   "execution_count": 3,
   "id": "59424cd4",
   "metadata": {},
   "outputs": [
    {
     "name": "stdout",
     "output_type": "stream",
     "text": [
      "[13:30:24] ╶╴👋 Welcome aboard the MNE BIDS Pipeline!\n",
      "[13:30:24] ╶╴🧾 Using configuration: ./mne-bids/config/mne-bids-pipeline_fri.py\n",
      "───────────────────────────────────────────────────────────────────────────────\n",
      "[13:30:24] ┌╴🚀 init/_01_init_derivatives_dir Now running  👇\n",
      "[13:30:24] └╴🎉 init/_01_init_derivatives_dir Done running  👆 [1s]\n",
      "───────────────────────────────────────────────────────────────────────────────\n",
      "[13:30:24] ┌╴🚀 init/_02_find_empty_room Now running  👇\n",
      "[13:30:24] │ ⏩ init/_02_find_empty_room Skipping, empty-room data only relevant for MEG …\n",
      "[13:30:24] └╴🎉 init/_02_find_empty_room Done running  👆 [1s]\n",
      "───────────────────────────────────────────────────────────────────────────────\n",
      "[13:30:24] ┌╴🚀 init/_01_init_derivatives_dir Now running  👇\n",
      "[13:30:24] └╴🎉 init/_01_init_derivatives_dir Done running  👆 [1s]\n",
      "───────────────────────────────────────────────────────────────────────────────\n",
      "[13:30:24] ┌╴🚀 init/_02_find_empty_room Now running  👇\n",
      "[13:30:24] │ ⏩ init/_02_find_empty_room Skipping, empty-room data only relevant for MEG …\n",
      "[13:30:24] └╴🎉 init/_02_find_empty_room Done running  👆 [1s]\n",
      "───────────────────────────────────────────────────────────────────────────────\n",
      "[13:30:26] ╶╴👋 Welcome aboard the MNE BIDS Pipeline!\n",
      "[13:30:26] ╶╴🧾 Using configuration: ./mne-bids/config/mne-bids-pipeline_fri.py\n",
      "───────────────────────────────────────────────────────────────────────────────\n",
      "[13:30:26] ┌╴🚀 init/_01_init_derivatives_dir Now running  👇\n",
      "[13:30:27] └╴🎉 init/_01_init_derivatives_dir Done running  👆 [1s]\n",
      "───────────────────────────────────────────────────────────────────────────────\n",
      "[13:30:27] ┌╴🚀 init/_02_find_empty_room Now running  👇\n",
      "[13:30:27] │ ⏩ init/_02_find_empty_room Skipping, empty-room data only relevant for MEG …\n",
      "[13:30:27] └╴🎉 init/_02_find_empty_room Done running  👆 [1s]\n",
      "───────────────────────────────────────────────────────────────────────────────\n",
      "[13:30:27] ┌╴🚀 preprocessing/_01_data_quality Now running  👇\n",
      "[13:30:29] │ ✅ preprocessing/_01_data_quality sub-02 Computation unnecessary (cached) …\n",
      "[13:30:29] │ ✅ preprocessing/_01_data_quality sub-01 Computation unnecessary (cached) …\n",
      "[13:30:29] └╴🎉 preprocessing/_01_data_quality Done running  👆 [3s]\n",
      "───────────────────────────────────────────────────────────────────────────────\n",
      "[13:30:31] ╶╴👋 Welcome aboard the MNE BIDS Pipeline!\n",
      "[13:30:31] ╶╴🧾 Using configuration: ./mne-bids/config/mne-bids-pipeline_fri.py\n",
      "───────────────────────────────────────────────────────────────────────────────\n",
      "[13:30:31] ┌╴🚀 init/_01_init_derivatives_dir Now running  👇\n",
      "[13:30:32] └╴🎉 init/_01_init_derivatives_dir Done running  👆 [1s]\n",
      "───────────────────────────────────────────────────────────────────────────────\n",
      "[13:30:32] ┌╴🚀 init/_02_find_empty_room Now running  👇\n",
      "[13:30:32] │ ⏩ init/_02_find_empty_room Skipping, empty-room data only relevant for MEG …\n",
      "[13:30:32] └╴🎉 init/_02_find_empty_room Done running  👆 [1s]\n",
      "───────────────────────────────────────────────────────────────────────────────\n",
      "[13:30:32] ┌╴🚀 preprocessing/_02_head_pos Now running  👇\n",
      "[13:30:32] │ ⏩ preprocessing/_02_head_pos Skipping …\n",
      "[13:30:32] └╴🎉 preprocessing/_02_head_pos Done running  👆 [1s]\n",
      "───────────────────────────────────────────────────────────────────────────────\n",
      "[13:30:34] ╶╴👋 Welcome aboard the MNE BIDS Pipeline!\n",
      "[13:30:34] ╶╴🧾 Using configuration: ./mne-bids/config/mne-bids-pipeline_fri.py\n",
      "───────────────────────────────────────────────────────────────────────────────\n",
      "[13:30:34] ┌╴🚀 init/_01_init_derivatives_dir Now running  👇\n",
      "[13:30:34] └╴🎉 init/_01_init_derivatives_dir Done running  👆 [1s]\n",
      "───────────────────────────────────────────────────────────────────────────────\n",
      "[13:30:34] ┌╴🚀 init/_02_find_empty_room Now running  👇\n",
      "[13:30:34] │ ⏩ init/_02_find_empty_room Skipping, empty-room data only relevant for MEG …\n",
      "[13:30:34] └╴🎉 init/_02_find_empty_room Done running  👆 [1s]\n",
      "───────────────────────────────────────────────────────────────────────────────\n",
      "[13:30:34] ┌╴🚀 preprocessing/_03_maxfilter Now running  👇\n",
      "[13:30:34] │ ⏩ preprocessing/_03_maxfilter Skipping …\n",
      "[13:30:34] └╴🎉 preprocessing/_03_maxfilter Done running  👆 [1s]\n",
      "───────────────────────────────────────────────────────────────────────────────\n",
      "[13:30:36] ╶╴👋 Welcome aboard the MNE BIDS Pipeline!\n",
      "[13:30:36] ╶╴🧾 Using configuration: ./mne-bids/config/mne-bids-pipeline_fri.py\n",
      "───────────────────────────────────────────────────────────────────────────────\n",
      "[13:30:36] ┌╴🚀 init/_01_init_derivatives_dir Now running  👇\n",
      "[13:30:37] └╴🎉 init/_01_init_derivatives_dir Done running  👆 [1s]\n",
      "───────────────────────────────────────────────────────────────────────────────\n",
      "[13:30:37] ┌╴🚀 init/_02_find_empty_room Now running  👇\n",
      "[13:30:37] │ ⏩ init/_02_find_empty_room Skipping, empty-room data only relevant for MEG …\n",
      "[13:30:37] └╴🎉 init/_02_find_empty_room Done running  👆 [1s]\n",
      "───────────────────────────────────────────────────────────────────────────────\n",
      "[13:30:37] ┌╴🚀 preprocessing/_04_frequency_filter Now running  👇\n",
      "[13:30:39] │ ✅ preprocessing/_04_frequency_filter sub-01 Computation unnecessary (cached) …\n",
      "[13:30:39] │ ✅ preprocessing/_04_frequency_filter sub-02 Computation unnecessary (cached) …\n",
      "[13:30:39] └╴🎉 preprocessing/_04_frequency_filter Done running  👆 [3s]\n",
      "───────────────────────────────────────────────────────────────────────────────\n",
      "[13:30:41] ╶╴👋 Welcome aboard the MNE BIDS Pipeline!\n",
      "[13:30:41] ╶╴🧾 Using configuration: ./mne-bids/config/mne-bids-pipeline_fri.py\n",
      "───────────────────────────────────────────────────────────────────────────────\n",
      "[13:30:41] ┌╴🚀 init/_01_init_derivatives_dir Now running  👇\n",
      "[13:30:42] └╴🎉 init/_01_init_derivatives_dir Done running  👆 [1s]\n",
      "───────────────────────────────────────────────────────────────────────────────\n",
      "[13:30:42] ┌╴🚀 init/_02_find_empty_room Now running  👇\n",
      "[13:30:42] │ ⏩ init/_02_find_empty_room Skipping, empty-room data only relevant for MEG …\n",
      "[13:30:42] └╴🎉 init/_02_find_empty_room Done running  👆 [1s]\n",
      "───────────────────────────────────────────────────────────────────────────────\n",
      "[13:30:42] ┌╴🚀 preprocessing/_05_make_epochs Now running  👇\n",
      "[13:30:44] │ ✅ preprocessing/_05_make_epochs sub-02 Computation unnecessary (cached) …\n",
      "[13:30:44] │ ✅ preprocessing/_05_make_epochs sub-01 Computation unnecessary (cached) …\n",
      "[13:30:44] └╴🎉 preprocessing/_05_make_epochs Done running  👆 [3s]\n",
      "───────────────────────────────────────────────────────────────────────────────\n"
     ]
    },
    {
     "name": "stdout",
     "output_type": "stream",
     "text": [
      "[13:30:46] ╶╴👋 Welcome aboard the MNE BIDS Pipeline!\n",
      "[13:30:46] ╶╴🧾 Using configuration: ./mne-bids/config/mne-bids-pipeline_fri.py\n",
      "───────────────────────────────────────────────────────────────────────────────\n",
      "[13:30:46] ┌╴🚀 init/_01_init_derivatives_dir Now running  👇\n",
      "[13:30:47] └╴🎉 init/_01_init_derivatives_dir Done running  👆 [1s]\n",
      "───────────────────────────────────────────────────────────────────────────────\n",
      "[13:30:47] ┌╴🚀 init/_02_find_empty_room Now running  👇\n",
      "[13:30:47] │ ⏩ init/_02_find_empty_room Skipping, empty-room data only relevant for MEG …\n",
      "[13:30:47] └╴🎉 init/_02_find_empty_room Done running  👆 [1s]\n",
      "───────────────────────────────────────────────────────────────────────────────\n",
      "[13:30:47] ┌╴🚀 preprocessing/_06a_run_ica Now running  👇\n",
      "[13:30:49] │ ✅ preprocessing/_06a_run_ica sub-02 Computation unnecessary (cached) …\n",
      "[13:30:49] │ ✅ preprocessing/_06a_run_ica sub-01 Computation unnecessary (cached) …\n",
      "[13:30:49] └╴🎉 preprocessing/_06a_run_ica Done running  👆 [3s]\n",
      "───────────────────────────────────────────────────────────────────────────────\n"
     ]
    }
   ],
   "source": [
    "!mne_bids_pipeline --config ./mne-bids/config/mne-bids-pipeline_fri.py --steps init\n",
    "\n",
    "!mne_bids_pipeline --config ./mne-bids/config/mne-bids-pipeline_fri.py --steps preprocessing/_01_data_quality\n",
    "!mne_bids_pipeline --config ./mne-bids/config/mne-bids-pipeline_fri.py --steps preprocessing/_02_head_pos\n",
    "!mne_bids_pipeline --config ./mne-bids/config/mne-bids-pipeline_fri.py --steps preprocessing/_03_maxfilter\n",
    "!mne_bids_pipeline --config ./mne-bids/config/mne-bids-pipeline_fri.py --steps preprocessing/_04_frequency_filter\n",
    "!mne_bids_pipeline --config ./mne-bids/config/mne-bids-pipeline_fri.py --steps preprocessing/_05_make_epochs\n",
    "!mne_bids_pipeline --config ./mne-bids/config/mne-bids-pipeline_fri.py --steps preprocessing/_06a_run_ica"
   ]
  },
  {
   "cell_type": "code",
   "execution_count": 5,
   "id": "91e892dd",
   "metadata": {},
   "outputs": [
    {
     "name": "stdout",
     "output_type": "stream",
     "text": [
      "<ICA | epochs decomposition, method: picard (fit in 39 iterations on 46632 samples), 8 ICA components (63 PCA components available), channel types: eeg, no sources marked for exclusion>\n"
     ]
    },
    {
     "ename": "ImportError",
     "evalue": "Missing optional dependency. ICLabel requires either pytorch or onnxruntime. Use pip or conda to install one of them.",
     "output_type": "error",
     "traceback": [
      "\u001b[1;31m---------------------------------------------------------------------------\u001b[0m",
      "\u001b[1;31mImportError\u001b[0m                               Traceback (most recent call last)",
      "Cell \u001b[1;32mIn[5], line 14\u001b[0m\n\u001b[0;32m     12\u001b[0m raw \u001b[38;5;241m=\u001b[39m mne\u001b[38;5;241m.\u001b[39mio\u001b[38;5;241m.\u001b[39mread_raw_fif(paths[\u001b[38;5;124m\"\u001b[39m\u001b[38;5;124mraw\u001b[39m\u001b[38;5;124m\"\u001b[39m])\n\u001b[0;32m     13\u001b[0m \u001b[38;5;28mprint\u001b[39m(\u001b[38;5;28mstr\u001b[39m(ica))\n\u001b[1;32m---> 14\u001b[0m \u001b[43mmne_icalabel\u001b[49m\u001b[38;5;241;43m.\u001b[39;49m\u001b[43mlabel_components\u001b[49m\u001b[43m(\u001b[49m\u001b[43mraw\u001b[49m\u001b[43m,\u001b[49m\u001b[43m \u001b[49m\u001b[43mica\u001b[49m\u001b[43m,\u001b[49m\u001b[43m \u001b[49m\u001b[43mmethod\u001b[49m\u001b[38;5;241;43m=\u001b[39;49m\u001b[38;5;124;43m\"\u001b[39;49m\u001b[38;5;124;43miclabel\u001b[39;49m\u001b[38;5;124;43m\"\u001b[39;49m\u001b[43m)\u001b[49m\n",
      "File \u001b[1;32mc:\\Users\\yanni\\Documents\\EEG\\eeg_course_project\\.venv\\Lib\\site-packages\\mne_icalabel\\label_components.py:58\u001b[0m, in \u001b[0;36mlabel_components\u001b[1;34m(inst, ica, method)\u001b[0m\n\u001b[0;32m     53\u001b[0m _check_option(\n\u001b[0;32m     54\u001b[0m     \u001b[38;5;124m\"\u001b[39m\u001b[38;5;124mmethod\u001b[39m\u001b[38;5;124m\"\u001b[39m, method, [elt \u001b[38;5;28;01mfor\u001b[39;00m elt \u001b[38;5;129;01min\u001b[39;00m ICALABEL_METHODS \u001b[38;5;28;01mif\u001b[39;00m elt \u001b[38;5;241m!=\u001b[39m \u001b[38;5;124m\"\u001b[39m\u001b[38;5;124mmanual\u001b[39m\u001b[38;5;124m\"\u001b[39m]\n\u001b[0;32m     55\u001b[0m )\n\u001b[0;32m     57\u001b[0m _validate_inst_and_ica(inst, ica)\n\u001b[1;32m---> 58\u001b[0m labels_pred_proba \u001b[38;5;241m=\u001b[39m \u001b[43mICALABEL_METHODS\u001b[49m\u001b[43m[\u001b[49m\u001b[43mmethod\u001b[49m\u001b[43m]\u001b[49m\u001b[43m(\u001b[49m\u001b[43minst\u001b[49m\u001b[43m,\u001b[49m\u001b[43m \u001b[49m\u001b[43mica\u001b[49m\u001b[43m)\u001b[49m  \u001b[38;5;66;03m# type: ignore\u001b[39;00m\n\u001b[0;32m     59\u001b[0m labels_pred \u001b[38;5;241m=\u001b[39m np\u001b[38;5;241m.\u001b[39margmax(labels_pred_proba, axis\u001b[38;5;241m=\u001b[39m\u001b[38;5;241m1\u001b[39m)\n\u001b[0;32m     60\u001b[0m labels \u001b[38;5;241m=\u001b[39m [ICLABEL_NUMERICAL_TO_STRING[label] \u001b[38;5;28;01mfor\u001b[39;00m label \u001b[38;5;129;01min\u001b[39;00m labels_pred]\n",
      "File \u001b[1;32mc:\\Users\\yanni\\Documents\\EEG\\eeg_course_project\\.venv\\Lib\\site-packages\\mne_icalabel\\iclabel\\label_components.py:66\u001b[0m, in \u001b[0;36miclabel_label_components\u001b[1;34m(inst, ica, inplace, backend)\u001b[0m\n\u001b[0;32m     18\u001b[0m \u001b[38;5;250m\u001b[39m\u001b[38;5;124;03m\"\"\"Label the provided ICA components with the ICLabel neural network.\u001b[39;00m\n\u001b[0;32m     19\u001b[0m \n\u001b[0;32m     20\u001b[0m \u001b[38;5;124;03mICLabel is designed to classify ICs fitted with an extended infomax ICA\u001b[39;00m\n\u001b[1;32m   (...)\u001b[0m\n\u001b[0;32m     63\u001b[0m \u001b[38;5;124;03m.. footbibliography::\u001b[39;00m\n\u001b[0;32m     64\u001b[0m \u001b[38;5;124;03m\"\"\"\u001b[39;00m\n\u001b[0;32m     65\u001b[0m features \u001b[38;5;241m=\u001b[39m get_iclabel_features(inst, ica)\n\u001b[1;32m---> 66\u001b[0m labels_pred_proba \u001b[38;5;241m=\u001b[39m \u001b[43mrun_iclabel\u001b[49m\u001b[43m(\u001b[49m\u001b[38;5;241;43m*\u001b[39;49m\u001b[43mfeatures\u001b[49m\u001b[43m,\u001b[49m\u001b[43m \u001b[49m\u001b[43mbackend\u001b[49m\u001b[38;5;241;43m=\u001b[39;49m\u001b[43mbackend\u001b[49m\u001b[43m)\u001b[49m  \u001b[38;5;66;03m# type: ignore\u001b[39;00m\n\u001b[0;32m     68\u001b[0m \u001b[38;5;28;01mif\u001b[39;00m inplace:\n\u001b[0;32m     69\u001b[0m     \u001b[38;5;28;01mfrom\u001b[39;00m \u001b[38;5;21;01mmne_icalabel\u001b[39;00m\u001b[38;5;21;01m.\u001b[39;00m\u001b[38;5;21;01mconfig\u001b[39;00m \u001b[38;5;28;01mimport\u001b[39;00m ICA_LABELS_TO_MNE\n",
      "File \u001b[1;32mc:\\Users\\yanni\\Documents\\EEG\\eeg_course_project\\.venv\\Lib\\site-packages\\mne_icalabel\\iclabel\\network\\__init__.py:55\u001b[0m, in \u001b[0;36mrun_iclabel\u001b[1;34m(images, psds, autocorr, backend)\u001b[0m\n\u001b[0;32m     53\u001b[0m         \u001b[38;5;28;01mfrom\u001b[39;00m \u001b[38;5;21;01m.\u001b[39;00m\u001b[38;5;21;01monnx\u001b[39;00m \u001b[38;5;28;01mimport\u001b[39;00m _run_iclabel  \u001b[38;5;66;03m# type: ignore\u001b[39;00m\n\u001b[0;32m     54\u001b[0m     \u001b[38;5;28;01melse\u001b[39;00m:\n\u001b[1;32m---> 55\u001b[0m         \u001b[38;5;28;01mraise\u001b[39;00m \u001b[38;5;167;01mImportError\u001b[39;00m(\n\u001b[0;32m     56\u001b[0m             \u001b[38;5;124m\"\u001b[39m\u001b[38;5;124mMissing optional dependency. ICLabel requires either pytorch or \u001b[39m\u001b[38;5;124m\"\u001b[39m\n\u001b[0;32m     57\u001b[0m             \u001b[38;5;124m\"\u001b[39m\u001b[38;5;124monnxruntime. Use pip or conda to install one of them.\u001b[39m\u001b[38;5;124m\"\u001b[39m\n\u001b[0;32m     58\u001b[0m         )\n\u001b[0;32m     59\u001b[0m \u001b[38;5;28;01melif\u001b[39;00m backend \u001b[38;5;241m==\u001b[39m \u001b[38;5;124m\"\u001b[39m\u001b[38;5;124mtorch\u001b[39m\u001b[38;5;124m\"\u001b[39m:\n\u001b[0;32m     60\u001b[0m     import_optional_dependency(\u001b[38;5;124m\"\u001b[39m\u001b[38;5;124mtorch\u001b[39m\u001b[38;5;124m\"\u001b[39m, raise_error\u001b[38;5;241m=\u001b[39m\u001b[38;5;28;01mTrue\u001b[39;00m)\n",
      "\u001b[1;31mImportError\u001b[0m: Missing optional dependency. ICLabel requires either pytorch or onnxruntime. Use pip or conda to install one of them."
     ]
    }
   ],
   "source": [
    "import mne\n",
    "import mne_icalabel\n",
    "from mne.preprocessing import read_ica\n",
    "from mne_bids_pipeline._config_utils import (\n",
    "    get_subjects,\n",
    "    get_sessions\n",
    ")\n",
    "for subject in get_subjects(cfg):\n",
    "    for session in get_sessions(cfg):\n",
    "        paths = get_input_fnames_apply_ica(cfg=cfg, subject=subject, session=session)\n",
    "        ica = read_ica(paths[\"ica\"])\n",
    "        raw = mne.io.read_raw_fif(paths[\"raw\"])\n",
    "        print(str(ica))\n",
    "        mne_icalabel.label_components(raw, ica, method=\"iclabel\")\n"
   ]
  }
 ],
 "metadata": {
  "kernelspec": {
   "display_name": "Python 3 (ipykernel)",
   "language": "python",
   "name": "python3"
  },
  "language_info": {
   "codemirror_mode": {
    "name": "ipython",
    "version": 3
   },
   "file_extension": ".py",
   "mimetype": "text/x-python",
   "name": "python",
   "nbconvert_exporter": "python",
   "pygments_lexer": "ipython3",
   "version": "3.12.0"
  }
 },
 "nbformat": 4,
 "nbformat_minor": 5
}
