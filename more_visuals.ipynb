{
 "cells": [
  {
   "cell_type": "code",
   "execution_count": null,
   "metadata": {},
   "outputs": [],
   "source": [
    "from mne_bids_pipeline._config_import import _import_config\n",
    "import mne\n",
    "import numpy as np\n",
    "from mne.time_frequency import tfr_morlet\n",
    "cfg = _import_config(\n",
    "        config_path='./mne-bids/config/mne-bids-pipeline.py'\n",
    "    )\n",
    "%matplotlib inline"
   ]
  },
  {
   "cell_type": "code",
   "execution_count": null,
   "metadata": {},
   "outputs": [],
   "source": [
    "\n",
    "power = mne.time_frequency.read_tfrs('./data/ds003702/derivatives/mne-bids-pipeline/sub-01/eeg/sub-01_task-SocialMemoryCuing_power+sticks+tfr.h5', condition=0) # TODO: should probably get the path from the config too\n",
    "power.apply_baseline(\n",
    "    baseline=cfg.time_frequency_baseline,\n",
    "    mode=cfg.time_frequency_baseline_mode,\n",
    ")\n",
    "if cfg.time_frequency_crop:\n",
    "    power.crop(**cfg.time_frequency_crop)\n",
    "%matplotlib inline"
   ]
  },
  {
   "cell_type": "code",
   "execution_count": null,
   "metadata": {},
   "outputs": [],
   "source": [
    "fig_power = power.plot_topomap(ch_type='eeg', show=True)\n",
    "fig_power.axes[0].set_title('Alpha: Stick')\n",
    "fig_power.set_size_inches(5, 5)"
   ]
  },
  {
   "cell_type": "code",
   "execution_count": null,
   "metadata": {},
   "outputs": [],
   "source": [
    "fig_power = power.plot_topo(title='Alpha: Stick', fig_facecolor=\"w\", font_color=\"k\", border=\"k\", show=True)\n",
    "fig_power.set_size_inches(9, 6)"
   ]
  },
  {
   "cell_type": "code",
   "execution_count": null,
   "metadata": {},
   "outputs": [],
   "source": [
    "average_path = './data/ds003702/derivatives/mne-bids-pipeline/sub-average/eeg/sub-average_task-SocialMemoryCuing_ave.fif'\n",
    "evokeds = {}\n",
    "evokeds['avatar'] = mne.read_evokeds(average_path, condition='Grand average: avatar')\n",
    "evokeds['sticks'] = mne.read_evokeds(average_path, condition='Grand average: sticks')\n",
    "evokeds['contrast'] = mne.read_evokeds(average_path, condition='Grand average: avatar - sticks')\n"
   ]
  },
  {
   "cell_type": "code",
   "execution_count": null,
   "metadata": {},
   "outputs": [],
   "source": [
    "freqs = np.arange(2.0, 30.0, 1)  # define frequencies of interest\n",
    "n_cycles = freqs / freqs[0]\n",
    "condition_names = ['avatar', 'sticks']\n",
    "for condition_name in condition_names:\n",
    "    condition = evokeds[condition_name]\n",
    "    this_tfr = tfr_morlet(\n",
    "        condition,\n",
    "        freqs,\n",
    "        n_cycles= n_cycles,\n",
    "        return_itc=False,\n",
    "    )\n",
    "    this_tfr.apply_baseline(mode=\"logratio\", baseline=(-1, 0))\n",
    "    this_tfr.plot(combine = 'mean', show=True, tmin = 2.5, tmax = 3.5, title=condition_name)"
   ]
  }
 ],
 "metadata": {
  "kernelspec": {
   "display_name": "Python 3 (ipykernel)",
   "language": "python",
   "name": "python3"
  },
  "language_info": {
   "codemirror_mode": {
    "name": "ipython",
    "version": 3
   },
   "file_extension": ".py",
   "mimetype": "text/x-python",
   "name": "python",
   "nbconvert_exporter": "python",
   "pygments_lexer": "ipython3",
   "version": "3.10.11"
  }
 },
 "nbformat": 4,
 "nbformat_minor": 4
}
