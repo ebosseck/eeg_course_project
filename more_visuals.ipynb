{
 "cells": [
  {
   "cell_type": "code",
   "execution_count": 17,
   "metadata": {},
   "outputs": [],
   "source": [
    "from mne_bids_pipeline._config_import import _import_config\n",
    "import mne\n",
    "cfg = _import_config(\n",
    "        config_path='./mne-bids/config/mne-bids-pipeline.py'\n",
    "    )\n",
    "power = mne.time_frequency.read_tfrs('../data/ds003702/derivatives/mne-bids-pipeline/sub-01/eeg/sub-01_task-SocialMemoryCuing_power+s3042+tfr.h5', condition=0) # TODO: should probably get the path from the config too\n",
    "power.apply_baseline(\n",
    "    baseline=cfg.time_frequency_baseline,\n",
    "    mode=cfg.time_frequency_baseline_mode,\n",
    ")\n",
    "if cfg.time_frequency_crop:\n",
    "    power.crop(**cfg.time_frequency_crop)\n",
    "%matplotlib qt"
   ]
  },
  {
   "cell_type": "code",
   "execution_count": 18,
   "metadata": {},
   "outputs": [],
   "source": [
    "fig_power = power.plot_topomap(ch_type='eeg', show=True)\n",
    "fig_power.axes[0].set_title('Alpha: Stick')\n",
    "fig_power.set_size_inches(5, 5)"
   ]
  },
  {
   "cell_type": "code",
   "execution_count": 19,
   "metadata": {},
   "outputs": [],
   "source": [
    "fig_power = power.plot_topo(title='Alpha: Stick', fig_facecolor=\"w\", font_color=\"k\", border=\"k\", show=True)\n",
    "fig_power.set_size_inches(9, 6)"
   ]
  }
 ],
 "metadata": {
  "kernelspec": {
   "display_name": ".venv",
   "language": "python",
   "name": "python3"
  },
  "language_info": {
   "codemirror_mode": {
    "name": "ipython",
    "version": 3
   },
   "file_extension": ".py",
   "mimetype": "text/x-python",
   "name": "python",
   "nbconvert_exporter": "python",
   "pygments_lexer": "ipython3",
   "version": "3.12.0"
  }
 },
 "nbformat": 4,
 "nbformat_minor": 2
}
