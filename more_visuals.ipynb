{
 "cells": [
  {
   "cell_type": "code",
   "execution_count": 1,
   "metadata": {
    "ExecuteTime": {
     "end_time": "2024-02-07T23:39:30.172920600Z",
     "start_time": "2024-02-07T23:39:25.733535900Z"
    }
   },
   "outputs": [],
   "source": [
    "from mne_bids_pipeline._config_import import _import_config\n",
    "import mne\n",
    "cfg = _import_config(\n",
    "        config_path='./mne-bids/config/mne-bids-pipeline.py'\n",
    "    )\n",
    "power = mne.time_frequency.read_tfrs('../data/ds003702/derivatives/mne-bids-pipeline/sub-01/eeg/sub-01_task-SocialMemoryCuing_power+s3042+tfr.h5', condition=0) # TODO: should probably get the path from the config too\n",
    "power.apply_baseline(\n",
    "    baseline=cfg.time_frequency_baseline,\n",
    "    mode=cfg.time_frequency_baseline_mode,\n",
    ")\n",
    "if cfg.time_frequency_crop:\n",
    "    power.crop(**cfg.time_frequency_crop)\n",
    "%matplotlib qt"
   ]
  },
  {
   "cell_type": "code",
   "execution_count": 4,
   "metadata": {
    "ExecuteTime": {
     "end_time": "2024-02-07T23:41:14.455667300Z",
     "start_time": "2024-02-07T23:41:12.633063400Z"
    }
   },
   "outputs": [],
   "source": [
    "fig_power = power.plot_topomap(ch_type='eeg', show=True)\n",
    "fig_power.axes[0].set_title('Alpha: Stick')\n",
    "fig_power.set_size_inches(5, 5)\n",
    "\n",
    "fig_power.savefig(\"alpha_stick.pdf\")"
   ]
  },
  {
   "cell_type": "code",
   "execution_count": 3,
   "metadata": {
    "ExecuteTime": {
     "end_time": "2024-02-07T23:40:28.160604300Z",
     "start_time": "2024-02-07T23:40:27.997771700Z"
    }
   },
   "outputs": [],
   "source": [
    "fig_power = power.plot_topo(title='Alpha: Stick', fig_facecolor=\"w\", font_color=\"k\", border=\"k\", show=True)\n",
    "fig_power.set_size_inches(9, 6)"
   ]
  },
  {
   "cell_type": "code",
   "outputs": [],
   "source": [
    "from visualize import power\n",
    "\n",
    "power.plotPower('./mne-bids/config/mne-bids-pipeline.py', subject='01', \n",
    "                cue='sticks', band='theta', time_range=(3.6, 4.0),\n",
    "                filename='power-{cue}-{band}-{tmin}-to-{tmax}.png')\n",
    "\n",
    "power.plotPower('./mne-bids/config/mne-bids-pipeline.py', subject='01',\n",
    "                cue='avatar', band='theta', time_range=(3.6, 4.0),\n",
    "                filename='power-{cue}-{band}-{tmin}-to-{tmax}.png')\n",
    "\n",
    "\n",
    "power.plotPower('./mne-bids/config/mne-bids-pipeline.py', subject='01',\n",
    "                cue='sticks', band='theta', time_range=(2.0, 3.0),\n",
    "                filename='power-{cue}-{band}-{tmin}-to-{tmax}.png')\n",
    "\n",
    "power.plotPower('./mne-bids/config/mne-bids-pipeline.py', subject='01',\n",
    "                cue='avatar', band='theta', time_range=(2.0, 3.0),\n",
    "                filename='power-{cue}-{band}-{tmin}-to-{tmax}.png')"
   ],
   "metadata": {
    "collapsed": false,
    "ExecuteTime": {
     "end_time": "2024-02-08T02:42:24.377194700Z",
     "start_time": "2024-02-08T02:42:20.877527700Z"
    }
   },
   "execution_count": 6
  },
  {
   "cell_type": "code",
   "outputs": [],
   "source": [],
   "metadata": {
    "collapsed": false
   }
  }
 ],
 "metadata": {
  "kernelspec": {
   "display_name": ".venv",
   "language": "python",
   "name": "python3"
  },
  "language_info": {
   "codemirror_mode": {
    "name": "ipython",
    "version": 3
   },
   "file_extension": ".py",
   "mimetype": "text/x-python",
   "name": "python",
   "nbconvert_exporter": "python",
   "pygments_lexer": "ipython3",
   "version": "3.12.0"
  }
 },
 "nbformat": 4,
 "nbformat_minor": 2
}
