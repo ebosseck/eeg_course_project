{
 "cells": [
  {
   "cell_type": "markdown",
   "id": "f2646af1-9b3f-4ee3-8551-9bdceaca3ad8",
   "metadata": {},
   "source": [
    "# Run the MNE BIDS Pipeline\n",
    "\n",
    "In this notebook, the pipeline gets run with the shortest possible command.\n",
    "On the one hand, this version is much simpler than the long version.\n",
    "On the other and, the ICA labelling is skipped here. Therefore, the final steps return less accurate results.\n",
    "\n",
    "In the configuration file, the steps are defined in the `steps` parameter.\n",
    "After replacing the minor `preprocessing/*` steps by `preprocessing`, it should also work with versions of `mne-bids-pipeline` with different minor step names."
   ]
  },
  {
   "cell_type": "code",
   "execution_count": null,
   "id": "1dbef3338e5fbcb5",
   "metadata": {
    "ExecuteTime": {
     "end_time": "2024-01-24T13:17:28.538873500Z",
     "start_time": "2024-01-24T13:17:27.158399800Z"
    },
    "scrolled": true
   },
   "outputs": [],
   "source": [
    "!mne_bids_pipeline --config ./mne-bids/config/mne-bids-pipeline.py "
   ]
  },
  {
   "cell_type": "code",
   "execution_count": null,
   "id": "1e88802b-3eb6-4955-b86a-32bfcd38f454",
   "metadata": {},
   "outputs": [],
   "source": []
  }
 ],
 "metadata": {
  "kernelspec": {
   "display_name": "Python 3 (ipykernel)",
   "language": "python",
   "name": "python3"
  },
  "language_info": {
   "codemirror_mode": {
    "name": "ipython",
    "version": 3
   },
   "file_extension": ".py",
   "mimetype": "text/x-python",
   "name": "python",
   "nbconvert_exporter": "python",
   "pygments_lexer": "ipython3",
   "version": "3.11.8"
  }
 },
 "nbformat": 4,
 "nbformat_minor": 5
}
