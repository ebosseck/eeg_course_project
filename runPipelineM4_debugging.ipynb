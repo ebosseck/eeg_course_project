{
 "cells": [
  {
   "cell_type": "markdown",
   "id": "f2646af1-9b3f-4ee3-8551-9bdceaca3ad8",
   "metadata": {},
   "source": [
    "# Run the MNE BIDS Pipeline"
   ]
  },
  {
   "cell_type": "code",
   "execution_count": 1,
   "id": "cebd9f38",
   "metadata": {},
   "outputs": [],
   "source": [
    "# import basic EEG manipulation and analysis modules\n",
    "import mne_bids_pipeline\n",
    "from mne_bids import BIDSPath\n",
    "\n",
    "# import function to load configuration from file\n",
    "from mne_bids_pipeline._config_import import _import_config as getConfig\n",
    "\n",
    "# allow for definition oRENAMEf optional parameters in a function definition\n",
    "from typing import Optional\n",
    "\n",
    "# allow for calling mne_bids_pipeline within Python\n",
    "import sys\n",
    "import mne_bids_pipeline._main"
   ]
  },
  {
   "cell_type": "code",
   "execution_count": 2,
   "id": "5a16acc5-b28b-40d5-975e-706a485f0729",
   "metadata": {},
   "outputs": [],
   "source": [
    "# set the file path of the main configuration file\n",
    "config_path = \"./mne-bids/config/mne-bids-pipeline_tests.py\""
   ]
  },
  {
   "cell_type": "code",
   "execution_count": 3,
   "id": "b1cd52dd-2250-4d73-9ab1-67a8af75c20d",
   "metadata": {},
   "outputs": [],
   "source": [
    "# load configured settings from file\n",
    "cfg = getConfig(\n",
    "    config_path=config_path\n",
    ")"
   ]
  },
  {
   "cell_type": "code",
   "execution_count": 4,
   "id": "6b9ab68c-d1f8-4259-9712-05b2055bdf6e",
   "metadata": {},
   "outputs": [],
   "source": [
    "# define the function to run the pipeline within Python\n",
    "def run_pipeline(config:str=\"\", steps:str=\"\"):\n",
    "    sys.args = [\"\", \"--config\", config, \"--steps\", steps]\n",
    "    mne_bids_pipeline._main.main()"
   ]
  },
  {
   "cell_type": "code",
   "execution_count": 5,
   "id": "d9cf9f5e-9c87-4e11-b7ee-bfc872457cea",
   "metadata": {},
   "outputs": [],
   "source": [
    "# define a function which gets used in application of the ICA results to the raw data\n",
    "def get_input_fnames_apply_ica(\n",
    "    *,\n",
    "    cfg,\n",
    "    subject: str,\n",
    "    session: Optional[str],\n",
    ") -> dict:\n",
    "    bids_basename = BIDSPath(\n",
    "        subject=subject,\n",
    "        session=session,\n",
    "        task=cfg.task,\n",
    "        acquisition=cfg.acq,\n",
    "        recording=cfg.rec,\n",
    "        space=cfg.space,\n",
    "        datatype='eeg',\n",
    "        root=cfg.deriv_root,\n",
    "        check=False,\n",
    "    )\n",
    "    paths = dict()\n",
    "    paths[\"ica\"] = bids_basename.copy().update(suffix=\"ica\", extension=\".fif\")\n",
    "    paths[\"raw\"] = bids_basename.copy().update(suffix=\"proc-filt_raw\", extension=\".fif\")\n",
    "    paths[\"components\"] = bids_basename.copy().update(\n",
    "        processing=\"ica\", suffix=\"components\", extension=\".tsv\"\n",
    "    )\n",
    "    return paths"
   ]
  },
  {
   "cell_type": "code",
   "execution_count": 6,
   "id": "8c615dcf-35e3-49df-abdc-312f7c67201d",
   "metadata": {
    "scrolled": true
   },
   "outputs": [
    {
     "name": "stdout",
     "output_type": "stream",
     "text": [
      "namespace(study_name='EEG-course-project', bids_root=PosixPath('/home/fspletti/vorlesungen/2023S_Signal_processing_and_Analysis_of_human_brain_potentials_(EEG)/git/eeg_course_project/data/ds003702'), deriv_root=PosixPath('/home/fspletti/vorlesungen/2023S_Signal_processing_and_Analysis_of_human_brain_potentials_(EEG)/git/eeg_course_project/data/ds003702/derivatives/mne-bids-pipeline'), subjects_dir='../data/ds003702/', sessions='all', task='SocialMemoryCuing', runs='all', exclude_runs=None, crop_runs=None, acq=None, proc=None, rec=None, space=None, plot_psd_for_runs='all', subjects=['01', '02', '03', '04', '05', '06', '07', '09', '10', '11', '12', '13', '14', '15', '16', '17', '18', '19', '20', '21', '22', '23', '24', '25', '26', '27', '28', '29', '30', '32', '33', '34', '35', '36', '38', '39', '40', '41', '43', '44', '45', '46', '48', '49', '50'], exclude_subjects=[], process_empty_room=True, process_rest=True, ch_types=['eeg'], data_type='eeg', eog_channels=None, eeg_bipolar_channels=None, eeg_reference='average', eeg_template_montage='standard_1005', drop_channels=['EOG', 'BIP1', 'BIP2', 'BIP3', 'BIP4', 'BIP5', 'BIP6', 'BIP7', 'BIP8', 'BIP9', 'BIP10', 'BIP11', 'BIP12', 'BIP13', 'BIP14', 'BIP15', 'BIP16', 'BIP17', 'BIP18', 'BIP19', 'BIP20', 'BIP21', 'BIP22', 'BIP23', 'BIP24'], analyze_channels='ch_types', reader_extra_params={}, read_raw_bids_verbose=None, find_breaks=False, min_break_duration=15.0, t_break_annot_start_after_previous_event=5.0, t_break_annot_stop_before_next_event=5.0, find_flat_channels_meg=False, find_noisy_channels_meg=False, use_maxwell_filter=False, mf_st_duration=None, mf_st_correlation=0.98, mf_head_origin='auto', mf_destination='reference_run', mf_int_order=8, mf_reference_run=None, mf_cal_fname=None, mf_ctc_fname=None, mf_esss=0, mf_esss_reject=None, mf_mc=False, mf_mc_t_step_min=0.01, mf_mc_t_window='auto', mf_mc_gof_limit=0.98, mf_mc_dist_limit=0.005, mf_mc_rotation_velocity_limit=None, mf_mc_translation_velocity_limit=None, mf_filter_chpi=None, fix_stim_artifact=False, stim_artifact_tmin=0.0, stim_artifact_tmax=0.01, l_freq=1.0, h_freq=30.0, notch_freq=None, l_trans_bandwidth='auto', h_trans_bandwidth='auto', notch_trans_bandwidth=1.0, notch_widths=None, raw_resample_sfreq=100.0, epochs_decim=1, rename_events={'s3021': 'avatar', 's3041': 'sticks'}, on_rename_missing_events='raise', event_repeated='error', epochs_metadata_tmin=None, epochs_metadata_tmax=None, epochs_metadata_keep_first=None, epochs_metadata_keep_last=None, epochs_metadata_query=None, conditions=['avatar', 'sticks'], epochs_tmin=-1.0, epochs_tmax=6.0, task_is_rest=False, rest_epochs_duration=None, rest_epochs_overlap=None, baseline=(None, 0), contrasts=[('avatar', 'sticks')], spatial_filter='ica', min_ecg_epochs=5, min_eog_epochs=5, n_proj_eog={'n_mag': 1, 'n_grad': 1, 'n_eeg': 1}, n_proj_ecg={'n_mag': 1, 'n_grad': 1, 'n_eeg': 1}, ecg_proj_from_average=True, eog_proj_from_average=True, ssp_meg='auto', ssp_reject_ecg=None, ssp_reject_eog=None, ssp_ecg_channel=None, ica_reject={'eeg': 0.0004}, ica_algorithm='extended_infomax', ica_l_freq=1.0, ica_max_iterations=3000, ica_n_components=0.95, ica_decim=None, ica_ctps_ecg_threshold=0.1, ica_eog_threshold=3.0, reject='autoreject_global', reject_tmin=None, reject_tmax=None, autoreject_n_interpolate=[4, 8, 16], decode=True, decoding_which_epochs='cleaned', decoding_epochs_tmin=0.0, decoding_epochs_tmax=None, decoding_metric='roc_auc', decoding_n_splits=5, decoding_time_generalization=False, decoding_time_generalization_decim=1, n_boot=5000, cluster_forming_t_threshold=None, cluster_n_permutations=10000, cluster_permutation_p_threshold=0.05, interpolate_bads_grand_average=True, time_frequency_conditions=['avatar', 'sticks'], time_frequency_freq_min=8.0, time_frequency_freq_max=12.0, time_frequency_cycles=None, time_frequency_subtract_evoked=False, decoding_csp=True, decoding_csp_times=array([0. , 1.2, 2.4, 3.6, 4.8, 6. ]), decoding_csp_freqs={'theta': [3, 7], 'alpha': [8, 12]}, time_frequency_baseline=(-1.0, 0), time_frequency_baseline_mode='logratio', time_frequency_crop=None, run_source_estimation=True, use_template_mri='fsaverage', adjust_coreg=False, bem_mri_images='auto', recreate_bem=False, recreate_scalp_surface=False, freesurfer_verbose=False, mri_t1_path_generator=None, mri_landmarks_kind=None, spacing='oct6', mindist=5, loose=0.2, depth=0.8, inverse_method='dSPM', noise_cov=(None, 0), source_info_path_update={'suffix': 'ave'}, inverse_targets=['evoked'], report_evoked_n_time_points=None, report_stc_n_time_points=None, random_state=42, shortest_event=1, log_level='info', mne_log_level='error', config_validation='raise', PIPELINE_NAME='mne-bids-pipeline', VERSION='1.5.0', CODE_URL='https://github.com/mne-tools/mne-bids-pipeline', _raw_split_size='2GB', _epochs_split_size='2GB', ArbitraryContrast=<class 'mne_bids_pipeline.typing.ArbitraryContrast'>, ArrayLike=typing.Union[numpy._typing._array_like._SupportsArray[numpy.dtype[typing.Any]], numpy._typing._nested_sequence._NestedSequence[numpy._typing._array_like._SupportsArray[numpy.dtype[typing.Any]]], bool, int, float, complex, str, bytes, numpy._typing._nested_sequence._NestedSequence[typing.Union[bool, int, float, complex, str, bytes]]], BIDSPath=<class 'mne_bids.path.BIDSPath'>, Callable=typing.Callable, Dict=typing.Dict, Iterable=typing.Iterable, List=typing.List, Literal=typing.Literal, Optional=typing.Optional, PathLike=typing.Union[str, pathlib.Path], Tuple=typing.Tuple, Union=typing.Union, builtin_montages=['standard_1005', 'standard_1020', 'standard_alphabetic', 'standard_postfixed', 'standard_prefixed', 'standard_primed', 'biosemi16', 'biosemi32', 'biosemi64', 'biosemi128', 'biosemi160', 'biosemi256', 'easycap-M1', 'easycap-M10', 'easycap-M43', 'EGI_256', 'GSN-HydroCel-32', 'GSN-HydroCel-64_1.0', 'GSN-HydroCel-65_1.0', 'GSN-HydroCel-128', 'GSN-HydroCel-129', 'GSN-HydroCel-256', 'GSN-HydroCel-257', 'mgh60', 'mgh70', 'artinis-octamon', 'artinis-brite23', 'brainproducts-RNP-BA-128'], electrode_names=['Fp2', 'F7', 'F3', 'Fz', 'F4', 'F8', 'FC5', 'FC1', 'FC2', 'FC6', 'T7', 'C3', 'Cz', 'C4', 'T8', 'CP5', 'CP1', 'CP2', 'CP6', 'P7', 'P3', 'Pz', 'P4', 'P8', 'POz', 'O1', 'O2', 'AF7', 'AF3', 'AF4', 'AF8', 'F5', 'F1', 'F2', 'F6', 'FC3', 'FCz', 'FC4', 'C5', 'C1', 'C2', 'C6', 'CP3', 'CP4', 'P5', 'P1', 'P2', 'P6', 'PO5', 'PO3', 'PO4', 'PO6', 'FT7', 'FT8', 'TP7', 'TP8', 'PO7', 'PO8', 'Oz'], mne=<module 'mne' from '/opt/venv/eeg/lib/python3.11/site-packages/mne/__init__.py'>, np=<module 'numpy' from '/opt/venv/eeg/lib/python3.11/site-packages/numpy/__init__.py'>, steps=['init', 'preprocessing/_01_data_quality', 'preprocessing/_02_head_pos', 'preprocessing/_03_maxfilter', 'preprocessing/_04_frequency_filter', 'preprocessing/_05_make_epochs', 'preprocessing/_06a_run_ica', 'preprocessing/_07a_apply_icapreprocessing/_08_ptp_reject', 'sensor', 'source'], subjects_missing=[8, 42, 47], subjects_range=[1, 50], subjects_skipped=[31, 37, 8, 42, 47], exec_params=namespace(n_jobs=6, parallel_backend='loky', dask_temp_dir=None, dask_worker_memory_limit='10G', dask_open_dashboard=False, on_error='continue', interactive=False, memory_location=True, memory_subdir='_cache', memory_verbose=0, memory_file_method='mtime', deriv_root=PosixPath('/home/fspletti/vorlesungen/2023S_Signal_processing_and_Analysis_of_human_brain_potentials_(EEG)/git/eeg_course_project/data/ds003702/derivatives/mne-bids-pipeline'), config_path='./mne-bids/config/mne-bids-pipeline_tests.py'))\n"
     ]
    }
   ],
   "source": [
    "# checkup: print config contents\n",
    "print(cfg)"
   ]
  },
  {
   "cell_type": "code",
   "execution_count": 7,
   "id": "c1c4aa4f-b085-41d5-aed3-2a229372786e",
   "metadata": {},
   "outputs": [
    {
     "data": {
      "text/plain": [
       "[1.0, 30.0]"
      ]
     },
     "execution_count": 7,
     "metadata": {},
     "output_type": "execute_result"
    }
   ],
   "source": [
    "cfg.raw_resample_sfreq\n",
    "[cfg.l_freq, cfg.h_freq]"
   ]
  },
  {
   "cell_type": "code",
   "execution_count": 8,
   "id": "1ac2b9ff-635f-4040-863f-42e0d50bbc73",
   "metadata": {},
   "outputs": [
    {
     "data": {
      "text/plain": [
       "('data', 'ds003702')"
      ]
     },
     "execution_count": 8,
     "metadata": {},
     "output_type": "execute_result"
    }
   ],
   "source": [
    "# checkup: # print directories of the stored bids root path\n",
    "cfg.bids_root.parts[-2:]"
   ]
  },
  {
   "cell_type": "raw",
   "id": "2725bf03-6793-42ac-8648-4d82121c750e",
   "metadata": {},
   "source": [
    "curr_steps = \"init\"\n",
    "run_pipeline(config=config_path, steps=curr_steps)"
   ]
  },
  {
   "cell_type": "code",
   "execution_count": 9,
   "id": "59424cd4",
   "metadata": {},
   "outputs": [
    {
     "name": "stdout",
     "output_type": "stream",
     "text": [
      "\u001b[1;32m┌────────┬ Welcome aboard MNE-BIDS-Pipeline! 👋\u001b[0m \u001b[1;32m────────────────────────────────\u001b[0m\n",
      "\u001b[32m│\u001b[0m\u001b[1;32m14:55:26\u001b[0m\u001b[32m│ \u001b[0m\u001b[1;36m📝 \u001b[0mUsing configuration: .\u001b[35m/mne-bids/config/\u001b[0m\u001b[95mmne-bids-pipeline_tests.py\u001b[0m\n",
      "\u001b[1;32m└────────┴ \u001b[0m\n",
      "\u001b[1;32m┌────────┬ init/_01_init_derivatives_dir\u001b[0m \u001b[1;32m───────────────────────────────────────\u001b[0m\n",
      "\u001b[32m│\u001b[0m\u001b[1;32m14:55:27\u001b[0m\u001b[32m│ \u001b[0m\u001b[1;36m⏳️ \u001b[0mInitializing output directories.\n",
      "\u001b[1;32m└────────┴ done \u001b[0m\u001b[1;32m(\u001b[0m\u001b[1;32m1s\u001b[0m\u001b[1;32m)\u001b[0m\n",
      "\u001b[1;32m┌────────┬ init/_02_find_empty_room\u001b[0m \u001b[1;32m────────────────────────────────────────────\u001b[0m\n",
      "\u001b[32m│\u001b[0m\u001b[1;32m14:55:27\u001b[0m\u001b[32m│ \u001b[0m\u001b[1;36m⏩ \u001b[0mSkipping, empty-room data only relevant for MEG …\n",
      "\u001b[1;32m└────────┴ done \u001b[0m\u001b[1;32m(\u001b[0m\u001b[1;32m1s\u001b[0m\u001b[1;32m)\u001b[0m\n",
      "\u001b[1;32m┌────────┬ init/_01_init_derivatives_dir\u001b[0m \u001b[1;32m───────────────────────────────────────\u001b[0m\n",
      "\u001b[32m│\u001b[0m\u001b[1;32m14:55:27\u001b[0m\u001b[32m│ \u001b[0m\u001b[1;36m✅ \u001b[0mOutput directories already exist …\n",
      "\u001b[1;32m└────────┴ done \u001b[0m\u001b[1;32m(\u001b[0m\u001b[1;32m1s\u001b[0m\u001b[1;32m)\u001b[0m\n",
      "\u001b[1;32m┌────────┬ init/_02_find_empty_room\u001b[0m \u001b[1;32m────────────────────────────────────────────\u001b[0m\n",
      "\u001b[32m│\u001b[0m\u001b[1;32m14:55:27\u001b[0m\u001b[32m│ \u001b[0m\u001b[1;36m⏩ \u001b[0mSkipping, empty-room data only relevant for MEG …\n",
      "\u001b[1;32m└────────┴ done \u001b[0m\u001b[1;32m(\u001b[0m\u001b[1;32m1s\u001b[0m\u001b[1;32m)\u001b[0m\n"
     ]
    }
   ],
   "source": [
    "curr_steps = \"init\"\n",
    "!mne_bids_pipeline --config {config_path} --steps {curr_steps}"
   ]
  },
  {
   "cell_type": "code",
   "execution_count": 10,
   "id": "af9de78c-9658-4f25-9bca-e42c2cdd048d",
   "metadata": {},
   "outputs": [
    {
     "name": "stdout",
     "output_type": "stream",
     "text": [
      "dataset_description.json  sub-07  sub-15  sub-22  sub-29  sub-38  sub-46\n",
      "sub-01\t\t\t  sub-09  sub-16  sub-23  sub-30  sub-39  sub-48\n",
      "sub-02\t\t\t  sub-10  sub-17  sub-24  sub-32  sub-40  sub-49\n",
      "sub-03\t\t\t  sub-11  sub-18  sub-25  sub-33  sub-41  sub-50\n",
      "sub-04\t\t\t  sub-12  sub-19  sub-26  sub-34  sub-43\n",
      "sub-05\t\t\t  sub-13  sub-20  sub-27  sub-35  sub-44\n",
      "sub-06\t\t\t  sub-14  sub-21  sub-28  sub-36  sub-45\n"
     ]
    }
   ],
   "source": [
    "# checkup: check, whether output directory was created\n",
    "#          The derivatives directory should exist and contain a subfolder per selected subject.\n",
    "#          The subjects subfolders should be empty if no data were alread generated.\n",
    "curr_bids_root = cfg.bids_root.__str__()\n",
    "!ls \"{curr_bids_root}\"/derivatives/mne-bids-pipeline/"
   ]
  },
  {
   "cell_type": "code",
   "execution_count": 11,
   "id": "c2bc75e7-f181-4b8e-87c8-b10a67217fe8",
   "metadata": {
    "scrolled": true
   },
   "outputs": [
    {
     "name": "stdout",
     "output_type": "stream",
     "text": [
      "\u001b[1;32m┌────────┬ Welcome aboard MNE-BIDS-Pipeline! 👋\u001b[0m \u001b[1;32m────────────────────────────────\u001b[0m\n",
      "\u001b[32m│\u001b[0m\u001b[1;32m14:55:29\u001b[0m\u001b[32m│ \u001b[0m\u001b[1;36m📝 \u001b[0mUsing configuration: .\u001b[35m/mne-bids/config/\u001b[0m\u001b[95mmne-bids-pipeline_tests.py\u001b[0m\n",
      "\u001b[1;32m└────────┴ \u001b[0m\n",
      "\u001b[1;32m┌────────┬ init/_01_init_derivatives_dir\u001b[0m \u001b[1;32m───────────────────────────────────────\u001b[0m\n",
      "\u001b[32m│\u001b[0m\u001b[1;32m14:55:29\u001b[0m\u001b[32m│ \u001b[0m\u001b[1;36m✅ \u001b[0mOutput directories already exist …\n",
      "\u001b[1;32m└────────┴ done \u001b[0m\u001b[1;32m(\u001b[0m\u001b[1;32m1s\u001b[0m\u001b[1;32m)\u001b[0m\n",
      "\u001b[1;32m┌────────┬ init/_02_find_empty_room\u001b[0m \u001b[1;32m────────────────────────────────────────────\u001b[0m\n",
      "\u001b[32m│\u001b[0m\u001b[1;32m14:55:29\u001b[0m\u001b[32m│ \u001b[0m\u001b[1;36m⏩ \u001b[0mSkipping, empty-room data only relevant for MEG …\n",
      "\u001b[1;32m└────────┴ done \u001b[0m\u001b[1;32m(\u001b[0m\u001b[1;32m1s\u001b[0m\u001b[1;32m)\u001b[0m\n",
      "\u001b[1;32m┌────────┬ preprocessing/_01_data_quality\u001b[0m \u001b[1;32m──────────────────────────────────────\u001b[0m\n",
      "\u001b[32m│\u001b[0m\u001b[1;32m14:55:31\u001b[0m\u001b[32m│ \u001b[0m\u001b[1;36m⏳️ sub-\u001b[0m\u001b[1;36m03\u001b[0m\u001b[1;36m \u001b[0mInitializing report HDF5 file\n",
      "\u001b[32m│\u001b[0m\u001b[1;32m14:55:31\u001b[0m\u001b[32m│ \u001b[0m\u001b[1;36m⏳️ sub-\u001b[0m\u001b[1;36m02\u001b[0m\u001b[1;36m \u001b[0mInitializing report HDF5 file\n",
      "\u001b[32m│\u001b[0m\u001b[1;32m14:55:31\u001b[0m\u001b[32m│ \u001b[0m\u001b[1;36m⏳️ sub-\u001b[0m\u001b[1;36m04\u001b[0m\u001b[1;36m \u001b[0mInitializing report HDF5 file\n",
      "\u001b[32m│\u001b[0m\u001b[1;32m14:55:31\u001b[0m\u001b[32m│ \u001b[0m\u001b[1;36m⏳️ sub-\u001b[0m\u001b[1;36m02\u001b[0m\u001b[1;36m \u001b[0mAdding original raw data to report\n",
      "\u001b[32m│\u001b[0m\u001b[1;32m14:55:31\u001b[0m\u001b[32m│ \u001b[0m\u001b[1;36m⏳️ sub-\u001b[0m\u001b[1;36m03\u001b[0m\u001b[1;36m \u001b[0mAdding original raw data to report\n",
      "\u001b[32m│\u001b[0m\u001b[1;32m14:55:31\u001b[0m\u001b[32m│ \u001b[0m\u001b[1;36m⏳️ sub-\u001b[0m\u001b[1;36m04\u001b[0m\u001b[1;36m \u001b[0mAdding original raw data to report\n",
      "\u001b[32m│\u001b[0m\u001b[1;32m14:55:31\u001b[0m\u001b[32m│ \u001b[0m\u001b[1;36m⏳️ sub-\u001b[0m\u001b[1;36m05\u001b[0m\u001b[1;36m \u001b[0mInitializing report HDF5 file\n",
      "\u001b[32m│\u001b[0m\u001b[1;32m14:55:31\u001b[0m\u001b[32m│ \u001b[0m\u001b[1;36m⏳️ sub-\u001b[0m\u001b[1;36m05\u001b[0m\u001b[1;36m \u001b[0mAdding original raw data to report\n",
      "\u001b[32m│\u001b[0m\u001b[1;32m14:55:31\u001b[0m\u001b[32m│ \u001b[0m\u001b[1;36m⏳️ sub-\u001b[0m\u001b[1;36m01\u001b[0m\u001b[1;36m \u001b[0mInitializing report HDF5 file\n",
      "\u001b[32m│\u001b[0m\u001b[1;32m14:55:32\u001b[0m\u001b[32m│ \u001b[0m\u001b[1;36m⏳️ sub-\u001b[0m\u001b[1;36m01\u001b[0m\u001b[1;36m \u001b[0mAdding original raw data to report\n",
      "\u001b[32m│\u001b[0m\u001b[1;32m14:55:32\u001b[0m\u001b[32m│ \u001b[0m\u001b[1;36m⏳️ sub-\u001b[0m\u001b[1;36m06\u001b[0m\u001b[1;36m \u001b[0mInitializing report HDF5 file\n",
      "\u001b[32m│\u001b[0m\u001b[1;32m14:55:32\u001b[0m\u001b[32m│ \u001b[0m\u001b[1;36m⏳️ sub-\u001b[0m\u001b[1;36m06\u001b[0m\u001b[1;36m \u001b[0mAdding original raw data to report\n",
      "\u001b[32m│\u001b[0m\u001b[1;32m14:55:45\u001b[0m\u001b[32m│ \u001b[0m\u001b[1;36m⏳️ sub-\u001b[0m\u001b[1;36m06\u001b[0m\u001b[1;36m \u001b[0mAdding config and sys info to report\n",
      "\u001b[32m│\u001b[0m\u001b[1;32m14:55:46\u001b[0m\u001b[32m│ \u001b[0m\u001b[1;36m⏳️ sub-\u001b[0m\u001b[1;36m02\u001b[0m\u001b[1;36m \u001b[0mAdding config and sys info to report\n",
      "\u001b[32m│\u001b[0m\u001b[1;32m14:55:46\u001b[0m\u001b[32m│ \u001b[0m\u001b[1;36m⏳️ sub-\u001b[0m\u001b[1;36m05\u001b[0m\u001b[1;36m \u001b[0mAdding config and sys info to report\n",
      "\u001b[32m│\u001b[0m\u001b[1;32m14:55:46\u001b[0m\u001b[32m│ \u001b[0m\u001b[1;36m⏳️ sub-\u001b[0m\u001b[1;36m04\u001b[0m\u001b[1;36m \u001b[0mAdding config and sys info to report\n",
      "\u001b[32m│\u001b[0m\u001b[1;32m14:55:48\u001b[0m\u001b[32m│ \u001b[0m\u001b[1;36m⏳️ sub-\u001b[0m\u001b[1;36m03\u001b[0m\u001b[1;36m \u001b[0mAdding config and sys info to report\n",
      "\u001b[32m│\u001b[0m\u001b[1;32m14:55:49\u001b[0m\u001b[32m│ \u001b[0m\u001b[1;36m⏳️ sub-\u001b[0m\u001b[1;36m01\u001b[0m\u001b[1;36m \u001b[0mAdding config and sys info to report\n",
      "\u001b[32m│\u001b[0m\u001b[1;32m14:55:50\u001b[0m\u001b[32m│ \u001b[0m\u001b[1;36m⏳️ sub-\u001b[0m\u001b[1;36m05\u001b[0m\u001b[1;36m \u001b[0mSaving report: \u001b]8;id=291213;file:///home/fspletti/vorlesungen/2023S_Signal_processing_and_Analysis_of_human_brain_potentials_(EEG)/git/eeg_course_project/data/ds003702/derivatives/mne-bids-pipeline/sub-05/eeg/sub-05_task-SocialMemoryCuing_report.html\u001b\\\u001b[35m/home/fspletti/vorlesungen/\u001b[0m\u001b]8;;\u001b\\\u001b]8;id=844538;file:///home/fspletti/vorlesungen/2023S_Signal_processing_and_Analysis_of_human_brain_potentials_(EEG)/git/eeg_course_project/data/ds003702/derivatives/mne-bids-pipeline/sub-05/eeg/sub-05_task-SocialMemoryCuing_report.html\u001b\\\u001b[95m2023S_Signal_processing_and_Analysis_of_human_brain_potentials_\u001b[0m\u001b]8;;\u001b\\\u001b]8;id=488318;file:///home/fspletti/vorlesungen/2023S_Signal_processing_and_Analysis_of_human_brain_potentials_(EEG)/git/eeg_course_project/data/ds003702/derivatives/mne-bids-pipeline/sub-05/eeg/sub-05_task-SocialMemoryCuing_report.html\u001b\\\u001b[1m(\u001b[0m\u001b]8;;\u001b\\\u001b]8;id=702944;file:///home/fspletti/vorlesungen/2023S_Signal_processing_and_Analysis_of_human_brain_potentials_(EEG)/git/eeg_course_project/data/ds003702/derivatives/mne-bids-pipeline/sub-05/eeg/sub-05_task-SocialMemoryCuing_report.html\u001b\\EEG\u001b]8;;\u001b\\\u001b]8;id=488318;file:///home/fspletti/vorlesungen/2023S_Signal_processing_and_Analysis_of_human_brain_potentials_(EEG)/git/eeg_course_project/data/ds003702/derivatives/mne-bids-pipeline/sub-05/eeg/sub-05_task-SocialMemoryCuing_report.html\u001b\\\u001b[1m)\u001b[0m\u001b]8;;\u001b\\\u001b]8;id=291213;file:///home/fspletti/vorlesungen/2023S_Signal_processing_and_Analysis_of_human_brain_potentials_(EEG)/git/eeg_course_project/data/ds003702/derivatives/mne-bids-pipeline/sub-05/eeg/sub-05_task-SocialMemoryCuing_report.html\u001b\\\u001b[35m/git/eeg_course_project/data/ds003702/derivatives/mne-bids-pipeline/sub-05/eeg/\u001b[0m\u001b]8;;\u001b\\\u001b]8;id=844538;file:///home/fspletti/vorlesungen/2023S_Signal_processing_and_Analysis_of_human_brain_potentials_(EEG)/git/eeg_course_project/data/ds003702/derivatives/mne-bids-pipeline/sub-05/eeg/sub-05_task-SocialMemoryCuing_report.html\u001b\\\u001b[95msub-05_task-SocialMemoryCuing_report.html\u001b[0m\u001b]8;;\u001b\\\n",
      "\u001b[32m│\u001b[0m\u001b[1;32m14:55:50\u001b[0m\u001b[32m│ \u001b[0m\u001b[1;36m⏳️ sub-\u001b[0m\u001b[1;36m06\u001b[0m\u001b[1;36m \u001b[0mSaving report: \u001b]8;id=250295;file:///home/fspletti/vorlesungen/2023S_Signal_processing_and_Analysis_of_human_brain_potentials_(EEG)/git/eeg_course_project/data/ds003702/derivatives/mne-bids-pipeline/sub-06/eeg/sub-06_task-SocialMemoryCuing_report.html\u001b\\\u001b[35m/home/fspletti/vorlesungen/\u001b[0m\u001b]8;;\u001b\\\u001b]8;id=223214;file:///home/fspletti/vorlesungen/2023S_Signal_processing_and_Analysis_of_human_brain_potentials_(EEG)/git/eeg_course_project/data/ds003702/derivatives/mne-bids-pipeline/sub-06/eeg/sub-06_task-SocialMemoryCuing_report.html\u001b\\\u001b[95m2023S_Signal_processing_and_Analysis_of_human_brain_potentials_\u001b[0m\u001b]8;;\u001b\\\u001b]8;id=733194;file:///home/fspletti/vorlesungen/2023S_Signal_processing_and_Analysis_of_human_brain_potentials_(EEG)/git/eeg_course_project/data/ds003702/derivatives/mne-bids-pipeline/sub-06/eeg/sub-06_task-SocialMemoryCuing_report.html\u001b\\\u001b[1m(\u001b[0m\u001b]8;;\u001b\\\u001b]8;id=675119;file:///home/fspletti/vorlesungen/2023S_Signal_processing_and_Analysis_of_human_brain_potentials_(EEG)/git/eeg_course_project/data/ds003702/derivatives/mne-bids-pipeline/sub-06/eeg/sub-06_task-SocialMemoryCuing_report.html\u001b\\EEG\u001b]8;;\u001b\\\u001b]8;id=733194;file:///home/fspletti/vorlesungen/2023S_Signal_processing_and_Analysis_of_human_brain_potentials_(EEG)/git/eeg_course_project/data/ds003702/derivatives/mne-bids-pipeline/sub-06/eeg/sub-06_task-SocialMemoryCuing_report.html\u001b\\\u001b[1m)\u001b[0m\u001b]8;;\u001b\\\u001b]8;id=250295;file:///home/fspletti/vorlesungen/2023S_Signal_processing_and_Analysis_of_human_brain_potentials_(EEG)/git/eeg_course_project/data/ds003702/derivatives/mne-bids-pipeline/sub-06/eeg/sub-06_task-SocialMemoryCuing_report.html\u001b\\\u001b[35m/git/eeg_course_project/data/ds003702/derivatives/mne-bids-pipeline/sub-06/eeg/\u001b[0m\u001b]8;;\u001b\\\u001b]8;id=223214;file:///home/fspletti/vorlesungen/2023S_Signal_processing_and_Analysis_of_human_brain_potentials_(EEG)/git/eeg_course_project/data/ds003702/derivatives/mne-bids-pipeline/sub-06/eeg/sub-06_task-SocialMemoryCuing_report.html\u001b\\\u001b[95msub-06_task-SocialMemoryCuing_report.html\u001b[0m\u001b]8;;\u001b\\\n",
      "\u001b[32m│\u001b[0m\u001b[1;32m14:55:50\u001b[0m\u001b[32m│ \u001b[0m\u001b[1;36m⏳️ sub-\u001b[0m\u001b[1;36m02\u001b[0m\u001b[1;36m \u001b[0mSaving report: \u001b]8;id=275033;file:///home/fspletti/vorlesungen/2023S_Signal_processing_and_Analysis_of_human_brain_potentials_(EEG)/git/eeg_course_project/data/ds003702/derivatives/mne-bids-pipeline/sub-02/eeg/sub-02_task-SocialMemoryCuing_report.html\u001b\\\u001b[35m/home/fspletti/vorlesungen/\u001b[0m\u001b]8;;\u001b\\\u001b]8;id=237414;file:///home/fspletti/vorlesungen/2023S_Signal_processing_and_Analysis_of_human_brain_potentials_(EEG)/git/eeg_course_project/data/ds003702/derivatives/mne-bids-pipeline/sub-02/eeg/sub-02_task-SocialMemoryCuing_report.html\u001b\\\u001b[95m2023S_Signal_processing_and_Analysis_of_human_brain_potentials_\u001b[0m\u001b]8;;\u001b\\\u001b]8;id=596496;file:///home/fspletti/vorlesungen/2023S_Signal_processing_and_Analysis_of_human_brain_potentials_(EEG)/git/eeg_course_project/data/ds003702/derivatives/mne-bids-pipeline/sub-02/eeg/sub-02_task-SocialMemoryCuing_report.html\u001b\\\u001b[1m(\u001b[0m\u001b]8;;\u001b\\\u001b]8;id=306397;file:///home/fspletti/vorlesungen/2023S_Signal_processing_and_Analysis_of_human_brain_potentials_(EEG)/git/eeg_course_project/data/ds003702/derivatives/mne-bids-pipeline/sub-02/eeg/sub-02_task-SocialMemoryCuing_report.html\u001b\\EEG\u001b]8;;\u001b\\\u001b]8;id=596496;file:///home/fspletti/vorlesungen/2023S_Signal_processing_and_Analysis_of_human_brain_potentials_(EEG)/git/eeg_course_project/data/ds003702/derivatives/mne-bids-pipeline/sub-02/eeg/sub-02_task-SocialMemoryCuing_report.html\u001b\\\u001b[1m)\u001b[0m\u001b]8;;\u001b\\\u001b]8;id=275033;file:///home/fspletti/vorlesungen/2023S_Signal_processing_and_Analysis_of_human_brain_potentials_(EEG)/git/eeg_course_project/data/ds003702/derivatives/mne-bids-pipeline/sub-02/eeg/sub-02_task-SocialMemoryCuing_report.html\u001b\\\u001b[35m/git/eeg_course_project/data/ds003702/derivatives/mne-bids-pipeline/sub-02/eeg/\u001b[0m\u001b]8;;\u001b\\\u001b]8;id=237414;file:///home/fspletti/vorlesungen/2023S_Signal_processing_and_Analysis_of_human_brain_potentials_(EEG)/git/eeg_course_project/data/ds003702/derivatives/mne-bids-pipeline/sub-02/eeg/sub-02_task-SocialMemoryCuing_report.html\u001b\\\u001b[95msub-02_task-SocialMemoryCuing_report.html\u001b[0m\u001b]8;;\u001b\\\n",
      "\u001b[32m│\u001b[0m\u001b[1;32m14:55:50\u001b[0m\u001b[32m│ \u001b[0m\u001b[1;36m⏳️ sub-\u001b[0m\u001b[1;36m04\u001b[0m\u001b[1;36m \u001b[0mSaving report: \u001b]8;id=73490;file:///home/fspletti/vorlesungen/2023S_Signal_processing_and_Analysis_of_human_brain_potentials_(EEG)/git/eeg_course_project/data/ds003702/derivatives/mne-bids-pipeline/sub-04/eeg/sub-04_task-SocialMemoryCuing_report.html\u001b\\\u001b[35m/home/fspletti/vorlesungen/\u001b[0m\u001b]8;;\u001b\\\u001b]8;id=318801;file:///home/fspletti/vorlesungen/2023S_Signal_processing_and_Analysis_of_human_brain_potentials_(EEG)/git/eeg_course_project/data/ds003702/derivatives/mne-bids-pipeline/sub-04/eeg/sub-04_task-SocialMemoryCuing_report.html\u001b\\\u001b[95m2023S_Signal_processing_and_Analysis_of_human_brain_potentials_\u001b[0m\u001b]8;;\u001b\\\u001b]8;id=402802;file:///home/fspletti/vorlesungen/2023S_Signal_processing_and_Analysis_of_human_brain_potentials_(EEG)/git/eeg_course_project/data/ds003702/derivatives/mne-bids-pipeline/sub-04/eeg/sub-04_task-SocialMemoryCuing_report.html\u001b\\\u001b[1m(\u001b[0m\u001b]8;;\u001b\\\u001b]8;id=71880;file:///home/fspletti/vorlesungen/2023S_Signal_processing_and_Analysis_of_human_brain_potentials_(EEG)/git/eeg_course_project/data/ds003702/derivatives/mne-bids-pipeline/sub-04/eeg/sub-04_task-SocialMemoryCuing_report.html\u001b\\EEG\u001b]8;;\u001b\\\u001b]8;id=402802;file:///home/fspletti/vorlesungen/2023S_Signal_processing_and_Analysis_of_human_brain_potentials_(EEG)/git/eeg_course_project/data/ds003702/derivatives/mne-bids-pipeline/sub-04/eeg/sub-04_task-SocialMemoryCuing_report.html\u001b\\\u001b[1m)\u001b[0m\u001b]8;;\u001b\\\u001b]8;id=73490;file:///home/fspletti/vorlesungen/2023S_Signal_processing_and_Analysis_of_human_brain_potentials_(EEG)/git/eeg_course_project/data/ds003702/derivatives/mne-bids-pipeline/sub-04/eeg/sub-04_task-SocialMemoryCuing_report.html\u001b\\\u001b[35m/git/eeg_course_project/data/ds003702/derivatives/mne-bids-pipeline/sub-04/eeg/\u001b[0m\u001b]8;;\u001b\\\u001b]8;id=318801;file:///home/fspletti/vorlesungen/2023S_Signal_processing_and_Analysis_of_human_brain_potentials_(EEG)/git/eeg_course_project/data/ds003702/derivatives/mne-bids-pipeline/sub-04/eeg/sub-04_task-SocialMemoryCuing_report.html\u001b\\\u001b[95msub-04_task-SocialMemoryCuing_report.html\u001b[0m\u001b]8;;\u001b\\\n",
      "\u001b[32m│\u001b[0m\u001b[1;32m14:55:50\u001b[0m\u001b[32m│ \u001b[0m\u001b[1;36m⏳️ sub-\u001b[0m\u001b[1;36m07\u001b[0m\u001b[1;36m \u001b[0mInitializing report HDF5 file\n",
      "\u001b[32m│\u001b[0m\u001b[1;32m14:55:50\u001b[0m\u001b[32m│ \u001b[0m\u001b[1;36m⏳️ sub-\u001b[0m\u001b[1;36m09\u001b[0m\u001b[1;36m \u001b[0mInitializing report HDF5 file\n",
      "\u001b[32m│\u001b[0m\u001b[1;32m14:55:50\u001b[0m\u001b[32m│ \u001b[0m\u001b[1;36m⏳️ sub-\u001b[0m\u001b[1;36m07\u001b[0m\u001b[1;36m \u001b[0mAdding original raw data to report\n",
      "\u001b[32m│\u001b[0m\u001b[1;32m14:55:50\u001b[0m\u001b[32m│ \u001b[0m\u001b[1;36m⏳️ sub-\u001b[0m\u001b[1;36m10\u001b[0m\u001b[1;36m \u001b[0mInitializing report HDF5 file\n",
      "\u001b[32m│\u001b[0m\u001b[1;32m14:55:50\u001b[0m\u001b[32m│ \u001b[0m\u001b[1;36m⏳️ sub-\u001b[0m\u001b[1;36m11\u001b[0m\u001b[1;36m \u001b[0mInitializing report HDF5 file\n",
      "\u001b[32m│\u001b[0m\u001b[1;32m14:55:50\u001b[0m\u001b[32m│ \u001b[0m\u001b[1;36m⏳️ sub-\u001b[0m\u001b[1;36m09\u001b[0m\u001b[1;36m \u001b[0mAdding original raw data to report\n",
      "\u001b[32m│\u001b[0m\u001b[1;32m14:55:50\u001b[0m\u001b[32m│ \u001b[0m\u001b[1;36m⏳️ sub-\u001b[0m\u001b[1;36m10\u001b[0m\u001b[1;36m \u001b[0mAdding original raw data to report\n",
      "\u001b[32m│\u001b[0m\u001b[1;32m14:55:50\u001b[0m\u001b[32m│ \u001b[0m\u001b[1;36m⏳️ sub-\u001b[0m\u001b[1;36m11\u001b[0m\u001b[1;36m \u001b[0mAdding original raw data to report\n",
      "\u001b[32m│\u001b[0m\u001b[1;32m14:55:52\u001b[0m\u001b[32m│ \u001b[0m\u001b[1;36m⏳️ sub-\u001b[0m\u001b[1;36m03\u001b[0m\u001b[1;36m \u001b[0mSaving report: \u001b]8;id=277090;file:///home/fspletti/vorlesungen/2023S_Signal_processing_and_Analysis_of_human_brain_potentials_(EEG)/git/eeg_course_project/data/ds003702/derivatives/mne-bids-pipeline/sub-03/eeg/sub-03_task-SocialMemoryCuing_report.html\u001b\\\u001b[35m/home/fspletti/vorlesungen/\u001b[0m\u001b]8;;\u001b\\\u001b]8;id=4109;file:///home/fspletti/vorlesungen/2023S_Signal_processing_and_Analysis_of_human_brain_potentials_(EEG)/git/eeg_course_project/data/ds003702/derivatives/mne-bids-pipeline/sub-03/eeg/sub-03_task-SocialMemoryCuing_report.html\u001b\\\u001b[95m2023S_Signal_processing_and_Analysis_of_human_brain_potentials_\u001b[0m\u001b]8;;\u001b\\\u001b]8;id=405031;file:///home/fspletti/vorlesungen/2023S_Signal_processing_and_Analysis_of_human_brain_potentials_(EEG)/git/eeg_course_project/data/ds003702/derivatives/mne-bids-pipeline/sub-03/eeg/sub-03_task-SocialMemoryCuing_report.html\u001b\\\u001b[1m(\u001b[0m\u001b]8;;\u001b\\\u001b]8;id=978298;file:///home/fspletti/vorlesungen/2023S_Signal_processing_and_Analysis_of_human_brain_potentials_(EEG)/git/eeg_course_project/data/ds003702/derivatives/mne-bids-pipeline/sub-03/eeg/sub-03_task-SocialMemoryCuing_report.html\u001b\\EEG\u001b]8;;\u001b\\\u001b]8;id=405031;file:///home/fspletti/vorlesungen/2023S_Signal_processing_and_Analysis_of_human_brain_potentials_(EEG)/git/eeg_course_project/data/ds003702/derivatives/mne-bids-pipeline/sub-03/eeg/sub-03_task-SocialMemoryCuing_report.html\u001b\\\u001b[1m)\u001b[0m\u001b]8;;\u001b\\\u001b]8;id=277090;file:///home/fspletti/vorlesungen/2023S_Signal_processing_and_Analysis_of_human_brain_potentials_(EEG)/git/eeg_course_project/data/ds003702/derivatives/mne-bids-pipeline/sub-03/eeg/sub-03_task-SocialMemoryCuing_report.html\u001b\\\u001b[35m/git/eeg_course_project/data/ds003702/derivatives/mne-bids-pipeline/sub-03/eeg/\u001b[0m\u001b]8;;\u001b\\\u001b]8;id=4109;file:///home/fspletti/vorlesungen/2023S_Signal_processing_and_Analysis_of_human_brain_potentials_(EEG)/git/eeg_course_project/data/ds003702/derivatives/mne-bids-pipeline/sub-03/eeg/sub-03_task-SocialMemoryCuing_report.html\u001b\\\u001b[95msub-03_task-SocialMemoryCuing_report.html\u001b[0m\u001b]8;;\u001b\\\n",
      "\u001b[32m│\u001b[0m\u001b[1;32m14:55:52\u001b[0m\u001b[32m│ \u001b[0m\u001b[1;36m⏳️ sub-\u001b[0m\u001b[1;36m12\u001b[0m\u001b[1;36m \u001b[0mInitializing report HDF5 file\n",
      "\u001b[32m│\u001b[0m\u001b[1;32m14:55:52\u001b[0m\u001b[32m│ \u001b[0m\u001b[1;36m⏳️ sub-\u001b[0m\u001b[1;36m01\u001b[0m\u001b[1;36m \u001b[0mSaving report: \u001b]8;id=30442;file:///home/fspletti/vorlesungen/2023S_Signal_processing_and_Analysis_of_human_brain_potentials_(EEG)/git/eeg_course_project/data/ds003702/derivatives/mne-bids-pipeline/sub-01/eeg/sub-01_task-SocialMemoryCuing_report.html\u001b\\\u001b[35m/home/fspletti/vorlesungen/\u001b[0m\u001b]8;;\u001b\\\u001b]8;id=756511;file:///home/fspletti/vorlesungen/2023S_Signal_processing_and_Analysis_of_human_brain_potentials_(EEG)/git/eeg_course_project/data/ds003702/derivatives/mne-bids-pipeline/sub-01/eeg/sub-01_task-SocialMemoryCuing_report.html\u001b\\\u001b[95m2023S_Signal_processing_and_Analysis_of_human_brain_potentials_\u001b[0m\u001b]8;;\u001b\\\u001b]8;id=592638;file:///home/fspletti/vorlesungen/2023S_Signal_processing_and_Analysis_of_human_brain_potentials_(EEG)/git/eeg_course_project/data/ds003702/derivatives/mne-bids-pipeline/sub-01/eeg/sub-01_task-SocialMemoryCuing_report.html\u001b\\\u001b[1m(\u001b[0m\u001b]8;;\u001b\\\u001b]8;id=265375;file:///home/fspletti/vorlesungen/2023S_Signal_processing_and_Analysis_of_human_brain_potentials_(EEG)/git/eeg_course_project/data/ds003702/derivatives/mne-bids-pipeline/sub-01/eeg/sub-01_task-SocialMemoryCuing_report.html\u001b\\EEG\u001b]8;;\u001b\\\u001b]8;id=592638;file:///home/fspletti/vorlesungen/2023S_Signal_processing_and_Analysis_of_human_brain_potentials_(EEG)/git/eeg_course_project/data/ds003702/derivatives/mne-bids-pipeline/sub-01/eeg/sub-01_task-SocialMemoryCuing_report.html\u001b\\\u001b[1m)\u001b[0m\u001b]8;;\u001b\\\u001b]8;id=30442;file:///home/fspletti/vorlesungen/2023S_Signal_processing_and_Analysis_of_human_brain_potentials_(EEG)/git/eeg_course_project/data/ds003702/derivatives/mne-bids-pipeline/sub-01/eeg/sub-01_task-SocialMemoryCuing_report.html\u001b\\\u001b[35m/git/eeg_course_project/data/ds003702/derivatives/mne-bids-pipeline/sub-01/eeg/\u001b[0m\u001b]8;;\u001b\\\u001b]8;id=756511;file:///home/fspletti/vorlesungen/2023S_Signal_processing_and_Analysis_of_human_brain_potentials_(EEG)/git/eeg_course_project/data/ds003702/derivatives/mne-bids-pipeline/sub-01/eeg/sub-01_task-SocialMemoryCuing_report.html\u001b\\\u001b[95msub-01_task-SocialMemoryCuing_report.html\u001b[0m\u001b]8;;\u001b\\\n",
      "\u001b[32m│\u001b[0m\u001b[1;32m14:55:52\u001b[0m\u001b[32m│ \u001b[0m\u001b[1;36m⏳️ sub-\u001b[0m\u001b[1;36m12\u001b[0m\u001b[1;36m \u001b[0mAdding original raw data to report\n",
      "\u001b[32m│\u001b[0m\u001b[1;32m14:55:52\u001b[0m\u001b[32m│ \u001b[0m\u001b[1;36m⏳️ sub-\u001b[0m\u001b[1;36m13\u001b[0m\u001b[1;36m \u001b[0mInitializing report HDF5 file\n",
      "\u001b[32m│\u001b[0m\u001b[1;32m14:55:52\u001b[0m\u001b[32m│ \u001b[0m\u001b[1;36m⏳️ sub-\u001b[0m\u001b[1;36m13\u001b[0m\u001b[1;36m \u001b[0mAdding original raw data to report\n",
      "\u001b[32m│\u001b[0m\u001b[1;32m14:55:59\u001b[0m\u001b[32m│ \u001b[0m\u001b[1;36m⏳️ sub-\u001b[0m\u001b[1;36m07\u001b[0m\u001b[1;36m \u001b[0mAdding config and sys info to report\n",
      "\u001b[32m│\u001b[0m\u001b[1;32m14:55:59\u001b[0m\u001b[32m│ \u001b[0m\u001b[1;36m⏳️ sub-\u001b[0m\u001b[1;36m07\u001b[0m\u001b[1;36m \u001b[0mSaving report: \u001b]8;id=65224;file:///home/fspletti/vorlesungen/2023S_Signal_processing_and_Analysis_of_human_brain_potentials_(EEG)/git/eeg_course_project/data/ds003702/derivatives/mne-bids-pipeline/sub-07/eeg/sub-07_task-SocialMemoryCuing_report.html\u001b\\\u001b[35m/home/fspletti/vorlesungen/\u001b[0m\u001b]8;;\u001b\\\u001b]8;id=955286;file:///home/fspletti/vorlesungen/2023S_Signal_processing_and_Analysis_of_human_brain_potentials_(EEG)/git/eeg_course_project/data/ds003702/derivatives/mne-bids-pipeline/sub-07/eeg/sub-07_task-SocialMemoryCuing_report.html\u001b\\\u001b[95m2023S_Signal_processing_and_Analysis_of_human_brain_potentials_\u001b[0m\u001b]8;;\u001b\\\u001b]8;id=915688;file:///home/fspletti/vorlesungen/2023S_Signal_processing_and_Analysis_of_human_brain_potentials_(EEG)/git/eeg_course_project/data/ds003702/derivatives/mne-bids-pipeline/sub-07/eeg/sub-07_task-SocialMemoryCuing_report.html\u001b\\\u001b[1m(\u001b[0m\u001b]8;;\u001b\\\u001b]8;id=321323;file:///home/fspletti/vorlesungen/2023S_Signal_processing_and_Analysis_of_human_brain_potentials_(EEG)/git/eeg_course_project/data/ds003702/derivatives/mne-bids-pipeline/sub-07/eeg/sub-07_task-SocialMemoryCuing_report.html\u001b\\EEG\u001b]8;;\u001b\\\u001b]8;id=915688;file:///home/fspletti/vorlesungen/2023S_Signal_processing_and_Analysis_of_human_brain_potentials_(EEG)/git/eeg_course_project/data/ds003702/derivatives/mne-bids-pipeline/sub-07/eeg/sub-07_task-SocialMemoryCuing_report.html\u001b\\\u001b[1m)\u001b[0m\u001b]8;;\u001b\\\u001b]8;id=65224;file:///home/fspletti/vorlesungen/2023S_Signal_processing_and_Analysis_of_human_brain_potentials_(EEG)/git/eeg_course_project/data/ds003702/derivatives/mne-bids-pipeline/sub-07/eeg/sub-07_task-SocialMemoryCuing_report.html\u001b\\\u001b[35m/git/eeg_course_project/data/ds003702/derivatives/mne-bids-pipeline/sub-07/eeg/\u001b[0m\u001b]8;;\u001b\\\u001b]8;id=955286;file:///home/fspletti/vorlesungen/2023S_Signal_processing_and_Analysis_of_human_brain_potentials_(EEG)/git/eeg_course_project/data/ds003702/derivatives/mne-bids-pipeline/sub-07/eeg/sub-07_task-SocialMemoryCuing_report.html\u001b\\\u001b[95msub-07_task-SocialMemoryCuing_report.html\u001b[0m\u001b]8;;\u001b\\\n",
      "\u001b[32m│\u001b[0m\u001b[1;32m14:55:59\u001b[0m\u001b[32m│ \u001b[0m\u001b[1;36m⏳️ sub-\u001b[0m\u001b[1;36m14\u001b[0m\u001b[1;36m \u001b[0mInitializing report HDF5 file\n",
      "\u001b[32m│\u001b[0m\u001b[1;32m14:56:00\u001b[0m\u001b[32m│ \u001b[0m\u001b[1;36m⏳️ sub-\u001b[0m\u001b[1;36m14\u001b[0m\u001b[1;36m \u001b[0mAdding original raw data to report\n",
      "\u001b[32m│\u001b[0m\u001b[1;32m14:56:03\u001b[0m\u001b[32m│ \u001b[0m\u001b[1;36m⏳️ sub-\u001b[0m\u001b[1;36m11\u001b[0m\u001b[1;36m \u001b[0mAdding config and sys info to report\n",
      "\u001b[32m│\u001b[0m\u001b[1;32m14:56:03\u001b[0m\u001b[32m│ \u001b[0m\u001b[1;36m⏳️ sub-\u001b[0m\u001b[1;36m11\u001b[0m\u001b[1;36m \u001b[0mSaving report: \u001b]8;id=117728;file:///home/fspletti/vorlesungen/2023S_Signal_processing_and_Analysis_of_human_brain_potentials_(EEG)/git/eeg_course_project/data/ds003702/derivatives/mne-bids-pipeline/sub-11/eeg/sub-11_task-SocialMemoryCuing_report.html\u001b\\\u001b[35m/home/fspletti/vorlesungen/\u001b[0m\u001b]8;;\u001b\\\u001b]8;id=551290;file:///home/fspletti/vorlesungen/2023S_Signal_processing_and_Analysis_of_human_brain_potentials_(EEG)/git/eeg_course_project/data/ds003702/derivatives/mne-bids-pipeline/sub-11/eeg/sub-11_task-SocialMemoryCuing_report.html\u001b\\\u001b[95m2023S_Signal_processing_and_Analysis_of_human_brain_potentials_\u001b[0m\u001b]8;;\u001b\\\u001b]8;id=176250;file:///home/fspletti/vorlesungen/2023S_Signal_processing_and_Analysis_of_human_brain_potentials_(EEG)/git/eeg_course_project/data/ds003702/derivatives/mne-bids-pipeline/sub-11/eeg/sub-11_task-SocialMemoryCuing_report.html\u001b\\\u001b[1m(\u001b[0m\u001b]8;;\u001b\\\u001b]8;id=801995;file:///home/fspletti/vorlesungen/2023S_Signal_processing_and_Analysis_of_human_brain_potentials_(EEG)/git/eeg_course_project/data/ds003702/derivatives/mne-bids-pipeline/sub-11/eeg/sub-11_task-SocialMemoryCuing_report.html\u001b\\EEG\u001b]8;;\u001b\\\u001b]8;id=176250;file:///home/fspletti/vorlesungen/2023S_Signal_processing_and_Analysis_of_human_brain_potentials_(EEG)/git/eeg_course_project/data/ds003702/derivatives/mne-bids-pipeline/sub-11/eeg/sub-11_task-SocialMemoryCuing_report.html\u001b\\\u001b[1m)\u001b[0m\u001b]8;;\u001b\\\u001b]8;id=117728;file:///home/fspletti/vorlesungen/2023S_Signal_processing_and_Analysis_of_human_brain_potentials_(EEG)/git/eeg_course_project/data/ds003702/derivatives/mne-bids-pipeline/sub-11/eeg/sub-11_task-SocialMemoryCuing_report.html\u001b\\\u001b[35m/git/eeg_course_project/data/ds003702/derivatives/mne-bids-pipeline/sub-11/eeg/\u001b[0m\u001b]8;;\u001b\\\u001b]8;id=551290;file:///home/fspletti/vorlesungen/2023S_Signal_processing_and_Analysis_of_human_brain_potentials_(EEG)/git/eeg_course_project/data/ds003702/derivatives/mne-bids-pipeline/sub-11/eeg/sub-11_task-SocialMemoryCuing_report.html\u001b\\\u001b[95msub-11_task-SocialMemoryCuing_report.html\u001b[0m\u001b]8;;\u001b\\\n",
      "\u001b[32m│\u001b[0m\u001b[1;32m14:56:03\u001b[0m\u001b[32m│ \u001b[0m\u001b[1;36m⏳️ sub-\u001b[0m\u001b[1;36m15\u001b[0m\u001b[1;36m \u001b[0mInitializing report HDF5 file\n",
      "\u001b[32m│\u001b[0m\u001b[1;32m14:56:03\u001b[0m\u001b[32m│ \u001b[0m\u001b[1;36m⏳️ sub-\u001b[0m\u001b[1;36m15\u001b[0m\u001b[1;36m \u001b[0mAdding original raw data to report\n",
      "\u001b[32m│\u001b[0m\u001b[1;32m14:56:03\u001b[0m\u001b[32m│ \u001b[0m\u001b[1;36m⏳️ sub-\u001b[0m\u001b[1;36m10\u001b[0m\u001b[1;36m \u001b[0mAdding config and sys info to report\n",
      "\u001b[32m│\u001b[0m\u001b[1;32m14:56:03\u001b[0m\u001b[32m│ \u001b[0m\u001b[1;36m⏳️ sub-\u001b[0m\u001b[1;36m10\u001b[0m\u001b[1;36m \u001b[0mSaving report: \u001b]8;id=9473;file:///home/fspletti/vorlesungen/2023S_Signal_processing_and_Analysis_of_human_brain_potentials_(EEG)/git/eeg_course_project/data/ds003702/derivatives/mne-bids-pipeline/sub-10/eeg/sub-10_task-SocialMemoryCuing_report.html\u001b\\\u001b[35m/home/fspletti/vorlesungen/\u001b[0m\u001b]8;;\u001b\\\u001b]8;id=787460;file:///home/fspletti/vorlesungen/2023S_Signal_processing_and_Analysis_of_human_brain_potentials_(EEG)/git/eeg_course_project/data/ds003702/derivatives/mne-bids-pipeline/sub-10/eeg/sub-10_task-SocialMemoryCuing_report.html\u001b\\\u001b[95m2023S_Signal_processing_and_Analysis_of_human_brain_potentials_\u001b[0m\u001b]8;;\u001b\\\u001b]8;id=819694;file:///home/fspletti/vorlesungen/2023S_Signal_processing_and_Analysis_of_human_brain_potentials_(EEG)/git/eeg_course_project/data/ds003702/derivatives/mne-bids-pipeline/sub-10/eeg/sub-10_task-SocialMemoryCuing_report.html\u001b\\\u001b[1m(\u001b[0m\u001b]8;;\u001b\\\u001b]8;id=623489;file:///home/fspletti/vorlesungen/2023S_Signal_processing_and_Analysis_of_human_brain_potentials_(EEG)/git/eeg_course_project/data/ds003702/derivatives/mne-bids-pipeline/sub-10/eeg/sub-10_task-SocialMemoryCuing_report.html\u001b\\EEG\u001b]8;;\u001b\\\u001b]8;id=819694;file:///home/fspletti/vorlesungen/2023S_Signal_processing_and_Analysis_of_human_brain_potentials_(EEG)/git/eeg_course_project/data/ds003702/derivatives/mne-bids-pipeline/sub-10/eeg/sub-10_task-SocialMemoryCuing_report.html\u001b\\\u001b[1m)\u001b[0m\u001b]8;;\u001b\\\u001b]8;id=9473;file:///home/fspletti/vorlesungen/2023S_Signal_processing_and_Analysis_of_human_brain_potentials_(EEG)/git/eeg_course_project/data/ds003702/derivatives/mne-bids-pipeline/sub-10/eeg/sub-10_task-SocialMemoryCuing_report.html\u001b\\\u001b[35m/git/eeg_course_project/data/ds003702/derivatives/mne-bids-pipeline/sub-10/eeg/\u001b[0m\u001b]8;;\u001b\\\u001b]8;id=787460;file:///home/fspletti/vorlesungen/2023S_Signal_processing_and_Analysis_of_human_brain_potentials_(EEG)/git/eeg_course_project/data/ds003702/derivatives/mne-bids-pipeline/sub-10/eeg/sub-10_task-SocialMemoryCuing_report.html\u001b\\\u001b[95msub-10_task-SocialMemoryCuing_report.html\u001b[0m\u001b]8;;\u001b\\\n",
      "\u001b[32m│\u001b[0m\u001b[1;32m14:56:03\u001b[0m\u001b[32m│ \u001b[0m\u001b[1;36m⏳️ sub-\u001b[0m\u001b[1;36m16\u001b[0m\u001b[1;36m \u001b[0mInitializing report HDF5 file\n",
      "\u001b[32m│\u001b[0m\u001b[1;32m14:56:03\u001b[0m\u001b[32m│ \u001b[0m\u001b[1;36m⏳️ sub-\u001b[0m\u001b[1;36m16\u001b[0m\u001b[1;36m \u001b[0mAdding original raw data to report\n",
      "\u001b[32m│\u001b[0m\u001b[1;32m14:56:03\u001b[0m\u001b[32m│ \u001b[0m\u001b[1;36m⏳️ sub-\u001b[0m\u001b[1;36m12\u001b[0m\u001b[1;36m \u001b[0mAdding config and sys info to report\n",
      "\u001b[32m│\u001b[0m\u001b[1;32m14:56:04\u001b[0m\u001b[32m│ \u001b[0m\u001b[1;36m⏳️ sub-\u001b[0m\u001b[1;36m12\u001b[0m\u001b[1;36m \u001b[0mSaving report: \u001b]8;id=485702;file:///home/fspletti/vorlesungen/2023S_Signal_processing_and_Analysis_of_human_brain_potentials_(EEG)/git/eeg_course_project/data/ds003702/derivatives/mne-bids-pipeline/sub-12/eeg/sub-12_task-SocialMemoryCuing_report.html\u001b\\\u001b[35m/home/fspletti/vorlesungen/\u001b[0m\u001b]8;;\u001b\\\u001b]8;id=504957;file:///home/fspletti/vorlesungen/2023S_Signal_processing_and_Analysis_of_human_brain_potentials_(EEG)/git/eeg_course_project/data/ds003702/derivatives/mne-bids-pipeline/sub-12/eeg/sub-12_task-SocialMemoryCuing_report.html\u001b\\\u001b[95m2023S_Signal_processing_and_Analysis_of_human_brain_potentials_\u001b[0m\u001b]8;;\u001b\\\u001b]8;id=320774;file:///home/fspletti/vorlesungen/2023S_Signal_processing_and_Analysis_of_human_brain_potentials_(EEG)/git/eeg_course_project/data/ds003702/derivatives/mne-bids-pipeline/sub-12/eeg/sub-12_task-SocialMemoryCuing_report.html\u001b\\\u001b[1m(\u001b[0m\u001b]8;;\u001b\\\u001b]8;id=552128;file:///home/fspletti/vorlesungen/2023S_Signal_processing_and_Analysis_of_human_brain_potentials_(EEG)/git/eeg_course_project/data/ds003702/derivatives/mne-bids-pipeline/sub-12/eeg/sub-12_task-SocialMemoryCuing_report.html\u001b\\EEG\u001b]8;;\u001b\\\u001b]8;id=320774;file:///home/fspletti/vorlesungen/2023S_Signal_processing_and_Analysis_of_human_brain_potentials_(EEG)/git/eeg_course_project/data/ds003702/derivatives/mne-bids-pipeline/sub-12/eeg/sub-12_task-SocialMemoryCuing_report.html\u001b\\\u001b[1m)\u001b[0m\u001b]8;;\u001b\\\u001b]8;id=485702;file:///home/fspletti/vorlesungen/2023S_Signal_processing_and_Analysis_of_human_brain_potentials_(EEG)/git/eeg_course_project/data/ds003702/derivatives/mne-bids-pipeline/sub-12/eeg/sub-12_task-SocialMemoryCuing_report.html\u001b\\\u001b[35m/git/eeg_course_project/data/ds003702/derivatives/mne-bids-pipeline/sub-12/eeg/\u001b[0m\u001b]8;;\u001b\\\u001b]8;id=504957;file:///home/fspletti/vorlesungen/2023S_Signal_processing_and_Analysis_of_human_brain_potentials_(EEG)/git/eeg_course_project/data/ds003702/derivatives/mne-bids-pipeline/sub-12/eeg/sub-12_task-SocialMemoryCuing_report.html\u001b\\\u001b[95msub-12_task-SocialMemoryCuing_report.html\u001b[0m\u001b]8;;\u001b\\\n",
      "\u001b[32m│\u001b[0m\u001b[1;32m14:56:04\u001b[0m\u001b[32m│ \u001b[0m\u001b[1;36m⏳️ sub-\u001b[0m\u001b[1;36m13\u001b[0m\u001b[1;36m \u001b[0mAdding config and sys info to report\n",
      "\u001b[32m│\u001b[0m\u001b[1;32m14:56:04\u001b[0m\u001b[32m│ \u001b[0m\u001b[1;36m⏳️ sub-\u001b[0m\u001b[1;36m17\u001b[0m\u001b[1;36m \u001b[0mInitializing report HDF5 file\n",
      "\u001b[32m│\u001b[0m\u001b[1;32m14:56:04\u001b[0m\u001b[32m│ \u001b[0m\u001b[1;36m⏳️ sub-\u001b[0m\u001b[1;36m13\u001b[0m\u001b[1;36m \u001b[0mSaving report: \u001b]8;id=992007;file:///home/fspletti/vorlesungen/2023S_Signal_processing_and_Analysis_of_human_brain_potentials_(EEG)/git/eeg_course_project/data/ds003702/derivatives/mne-bids-pipeline/sub-13/eeg/sub-13_task-SocialMemoryCuing_report.html\u001b\\\u001b[35m/home/fspletti/vorlesungen/\u001b[0m\u001b]8;;\u001b\\\u001b]8;id=556852;file:///home/fspletti/vorlesungen/2023S_Signal_processing_and_Analysis_of_human_brain_potentials_(EEG)/git/eeg_course_project/data/ds003702/derivatives/mne-bids-pipeline/sub-13/eeg/sub-13_task-SocialMemoryCuing_report.html\u001b\\\u001b[95m2023S_Signal_processing_and_Analysis_of_human_brain_potentials_\u001b[0m\u001b]8;;\u001b\\\u001b]8;id=34024;file:///home/fspletti/vorlesungen/2023S_Signal_processing_and_Analysis_of_human_brain_potentials_(EEG)/git/eeg_course_project/data/ds003702/derivatives/mne-bids-pipeline/sub-13/eeg/sub-13_task-SocialMemoryCuing_report.html\u001b\\\u001b[1m(\u001b[0m\u001b]8;;\u001b\\\u001b]8;id=951014;file:///home/fspletti/vorlesungen/2023S_Signal_processing_and_Analysis_of_human_brain_potentials_(EEG)/git/eeg_course_project/data/ds003702/derivatives/mne-bids-pipeline/sub-13/eeg/sub-13_task-SocialMemoryCuing_report.html\u001b\\EEG\u001b]8;;\u001b\\\u001b]8;id=34024;file:///home/fspletti/vorlesungen/2023S_Signal_processing_and_Analysis_of_human_brain_potentials_(EEG)/git/eeg_course_project/data/ds003702/derivatives/mne-bids-pipeline/sub-13/eeg/sub-13_task-SocialMemoryCuing_report.html\u001b\\\u001b[1m)\u001b[0m\u001b]8;;\u001b\\\u001b]8;id=992007;file:///home/fspletti/vorlesungen/2023S_Signal_processing_and_Analysis_of_human_brain_potentials_(EEG)/git/eeg_course_project/data/ds003702/derivatives/mne-bids-pipeline/sub-13/eeg/sub-13_task-SocialMemoryCuing_report.html\u001b\\\u001b[35m/git/eeg_course_project/data/ds003702/derivatives/mne-bids-pipeline/sub-13/eeg/\u001b[0m\u001b]8;;\u001b\\\u001b]8;id=556852;file:///home/fspletti/vorlesungen/2023S_Signal_processing_and_Analysis_of_human_brain_potentials_(EEG)/git/eeg_course_project/data/ds003702/derivatives/mne-bids-pipeline/sub-13/eeg/sub-13_task-SocialMemoryCuing_report.html\u001b\\\u001b[95msub-13_task-SocialMemoryCuing_report.html\u001b[0m\u001b]8;;\u001b\\\n",
      "\u001b[32m│\u001b[0m\u001b[1;32m14:56:04\u001b[0m\u001b[32m│ \u001b[0m\u001b[1;36m⏳️ sub-\u001b[0m\u001b[1;36m17\u001b[0m\u001b[1;36m \u001b[0mAdding original raw data to report\n",
      "\u001b[32m│\u001b[0m\u001b[1;32m14:56:04\u001b[0m\u001b[32m│ \u001b[0m\u001b[1;36m⏳️ sub-\u001b[0m\u001b[1;36m18\u001b[0m\u001b[1;36m \u001b[0mInitializing report HDF5 file\n",
      "\u001b[32m│\u001b[0m\u001b[1;32m14:56:04\u001b[0m\u001b[32m│ \u001b[0m\u001b[1;36m⏳️ sub-\u001b[0m\u001b[1;36m18\u001b[0m\u001b[1;36m \u001b[0mAdding original raw data to report\n",
      "\u001b[32m│\u001b[0m\u001b[1;32m14:56:04\u001b[0m\u001b[32m│ \u001b[0m\u001b[1;36m⏳️ sub-\u001b[0m\u001b[1;36m09\u001b[0m\u001b[1;36m \u001b[0mAdding config and sys info to report\n",
      "\u001b[32m│\u001b[0m\u001b[1;32m14:56:04\u001b[0m\u001b[32m│ \u001b[0m\u001b[1;36m⏳️ sub-\u001b[0m\u001b[1;36m09\u001b[0m\u001b[1;36m \u001b[0mSaving report: \u001b]8;id=869037;file:///home/fspletti/vorlesungen/2023S_Signal_processing_and_Analysis_of_human_brain_potentials_(EEG)/git/eeg_course_project/data/ds003702/derivatives/mne-bids-pipeline/sub-09/eeg/sub-09_task-SocialMemoryCuing_report.html\u001b\\\u001b[35m/home/fspletti/vorlesungen/\u001b[0m\u001b]8;;\u001b\\\u001b]8;id=399063;file:///home/fspletti/vorlesungen/2023S_Signal_processing_and_Analysis_of_human_brain_potentials_(EEG)/git/eeg_course_project/data/ds003702/derivatives/mne-bids-pipeline/sub-09/eeg/sub-09_task-SocialMemoryCuing_report.html\u001b\\\u001b[95m2023S_Signal_processing_and_Analysis_of_human_brain_potentials_\u001b[0m\u001b]8;;\u001b\\\u001b]8;id=435407;file:///home/fspletti/vorlesungen/2023S_Signal_processing_and_Analysis_of_human_brain_potentials_(EEG)/git/eeg_course_project/data/ds003702/derivatives/mne-bids-pipeline/sub-09/eeg/sub-09_task-SocialMemoryCuing_report.html\u001b\\\u001b[1m(\u001b[0m\u001b]8;;\u001b\\\u001b]8;id=733803;file:///home/fspletti/vorlesungen/2023S_Signal_processing_and_Analysis_of_human_brain_potentials_(EEG)/git/eeg_course_project/data/ds003702/derivatives/mne-bids-pipeline/sub-09/eeg/sub-09_task-SocialMemoryCuing_report.html\u001b\\EEG\u001b]8;;\u001b\\\u001b]8;id=435407;file:///home/fspletti/vorlesungen/2023S_Signal_processing_and_Analysis_of_human_brain_potentials_(EEG)/git/eeg_course_project/data/ds003702/derivatives/mne-bids-pipeline/sub-09/eeg/sub-09_task-SocialMemoryCuing_report.html\u001b\\\u001b[1m)\u001b[0m\u001b]8;;\u001b\\\u001b]8;id=869037;file:///home/fspletti/vorlesungen/2023S_Signal_processing_and_Analysis_of_human_brain_potentials_(EEG)/git/eeg_course_project/data/ds003702/derivatives/mne-bids-pipeline/sub-09/eeg/sub-09_task-SocialMemoryCuing_report.html\u001b\\\u001b[35m/git/eeg_course_project/data/ds003702/derivatives/mne-bids-pipeline/sub-09/eeg/\u001b[0m\u001b]8;;\u001b\\\u001b]8;id=399063;file:///home/fspletti/vorlesungen/2023S_Signal_processing_and_Analysis_of_human_brain_potentials_(EEG)/git/eeg_course_project/data/ds003702/derivatives/mne-bids-pipeline/sub-09/eeg/sub-09_task-SocialMemoryCuing_report.html\u001b\\\u001b[95msub-09_task-SocialMemoryCuing_report.html\u001b[0m\u001b]8;;\u001b\\\n",
      "\u001b[32m│\u001b[0m\u001b[1;32m14:56:04\u001b[0m\u001b[32m│ \u001b[0m\u001b[1;36m⏳️ sub-\u001b[0m\u001b[1;36m19\u001b[0m\u001b[1;36m \u001b[0mInitializing report HDF5 file\n",
      "\u001b[32m│\u001b[0m\u001b[1;32m14:56:04\u001b[0m\u001b[32m│ \u001b[0m\u001b[1;36m⏳️ sub-\u001b[0m\u001b[1;36m19\u001b[0m\u001b[1;36m \u001b[0mAdding original raw data to report\n",
      "\u001b[32m│\u001b[0m\u001b[1;32m14:56:08\u001b[0m\u001b[32m│ \u001b[0m\u001b[1;36m⏳️ sub-\u001b[0m\u001b[1;36m14\u001b[0m\u001b[1;36m \u001b[0mAdding config and sys info to report\n",
      "\u001b[32m│\u001b[0m\u001b[1;32m14:56:08\u001b[0m\u001b[32m│ \u001b[0m\u001b[1;36m⏳️ sub-\u001b[0m\u001b[1;36m14\u001b[0m\u001b[1;36m \u001b[0mSaving report: \u001b]8;id=317112;file:///home/fspletti/vorlesungen/2023S_Signal_processing_and_Analysis_of_human_brain_potentials_(EEG)/git/eeg_course_project/data/ds003702/derivatives/mne-bids-pipeline/sub-14/eeg/sub-14_task-SocialMemoryCuing_report.html\u001b\\\u001b[35m/home/fspletti/vorlesungen/\u001b[0m\u001b]8;;\u001b\\\u001b]8;id=905703;file:///home/fspletti/vorlesungen/2023S_Signal_processing_and_Analysis_of_human_brain_potentials_(EEG)/git/eeg_course_project/data/ds003702/derivatives/mne-bids-pipeline/sub-14/eeg/sub-14_task-SocialMemoryCuing_report.html\u001b\\\u001b[95m2023S_Signal_processing_and_Analysis_of_human_brain_potentials_\u001b[0m\u001b]8;;\u001b\\\u001b]8;id=243745;file:///home/fspletti/vorlesungen/2023S_Signal_processing_and_Analysis_of_human_brain_potentials_(EEG)/git/eeg_course_project/data/ds003702/derivatives/mne-bids-pipeline/sub-14/eeg/sub-14_task-SocialMemoryCuing_report.html\u001b\\\u001b[1m(\u001b[0m\u001b]8;;\u001b\\\u001b]8;id=958462;file:///home/fspletti/vorlesungen/2023S_Signal_processing_and_Analysis_of_human_brain_potentials_(EEG)/git/eeg_course_project/data/ds003702/derivatives/mne-bids-pipeline/sub-14/eeg/sub-14_task-SocialMemoryCuing_report.html\u001b\\EEG\u001b]8;;\u001b\\\u001b]8;id=243745;file:///home/fspletti/vorlesungen/2023S_Signal_processing_and_Analysis_of_human_brain_potentials_(EEG)/git/eeg_course_project/data/ds003702/derivatives/mne-bids-pipeline/sub-14/eeg/sub-14_task-SocialMemoryCuing_report.html\u001b\\\u001b[1m)\u001b[0m\u001b]8;;\u001b\\\u001b]8;id=317112;file:///home/fspletti/vorlesungen/2023S_Signal_processing_and_Analysis_of_human_brain_potentials_(EEG)/git/eeg_course_project/data/ds003702/derivatives/mne-bids-pipeline/sub-14/eeg/sub-14_task-SocialMemoryCuing_report.html\u001b\\\u001b[35m/git/eeg_course_project/data/ds003702/derivatives/mne-bids-pipeline/sub-14/eeg/\u001b[0m\u001b]8;;\u001b\\\u001b]8;id=905703;file:///home/fspletti/vorlesungen/2023S_Signal_processing_and_Analysis_of_human_brain_potentials_(EEG)/git/eeg_course_project/data/ds003702/derivatives/mne-bids-pipeline/sub-14/eeg/sub-14_task-SocialMemoryCuing_report.html\u001b\\\u001b[95msub-14_task-SocialMemoryCuing_report.html\u001b[0m\u001b]8;;\u001b\\\n",
      "\u001b[32m│\u001b[0m\u001b[1;32m14:56:09\u001b[0m\u001b[32m│ \u001b[0m\u001b[1;36m⏳️ sub-\u001b[0m\u001b[1;36m20\u001b[0m\u001b[1;36m \u001b[0mInitializing report HDF5 file\n",
      "\u001b[32m│\u001b[0m\u001b[1;32m14:56:09\u001b[0m\u001b[32m│ \u001b[0m\u001b[1;36m⏳️ sub-\u001b[0m\u001b[1;36m20\u001b[0m\u001b[1;36m \u001b[0mAdding original raw data to report\n",
      "\u001b[32m│\u001b[0m\u001b[1;32m14:56:16\u001b[0m\u001b[32m│ \u001b[0m\u001b[1;36m⏳️ sub-\u001b[0m\u001b[1;36m15\u001b[0m\u001b[1;36m \u001b[0mAdding config and sys info to report\n",
      "\u001b[32m│\u001b[0m\u001b[1;32m14:56:16\u001b[0m\u001b[32m│ \u001b[0m\u001b[1;36m⏳️ sub-\u001b[0m\u001b[1;36m15\u001b[0m\u001b[1;36m \u001b[0mSaving report: \u001b]8;id=737599;file:///home/fspletti/vorlesungen/2023S_Signal_processing_and_Analysis_of_human_brain_potentials_(EEG)/git/eeg_course_project/data/ds003702/derivatives/mne-bids-pipeline/sub-15/eeg/sub-15_task-SocialMemoryCuing_report.html\u001b\\\u001b[35m/home/fspletti/vorlesungen/\u001b[0m\u001b]8;;\u001b\\\u001b]8;id=163204;file:///home/fspletti/vorlesungen/2023S_Signal_processing_and_Analysis_of_human_brain_potentials_(EEG)/git/eeg_course_project/data/ds003702/derivatives/mne-bids-pipeline/sub-15/eeg/sub-15_task-SocialMemoryCuing_report.html\u001b\\\u001b[95m2023S_Signal_processing_and_Analysis_of_human_brain_potentials_\u001b[0m\u001b]8;;\u001b\\\u001b]8;id=563322;file:///home/fspletti/vorlesungen/2023S_Signal_processing_and_Analysis_of_human_brain_potentials_(EEG)/git/eeg_course_project/data/ds003702/derivatives/mne-bids-pipeline/sub-15/eeg/sub-15_task-SocialMemoryCuing_report.html\u001b\\\u001b[1m(\u001b[0m\u001b]8;;\u001b\\\u001b]8;id=760528;file:///home/fspletti/vorlesungen/2023S_Signal_processing_and_Analysis_of_human_brain_potentials_(EEG)/git/eeg_course_project/data/ds003702/derivatives/mne-bids-pipeline/sub-15/eeg/sub-15_task-SocialMemoryCuing_report.html\u001b\\EEG\u001b]8;;\u001b\\\u001b]8;id=563322;file:///home/fspletti/vorlesungen/2023S_Signal_processing_and_Analysis_of_human_brain_potentials_(EEG)/git/eeg_course_project/data/ds003702/derivatives/mne-bids-pipeline/sub-15/eeg/sub-15_task-SocialMemoryCuing_report.html\u001b\\\u001b[1m)\u001b[0m\u001b]8;;\u001b\\\u001b]8;id=737599;file:///home/fspletti/vorlesungen/2023S_Signal_processing_and_Analysis_of_human_brain_potentials_(EEG)/git/eeg_course_project/data/ds003702/derivatives/mne-bids-pipeline/sub-15/eeg/sub-15_task-SocialMemoryCuing_report.html\u001b\\\u001b[35m/git/eeg_course_project/data/ds003702/derivatives/mne-bids-pipeline/sub-15/eeg/\u001b[0m\u001b]8;;\u001b\\\u001b]8;id=163204;file:///home/fspletti/vorlesungen/2023S_Signal_processing_and_Analysis_of_human_brain_potentials_(EEG)/git/eeg_course_project/data/ds003702/derivatives/mne-bids-pipeline/sub-15/eeg/sub-15_task-SocialMemoryCuing_report.html\u001b\\\u001b[95msub-15_task-SocialMemoryCuing_report.html\u001b[0m\u001b]8;;\u001b\\\n",
      "\u001b[32m│\u001b[0m\u001b[1;32m14:56:16\u001b[0m\u001b[32m│ \u001b[0m\u001b[1;36m⏳️ sub-\u001b[0m\u001b[1;36m21\u001b[0m\u001b[1;36m \u001b[0mInitializing report HDF5 file\n",
      "\u001b[32m│\u001b[0m\u001b[1;32m14:56:16\u001b[0m\u001b[32m│ \u001b[0m\u001b[1;36m⏳️ sub-\u001b[0m\u001b[1;36m21\u001b[0m\u001b[1;36m \u001b[0mAdding original raw data to report\n",
      "\u001b[32m│\u001b[0m\u001b[1;32m14:56:18\u001b[0m\u001b[32m│ \u001b[0m\u001b[1;36m⏳️ sub-\u001b[0m\u001b[1;36m18\u001b[0m\u001b[1;36m \u001b[0mAdding config and sys info to report\n",
      "\u001b[32m│\u001b[0m\u001b[1;32m14:56:18\u001b[0m\u001b[32m│ \u001b[0m\u001b[1;36m⏳️ sub-\u001b[0m\u001b[1;36m18\u001b[0m\u001b[1;36m \u001b[0mSaving report: \u001b]8;id=786684;file:///home/fspletti/vorlesungen/2023S_Signal_processing_and_Analysis_of_human_brain_potentials_(EEG)/git/eeg_course_project/data/ds003702/derivatives/mne-bids-pipeline/sub-18/eeg/sub-18_task-SocialMemoryCuing_report.html\u001b\\\u001b[35m/home/fspletti/vorlesungen/\u001b[0m\u001b]8;;\u001b\\\u001b]8;id=123733;file:///home/fspletti/vorlesungen/2023S_Signal_processing_and_Analysis_of_human_brain_potentials_(EEG)/git/eeg_course_project/data/ds003702/derivatives/mne-bids-pipeline/sub-18/eeg/sub-18_task-SocialMemoryCuing_report.html\u001b\\\u001b[95m2023S_Signal_processing_and_Analysis_of_human_brain_potentials_\u001b[0m\u001b]8;;\u001b\\\u001b]8;id=677423;file:///home/fspletti/vorlesungen/2023S_Signal_processing_and_Analysis_of_human_brain_potentials_(EEG)/git/eeg_course_project/data/ds003702/derivatives/mne-bids-pipeline/sub-18/eeg/sub-18_task-SocialMemoryCuing_report.html\u001b\\\u001b[1m(\u001b[0m\u001b]8;;\u001b\\\u001b]8;id=242665;file:///home/fspletti/vorlesungen/2023S_Signal_processing_and_Analysis_of_human_brain_potentials_(EEG)/git/eeg_course_project/data/ds003702/derivatives/mne-bids-pipeline/sub-18/eeg/sub-18_task-SocialMemoryCuing_report.html\u001b\\EEG\u001b]8;;\u001b\\\u001b]8;id=677423;file:///home/fspletti/vorlesungen/2023S_Signal_processing_and_Analysis_of_human_brain_potentials_(EEG)/git/eeg_course_project/data/ds003702/derivatives/mne-bids-pipeline/sub-18/eeg/sub-18_task-SocialMemoryCuing_report.html\u001b\\\u001b[1m)\u001b[0m\u001b]8;;\u001b\\\u001b]8;id=786684;file:///home/fspletti/vorlesungen/2023S_Signal_processing_and_Analysis_of_human_brain_potentials_(EEG)/git/eeg_course_project/data/ds003702/derivatives/mne-bids-pipeline/sub-18/eeg/sub-18_task-SocialMemoryCuing_report.html\u001b\\\u001b[35m/git/eeg_course_project/data/ds003702/derivatives/mne-bids-pipeline/sub-18/eeg/\u001b[0m\u001b]8;;\u001b\\\u001b]8;id=123733;file:///home/fspletti/vorlesungen/2023S_Signal_processing_and_Analysis_of_human_brain_potentials_(EEG)/git/eeg_course_project/data/ds003702/derivatives/mne-bids-pipeline/sub-18/eeg/sub-18_task-SocialMemoryCuing_report.html\u001b\\\u001b[95msub-18_task-SocialMemoryCuing_report.html\u001b[0m\u001b]8;;\u001b\\\n",
      "\u001b[32m│\u001b[0m\u001b[1;32m14:56:18\u001b[0m\u001b[32m│ \u001b[0m\u001b[1;36m⏳️ sub-\u001b[0m\u001b[1;36m19\u001b[0m\u001b[1;36m \u001b[0mAdding config and sys info to report\n",
      "\u001b[32m│\u001b[0m\u001b[1;32m14:56:18\u001b[0m\u001b[32m│ \u001b[0m\u001b[1;36m⏳️ sub-\u001b[0m\u001b[1;36m19\u001b[0m\u001b[1;36m \u001b[0mSaving report: \u001b]8;id=155996;file:///home/fspletti/vorlesungen/2023S_Signal_processing_and_Analysis_of_human_brain_potentials_(EEG)/git/eeg_course_project/data/ds003702/derivatives/mne-bids-pipeline/sub-19/eeg/sub-19_task-SocialMemoryCuing_report.html\u001b\\\u001b[35m/home/fspletti/vorlesungen/\u001b[0m\u001b]8;;\u001b\\\u001b]8;id=929210;file:///home/fspletti/vorlesungen/2023S_Signal_processing_and_Analysis_of_human_brain_potentials_(EEG)/git/eeg_course_project/data/ds003702/derivatives/mne-bids-pipeline/sub-19/eeg/sub-19_task-SocialMemoryCuing_report.html\u001b\\\u001b[95m2023S_Signal_processing_and_Analysis_of_human_brain_potentials_\u001b[0m\u001b]8;;\u001b\\\u001b]8;id=191973;file:///home/fspletti/vorlesungen/2023S_Signal_processing_and_Analysis_of_human_brain_potentials_(EEG)/git/eeg_course_project/data/ds003702/derivatives/mne-bids-pipeline/sub-19/eeg/sub-19_task-SocialMemoryCuing_report.html\u001b\\\u001b[1m(\u001b[0m\u001b]8;;\u001b\\\u001b]8;id=387280;file:///home/fspletti/vorlesungen/2023S_Signal_processing_and_Analysis_of_human_brain_potentials_(EEG)/git/eeg_course_project/data/ds003702/derivatives/mne-bids-pipeline/sub-19/eeg/sub-19_task-SocialMemoryCuing_report.html\u001b\\EEG\u001b]8;;\u001b\\\u001b]8;id=191973;file:///home/fspletti/vorlesungen/2023S_Signal_processing_and_Analysis_of_human_brain_potentials_(EEG)/git/eeg_course_project/data/ds003702/derivatives/mne-bids-pipeline/sub-19/eeg/sub-19_task-SocialMemoryCuing_report.html\u001b\\\u001b[1m)\u001b[0m\u001b]8;;\u001b\\\u001b]8;id=155996;file:///home/fspletti/vorlesungen/2023S_Signal_processing_and_Analysis_of_human_brain_potentials_(EEG)/git/eeg_course_project/data/ds003702/derivatives/mne-bids-pipeline/sub-19/eeg/sub-19_task-SocialMemoryCuing_report.html\u001b\\\u001b[35m/git/eeg_course_project/data/ds003702/derivatives/mne-bids-pipeline/sub-19/eeg/\u001b[0m\u001b]8;;\u001b\\\u001b]8;id=929210;file:///home/fspletti/vorlesungen/2023S_Signal_processing_and_Analysis_of_human_brain_potentials_(EEG)/git/eeg_course_project/data/ds003702/derivatives/mne-bids-pipeline/sub-19/eeg/sub-19_task-SocialMemoryCuing_report.html\u001b\\\u001b[95msub-19_task-SocialMemoryCuing_report.html\u001b[0m\u001b]8;;\u001b\\\n",
      "\u001b[32m│\u001b[0m\u001b[1;32m14:56:18\u001b[0m\u001b[32m│ \u001b[0m\u001b[1;36m⏳️ sub-\u001b[0m\u001b[1;36m22\u001b[0m\u001b[1;36m \u001b[0mInitializing report HDF5 file\n",
      "\u001b[32m│\u001b[0m\u001b[1;32m14:56:18\u001b[0m\u001b[32m│ \u001b[0m\u001b[1;36m⏳️ sub-\u001b[0m\u001b[1;36m22\u001b[0m\u001b[1;36m \u001b[0mAdding original raw data to report\n",
      "\u001b[32m│\u001b[0m\u001b[1;32m14:56:18\u001b[0m\u001b[32m│ \u001b[0m\u001b[1;36m⏳️ sub-\u001b[0m\u001b[1;36m23\u001b[0m\u001b[1;36m \u001b[0mInitializing report HDF5 file\n",
      "\u001b[32m│\u001b[0m\u001b[1;32m14:56:18\u001b[0m\u001b[32m│ \u001b[0m\u001b[1;36m⏳️ sub-\u001b[0m\u001b[1;36m23\u001b[0m\u001b[1;36m \u001b[0mAdding original raw data to report\n",
      "\u001b[32m│\u001b[0m\u001b[1;32m14:56:21\u001b[0m\u001b[32m│ \u001b[0m\u001b[1;36m⏳️ sub-\u001b[0m\u001b[1;36m16\u001b[0m\u001b[1;36m \u001b[0mAdding config and sys info to report\n",
      "\u001b[32m│\u001b[0m\u001b[1;32m14:56:21\u001b[0m\u001b[32m│ \u001b[0m\u001b[1;36m⏳️ sub-\u001b[0m\u001b[1;36m16\u001b[0m\u001b[1;36m \u001b[0mSaving report: \u001b]8;id=497978;file:///home/fspletti/vorlesungen/2023S_Signal_processing_and_Analysis_of_human_brain_potentials_(EEG)/git/eeg_course_project/data/ds003702/derivatives/mne-bids-pipeline/sub-16/eeg/sub-16_task-SocialMemoryCuing_report.html\u001b\\\u001b[35m/home/fspletti/vorlesungen/\u001b[0m\u001b]8;;\u001b\\\u001b]8;id=667149;file:///home/fspletti/vorlesungen/2023S_Signal_processing_and_Analysis_of_human_brain_potentials_(EEG)/git/eeg_course_project/data/ds003702/derivatives/mne-bids-pipeline/sub-16/eeg/sub-16_task-SocialMemoryCuing_report.html\u001b\\\u001b[95m2023S_Signal_processing_and_Analysis_of_human_brain_potentials_\u001b[0m\u001b]8;;\u001b\\\u001b]8;id=902632;file:///home/fspletti/vorlesungen/2023S_Signal_processing_and_Analysis_of_human_brain_potentials_(EEG)/git/eeg_course_project/data/ds003702/derivatives/mne-bids-pipeline/sub-16/eeg/sub-16_task-SocialMemoryCuing_report.html\u001b\\\u001b[1m(\u001b[0m\u001b]8;;\u001b\\\u001b]8;id=551551;file:///home/fspletti/vorlesungen/2023S_Signal_processing_and_Analysis_of_human_brain_potentials_(EEG)/git/eeg_course_project/data/ds003702/derivatives/mne-bids-pipeline/sub-16/eeg/sub-16_task-SocialMemoryCuing_report.html\u001b\\EEG\u001b]8;;\u001b\\\u001b]8;id=902632;file:///home/fspletti/vorlesungen/2023S_Signal_processing_and_Analysis_of_human_brain_potentials_(EEG)/git/eeg_course_project/data/ds003702/derivatives/mne-bids-pipeline/sub-16/eeg/sub-16_task-SocialMemoryCuing_report.html\u001b\\\u001b[1m)\u001b[0m\u001b]8;;\u001b\\\u001b]8;id=497978;file:///home/fspletti/vorlesungen/2023S_Signal_processing_and_Analysis_of_human_brain_potentials_(EEG)/git/eeg_course_project/data/ds003702/derivatives/mne-bids-pipeline/sub-16/eeg/sub-16_task-SocialMemoryCuing_report.html\u001b\\\u001b[35m/git/eeg_course_project/data/ds003702/derivatives/mne-bids-pipeline/sub-16/eeg/\u001b[0m\u001b]8;;\u001b\\\u001b]8;id=667149;file:///home/fspletti/vorlesungen/2023S_Signal_processing_and_Analysis_of_human_brain_potentials_(EEG)/git/eeg_course_project/data/ds003702/derivatives/mne-bids-pipeline/sub-16/eeg/sub-16_task-SocialMemoryCuing_report.html\u001b\\\u001b[95msub-16_task-SocialMemoryCuing_report.html\u001b[0m\u001b]8;;\u001b\\\n",
      "\u001b[32m│\u001b[0m\u001b[1;32m14:56:21\u001b[0m\u001b[32m│ \u001b[0m\u001b[1;36m⏳️ sub-\u001b[0m\u001b[1;36m24\u001b[0m\u001b[1;36m \u001b[0mInitializing report HDF5 file\n",
      "\u001b[32m│\u001b[0m\u001b[1;32m14:56:22\u001b[0m\u001b[32m│ \u001b[0m\u001b[1;36m⏳️ sub-\u001b[0m\u001b[1;36m24\u001b[0m\u001b[1;36m \u001b[0mAdding original raw data to report\n",
      "\u001b[32m│\u001b[0m\u001b[1;32m14:56:23\u001b[0m\u001b[32m│ \u001b[0m\u001b[1;36m⏳️ sub-\u001b[0m\u001b[1;36m17\u001b[0m\u001b[1;36m \u001b[0mAdding config and sys info to report\n",
      "\u001b[32m│\u001b[0m\u001b[1;32m14:56:23\u001b[0m\u001b[32m│ \u001b[0m\u001b[1;36m⏳️ sub-\u001b[0m\u001b[1;36m17\u001b[0m\u001b[1;36m \u001b[0mSaving report: \u001b]8;id=196571;file:///home/fspletti/vorlesungen/2023S_Signal_processing_and_Analysis_of_human_brain_potentials_(EEG)/git/eeg_course_project/data/ds003702/derivatives/mne-bids-pipeline/sub-17/eeg/sub-17_task-SocialMemoryCuing_report.html\u001b\\\u001b[35m/home/fspletti/vorlesungen/\u001b[0m\u001b]8;;\u001b\\\u001b]8;id=939859;file:///home/fspletti/vorlesungen/2023S_Signal_processing_and_Analysis_of_human_brain_potentials_(EEG)/git/eeg_course_project/data/ds003702/derivatives/mne-bids-pipeline/sub-17/eeg/sub-17_task-SocialMemoryCuing_report.html\u001b\\\u001b[95m2023S_Signal_processing_and_Analysis_of_human_brain_potentials_\u001b[0m\u001b]8;;\u001b\\\u001b]8;id=819754;file:///home/fspletti/vorlesungen/2023S_Signal_processing_and_Analysis_of_human_brain_potentials_(EEG)/git/eeg_course_project/data/ds003702/derivatives/mne-bids-pipeline/sub-17/eeg/sub-17_task-SocialMemoryCuing_report.html\u001b\\\u001b[1m(\u001b[0m\u001b]8;;\u001b\\\u001b]8;id=116012;file:///home/fspletti/vorlesungen/2023S_Signal_processing_and_Analysis_of_human_brain_potentials_(EEG)/git/eeg_course_project/data/ds003702/derivatives/mne-bids-pipeline/sub-17/eeg/sub-17_task-SocialMemoryCuing_report.html\u001b\\EEG\u001b]8;;\u001b\\\u001b]8;id=819754;file:///home/fspletti/vorlesungen/2023S_Signal_processing_and_Analysis_of_human_brain_potentials_(EEG)/git/eeg_course_project/data/ds003702/derivatives/mne-bids-pipeline/sub-17/eeg/sub-17_task-SocialMemoryCuing_report.html\u001b\\\u001b[1m)\u001b[0m\u001b]8;;\u001b\\\u001b]8;id=196571;file:///home/fspletti/vorlesungen/2023S_Signal_processing_and_Analysis_of_human_brain_potentials_(EEG)/git/eeg_course_project/data/ds003702/derivatives/mne-bids-pipeline/sub-17/eeg/sub-17_task-SocialMemoryCuing_report.html\u001b\\\u001b[35m/git/eeg_course_project/data/ds003702/derivatives/mne-bids-pipeline/sub-17/eeg/\u001b[0m\u001b]8;;\u001b\\\u001b]8;id=939859;file:///home/fspletti/vorlesungen/2023S_Signal_processing_and_Analysis_of_human_brain_potentials_(EEG)/git/eeg_course_project/data/ds003702/derivatives/mne-bids-pipeline/sub-17/eeg/sub-17_task-SocialMemoryCuing_report.html\u001b\\\u001b[95msub-17_task-SocialMemoryCuing_report.html\u001b[0m\u001b]8;;\u001b\\\n",
      "\u001b[32m│\u001b[0m\u001b[1;32m14:56:23\u001b[0m\u001b[32m│ \u001b[0m\u001b[1;36m⏳️ sub-\u001b[0m\u001b[1;36m20\u001b[0m\u001b[1;36m \u001b[0mAdding config and sys info to report\n",
      "\u001b[32m│\u001b[0m\u001b[1;32m14:56:23\u001b[0m\u001b[32m│ \u001b[0m\u001b[1;36m⏳️ sub-\u001b[0m\u001b[1;36m25\u001b[0m\u001b[1;36m \u001b[0mInitializing report HDF5 file\n",
      "\u001b[32m│\u001b[0m\u001b[1;32m14:56:23\u001b[0m\u001b[32m│ \u001b[0m\u001b[1;36m⏳️ sub-\u001b[0m\u001b[1;36m20\u001b[0m\u001b[1;36m \u001b[0mSaving report: \u001b]8;id=460155;file:///home/fspletti/vorlesungen/2023S_Signal_processing_and_Analysis_of_human_brain_potentials_(EEG)/git/eeg_course_project/data/ds003702/derivatives/mne-bids-pipeline/sub-20/eeg/sub-20_task-SocialMemoryCuing_report.html\u001b\\\u001b[35m/home/fspletti/vorlesungen/\u001b[0m\u001b]8;;\u001b\\\u001b]8;id=578838;file:///home/fspletti/vorlesungen/2023S_Signal_processing_and_Analysis_of_human_brain_potentials_(EEG)/git/eeg_course_project/data/ds003702/derivatives/mne-bids-pipeline/sub-20/eeg/sub-20_task-SocialMemoryCuing_report.html\u001b\\\u001b[95m2023S_Signal_processing_and_Analysis_of_human_brain_potentials_\u001b[0m\u001b]8;;\u001b\\\u001b]8;id=421331;file:///home/fspletti/vorlesungen/2023S_Signal_processing_and_Analysis_of_human_brain_potentials_(EEG)/git/eeg_course_project/data/ds003702/derivatives/mne-bids-pipeline/sub-20/eeg/sub-20_task-SocialMemoryCuing_report.html\u001b\\\u001b[1m(\u001b[0m\u001b]8;;\u001b\\\u001b]8;id=298144;file:///home/fspletti/vorlesungen/2023S_Signal_processing_and_Analysis_of_human_brain_potentials_(EEG)/git/eeg_course_project/data/ds003702/derivatives/mne-bids-pipeline/sub-20/eeg/sub-20_task-SocialMemoryCuing_report.html\u001b\\EEG\u001b]8;;\u001b\\\u001b]8;id=421331;file:///home/fspletti/vorlesungen/2023S_Signal_processing_and_Analysis_of_human_brain_potentials_(EEG)/git/eeg_course_project/data/ds003702/derivatives/mne-bids-pipeline/sub-20/eeg/sub-20_task-SocialMemoryCuing_report.html\u001b\\\u001b[1m)\u001b[0m\u001b]8;;\u001b\\\u001b]8;id=460155;file:///home/fspletti/vorlesungen/2023S_Signal_processing_and_Analysis_of_human_brain_potentials_(EEG)/git/eeg_course_project/data/ds003702/derivatives/mne-bids-pipeline/sub-20/eeg/sub-20_task-SocialMemoryCuing_report.html\u001b\\\u001b[35m/git/eeg_course_project/data/ds003702/derivatives/mne-bids-pipeline/sub-20/eeg/\u001b[0m\u001b]8;;\u001b\\\u001b]8;id=578838;file:///home/fspletti/vorlesungen/2023S_Signal_processing_and_Analysis_of_human_brain_potentials_(EEG)/git/eeg_course_project/data/ds003702/derivatives/mne-bids-pipeline/sub-20/eeg/sub-20_task-SocialMemoryCuing_report.html\u001b\\\u001b[95msub-20_task-SocialMemoryCuing_report.html\u001b[0m\u001b]8;;\u001b\\\n",
      "\u001b[32m│\u001b[0m\u001b[1;32m14:56:23\u001b[0m\u001b[32m│ \u001b[0m\u001b[1;36m⏳️ sub-\u001b[0m\u001b[1;36m25\u001b[0m\u001b[1;36m \u001b[0mAdding original raw data to report\n",
      "\u001b[32m│\u001b[0m\u001b[1;32m14:56:23\u001b[0m\u001b[32m│ \u001b[0m\u001b[1;36m⏳️ sub-\u001b[0m\u001b[1;36m26\u001b[0m\u001b[1;36m \u001b[0mInitializing report HDF5 file\n",
      "\u001b[32m│\u001b[0m\u001b[1;32m14:56:23\u001b[0m\u001b[32m│ \u001b[0m\u001b[1;36m⏳️ sub-\u001b[0m\u001b[1;36m26\u001b[0m\u001b[1;36m \u001b[0mAdding original raw data to report\n",
      "\u001b[32m│\u001b[0m\u001b[1;32m14:56:28\u001b[0m\u001b[32m│ \u001b[0m\u001b[1;36m⏳️ sub-\u001b[0m\u001b[1;36m21\u001b[0m\u001b[1;36m \u001b[0mAdding config and sys info to report\n",
      "\u001b[32m│\u001b[0m\u001b[1;32m14:56:28\u001b[0m\u001b[32m│ \u001b[0m\u001b[1;36m⏳️ sub-\u001b[0m\u001b[1;36m21\u001b[0m\u001b[1;36m \u001b[0mSaving report: \u001b]8;id=602145;file:///home/fspletti/vorlesungen/2023S_Signal_processing_and_Analysis_of_human_brain_potentials_(EEG)/git/eeg_course_project/data/ds003702/derivatives/mne-bids-pipeline/sub-21/eeg/sub-21_task-SocialMemoryCuing_report.html\u001b\\\u001b[35m/home/fspletti/vorlesungen/\u001b[0m\u001b]8;;\u001b\\\u001b]8;id=365997;file:///home/fspletti/vorlesungen/2023S_Signal_processing_and_Analysis_of_human_brain_potentials_(EEG)/git/eeg_course_project/data/ds003702/derivatives/mne-bids-pipeline/sub-21/eeg/sub-21_task-SocialMemoryCuing_report.html\u001b\\\u001b[95m2023S_Signal_processing_and_Analysis_of_human_brain_potentials_\u001b[0m\u001b]8;;\u001b\\\u001b]8;id=795355;file:///home/fspletti/vorlesungen/2023S_Signal_processing_and_Analysis_of_human_brain_potentials_(EEG)/git/eeg_course_project/data/ds003702/derivatives/mne-bids-pipeline/sub-21/eeg/sub-21_task-SocialMemoryCuing_report.html\u001b\\\u001b[1m(\u001b[0m\u001b]8;;\u001b\\\u001b]8;id=93663;file:///home/fspletti/vorlesungen/2023S_Signal_processing_and_Analysis_of_human_brain_potentials_(EEG)/git/eeg_course_project/data/ds003702/derivatives/mne-bids-pipeline/sub-21/eeg/sub-21_task-SocialMemoryCuing_report.html\u001b\\EEG\u001b]8;;\u001b\\\u001b]8;id=795355;file:///home/fspletti/vorlesungen/2023S_Signal_processing_and_Analysis_of_human_brain_potentials_(EEG)/git/eeg_course_project/data/ds003702/derivatives/mne-bids-pipeline/sub-21/eeg/sub-21_task-SocialMemoryCuing_report.html\u001b\\\u001b[1m)\u001b[0m\u001b]8;;\u001b\\\u001b]8;id=602145;file:///home/fspletti/vorlesungen/2023S_Signal_processing_and_Analysis_of_human_brain_potentials_(EEG)/git/eeg_course_project/data/ds003702/derivatives/mne-bids-pipeline/sub-21/eeg/sub-21_task-SocialMemoryCuing_report.html\u001b\\\u001b[35m/git/eeg_course_project/data/ds003702/derivatives/mne-bids-pipeline/sub-21/eeg/\u001b[0m\u001b]8;;\u001b\\\u001b]8;id=365997;file:///home/fspletti/vorlesungen/2023S_Signal_processing_and_Analysis_of_human_brain_potentials_(EEG)/git/eeg_course_project/data/ds003702/derivatives/mne-bids-pipeline/sub-21/eeg/sub-21_task-SocialMemoryCuing_report.html\u001b\\\u001b[95msub-21_task-SocialMemoryCuing_report.html\u001b[0m\u001b]8;;\u001b\\\n",
      "\u001b[32m│\u001b[0m\u001b[1;32m14:56:28\u001b[0m\u001b[32m│ \u001b[0m\u001b[1;36m⏳️ sub-\u001b[0m\u001b[1;36m27\u001b[0m\u001b[1;36m \u001b[0mInitializing report HDF5 file\n",
      "\u001b[32m│\u001b[0m\u001b[1;32m14:56:28\u001b[0m\u001b[32m│ \u001b[0m\u001b[1;36m⏳️ sub-\u001b[0m\u001b[1;36m27\u001b[0m\u001b[1;36m \u001b[0mAdding original raw data to report\n",
      "\u001b[32m│\u001b[0m\u001b[1;32m14:56:32\u001b[0m\u001b[32m│ \u001b[0m\u001b[1;36m⏳️ sub-\u001b[0m\u001b[1;36m22\u001b[0m\u001b[1;36m \u001b[0mAdding config and sys info to report\n",
      "\u001b[32m│\u001b[0m\u001b[1;32m14:56:32\u001b[0m\u001b[32m│ \u001b[0m\u001b[1;36m⏳️ sub-\u001b[0m\u001b[1;36m22\u001b[0m\u001b[1;36m \u001b[0mSaving report: \u001b]8;id=151930;file:///home/fspletti/vorlesungen/2023S_Signal_processing_and_Analysis_of_human_brain_potentials_(EEG)/git/eeg_course_project/data/ds003702/derivatives/mne-bids-pipeline/sub-22/eeg/sub-22_task-SocialMemoryCuing_report.html\u001b\\\u001b[35m/home/fspletti/vorlesungen/\u001b[0m\u001b]8;;\u001b\\\u001b]8;id=456057;file:///home/fspletti/vorlesungen/2023S_Signal_processing_and_Analysis_of_human_brain_potentials_(EEG)/git/eeg_course_project/data/ds003702/derivatives/mne-bids-pipeline/sub-22/eeg/sub-22_task-SocialMemoryCuing_report.html\u001b\\\u001b[95m2023S_Signal_processing_and_Analysis_of_human_brain_potentials_\u001b[0m\u001b]8;;\u001b\\\u001b]8;id=354931;file:///home/fspletti/vorlesungen/2023S_Signal_processing_and_Analysis_of_human_brain_potentials_(EEG)/git/eeg_course_project/data/ds003702/derivatives/mne-bids-pipeline/sub-22/eeg/sub-22_task-SocialMemoryCuing_report.html\u001b\\\u001b[1m(\u001b[0m\u001b]8;;\u001b\\\u001b]8;id=642854;file:///home/fspletti/vorlesungen/2023S_Signal_processing_and_Analysis_of_human_brain_potentials_(EEG)/git/eeg_course_project/data/ds003702/derivatives/mne-bids-pipeline/sub-22/eeg/sub-22_task-SocialMemoryCuing_report.html\u001b\\EEG\u001b]8;;\u001b\\\u001b]8;id=354931;file:///home/fspletti/vorlesungen/2023S_Signal_processing_and_Analysis_of_human_brain_potentials_(EEG)/git/eeg_course_project/data/ds003702/derivatives/mne-bids-pipeline/sub-22/eeg/sub-22_task-SocialMemoryCuing_report.html\u001b\\\u001b[1m)\u001b[0m\u001b]8;;\u001b\\\u001b]8;id=151930;file:///home/fspletti/vorlesungen/2023S_Signal_processing_and_Analysis_of_human_brain_potentials_(EEG)/git/eeg_course_project/data/ds003702/derivatives/mne-bids-pipeline/sub-22/eeg/sub-22_task-SocialMemoryCuing_report.html\u001b\\\u001b[35m/git/eeg_course_project/data/ds003702/derivatives/mne-bids-pipeline/sub-22/eeg/\u001b[0m\u001b]8;;\u001b\\\u001b]8;id=456057;file:///home/fspletti/vorlesungen/2023S_Signal_processing_and_Analysis_of_human_brain_potentials_(EEG)/git/eeg_course_project/data/ds003702/derivatives/mne-bids-pipeline/sub-22/eeg/sub-22_task-SocialMemoryCuing_report.html\u001b\\\u001b[95msub-22_task-SocialMemoryCuing_report.html\u001b[0m\u001b]8;;\u001b\\\n",
      "\u001b[32m│\u001b[0m\u001b[1;32m14:56:32\u001b[0m\u001b[32m│ \u001b[0m\u001b[1;36m⏳️ sub-\u001b[0m\u001b[1;36m28\u001b[0m\u001b[1;36m \u001b[0mInitializing report HDF5 file\n",
      "\u001b[32m│\u001b[0m\u001b[1;32m14:56:32\u001b[0m\u001b[32m│ \u001b[0m\u001b[1;36m⏳️ sub-\u001b[0m\u001b[1;36m28\u001b[0m\u001b[1;36m \u001b[0mAdding original raw data to report\n",
      "\u001b[32m│\u001b[0m\u001b[1;32m14:56:35\u001b[0m\u001b[32m│ \u001b[0m\u001b[1;36m⏳️ sub-\u001b[0m\u001b[1;36m24\u001b[0m\u001b[1;36m \u001b[0mAdding config and sys info to report\n",
      "\u001b[32m│\u001b[0m\u001b[1;32m14:56:35\u001b[0m\u001b[32m│ \u001b[0m\u001b[1;36m⏳️ sub-\u001b[0m\u001b[1;36m24\u001b[0m\u001b[1;36m \u001b[0mSaving report: \u001b]8;id=920007;file:///home/fspletti/vorlesungen/2023S_Signal_processing_and_Analysis_of_human_brain_potentials_(EEG)/git/eeg_course_project/data/ds003702/derivatives/mne-bids-pipeline/sub-24/eeg/sub-24_task-SocialMemoryCuing_report.html\u001b\\\u001b[35m/home/fspletti/vorlesungen/\u001b[0m\u001b]8;;\u001b\\\u001b]8;id=529244;file:///home/fspletti/vorlesungen/2023S_Signal_processing_and_Analysis_of_human_brain_potentials_(EEG)/git/eeg_course_project/data/ds003702/derivatives/mne-bids-pipeline/sub-24/eeg/sub-24_task-SocialMemoryCuing_report.html\u001b\\\u001b[95m2023S_Signal_processing_and_Analysis_of_human_brain_potentials_\u001b[0m\u001b]8;;\u001b\\\u001b]8;id=242943;file:///home/fspletti/vorlesungen/2023S_Signal_processing_and_Analysis_of_human_brain_potentials_(EEG)/git/eeg_course_project/data/ds003702/derivatives/mne-bids-pipeline/sub-24/eeg/sub-24_task-SocialMemoryCuing_report.html\u001b\\\u001b[1m(\u001b[0m\u001b]8;;\u001b\\\u001b]8;id=686691;file:///home/fspletti/vorlesungen/2023S_Signal_processing_and_Analysis_of_human_brain_potentials_(EEG)/git/eeg_course_project/data/ds003702/derivatives/mne-bids-pipeline/sub-24/eeg/sub-24_task-SocialMemoryCuing_report.html\u001b\\EEG\u001b]8;;\u001b\\\u001b]8;id=242943;file:///home/fspletti/vorlesungen/2023S_Signal_processing_and_Analysis_of_human_brain_potentials_(EEG)/git/eeg_course_project/data/ds003702/derivatives/mne-bids-pipeline/sub-24/eeg/sub-24_task-SocialMemoryCuing_report.html\u001b\\\u001b[1m)\u001b[0m\u001b]8;;\u001b\\\u001b]8;id=920007;file:///home/fspletti/vorlesungen/2023S_Signal_processing_and_Analysis_of_human_brain_potentials_(EEG)/git/eeg_course_project/data/ds003702/derivatives/mne-bids-pipeline/sub-24/eeg/sub-24_task-SocialMemoryCuing_report.html\u001b\\\u001b[35m/git/eeg_course_project/data/ds003702/derivatives/mne-bids-pipeline/sub-24/eeg/\u001b[0m\u001b]8;;\u001b\\\u001b]8;id=529244;file:///home/fspletti/vorlesungen/2023S_Signal_processing_and_Analysis_of_human_brain_potentials_(EEG)/git/eeg_course_project/data/ds003702/derivatives/mne-bids-pipeline/sub-24/eeg/sub-24_task-SocialMemoryCuing_report.html\u001b\\\u001b[95msub-24_task-SocialMemoryCuing_report.html\u001b[0m\u001b]8;;\u001b\\\n",
      "\u001b[32m│\u001b[0m\u001b[1;32m14:56:35\u001b[0m\u001b[32m│ \u001b[0m\u001b[1;36m⏳️ sub-\u001b[0m\u001b[1;36m29\u001b[0m\u001b[1;36m \u001b[0mInitializing report HDF5 file\n",
      "\u001b[32m│\u001b[0m\u001b[1;32m14:56:35\u001b[0m\u001b[32m│ \u001b[0m\u001b[1;36m⏳️ sub-\u001b[0m\u001b[1;36m25\u001b[0m\u001b[1;36m \u001b[0mAdding config and sys info to report\n",
      "\u001b[32m│\u001b[0m\u001b[1;32m14:56:35\u001b[0m\u001b[32m│ \u001b[0m\u001b[1;36m⏳️ sub-\u001b[0m\u001b[1;36m25\u001b[0m\u001b[1;36m \u001b[0mSaving report: \u001b]8;id=829562;file:///home/fspletti/vorlesungen/2023S_Signal_processing_and_Analysis_of_human_brain_potentials_(EEG)/git/eeg_course_project/data/ds003702/derivatives/mne-bids-pipeline/sub-25/eeg/sub-25_task-SocialMemoryCuing_report.html\u001b\\\u001b[35m/home/fspletti/vorlesungen/\u001b[0m\u001b]8;;\u001b\\\u001b]8;id=450588;file:///home/fspletti/vorlesungen/2023S_Signal_processing_and_Analysis_of_human_brain_potentials_(EEG)/git/eeg_course_project/data/ds003702/derivatives/mne-bids-pipeline/sub-25/eeg/sub-25_task-SocialMemoryCuing_report.html\u001b\\\u001b[95m2023S_Signal_processing_and_Analysis_of_human_brain_potentials_\u001b[0m\u001b]8;;\u001b\\\u001b]8;id=260408;file:///home/fspletti/vorlesungen/2023S_Signal_processing_and_Analysis_of_human_brain_potentials_(EEG)/git/eeg_course_project/data/ds003702/derivatives/mne-bids-pipeline/sub-25/eeg/sub-25_task-SocialMemoryCuing_report.html\u001b\\\u001b[1m(\u001b[0m\u001b]8;;\u001b\\\u001b]8;id=159488;file:///home/fspletti/vorlesungen/2023S_Signal_processing_and_Analysis_of_human_brain_potentials_(EEG)/git/eeg_course_project/data/ds003702/derivatives/mne-bids-pipeline/sub-25/eeg/sub-25_task-SocialMemoryCuing_report.html\u001b\\EEG\u001b]8;;\u001b\\\u001b]8;id=260408;file:///home/fspletti/vorlesungen/2023S_Signal_processing_and_Analysis_of_human_brain_potentials_(EEG)/git/eeg_course_project/data/ds003702/derivatives/mne-bids-pipeline/sub-25/eeg/sub-25_task-SocialMemoryCuing_report.html\u001b\\\u001b[1m)\u001b[0m\u001b]8;;\u001b\\\u001b]8;id=829562;file:///home/fspletti/vorlesungen/2023S_Signal_processing_and_Analysis_of_human_brain_potentials_(EEG)/git/eeg_course_project/data/ds003702/derivatives/mne-bids-pipeline/sub-25/eeg/sub-25_task-SocialMemoryCuing_report.html\u001b\\\u001b[35m/git/eeg_course_project/data/ds003702/derivatives/mne-bids-pipeline/sub-25/eeg/\u001b[0m\u001b]8;;\u001b\\\u001b]8;id=450588;file:///home/fspletti/vorlesungen/2023S_Signal_processing_and_Analysis_of_human_brain_potentials_(EEG)/git/eeg_course_project/data/ds003702/derivatives/mne-bids-pipeline/sub-25/eeg/sub-25_task-SocialMemoryCuing_report.html\u001b\\\u001b[95msub-25_task-SocialMemoryCuing_report.html\u001b[0m\u001b]8;;\u001b\\\n",
      "\u001b[32m│\u001b[0m\u001b[1;32m14:56:35\u001b[0m\u001b[32m│ \u001b[0m\u001b[1;36m⏳️ sub-\u001b[0m\u001b[1;36m29\u001b[0m\u001b[1;36m \u001b[0mAdding original raw data to report\n",
      "\u001b[32m│\u001b[0m\u001b[1;32m14:56:35\u001b[0m\u001b[32m│ \u001b[0m\u001b[1;36m⏳️ sub-\u001b[0m\u001b[1;36m30\u001b[0m\u001b[1;36m \u001b[0mInitializing report HDF5 file\n",
      "\u001b[32m│\u001b[0m\u001b[1;32m14:56:35\u001b[0m\u001b[32m│ \u001b[0m\u001b[1;36m⏳️ sub-\u001b[0m\u001b[1;36m30\u001b[0m\u001b[1;36m \u001b[0mAdding original raw data to report\n",
      "\u001b[32m│\u001b[0m\u001b[1;32m14:56:36\u001b[0m\u001b[32m│ \u001b[0m\u001b[1;36m⏳️ sub-\u001b[0m\u001b[1;36m23\u001b[0m\u001b[1;36m \u001b[0mAdding config and sys info to report\n",
      "\u001b[32m│\u001b[0m\u001b[1;32m14:56:36\u001b[0m\u001b[32m│ \u001b[0m\u001b[1;36m⏳️ sub-\u001b[0m\u001b[1;36m23\u001b[0m\u001b[1;36m \u001b[0mSaving report: \u001b]8;id=15230;file:///home/fspletti/vorlesungen/2023S_Signal_processing_and_Analysis_of_human_brain_potentials_(EEG)/git/eeg_course_project/data/ds003702/derivatives/mne-bids-pipeline/sub-23/eeg/sub-23_task-SocialMemoryCuing_report.html\u001b\\\u001b[35m/home/fspletti/vorlesungen/\u001b[0m\u001b]8;;\u001b\\\u001b]8;id=874663;file:///home/fspletti/vorlesungen/2023S_Signal_processing_and_Analysis_of_human_brain_potentials_(EEG)/git/eeg_course_project/data/ds003702/derivatives/mne-bids-pipeline/sub-23/eeg/sub-23_task-SocialMemoryCuing_report.html\u001b\\\u001b[95m2023S_Signal_processing_and_Analysis_of_human_brain_potentials_\u001b[0m\u001b]8;;\u001b\\\u001b]8;id=201884;file:///home/fspletti/vorlesungen/2023S_Signal_processing_and_Analysis_of_human_brain_potentials_(EEG)/git/eeg_course_project/data/ds003702/derivatives/mne-bids-pipeline/sub-23/eeg/sub-23_task-SocialMemoryCuing_report.html\u001b\\\u001b[1m(\u001b[0m\u001b]8;;\u001b\\\u001b]8;id=325506;file:///home/fspletti/vorlesungen/2023S_Signal_processing_and_Analysis_of_human_brain_potentials_(EEG)/git/eeg_course_project/data/ds003702/derivatives/mne-bids-pipeline/sub-23/eeg/sub-23_task-SocialMemoryCuing_report.html\u001b\\EEG\u001b]8;;\u001b\\\u001b]8;id=201884;file:///home/fspletti/vorlesungen/2023S_Signal_processing_and_Analysis_of_human_brain_potentials_(EEG)/git/eeg_course_project/data/ds003702/derivatives/mne-bids-pipeline/sub-23/eeg/sub-23_task-SocialMemoryCuing_report.html\u001b\\\u001b[1m)\u001b[0m\u001b]8;;\u001b\\\u001b]8;id=15230;file:///home/fspletti/vorlesungen/2023S_Signal_processing_and_Analysis_of_human_brain_potentials_(EEG)/git/eeg_course_project/data/ds003702/derivatives/mne-bids-pipeline/sub-23/eeg/sub-23_task-SocialMemoryCuing_report.html\u001b\\\u001b[35m/git/eeg_course_project/data/ds003702/derivatives/mne-bids-pipeline/sub-23/eeg/\u001b[0m\u001b]8;;\u001b\\\u001b]8;id=874663;file:///home/fspletti/vorlesungen/2023S_Signal_processing_and_Analysis_of_human_brain_potentials_(EEG)/git/eeg_course_project/data/ds003702/derivatives/mne-bids-pipeline/sub-23/eeg/sub-23_task-SocialMemoryCuing_report.html\u001b\\\u001b[95msub-23_task-SocialMemoryCuing_report.html\u001b[0m\u001b]8;;\u001b\\\n",
      "\u001b[32m│\u001b[0m\u001b[1;32m14:56:36\u001b[0m\u001b[32m│ \u001b[0m\u001b[1;36m⏳️ sub-\u001b[0m\u001b[1;36m32\u001b[0m\u001b[1;36m \u001b[0mInitializing report HDF5 file\n",
      "\u001b[32m│\u001b[0m\u001b[1;32m14:56:36\u001b[0m\u001b[32m│ \u001b[0m\u001b[1;36m⏳️ sub-\u001b[0m\u001b[1;36m32\u001b[0m\u001b[1;36m \u001b[0mAdding original raw data to report\n",
      "\u001b[32m│\u001b[0m\u001b[1;32m14:56:38\u001b[0m\u001b[32m│ \u001b[0m\u001b[1;36m⏳️ sub-\u001b[0m\u001b[1;36m26\u001b[0m\u001b[1;36m \u001b[0mAdding config and sys info to report\n",
      "\u001b[32m│\u001b[0m\u001b[1;32m14:56:38\u001b[0m\u001b[32m│ \u001b[0m\u001b[1;36m⏳️ sub-\u001b[0m\u001b[1;36m26\u001b[0m\u001b[1;36m \u001b[0mSaving report: \u001b]8;id=4270;file:///home/fspletti/vorlesungen/2023S_Signal_processing_and_Analysis_of_human_brain_potentials_(EEG)/git/eeg_course_project/data/ds003702/derivatives/mne-bids-pipeline/sub-26/eeg/sub-26_task-SocialMemoryCuing_report.html\u001b\\\u001b[35m/home/fspletti/vorlesungen/\u001b[0m\u001b]8;;\u001b\\\u001b]8;id=769063;file:///home/fspletti/vorlesungen/2023S_Signal_processing_and_Analysis_of_human_brain_potentials_(EEG)/git/eeg_course_project/data/ds003702/derivatives/mne-bids-pipeline/sub-26/eeg/sub-26_task-SocialMemoryCuing_report.html\u001b\\\u001b[95m2023S_Signal_processing_and_Analysis_of_human_brain_potentials_\u001b[0m\u001b]8;;\u001b\\\u001b]8;id=94430;file:///home/fspletti/vorlesungen/2023S_Signal_processing_and_Analysis_of_human_brain_potentials_(EEG)/git/eeg_course_project/data/ds003702/derivatives/mne-bids-pipeline/sub-26/eeg/sub-26_task-SocialMemoryCuing_report.html\u001b\\\u001b[1m(\u001b[0m\u001b]8;;\u001b\\\u001b]8;id=1107;file:///home/fspletti/vorlesungen/2023S_Signal_processing_and_Analysis_of_human_brain_potentials_(EEG)/git/eeg_course_project/data/ds003702/derivatives/mne-bids-pipeline/sub-26/eeg/sub-26_task-SocialMemoryCuing_report.html\u001b\\EEG\u001b]8;;\u001b\\\u001b]8;id=94430;file:///home/fspletti/vorlesungen/2023S_Signal_processing_and_Analysis_of_human_brain_potentials_(EEG)/git/eeg_course_project/data/ds003702/derivatives/mne-bids-pipeline/sub-26/eeg/sub-26_task-SocialMemoryCuing_report.html\u001b\\\u001b[1m)\u001b[0m\u001b]8;;\u001b\\\u001b]8;id=4270;file:///home/fspletti/vorlesungen/2023S_Signal_processing_and_Analysis_of_human_brain_potentials_(EEG)/git/eeg_course_project/data/ds003702/derivatives/mne-bids-pipeline/sub-26/eeg/sub-26_task-SocialMemoryCuing_report.html\u001b\\\u001b[35m/git/eeg_course_project/data/ds003702/derivatives/mne-bids-pipeline/sub-26/eeg/\u001b[0m\u001b]8;;\u001b\\\u001b]8;id=769063;file:///home/fspletti/vorlesungen/2023S_Signal_processing_and_Analysis_of_human_brain_potentials_(EEG)/git/eeg_course_project/data/ds003702/derivatives/mne-bids-pipeline/sub-26/eeg/sub-26_task-SocialMemoryCuing_report.html\u001b\\\u001b[95msub-26_task-SocialMemoryCuing_report.html\u001b[0m\u001b]8;;\u001b\\\n",
      "\u001b[32m│\u001b[0m\u001b[1;32m14:56:38\u001b[0m\u001b[32m│ \u001b[0m\u001b[1;36m⏳️ sub-\u001b[0m\u001b[1;36m33\u001b[0m\u001b[1;36m \u001b[0mInitializing report HDF5 file\n",
      "\u001b[32m│\u001b[0m\u001b[1;32m14:56:38\u001b[0m\u001b[32m│ \u001b[0m\u001b[1;36m⏳️ sub-\u001b[0m\u001b[1;36m33\u001b[0m\u001b[1;36m \u001b[0mAdding original raw data to report\n",
      "\u001b[32m│\u001b[0m\u001b[1;32m14:56:39\u001b[0m\u001b[32m│ \u001b[0m\u001b[1;36m⏳️ sub-\u001b[0m\u001b[1;36m27\u001b[0m\u001b[1;36m \u001b[0mAdding config and sys info to report\n",
      "\u001b[32m│\u001b[0m\u001b[1;32m14:56:39\u001b[0m\u001b[32m│ \u001b[0m\u001b[1;36m⏳️ sub-\u001b[0m\u001b[1;36m27\u001b[0m\u001b[1;36m \u001b[0mSaving report: \u001b]8;id=724468;file:///home/fspletti/vorlesungen/2023S_Signal_processing_and_Analysis_of_human_brain_potentials_(EEG)/git/eeg_course_project/data/ds003702/derivatives/mne-bids-pipeline/sub-27/eeg/sub-27_task-SocialMemoryCuing_report.html\u001b\\\u001b[35m/home/fspletti/vorlesungen/\u001b[0m\u001b]8;;\u001b\\\u001b]8;id=802246;file:///home/fspletti/vorlesungen/2023S_Signal_processing_and_Analysis_of_human_brain_potentials_(EEG)/git/eeg_course_project/data/ds003702/derivatives/mne-bids-pipeline/sub-27/eeg/sub-27_task-SocialMemoryCuing_report.html\u001b\\\u001b[95m2023S_Signal_processing_and_Analysis_of_human_brain_potentials_\u001b[0m\u001b]8;;\u001b\\\u001b]8;id=650904;file:///home/fspletti/vorlesungen/2023S_Signal_processing_and_Analysis_of_human_brain_potentials_(EEG)/git/eeg_course_project/data/ds003702/derivatives/mne-bids-pipeline/sub-27/eeg/sub-27_task-SocialMemoryCuing_report.html\u001b\\\u001b[1m(\u001b[0m\u001b]8;;\u001b\\\u001b]8;id=389614;file:///home/fspletti/vorlesungen/2023S_Signal_processing_and_Analysis_of_human_brain_potentials_(EEG)/git/eeg_course_project/data/ds003702/derivatives/mne-bids-pipeline/sub-27/eeg/sub-27_task-SocialMemoryCuing_report.html\u001b\\EEG\u001b]8;;\u001b\\\u001b]8;id=650904;file:///home/fspletti/vorlesungen/2023S_Signal_processing_and_Analysis_of_human_brain_potentials_(EEG)/git/eeg_course_project/data/ds003702/derivatives/mne-bids-pipeline/sub-27/eeg/sub-27_task-SocialMemoryCuing_report.html\u001b\\\u001b[1m)\u001b[0m\u001b]8;;\u001b\\\u001b]8;id=724468;file:///home/fspletti/vorlesungen/2023S_Signal_processing_and_Analysis_of_human_brain_potentials_(EEG)/git/eeg_course_project/data/ds003702/derivatives/mne-bids-pipeline/sub-27/eeg/sub-27_task-SocialMemoryCuing_report.html\u001b\\\u001b[35m/git/eeg_course_project/data/ds003702/derivatives/mne-bids-pipeline/sub-27/eeg/\u001b[0m\u001b]8;;\u001b\\\u001b]8;id=802246;file:///home/fspletti/vorlesungen/2023S_Signal_processing_and_Analysis_of_human_brain_potentials_(EEG)/git/eeg_course_project/data/ds003702/derivatives/mne-bids-pipeline/sub-27/eeg/sub-27_task-SocialMemoryCuing_report.html\u001b\\\u001b[95msub-27_task-SocialMemoryCuing_report.html\u001b[0m\u001b]8;;\u001b\\\n",
      "\u001b[32m│\u001b[0m\u001b[1;32m14:56:39\u001b[0m\u001b[32m│ \u001b[0m\u001b[1;36m⏳️ sub-\u001b[0m\u001b[1;36m34\u001b[0m\u001b[1;36m \u001b[0mInitializing report HDF5 file\n",
      "\u001b[32m│\u001b[0m\u001b[1;32m14:56:39\u001b[0m\u001b[32m│ \u001b[0m\u001b[1;36m⏳️ sub-\u001b[0m\u001b[1;36m34\u001b[0m\u001b[1;36m \u001b[0mAdding original raw data to report\n",
      "\u001b[32m│\u001b[0m\u001b[1;32m14:56:41\u001b[0m\u001b[32m│ \u001b[0m\u001b[1;36m⏳️ sub-\u001b[0m\u001b[1;36m28\u001b[0m\u001b[1;36m \u001b[0mAdding config and sys info to report\n",
      "\u001b[32m│\u001b[0m\u001b[1;32m14:56:42\u001b[0m\u001b[32m│ \u001b[0m\u001b[1;36m⏳️ sub-\u001b[0m\u001b[1;36m28\u001b[0m\u001b[1;36m \u001b[0mSaving report: \u001b]8;id=919465;file:///home/fspletti/vorlesungen/2023S_Signal_processing_and_Analysis_of_human_brain_potentials_(EEG)/git/eeg_course_project/data/ds003702/derivatives/mne-bids-pipeline/sub-28/eeg/sub-28_task-SocialMemoryCuing_report.html\u001b\\\u001b[35m/home/fspletti/vorlesungen/\u001b[0m\u001b]8;;\u001b\\\u001b]8;id=426132;file:///home/fspletti/vorlesungen/2023S_Signal_processing_and_Analysis_of_human_brain_potentials_(EEG)/git/eeg_course_project/data/ds003702/derivatives/mne-bids-pipeline/sub-28/eeg/sub-28_task-SocialMemoryCuing_report.html\u001b\\\u001b[95m2023S_Signal_processing_and_Analysis_of_human_brain_potentials_\u001b[0m\u001b]8;;\u001b\\\u001b]8;id=489861;file:///home/fspletti/vorlesungen/2023S_Signal_processing_and_Analysis_of_human_brain_potentials_(EEG)/git/eeg_course_project/data/ds003702/derivatives/mne-bids-pipeline/sub-28/eeg/sub-28_task-SocialMemoryCuing_report.html\u001b\\\u001b[1m(\u001b[0m\u001b]8;;\u001b\\\u001b]8;id=273725;file:///home/fspletti/vorlesungen/2023S_Signal_processing_and_Analysis_of_human_brain_potentials_(EEG)/git/eeg_course_project/data/ds003702/derivatives/mne-bids-pipeline/sub-28/eeg/sub-28_task-SocialMemoryCuing_report.html\u001b\\EEG\u001b]8;;\u001b\\\u001b]8;id=489861;file:///home/fspletti/vorlesungen/2023S_Signal_processing_and_Analysis_of_human_brain_potentials_(EEG)/git/eeg_course_project/data/ds003702/derivatives/mne-bids-pipeline/sub-28/eeg/sub-28_task-SocialMemoryCuing_report.html\u001b\\\u001b[1m)\u001b[0m\u001b]8;;\u001b\\\u001b]8;id=919465;file:///home/fspletti/vorlesungen/2023S_Signal_processing_and_Analysis_of_human_brain_potentials_(EEG)/git/eeg_course_project/data/ds003702/derivatives/mne-bids-pipeline/sub-28/eeg/sub-28_task-SocialMemoryCuing_report.html\u001b\\\u001b[35m/git/eeg_course_project/data/ds003702/derivatives/mne-bids-pipeline/sub-28/eeg/\u001b[0m\u001b]8;;\u001b\\\u001b]8;id=426132;file:///home/fspletti/vorlesungen/2023S_Signal_processing_and_Analysis_of_human_brain_potentials_(EEG)/git/eeg_course_project/data/ds003702/derivatives/mne-bids-pipeline/sub-28/eeg/sub-28_task-SocialMemoryCuing_report.html\u001b\\\u001b[95msub-28_task-SocialMemoryCuing_report.html\u001b[0m\u001b]8;;\u001b\\\n",
      "\u001b[32m│\u001b[0m\u001b[1;32m14:56:42\u001b[0m\u001b[32m│ \u001b[0m\u001b[1;36m⏳️ sub-\u001b[0m\u001b[1;36m35\u001b[0m\u001b[1;36m \u001b[0mInitializing report HDF5 file\n",
      "\u001b[32m│\u001b[0m\u001b[1;32m14:56:42\u001b[0m\u001b[32m│ \u001b[0m\u001b[1;36m⏳️ sub-\u001b[0m\u001b[1;36m35\u001b[0m\u001b[1;36m \u001b[0mAdding original raw data to report\n",
      "\u001b[32m│\u001b[0m\u001b[1;32m14:56:46\u001b[0m\u001b[32m│ \u001b[0m\u001b[1;36m⏳️ sub-\u001b[0m\u001b[1;36m32\u001b[0m\u001b[1;36m \u001b[0mAdding config and sys info to report\n",
      "\u001b[32m│\u001b[0m\u001b[1;32m14:56:46\u001b[0m\u001b[32m│ \u001b[0m\u001b[1;36m⏳️ sub-\u001b[0m\u001b[1;36m32\u001b[0m\u001b[1;36m \u001b[0mSaving report: \u001b]8;id=642776;file:///home/fspletti/vorlesungen/2023S_Signal_processing_and_Analysis_of_human_brain_potentials_(EEG)/git/eeg_course_project/data/ds003702/derivatives/mne-bids-pipeline/sub-32/eeg/sub-32_task-SocialMemoryCuing_report.html\u001b\\\u001b[35m/home/fspletti/vorlesungen/\u001b[0m\u001b]8;;\u001b\\\u001b]8;id=879616;file:///home/fspletti/vorlesungen/2023S_Signal_processing_and_Analysis_of_human_brain_potentials_(EEG)/git/eeg_course_project/data/ds003702/derivatives/mne-bids-pipeline/sub-32/eeg/sub-32_task-SocialMemoryCuing_report.html\u001b\\\u001b[95m2023S_Signal_processing_and_Analysis_of_human_brain_potentials_\u001b[0m\u001b]8;;\u001b\\\u001b]8;id=898699;file:///home/fspletti/vorlesungen/2023S_Signal_processing_and_Analysis_of_human_brain_potentials_(EEG)/git/eeg_course_project/data/ds003702/derivatives/mne-bids-pipeline/sub-32/eeg/sub-32_task-SocialMemoryCuing_report.html\u001b\\\u001b[1m(\u001b[0m\u001b]8;;\u001b\\\u001b]8;id=517912;file:///home/fspletti/vorlesungen/2023S_Signal_processing_and_Analysis_of_human_brain_potentials_(EEG)/git/eeg_course_project/data/ds003702/derivatives/mne-bids-pipeline/sub-32/eeg/sub-32_task-SocialMemoryCuing_report.html\u001b\\EEG\u001b]8;;\u001b\\\u001b]8;id=898699;file:///home/fspletti/vorlesungen/2023S_Signal_processing_and_Analysis_of_human_brain_potentials_(EEG)/git/eeg_course_project/data/ds003702/derivatives/mne-bids-pipeline/sub-32/eeg/sub-32_task-SocialMemoryCuing_report.html\u001b\\\u001b[1m)\u001b[0m\u001b]8;;\u001b\\\u001b]8;id=642776;file:///home/fspletti/vorlesungen/2023S_Signal_processing_and_Analysis_of_human_brain_potentials_(EEG)/git/eeg_course_project/data/ds003702/derivatives/mne-bids-pipeline/sub-32/eeg/sub-32_task-SocialMemoryCuing_report.html\u001b\\\u001b[35m/git/eeg_course_project/data/ds003702/derivatives/mne-bids-pipeline/sub-32/eeg/\u001b[0m\u001b]8;;\u001b\\\u001b]8;id=879616;file:///home/fspletti/vorlesungen/2023S_Signal_processing_and_Analysis_of_human_brain_potentials_(EEG)/git/eeg_course_project/data/ds003702/derivatives/mne-bids-pipeline/sub-32/eeg/sub-32_task-SocialMemoryCuing_report.html\u001b\\\u001b[95msub-32_task-SocialMemoryCuing_report.html\u001b[0m\u001b]8;;\u001b\\\n",
      "\u001b[32m│\u001b[0m\u001b[1;32m14:56:47\u001b[0m\u001b[32m│ \u001b[0m\u001b[1;36m⏳️ sub-\u001b[0m\u001b[1;36m36\u001b[0m\u001b[1;36m \u001b[0mInitializing report HDF5 file\n",
      "\u001b[32m│\u001b[0m\u001b[1;32m14:56:47\u001b[0m\u001b[32m│ \u001b[0m\u001b[1;36m⏳️ sub-\u001b[0m\u001b[1;36m36\u001b[0m\u001b[1;36m \u001b[0mAdding original raw data to report\n",
      "\u001b[32m│\u001b[0m\u001b[1;32m14:56:47\u001b[0m\u001b[32m│ \u001b[0m\u001b[1;36m⏳️ sub-\u001b[0m\u001b[1;36m30\u001b[0m\u001b[1;36m \u001b[0mAdding config and sys info to report\n",
      "\u001b[32m│\u001b[0m\u001b[1;32m14:56:47\u001b[0m\u001b[32m│ \u001b[0m\u001b[1;36m⏳️ sub-\u001b[0m\u001b[1;36m30\u001b[0m\u001b[1;36m \u001b[0mSaving report: \u001b]8;id=549428;file:///home/fspletti/vorlesungen/2023S_Signal_processing_and_Analysis_of_human_brain_potentials_(EEG)/git/eeg_course_project/data/ds003702/derivatives/mne-bids-pipeline/sub-30/eeg/sub-30_task-SocialMemoryCuing_report.html\u001b\\\u001b[35m/home/fspletti/vorlesungen/\u001b[0m\u001b]8;;\u001b\\\u001b]8;id=767911;file:///home/fspletti/vorlesungen/2023S_Signal_processing_and_Analysis_of_human_brain_potentials_(EEG)/git/eeg_course_project/data/ds003702/derivatives/mne-bids-pipeline/sub-30/eeg/sub-30_task-SocialMemoryCuing_report.html\u001b\\\u001b[95m2023S_Signal_processing_and_Analysis_of_human_brain_potentials_\u001b[0m\u001b]8;;\u001b\\\u001b]8;id=231018;file:///home/fspletti/vorlesungen/2023S_Signal_processing_and_Analysis_of_human_brain_potentials_(EEG)/git/eeg_course_project/data/ds003702/derivatives/mne-bids-pipeline/sub-30/eeg/sub-30_task-SocialMemoryCuing_report.html\u001b\\\u001b[1m(\u001b[0m\u001b]8;;\u001b\\\u001b]8;id=203525;file:///home/fspletti/vorlesungen/2023S_Signal_processing_and_Analysis_of_human_brain_potentials_(EEG)/git/eeg_course_project/data/ds003702/derivatives/mne-bids-pipeline/sub-30/eeg/sub-30_task-SocialMemoryCuing_report.html\u001b\\EEG\u001b]8;;\u001b\\\u001b]8;id=231018;file:///home/fspletti/vorlesungen/2023S_Signal_processing_and_Analysis_of_human_brain_potentials_(EEG)/git/eeg_course_project/data/ds003702/derivatives/mne-bids-pipeline/sub-30/eeg/sub-30_task-SocialMemoryCuing_report.html\u001b\\\u001b[1m)\u001b[0m\u001b]8;;\u001b\\\u001b]8;id=549428;file:///home/fspletti/vorlesungen/2023S_Signal_processing_and_Analysis_of_human_brain_potentials_(EEG)/git/eeg_course_project/data/ds003702/derivatives/mne-bids-pipeline/sub-30/eeg/sub-30_task-SocialMemoryCuing_report.html\u001b\\\u001b[35m/git/eeg_course_project/data/ds003702/derivatives/mne-bids-pipeline/sub-30/eeg/\u001b[0m\u001b]8;;\u001b\\\u001b]8;id=767911;file:///home/fspletti/vorlesungen/2023S_Signal_processing_and_Analysis_of_human_brain_potentials_(EEG)/git/eeg_course_project/data/ds003702/derivatives/mne-bids-pipeline/sub-30/eeg/sub-30_task-SocialMemoryCuing_report.html\u001b\\\u001b[95msub-30_task-SocialMemoryCuing_report.html\u001b[0m\u001b]8;;\u001b\\\n",
      "\u001b[32m│\u001b[0m\u001b[1;32m14:56:47\u001b[0m\u001b[32m│ \u001b[0m\u001b[1;36m⏳️ sub-\u001b[0m\u001b[1;36m38\u001b[0m\u001b[1;36m \u001b[0mInitializing report HDF5 file\n",
      "\u001b[32m│\u001b[0m\u001b[1;32m14:56:47\u001b[0m\u001b[32m│ \u001b[0m\u001b[1;36m⏳️ sub-\u001b[0m\u001b[1;36m38\u001b[0m\u001b[1;36m \u001b[0mAdding original raw data to report\n",
      "\u001b[32m│\u001b[0m\u001b[1;32m14:56:50\u001b[0m\u001b[32m│ \u001b[0m\u001b[1;36m⏳️ sub-\u001b[0m\u001b[1;36m29\u001b[0m\u001b[1;36m \u001b[0mAdding config and sys info to report\n",
      "\u001b[32m│\u001b[0m\u001b[1;32m14:56:50\u001b[0m\u001b[32m│ \u001b[0m\u001b[1;36m⏳️ sub-\u001b[0m\u001b[1;36m29\u001b[0m\u001b[1;36m \u001b[0mSaving report: \u001b]8;id=771635;file:///home/fspletti/vorlesungen/2023S_Signal_processing_and_Analysis_of_human_brain_potentials_(EEG)/git/eeg_course_project/data/ds003702/derivatives/mne-bids-pipeline/sub-29/eeg/sub-29_task-SocialMemoryCuing_report.html\u001b\\\u001b[35m/home/fspletti/vorlesungen/\u001b[0m\u001b]8;;\u001b\\\u001b]8;id=268139;file:///home/fspletti/vorlesungen/2023S_Signal_processing_and_Analysis_of_human_brain_potentials_(EEG)/git/eeg_course_project/data/ds003702/derivatives/mne-bids-pipeline/sub-29/eeg/sub-29_task-SocialMemoryCuing_report.html\u001b\\\u001b[95m2023S_Signal_processing_and_Analysis_of_human_brain_potentials_\u001b[0m\u001b]8;;\u001b\\\u001b]8;id=602200;file:///home/fspletti/vorlesungen/2023S_Signal_processing_and_Analysis_of_human_brain_potentials_(EEG)/git/eeg_course_project/data/ds003702/derivatives/mne-bids-pipeline/sub-29/eeg/sub-29_task-SocialMemoryCuing_report.html\u001b\\\u001b[1m(\u001b[0m\u001b]8;;\u001b\\\u001b]8;id=469704;file:///home/fspletti/vorlesungen/2023S_Signal_processing_and_Analysis_of_human_brain_potentials_(EEG)/git/eeg_course_project/data/ds003702/derivatives/mne-bids-pipeline/sub-29/eeg/sub-29_task-SocialMemoryCuing_report.html\u001b\\EEG\u001b]8;;\u001b\\\u001b]8;id=602200;file:///home/fspletti/vorlesungen/2023S_Signal_processing_and_Analysis_of_human_brain_potentials_(EEG)/git/eeg_course_project/data/ds003702/derivatives/mne-bids-pipeline/sub-29/eeg/sub-29_task-SocialMemoryCuing_report.html\u001b\\\u001b[1m)\u001b[0m\u001b]8;;\u001b\\\u001b]8;id=771635;file:///home/fspletti/vorlesungen/2023S_Signal_processing_and_Analysis_of_human_brain_potentials_(EEG)/git/eeg_course_project/data/ds003702/derivatives/mne-bids-pipeline/sub-29/eeg/sub-29_task-SocialMemoryCuing_report.html\u001b\\\u001b[35m/git/eeg_course_project/data/ds003702/derivatives/mne-bids-pipeline/sub-29/eeg/\u001b[0m\u001b]8;;\u001b\\\u001b]8;id=268139;file:///home/fspletti/vorlesungen/2023S_Signal_processing_and_Analysis_of_human_brain_potentials_(EEG)/git/eeg_course_project/data/ds003702/derivatives/mne-bids-pipeline/sub-29/eeg/sub-29_task-SocialMemoryCuing_report.html\u001b\\\u001b[95msub-29_task-SocialMemoryCuing_report.html\u001b[0m\u001b]8;;\u001b\\\n",
      "\u001b[32m│\u001b[0m\u001b[1;32m14:56:50\u001b[0m\u001b[32m│ \u001b[0m\u001b[1;36m⏳️ sub-\u001b[0m\u001b[1;36m39\u001b[0m\u001b[1;36m \u001b[0mInitializing report HDF5 file\n",
      "\u001b[32m│\u001b[0m\u001b[1;32m14:56:50\u001b[0m\u001b[32m│ \u001b[0m\u001b[1;36m⏳️ sub-\u001b[0m\u001b[1;36m39\u001b[0m\u001b[1;36m \u001b[0mAdding original raw data to report\n",
      "\u001b[32m│\u001b[0m\u001b[1;32m14:56:51\u001b[0m\u001b[32m│ \u001b[0m\u001b[1;36m⏳️ sub-\u001b[0m\u001b[1;36m34\u001b[0m\u001b[1;36m \u001b[0mAdding config and sys info to report\n",
      "\u001b[32m│\u001b[0m\u001b[1;32m14:56:51\u001b[0m\u001b[32m│ \u001b[0m\u001b[1;36m⏳️ sub-\u001b[0m\u001b[1;36m34\u001b[0m\u001b[1;36m \u001b[0mSaving report: \u001b]8;id=355548;file:///home/fspletti/vorlesungen/2023S_Signal_processing_and_Analysis_of_human_brain_potentials_(EEG)/git/eeg_course_project/data/ds003702/derivatives/mne-bids-pipeline/sub-34/eeg/sub-34_task-SocialMemoryCuing_report.html\u001b\\\u001b[35m/home/fspletti/vorlesungen/\u001b[0m\u001b]8;;\u001b\\\u001b]8;id=94738;file:///home/fspletti/vorlesungen/2023S_Signal_processing_and_Analysis_of_human_brain_potentials_(EEG)/git/eeg_course_project/data/ds003702/derivatives/mne-bids-pipeline/sub-34/eeg/sub-34_task-SocialMemoryCuing_report.html\u001b\\\u001b[95m2023S_Signal_processing_and_Analysis_of_human_brain_potentials_\u001b[0m\u001b]8;;\u001b\\\u001b]8;id=450544;file:///home/fspletti/vorlesungen/2023S_Signal_processing_and_Analysis_of_human_brain_potentials_(EEG)/git/eeg_course_project/data/ds003702/derivatives/mne-bids-pipeline/sub-34/eeg/sub-34_task-SocialMemoryCuing_report.html\u001b\\\u001b[1m(\u001b[0m\u001b]8;;\u001b\\\u001b]8;id=229134;file:///home/fspletti/vorlesungen/2023S_Signal_processing_and_Analysis_of_human_brain_potentials_(EEG)/git/eeg_course_project/data/ds003702/derivatives/mne-bids-pipeline/sub-34/eeg/sub-34_task-SocialMemoryCuing_report.html\u001b\\EEG\u001b]8;;\u001b\\\u001b]8;id=450544;file:///home/fspletti/vorlesungen/2023S_Signal_processing_and_Analysis_of_human_brain_potentials_(EEG)/git/eeg_course_project/data/ds003702/derivatives/mne-bids-pipeline/sub-34/eeg/sub-34_task-SocialMemoryCuing_report.html\u001b\\\u001b[1m)\u001b[0m\u001b]8;;\u001b\\\u001b]8;id=355548;file:///home/fspletti/vorlesungen/2023S_Signal_processing_and_Analysis_of_human_brain_potentials_(EEG)/git/eeg_course_project/data/ds003702/derivatives/mne-bids-pipeline/sub-34/eeg/sub-34_task-SocialMemoryCuing_report.html\u001b\\\u001b[35m/git/eeg_course_project/data/ds003702/derivatives/mne-bids-pipeline/sub-34/eeg/\u001b[0m\u001b]8;;\u001b\\\u001b]8;id=94738;file:///home/fspletti/vorlesungen/2023S_Signal_processing_and_Analysis_of_human_brain_potentials_(EEG)/git/eeg_course_project/data/ds003702/derivatives/mne-bids-pipeline/sub-34/eeg/sub-34_task-SocialMemoryCuing_report.html\u001b\\\u001b[95msub-34_task-SocialMemoryCuing_report.html\u001b[0m\u001b]8;;\u001b\\\n",
      "\u001b[32m│\u001b[0m\u001b[1;32m14:56:51\u001b[0m\u001b[32m│ \u001b[0m\u001b[1;36m⏳️ sub-\u001b[0m\u001b[1;36m40\u001b[0m\u001b[1;36m \u001b[0mInitializing report HDF5 file\n",
      "\u001b[32m│\u001b[0m\u001b[1;32m14:56:51\u001b[0m\u001b[32m│ \u001b[0m\u001b[1;36m⏳️ sub-\u001b[0m\u001b[1;36m40\u001b[0m\u001b[1;36m \u001b[0mAdding original raw data to report\n",
      "\u001b[32m│\u001b[0m\u001b[1;32m14:56:51\u001b[0m\u001b[32m│ \u001b[0m\u001b[1;36m⏳️ sub-\u001b[0m\u001b[1;36m33\u001b[0m\u001b[1;36m \u001b[0mAdding config and sys info to report\n",
      "\u001b[32m│\u001b[0m\u001b[1;32m14:56:51\u001b[0m\u001b[32m│ \u001b[0m\u001b[1;36m⏳️ sub-\u001b[0m\u001b[1;36m33\u001b[0m\u001b[1;36m \u001b[0mSaving report: \u001b]8;id=618570;file:///home/fspletti/vorlesungen/2023S_Signal_processing_and_Analysis_of_human_brain_potentials_(EEG)/git/eeg_course_project/data/ds003702/derivatives/mne-bids-pipeline/sub-33/eeg/sub-33_task-SocialMemoryCuing_report.html\u001b\\\u001b[35m/home/fspletti/vorlesungen/\u001b[0m\u001b]8;;\u001b\\\u001b]8;id=579906;file:///home/fspletti/vorlesungen/2023S_Signal_processing_and_Analysis_of_human_brain_potentials_(EEG)/git/eeg_course_project/data/ds003702/derivatives/mne-bids-pipeline/sub-33/eeg/sub-33_task-SocialMemoryCuing_report.html\u001b\\\u001b[95m2023S_Signal_processing_and_Analysis_of_human_brain_potentials_\u001b[0m\u001b]8;;\u001b\\\u001b]8;id=736934;file:///home/fspletti/vorlesungen/2023S_Signal_processing_and_Analysis_of_human_brain_potentials_(EEG)/git/eeg_course_project/data/ds003702/derivatives/mne-bids-pipeline/sub-33/eeg/sub-33_task-SocialMemoryCuing_report.html\u001b\\\u001b[1m(\u001b[0m\u001b]8;;\u001b\\\u001b]8;id=649616;file:///home/fspletti/vorlesungen/2023S_Signal_processing_and_Analysis_of_human_brain_potentials_(EEG)/git/eeg_course_project/data/ds003702/derivatives/mne-bids-pipeline/sub-33/eeg/sub-33_task-SocialMemoryCuing_report.html\u001b\\EEG\u001b]8;;\u001b\\\u001b]8;id=736934;file:///home/fspletti/vorlesungen/2023S_Signal_processing_and_Analysis_of_human_brain_potentials_(EEG)/git/eeg_course_project/data/ds003702/derivatives/mne-bids-pipeline/sub-33/eeg/sub-33_task-SocialMemoryCuing_report.html\u001b\\\u001b[1m)\u001b[0m\u001b]8;;\u001b\\\u001b]8;id=618570;file:///home/fspletti/vorlesungen/2023S_Signal_processing_and_Analysis_of_human_brain_potentials_(EEG)/git/eeg_course_project/data/ds003702/derivatives/mne-bids-pipeline/sub-33/eeg/sub-33_task-SocialMemoryCuing_report.html\u001b\\\u001b[35m/git/eeg_course_project/data/ds003702/derivatives/mne-bids-pipeline/sub-33/eeg/\u001b[0m\u001b]8;;\u001b\\\u001b]8;id=579906;file:///home/fspletti/vorlesungen/2023S_Signal_processing_and_Analysis_of_human_brain_potentials_(EEG)/git/eeg_course_project/data/ds003702/derivatives/mne-bids-pipeline/sub-33/eeg/sub-33_task-SocialMemoryCuing_report.html\u001b\\\u001b[95msub-33_task-SocialMemoryCuing_report.html\u001b[0m\u001b]8;;\u001b\\\n",
      "\u001b[32m│\u001b[0m\u001b[1;32m14:56:51\u001b[0m\u001b[32m│ \u001b[0m\u001b[1;36m⏳️ sub-\u001b[0m\u001b[1;36m41\u001b[0m\u001b[1;36m \u001b[0mInitializing report HDF5 file\n",
      "\u001b[32m│\u001b[0m\u001b[1;32m14:56:51\u001b[0m\u001b[32m│ \u001b[0m\u001b[1;36m⏳️ sub-\u001b[0m\u001b[1;36m41\u001b[0m\u001b[1;36m \u001b[0mAdding original raw data to report\n",
      "\u001b[32m│\u001b[0m\u001b[1;32m14:56:55\u001b[0m\u001b[32m│ \u001b[0m\u001b[1;36m⏳️ sub-\u001b[0m\u001b[1;36m35\u001b[0m\u001b[1;36m \u001b[0mAdding config and sys info to report\n",
      "\u001b[32m│\u001b[0m\u001b[1;32m14:56:55\u001b[0m\u001b[32m│ \u001b[0m\u001b[1;36m⏳️ sub-\u001b[0m\u001b[1;36m35\u001b[0m\u001b[1;36m \u001b[0mSaving report: \u001b]8;id=690429;file:///home/fspletti/vorlesungen/2023S_Signal_processing_and_Analysis_of_human_brain_potentials_(EEG)/git/eeg_course_project/data/ds003702/derivatives/mne-bids-pipeline/sub-35/eeg/sub-35_task-SocialMemoryCuing_report.html\u001b\\\u001b[35m/home/fspletti/vorlesungen/\u001b[0m\u001b]8;;\u001b\\\u001b]8;id=133923;file:///home/fspletti/vorlesungen/2023S_Signal_processing_and_Analysis_of_human_brain_potentials_(EEG)/git/eeg_course_project/data/ds003702/derivatives/mne-bids-pipeline/sub-35/eeg/sub-35_task-SocialMemoryCuing_report.html\u001b\\\u001b[95m2023S_Signal_processing_and_Analysis_of_human_brain_potentials_\u001b[0m\u001b]8;;\u001b\\\u001b]8;id=850044;file:///home/fspletti/vorlesungen/2023S_Signal_processing_and_Analysis_of_human_brain_potentials_(EEG)/git/eeg_course_project/data/ds003702/derivatives/mne-bids-pipeline/sub-35/eeg/sub-35_task-SocialMemoryCuing_report.html\u001b\\\u001b[1m(\u001b[0m\u001b]8;;\u001b\\\u001b]8;id=487490;file:///home/fspletti/vorlesungen/2023S_Signal_processing_and_Analysis_of_human_brain_potentials_(EEG)/git/eeg_course_project/data/ds003702/derivatives/mne-bids-pipeline/sub-35/eeg/sub-35_task-SocialMemoryCuing_report.html\u001b\\EEG\u001b]8;;\u001b\\\u001b]8;id=850044;file:///home/fspletti/vorlesungen/2023S_Signal_processing_and_Analysis_of_human_brain_potentials_(EEG)/git/eeg_course_project/data/ds003702/derivatives/mne-bids-pipeline/sub-35/eeg/sub-35_task-SocialMemoryCuing_report.html\u001b\\\u001b[1m)\u001b[0m\u001b]8;;\u001b\\\u001b]8;id=690429;file:///home/fspletti/vorlesungen/2023S_Signal_processing_and_Analysis_of_human_brain_potentials_(EEG)/git/eeg_course_project/data/ds003702/derivatives/mne-bids-pipeline/sub-35/eeg/sub-35_task-SocialMemoryCuing_report.html\u001b\\\u001b[35m/git/eeg_course_project/data/ds003702/derivatives/mne-bids-pipeline/sub-35/eeg/\u001b[0m\u001b]8;;\u001b\\\u001b]8;id=133923;file:///home/fspletti/vorlesungen/2023S_Signal_processing_and_Analysis_of_human_brain_potentials_(EEG)/git/eeg_course_project/data/ds003702/derivatives/mne-bids-pipeline/sub-35/eeg/sub-35_task-SocialMemoryCuing_report.html\u001b\\\u001b[95msub-35_task-SocialMemoryCuing_report.html\u001b[0m\u001b]8;;\u001b\\\n",
      "\u001b[32m│\u001b[0m\u001b[1;32m14:56:55\u001b[0m\u001b[32m│ \u001b[0m\u001b[1;36m⏳️ sub-\u001b[0m\u001b[1;36m43\u001b[0m\u001b[1;36m \u001b[0mInitializing report HDF5 file\n",
      "\u001b[32m│\u001b[0m\u001b[1;32m14:56:55\u001b[0m\u001b[32m│ \u001b[0m\u001b[1;36m⏳️ sub-\u001b[0m\u001b[1;36m43\u001b[0m\u001b[1;36m \u001b[0mAdding original raw data to report\n",
      "\u001b[32m│\u001b[0m\u001b[1;32m14:56:57\u001b[0m\u001b[32m│ \u001b[0m\u001b[1;36m⏳️ sub-\u001b[0m\u001b[1;36m38\u001b[0m\u001b[1;36m \u001b[0mAdding config and sys info to report\n",
      "\u001b[32m│\u001b[0m\u001b[1;32m14:56:57\u001b[0m\u001b[32m│ \u001b[0m\u001b[1;36m⏳️ sub-\u001b[0m\u001b[1;36m38\u001b[0m\u001b[1;36m \u001b[0mSaving report: \u001b]8;id=115838;file:///home/fspletti/vorlesungen/2023S_Signal_processing_and_Analysis_of_human_brain_potentials_(EEG)/git/eeg_course_project/data/ds003702/derivatives/mne-bids-pipeline/sub-38/eeg/sub-38_task-SocialMemoryCuing_report.html\u001b\\\u001b[35m/home/fspletti/vorlesungen/\u001b[0m\u001b]8;;\u001b\\\u001b]8;id=439345;file:///home/fspletti/vorlesungen/2023S_Signal_processing_and_Analysis_of_human_brain_potentials_(EEG)/git/eeg_course_project/data/ds003702/derivatives/mne-bids-pipeline/sub-38/eeg/sub-38_task-SocialMemoryCuing_report.html\u001b\\\u001b[95m2023S_Signal_processing_and_Analysis_of_human_brain_potentials_\u001b[0m\u001b]8;;\u001b\\\u001b]8;id=982775;file:///home/fspletti/vorlesungen/2023S_Signal_processing_and_Analysis_of_human_brain_potentials_(EEG)/git/eeg_course_project/data/ds003702/derivatives/mne-bids-pipeline/sub-38/eeg/sub-38_task-SocialMemoryCuing_report.html\u001b\\\u001b[1m(\u001b[0m\u001b]8;;\u001b\\\u001b]8;id=114664;file:///home/fspletti/vorlesungen/2023S_Signal_processing_and_Analysis_of_human_brain_potentials_(EEG)/git/eeg_course_project/data/ds003702/derivatives/mne-bids-pipeline/sub-38/eeg/sub-38_task-SocialMemoryCuing_report.html\u001b\\EEG\u001b]8;;\u001b\\\u001b]8;id=982775;file:///home/fspletti/vorlesungen/2023S_Signal_processing_and_Analysis_of_human_brain_potentials_(EEG)/git/eeg_course_project/data/ds003702/derivatives/mne-bids-pipeline/sub-38/eeg/sub-38_task-SocialMemoryCuing_report.html\u001b\\\u001b[1m)\u001b[0m\u001b]8;;\u001b\\\u001b]8;id=115838;file:///home/fspletti/vorlesungen/2023S_Signal_processing_and_Analysis_of_human_brain_potentials_(EEG)/git/eeg_course_project/data/ds003702/derivatives/mne-bids-pipeline/sub-38/eeg/sub-38_task-SocialMemoryCuing_report.html\u001b\\\u001b[35m/git/eeg_course_project/data/ds003702/derivatives/mne-bids-pipeline/sub-38/eeg/\u001b[0m\u001b]8;;\u001b\\\u001b]8;id=439345;file:///home/fspletti/vorlesungen/2023S_Signal_processing_and_Analysis_of_human_brain_potentials_(EEG)/git/eeg_course_project/data/ds003702/derivatives/mne-bids-pipeline/sub-38/eeg/sub-38_task-SocialMemoryCuing_report.html\u001b\\\u001b[95msub-38_task-SocialMemoryCuing_report.html\u001b[0m\u001b]8;;\u001b\\\n",
      "\u001b[32m│\u001b[0m\u001b[1;32m14:56:58\u001b[0m\u001b[32m│ \u001b[0m\u001b[1;36m⏳️ sub-\u001b[0m\u001b[1;36m44\u001b[0m\u001b[1;36m \u001b[0mInitializing report HDF5 file\n",
      "\u001b[32m│\u001b[0m\u001b[1;32m14:56:58\u001b[0m\u001b[32m│ \u001b[0m\u001b[1;36m⏳️ sub-\u001b[0m\u001b[1;36m36\u001b[0m\u001b[1;36m \u001b[0mAdding config and sys info to report\n",
      "\u001b[32m│\u001b[0m\u001b[1;32m14:56:58\u001b[0m\u001b[32m│ \u001b[0m\u001b[1;36m⏳️ sub-\u001b[0m\u001b[1;36m36\u001b[0m\u001b[1;36m \u001b[0mSaving report: \u001b]8;id=606874;file:///home/fspletti/vorlesungen/2023S_Signal_processing_and_Analysis_of_human_brain_potentials_(EEG)/git/eeg_course_project/data/ds003702/derivatives/mne-bids-pipeline/sub-36/eeg/sub-36_task-SocialMemoryCuing_report.html\u001b\\\u001b[35m/home/fspletti/vorlesungen/\u001b[0m\u001b]8;;\u001b\\\u001b]8;id=605994;file:///home/fspletti/vorlesungen/2023S_Signal_processing_and_Analysis_of_human_brain_potentials_(EEG)/git/eeg_course_project/data/ds003702/derivatives/mne-bids-pipeline/sub-36/eeg/sub-36_task-SocialMemoryCuing_report.html\u001b\\\u001b[95m2023S_Signal_processing_and_Analysis_of_human_brain_potentials_\u001b[0m\u001b]8;;\u001b\\\u001b]8;id=645113;file:///home/fspletti/vorlesungen/2023S_Signal_processing_and_Analysis_of_human_brain_potentials_(EEG)/git/eeg_course_project/data/ds003702/derivatives/mne-bids-pipeline/sub-36/eeg/sub-36_task-SocialMemoryCuing_report.html\u001b\\\u001b[1m(\u001b[0m\u001b]8;;\u001b\\\u001b]8;id=663111;file:///home/fspletti/vorlesungen/2023S_Signal_processing_and_Analysis_of_human_brain_potentials_(EEG)/git/eeg_course_project/data/ds003702/derivatives/mne-bids-pipeline/sub-36/eeg/sub-36_task-SocialMemoryCuing_report.html\u001b\\EEG\u001b]8;;\u001b\\\u001b]8;id=645113;file:///home/fspletti/vorlesungen/2023S_Signal_processing_and_Analysis_of_human_brain_potentials_(EEG)/git/eeg_course_project/data/ds003702/derivatives/mne-bids-pipeline/sub-36/eeg/sub-36_task-SocialMemoryCuing_report.html\u001b\\\u001b[1m)\u001b[0m\u001b]8;;\u001b\\\u001b]8;id=606874;file:///home/fspletti/vorlesungen/2023S_Signal_processing_and_Analysis_of_human_brain_potentials_(EEG)/git/eeg_course_project/data/ds003702/derivatives/mne-bids-pipeline/sub-36/eeg/sub-36_task-SocialMemoryCuing_report.html\u001b\\\u001b[35m/git/eeg_course_project/data/ds003702/derivatives/mne-bids-pipeline/sub-36/eeg/\u001b[0m\u001b]8;;\u001b\\\u001b]8;id=605994;file:///home/fspletti/vorlesungen/2023S_Signal_processing_and_Analysis_of_human_brain_potentials_(EEG)/git/eeg_course_project/data/ds003702/derivatives/mne-bids-pipeline/sub-36/eeg/sub-36_task-SocialMemoryCuing_report.html\u001b\\\u001b[95msub-36_task-SocialMemoryCuing_report.html\u001b[0m\u001b]8;;\u001b\\\n",
      "\u001b[32m│\u001b[0m\u001b[1;32m14:56:58\u001b[0m\u001b[32m│ \u001b[0m\u001b[1;36m⏳️ sub-\u001b[0m\u001b[1;36m44\u001b[0m\u001b[1;36m \u001b[0mAdding original raw data to report\n",
      "\u001b[32m│\u001b[0m\u001b[1;32m14:56:58\u001b[0m\u001b[32m│ \u001b[0m\u001b[1;36m⏳️ sub-\u001b[0m\u001b[1;36m45\u001b[0m\u001b[1;36m \u001b[0mInitializing report HDF5 file\n",
      "\u001b[32m│\u001b[0m\u001b[1;32m14:56:58\u001b[0m\u001b[32m│ \u001b[0m\u001b[1;36m⏳️ sub-\u001b[0m\u001b[1;36m45\u001b[0m\u001b[1;36m \u001b[0mAdding original raw data to report\n",
      "\u001b[32m│\u001b[0m\u001b[1;32m14:57:01\u001b[0m\u001b[32m│ \u001b[0m\u001b[1;36m⏳️ sub-\u001b[0m\u001b[1;36m39\u001b[0m\u001b[1;36m \u001b[0mAdding config and sys info to report\n",
      "\u001b[32m│\u001b[0m\u001b[1;32m14:57:01\u001b[0m\u001b[32m│ \u001b[0m\u001b[1;36m⏳️ sub-\u001b[0m\u001b[1;36m39\u001b[0m\u001b[1;36m \u001b[0mSaving report: \u001b]8;id=92802;file:///home/fspletti/vorlesungen/2023S_Signal_processing_and_Analysis_of_human_brain_potentials_(EEG)/git/eeg_course_project/data/ds003702/derivatives/mne-bids-pipeline/sub-39/eeg/sub-39_task-SocialMemoryCuing_report.html\u001b\\\u001b[35m/home/fspletti/vorlesungen/\u001b[0m\u001b]8;;\u001b\\\u001b]8;id=515271;file:///home/fspletti/vorlesungen/2023S_Signal_processing_and_Analysis_of_human_brain_potentials_(EEG)/git/eeg_course_project/data/ds003702/derivatives/mne-bids-pipeline/sub-39/eeg/sub-39_task-SocialMemoryCuing_report.html\u001b\\\u001b[95m2023S_Signal_processing_and_Analysis_of_human_brain_potentials_\u001b[0m\u001b]8;;\u001b\\\u001b]8;id=799969;file:///home/fspletti/vorlesungen/2023S_Signal_processing_and_Analysis_of_human_brain_potentials_(EEG)/git/eeg_course_project/data/ds003702/derivatives/mne-bids-pipeline/sub-39/eeg/sub-39_task-SocialMemoryCuing_report.html\u001b\\\u001b[1m(\u001b[0m\u001b]8;;\u001b\\\u001b]8;id=302727;file:///home/fspletti/vorlesungen/2023S_Signal_processing_and_Analysis_of_human_brain_potentials_(EEG)/git/eeg_course_project/data/ds003702/derivatives/mne-bids-pipeline/sub-39/eeg/sub-39_task-SocialMemoryCuing_report.html\u001b\\EEG\u001b]8;;\u001b\\\u001b]8;id=799969;file:///home/fspletti/vorlesungen/2023S_Signal_processing_and_Analysis_of_human_brain_potentials_(EEG)/git/eeg_course_project/data/ds003702/derivatives/mne-bids-pipeline/sub-39/eeg/sub-39_task-SocialMemoryCuing_report.html\u001b\\\u001b[1m)\u001b[0m\u001b]8;;\u001b\\\u001b]8;id=92802;file:///home/fspletti/vorlesungen/2023S_Signal_processing_and_Analysis_of_human_brain_potentials_(EEG)/git/eeg_course_project/data/ds003702/derivatives/mne-bids-pipeline/sub-39/eeg/sub-39_task-SocialMemoryCuing_report.html\u001b\\\u001b[35m/git/eeg_course_project/data/ds003702/derivatives/mne-bids-pipeline/sub-39/eeg/\u001b[0m\u001b]8;;\u001b\\\u001b]8;id=515271;file:///home/fspletti/vorlesungen/2023S_Signal_processing_and_Analysis_of_human_brain_potentials_(EEG)/git/eeg_course_project/data/ds003702/derivatives/mne-bids-pipeline/sub-39/eeg/sub-39_task-SocialMemoryCuing_report.html\u001b\\\u001b[95msub-39_task-SocialMemoryCuing_report.html\u001b[0m\u001b]8;;\u001b\\\n",
      "\u001b[32m│\u001b[0m\u001b[1;32m14:57:01\u001b[0m\u001b[32m│ \u001b[0m\u001b[1;36m⏳️ sub-\u001b[0m\u001b[1;36m46\u001b[0m\u001b[1;36m \u001b[0mInitializing report HDF5 file\n",
      "\u001b[32m│\u001b[0m\u001b[1;32m14:57:02\u001b[0m\u001b[32m│ \u001b[0m\u001b[1;36m⏳️ sub-\u001b[0m\u001b[1;36m46\u001b[0m\u001b[1;36m \u001b[0mAdding original raw data to report\n",
      "\u001b[32m│\u001b[0m\u001b[1;32m14:57:02\u001b[0m\u001b[32m│ \u001b[0m\u001b[1;36m⏳️ sub-\u001b[0m\u001b[1;36m40\u001b[0m\u001b[1;36m \u001b[0mAdding config and sys info to report\n",
      "\u001b[32m│\u001b[0m\u001b[1;32m14:57:02\u001b[0m\u001b[32m│ \u001b[0m\u001b[1;36m⏳️ sub-\u001b[0m\u001b[1;36m40\u001b[0m\u001b[1;36m \u001b[0mSaving report: \u001b]8;id=680962;file:///home/fspletti/vorlesungen/2023S_Signal_processing_and_Analysis_of_human_brain_potentials_(EEG)/git/eeg_course_project/data/ds003702/derivatives/mne-bids-pipeline/sub-40/eeg/sub-40_task-SocialMemoryCuing_report.html\u001b\\\u001b[35m/home/fspletti/vorlesungen/\u001b[0m\u001b]8;;\u001b\\\u001b]8;id=609039;file:///home/fspletti/vorlesungen/2023S_Signal_processing_and_Analysis_of_human_brain_potentials_(EEG)/git/eeg_course_project/data/ds003702/derivatives/mne-bids-pipeline/sub-40/eeg/sub-40_task-SocialMemoryCuing_report.html\u001b\\\u001b[95m2023S_Signal_processing_and_Analysis_of_human_brain_potentials_\u001b[0m\u001b]8;;\u001b\\\u001b]8;id=668457;file:///home/fspletti/vorlesungen/2023S_Signal_processing_and_Analysis_of_human_brain_potentials_(EEG)/git/eeg_course_project/data/ds003702/derivatives/mne-bids-pipeline/sub-40/eeg/sub-40_task-SocialMemoryCuing_report.html\u001b\\\u001b[1m(\u001b[0m\u001b]8;;\u001b\\\u001b]8;id=904276;file:///home/fspletti/vorlesungen/2023S_Signal_processing_and_Analysis_of_human_brain_potentials_(EEG)/git/eeg_course_project/data/ds003702/derivatives/mne-bids-pipeline/sub-40/eeg/sub-40_task-SocialMemoryCuing_report.html\u001b\\EEG\u001b]8;;\u001b\\\u001b]8;id=668457;file:///home/fspletti/vorlesungen/2023S_Signal_processing_and_Analysis_of_human_brain_potentials_(EEG)/git/eeg_course_project/data/ds003702/derivatives/mne-bids-pipeline/sub-40/eeg/sub-40_task-SocialMemoryCuing_report.html\u001b\\\u001b[1m)\u001b[0m\u001b]8;;\u001b\\\u001b]8;id=680962;file:///home/fspletti/vorlesungen/2023S_Signal_processing_and_Analysis_of_human_brain_potentials_(EEG)/git/eeg_course_project/data/ds003702/derivatives/mne-bids-pipeline/sub-40/eeg/sub-40_task-SocialMemoryCuing_report.html\u001b\\\u001b[35m/git/eeg_course_project/data/ds003702/derivatives/mne-bids-pipeline/sub-40/eeg/\u001b[0m\u001b]8;;\u001b\\\u001b]8;id=609039;file:///home/fspletti/vorlesungen/2023S_Signal_processing_and_Analysis_of_human_brain_potentials_(EEG)/git/eeg_course_project/data/ds003702/derivatives/mne-bids-pipeline/sub-40/eeg/sub-40_task-SocialMemoryCuing_report.html\u001b\\\u001b[95msub-40_task-SocialMemoryCuing_report.html\u001b[0m\u001b]8;;\u001b\\\n",
      "\u001b[32m│\u001b[0m\u001b[1;32m14:57:02\u001b[0m\u001b[32m│ \u001b[0m\u001b[1;36m⏳️ sub-\u001b[0m\u001b[1;36m48\u001b[0m\u001b[1;36m \u001b[0mInitializing report HDF5 file\n",
      "\u001b[32m│\u001b[0m\u001b[1;32m14:57:02\u001b[0m\u001b[32m│ \u001b[0m\u001b[1;36m⏳️ sub-\u001b[0m\u001b[1;36m48\u001b[0m\u001b[1;36m \u001b[0mAdding original raw data to report\n",
      "\u001b[32m│\u001b[0m\u001b[1;32m14:57:03\u001b[0m\u001b[32m│ \u001b[0m\u001b[1;36m⏳️ sub-\u001b[0m\u001b[1;36m41\u001b[0m\u001b[1;36m \u001b[0mAdding config and sys info to report\n",
      "\u001b[32m│\u001b[0m\u001b[1;32m14:57:03\u001b[0m\u001b[32m│ \u001b[0m\u001b[1;36m⏳️ sub-\u001b[0m\u001b[1;36m41\u001b[0m\u001b[1;36m \u001b[0mSaving report: \u001b]8;id=857012;file:///home/fspletti/vorlesungen/2023S_Signal_processing_and_Analysis_of_human_brain_potentials_(EEG)/git/eeg_course_project/data/ds003702/derivatives/mne-bids-pipeline/sub-41/eeg/sub-41_task-SocialMemoryCuing_report.html\u001b\\\u001b[35m/home/fspletti/vorlesungen/\u001b[0m\u001b]8;;\u001b\\\u001b]8;id=631942;file:///home/fspletti/vorlesungen/2023S_Signal_processing_and_Analysis_of_human_brain_potentials_(EEG)/git/eeg_course_project/data/ds003702/derivatives/mne-bids-pipeline/sub-41/eeg/sub-41_task-SocialMemoryCuing_report.html\u001b\\\u001b[95m2023S_Signal_processing_and_Analysis_of_human_brain_potentials_\u001b[0m\u001b]8;;\u001b\\\u001b]8;id=62624;file:///home/fspletti/vorlesungen/2023S_Signal_processing_and_Analysis_of_human_brain_potentials_(EEG)/git/eeg_course_project/data/ds003702/derivatives/mne-bids-pipeline/sub-41/eeg/sub-41_task-SocialMemoryCuing_report.html\u001b\\\u001b[1m(\u001b[0m\u001b]8;;\u001b\\\u001b]8;id=93241;file:///home/fspletti/vorlesungen/2023S_Signal_processing_and_Analysis_of_human_brain_potentials_(EEG)/git/eeg_course_project/data/ds003702/derivatives/mne-bids-pipeline/sub-41/eeg/sub-41_task-SocialMemoryCuing_report.html\u001b\\EEG\u001b]8;;\u001b\\\u001b]8;id=62624;file:///home/fspletti/vorlesungen/2023S_Signal_processing_and_Analysis_of_human_brain_potentials_(EEG)/git/eeg_course_project/data/ds003702/derivatives/mne-bids-pipeline/sub-41/eeg/sub-41_task-SocialMemoryCuing_report.html\u001b\\\u001b[1m)\u001b[0m\u001b]8;;\u001b\\\u001b]8;id=857012;file:///home/fspletti/vorlesungen/2023S_Signal_processing_and_Analysis_of_human_brain_potentials_(EEG)/git/eeg_course_project/data/ds003702/derivatives/mne-bids-pipeline/sub-41/eeg/sub-41_task-SocialMemoryCuing_report.html\u001b\\\u001b[35m/git/eeg_course_project/data/ds003702/derivatives/mne-bids-pipeline/sub-41/eeg/\u001b[0m\u001b]8;;\u001b\\\u001b]8;id=631942;file:///home/fspletti/vorlesungen/2023S_Signal_processing_and_Analysis_of_human_brain_potentials_(EEG)/git/eeg_course_project/data/ds003702/derivatives/mne-bids-pipeline/sub-41/eeg/sub-41_task-SocialMemoryCuing_report.html\u001b\\\u001b[95msub-41_task-SocialMemoryCuing_report.html\u001b[0m\u001b]8;;\u001b\\\n",
      "\u001b[32m│\u001b[0m\u001b[1;32m14:57:03\u001b[0m\u001b[32m│ \u001b[0m\u001b[1;36m⏳️ sub-\u001b[0m\u001b[1;36m49\u001b[0m\u001b[1;36m \u001b[0mInitializing report HDF5 file\n",
      "\u001b[32m│\u001b[0m\u001b[1;32m14:57:04\u001b[0m\u001b[32m│ \u001b[0m\u001b[1;36m⏳️ sub-\u001b[0m\u001b[1;36m49\u001b[0m\u001b[1;36m \u001b[0mAdding original raw data to report\n",
      "\u001b[32m│\u001b[0m\u001b[1;32m14:57:06\u001b[0m\u001b[32m│ \u001b[0m\u001b[1;36m⏳️ sub-\u001b[0m\u001b[1;36m43\u001b[0m\u001b[1;36m \u001b[0mAdding config and sys info to report\n",
      "\u001b[32m│\u001b[0m\u001b[1;32m14:57:06\u001b[0m\u001b[32m│ \u001b[0m\u001b[1;36m⏳️ sub-\u001b[0m\u001b[1;36m43\u001b[0m\u001b[1;36m \u001b[0mSaving report: \u001b]8;id=192879;file:///home/fspletti/vorlesungen/2023S_Signal_processing_and_Analysis_of_human_brain_potentials_(EEG)/git/eeg_course_project/data/ds003702/derivatives/mne-bids-pipeline/sub-43/eeg/sub-43_task-SocialMemoryCuing_report.html\u001b\\\u001b[35m/home/fspletti/vorlesungen/\u001b[0m\u001b]8;;\u001b\\\u001b]8;id=151781;file:///home/fspletti/vorlesungen/2023S_Signal_processing_and_Analysis_of_human_brain_potentials_(EEG)/git/eeg_course_project/data/ds003702/derivatives/mne-bids-pipeline/sub-43/eeg/sub-43_task-SocialMemoryCuing_report.html\u001b\\\u001b[95m2023S_Signal_processing_and_Analysis_of_human_brain_potentials_\u001b[0m\u001b]8;;\u001b\\\u001b]8;id=974910;file:///home/fspletti/vorlesungen/2023S_Signal_processing_and_Analysis_of_human_brain_potentials_(EEG)/git/eeg_course_project/data/ds003702/derivatives/mne-bids-pipeline/sub-43/eeg/sub-43_task-SocialMemoryCuing_report.html\u001b\\\u001b[1m(\u001b[0m\u001b]8;;\u001b\\\u001b]8;id=140371;file:///home/fspletti/vorlesungen/2023S_Signal_processing_and_Analysis_of_human_brain_potentials_(EEG)/git/eeg_course_project/data/ds003702/derivatives/mne-bids-pipeline/sub-43/eeg/sub-43_task-SocialMemoryCuing_report.html\u001b\\EEG\u001b]8;;\u001b\\\u001b]8;id=974910;file:///home/fspletti/vorlesungen/2023S_Signal_processing_and_Analysis_of_human_brain_potentials_(EEG)/git/eeg_course_project/data/ds003702/derivatives/mne-bids-pipeline/sub-43/eeg/sub-43_task-SocialMemoryCuing_report.html\u001b\\\u001b[1m)\u001b[0m\u001b]8;;\u001b\\\u001b]8;id=192879;file:///home/fspletti/vorlesungen/2023S_Signal_processing_and_Analysis_of_human_brain_potentials_(EEG)/git/eeg_course_project/data/ds003702/derivatives/mne-bids-pipeline/sub-43/eeg/sub-43_task-SocialMemoryCuing_report.html\u001b\\\u001b[35m/git/eeg_course_project/data/ds003702/derivatives/mne-bids-pipeline/sub-43/eeg/\u001b[0m\u001b]8;;\u001b\\\u001b]8;id=151781;file:///home/fspletti/vorlesungen/2023S_Signal_processing_and_Analysis_of_human_brain_potentials_(EEG)/git/eeg_course_project/data/ds003702/derivatives/mne-bids-pipeline/sub-43/eeg/sub-43_task-SocialMemoryCuing_report.html\u001b\\\u001b[95msub-43_task-SocialMemoryCuing_report.html\u001b[0m\u001b]8;;\u001b\\\n",
      "\u001b[32m│\u001b[0m\u001b[1;32m14:57:06\u001b[0m\u001b[32m│ \u001b[0m\u001b[1;36m⏳️ sub-\u001b[0m\u001b[1;36m50\u001b[0m\u001b[1;36m \u001b[0mInitializing report HDF5 file\n",
      "\u001b[32m│\u001b[0m\u001b[1;32m14:57:06\u001b[0m\u001b[32m│ \u001b[0m\u001b[1;36m⏳️ sub-\u001b[0m\u001b[1;36m50\u001b[0m\u001b[1;36m \u001b[0mAdding original raw data to report\n",
      "\u001b[32m│\u001b[0m\u001b[1;32m14:57:08\u001b[0m\u001b[32m│ \u001b[0m\u001b[1;36m⏳️ sub-\u001b[0m\u001b[1;36m44\u001b[0m\u001b[1;36m \u001b[0mAdding config and sys info to report\n",
      "\u001b[32m│\u001b[0m\u001b[1;32m14:57:08\u001b[0m\u001b[32m│ \u001b[0m\u001b[1;36m⏳️ sub-\u001b[0m\u001b[1;36m44\u001b[0m\u001b[1;36m \u001b[0mSaving report: \u001b]8;id=767871;file:///home/fspletti/vorlesungen/2023S_Signal_processing_and_Analysis_of_human_brain_potentials_(EEG)/git/eeg_course_project/data/ds003702/derivatives/mne-bids-pipeline/sub-44/eeg/sub-44_task-SocialMemoryCuing_report.html\u001b\\\u001b[35m/home/fspletti/vorlesungen/\u001b[0m\u001b]8;;\u001b\\\u001b]8;id=363835;file:///home/fspletti/vorlesungen/2023S_Signal_processing_and_Analysis_of_human_brain_potentials_(EEG)/git/eeg_course_project/data/ds003702/derivatives/mne-bids-pipeline/sub-44/eeg/sub-44_task-SocialMemoryCuing_report.html\u001b\\\u001b[95m2023S_Signal_processing_and_Analysis_of_human_brain_potentials_\u001b[0m\u001b]8;;\u001b\\\u001b]8;id=326379;file:///home/fspletti/vorlesungen/2023S_Signal_processing_and_Analysis_of_human_brain_potentials_(EEG)/git/eeg_course_project/data/ds003702/derivatives/mne-bids-pipeline/sub-44/eeg/sub-44_task-SocialMemoryCuing_report.html\u001b\\\u001b[1m(\u001b[0m\u001b]8;;\u001b\\\u001b]8;id=41334;file:///home/fspletti/vorlesungen/2023S_Signal_processing_and_Analysis_of_human_brain_potentials_(EEG)/git/eeg_course_project/data/ds003702/derivatives/mne-bids-pipeline/sub-44/eeg/sub-44_task-SocialMemoryCuing_report.html\u001b\\EEG\u001b]8;;\u001b\\\u001b]8;id=326379;file:///home/fspletti/vorlesungen/2023S_Signal_processing_and_Analysis_of_human_brain_potentials_(EEG)/git/eeg_course_project/data/ds003702/derivatives/mne-bids-pipeline/sub-44/eeg/sub-44_task-SocialMemoryCuing_report.html\u001b\\\u001b[1m)\u001b[0m\u001b]8;;\u001b\\\u001b]8;id=767871;file:///home/fspletti/vorlesungen/2023S_Signal_processing_and_Analysis_of_human_brain_potentials_(EEG)/git/eeg_course_project/data/ds003702/derivatives/mne-bids-pipeline/sub-44/eeg/sub-44_task-SocialMemoryCuing_report.html\u001b\\\u001b[35m/git/eeg_course_project/data/ds003702/derivatives/mne-bids-pipeline/sub-44/eeg/\u001b[0m\u001b]8;;\u001b\\\u001b]8;id=363835;file:///home/fspletti/vorlesungen/2023S_Signal_processing_and_Analysis_of_human_brain_potentials_(EEG)/git/eeg_course_project/data/ds003702/derivatives/mne-bids-pipeline/sub-44/eeg/sub-44_task-SocialMemoryCuing_report.html\u001b\\\u001b[95msub-44_task-SocialMemoryCuing_report.html\u001b[0m\u001b]8;;\u001b\\\n",
      "\u001b[32m│\u001b[0m\u001b[1;32m14:57:13\u001b[0m\u001b[32m│ \u001b[0m\u001b[1;36m⏳️ sub-\u001b[0m\u001b[1;36m46\u001b[0m\u001b[1;36m \u001b[0mAdding config and sys info to report\n",
      "\u001b[32m│\u001b[0m\u001b[1;32m14:57:13\u001b[0m\u001b[32m│ \u001b[0m\u001b[1;36m⏳️ sub-\u001b[0m\u001b[1;36m46\u001b[0m\u001b[1;36m \u001b[0mSaving report: \u001b]8;id=975427;file:///home/fspletti/vorlesungen/2023S_Signal_processing_and_Analysis_of_human_brain_potentials_(EEG)/git/eeg_course_project/data/ds003702/derivatives/mne-bids-pipeline/sub-46/eeg/sub-46_task-SocialMemoryCuing_report.html\u001b\\\u001b[35m/home/fspletti/vorlesungen/\u001b[0m\u001b]8;;\u001b\\\u001b]8;id=87342;file:///home/fspletti/vorlesungen/2023S_Signal_processing_and_Analysis_of_human_brain_potentials_(EEG)/git/eeg_course_project/data/ds003702/derivatives/mne-bids-pipeline/sub-46/eeg/sub-46_task-SocialMemoryCuing_report.html\u001b\\\u001b[95m2023S_Signal_processing_and_Analysis_of_human_brain_potentials_\u001b[0m\u001b]8;;\u001b\\\u001b]8;id=980468;file:///home/fspletti/vorlesungen/2023S_Signal_processing_and_Analysis_of_human_brain_potentials_(EEG)/git/eeg_course_project/data/ds003702/derivatives/mne-bids-pipeline/sub-46/eeg/sub-46_task-SocialMemoryCuing_report.html\u001b\\\u001b[1m(\u001b[0m\u001b]8;;\u001b\\\u001b]8;id=149525;file:///home/fspletti/vorlesungen/2023S_Signal_processing_and_Analysis_of_human_brain_potentials_(EEG)/git/eeg_course_project/data/ds003702/derivatives/mne-bids-pipeline/sub-46/eeg/sub-46_task-SocialMemoryCuing_report.html\u001b\\EEG\u001b]8;;\u001b\\\u001b]8;id=980468;file:///home/fspletti/vorlesungen/2023S_Signal_processing_and_Analysis_of_human_brain_potentials_(EEG)/git/eeg_course_project/data/ds003702/derivatives/mne-bids-pipeline/sub-46/eeg/sub-46_task-SocialMemoryCuing_report.html\u001b\\\u001b[1m)\u001b[0m\u001b]8;;\u001b\\\u001b]8;id=975427;file:///home/fspletti/vorlesungen/2023S_Signal_processing_and_Analysis_of_human_brain_potentials_(EEG)/git/eeg_course_project/data/ds003702/derivatives/mne-bids-pipeline/sub-46/eeg/sub-46_task-SocialMemoryCuing_report.html\u001b\\\u001b[35m/git/eeg_course_project/data/ds003702/derivatives/mne-bids-pipeline/sub-46/eeg/\u001b[0m\u001b]8;;\u001b\\\u001b]8;id=87342;file:///home/fspletti/vorlesungen/2023S_Signal_processing_and_Analysis_of_human_brain_potentials_(EEG)/git/eeg_course_project/data/ds003702/derivatives/mne-bids-pipeline/sub-46/eeg/sub-46_task-SocialMemoryCuing_report.html\u001b\\\u001b[95msub-46_task-SocialMemoryCuing_report.html\u001b[0m\u001b]8;;\u001b\\\n",
      "\u001b[32m│\u001b[0m\u001b[1;32m14:57:14\u001b[0m\u001b[32m│ \u001b[0m\u001b[1;36m⏳️ sub-\u001b[0m\u001b[1;36m45\u001b[0m\u001b[1;36m \u001b[0mAdding config and sys info to report\n",
      "\u001b[32m│\u001b[0m\u001b[1;32m14:57:14\u001b[0m\u001b[32m│ \u001b[0m\u001b[1;36m⏳️ sub-\u001b[0m\u001b[1;36m45\u001b[0m\u001b[1;36m \u001b[0mSaving report: \u001b]8;id=766991;file:///home/fspletti/vorlesungen/2023S_Signal_processing_and_Analysis_of_human_brain_potentials_(EEG)/git/eeg_course_project/data/ds003702/derivatives/mne-bids-pipeline/sub-45/eeg/sub-45_task-SocialMemoryCuing_report.html\u001b\\\u001b[35m/home/fspletti/vorlesungen/\u001b[0m\u001b]8;;\u001b\\\u001b]8;id=190321;file:///home/fspletti/vorlesungen/2023S_Signal_processing_and_Analysis_of_human_brain_potentials_(EEG)/git/eeg_course_project/data/ds003702/derivatives/mne-bids-pipeline/sub-45/eeg/sub-45_task-SocialMemoryCuing_report.html\u001b\\\u001b[95m2023S_Signal_processing_and_Analysis_of_human_brain_potentials_\u001b[0m\u001b]8;;\u001b\\\u001b]8;id=47518;file:///home/fspletti/vorlesungen/2023S_Signal_processing_and_Analysis_of_human_brain_potentials_(EEG)/git/eeg_course_project/data/ds003702/derivatives/mne-bids-pipeline/sub-45/eeg/sub-45_task-SocialMemoryCuing_report.html\u001b\\\u001b[1m(\u001b[0m\u001b]8;;\u001b\\\u001b]8;id=685999;file:///home/fspletti/vorlesungen/2023S_Signal_processing_and_Analysis_of_human_brain_potentials_(EEG)/git/eeg_course_project/data/ds003702/derivatives/mne-bids-pipeline/sub-45/eeg/sub-45_task-SocialMemoryCuing_report.html\u001b\\EEG\u001b]8;;\u001b\\\u001b]8;id=47518;file:///home/fspletti/vorlesungen/2023S_Signal_processing_and_Analysis_of_human_brain_potentials_(EEG)/git/eeg_course_project/data/ds003702/derivatives/mne-bids-pipeline/sub-45/eeg/sub-45_task-SocialMemoryCuing_report.html\u001b\\\u001b[1m)\u001b[0m\u001b]8;;\u001b\\\u001b]8;id=766991;file:///home/fspletti/vorlesungen/2023S_Signal_processing_and_Analysis_of_human_brain_potentials_(EEG)/git/eeg_course_project/data/ds003702/derivatives/mne-bids-pipeline/sub-45/eeg/sub-45_task-SocialMemoryCuing_report.html\u001b\\\u001b[35m/git/eeg_course_project/data/ds003702/derivatives/mne-bids-pipeline/sub-45/eeg/\u001b[0m\u001b]8;;\u001b\\\u001b]8;id=190321;file:///home/fspletti/vorlesungen/2023S_Signal_processing_and_Analysis_of_human_brain_potentials_(EEG)/git/eeg_course_project/data/ds003702/derivatives/mne-bids-pipeline/sub-45/eeg/sub-45_task-SocialMemoryCuing_report.html\u001b\\\u001b[95msub-45_task-SocialMemoryCuing_report.html\u001b[0m\u001b]8;;\u001b\\\n",
      "\u001b[32m│\u001b[0m\u001b[1;32m14:57:14\u001b[0m\u001b[32m│ \u001b[0m\u001b[1;36m⏳️ sub-\u001b[0m\u001b[1;36m48\u001b[0m\u001b[1;36m \u001b[0mAdding config and sys info to report\n",
      "\u001b[32m│\u001b[0m\u001b[1;32m14:57:14\u001b[0m\u001b[32m│ \u001b[0m\u001b[1;36m⏳️ sub-\u001b[0m\u001b[1;36m48\u001b[0m\u001b[1;36m \u001b[0mSaving report: \u001b]8;id=207863;file:///home/fspletti/vorlesungen/2023S_Signal_processing_and_Analysis_of_human_brain_potentials_(EEG)/git/eeg_course_project/data/ds003702/derivatives/mne-bids-pipeline/sub-48/eeg/sub-48_task-SocialMemoryCuing_report.html\u001b\\\u001b[35m/home/fspletti/vorlesungen/\u001b[0m\u001b]8;;\u001b\\\u001b]8;id=477169;file:///home/fspletti/vorlesungen/2023S_Signal_processing_and_Analysis_of_human_brain_potentials_(EEG)/git/eeg_course_project/data/ds003702/derivatives/mne-bids-pipeline/sub-48/eeg/sub-48_task-SocialMemoryCuing_report.html\u001b\\\u001b[95m2023S_Signal_processing_and_Analysis_of_human_brain_potentials_\u001b[0m\u001b]8;;\u001b\\\u001b]8;id=133287;file:///home/fspletti/vorlesungen/2023S_Signal_processing_and_Analysis_of_human_brain_potentials_(EEG)/git/eeg_course_project/data/ds003702/derivatives/mne-bids-pipeline/sub-48/eeg/sub-48_task-SocialMemoryCuing_report.html\u001b\\\u001b[1m(\u001b[0m\u001b]8;;\u001b\\\u001b]8;id=933611;file:///home/fspletti/vorlesungen/2023S_Signal_processing_and_Analysis_of_human_brain_potentials_(EEG)/git/eeg_course_project/data/ds003702/derivatives/mne-bids-pipeline/sub-48/eeg/sub-48_task-SocialMemoryCuing_report.html\u001b\\EEG\u001b]8;;\u001b\\\u001b]8;id=133287;file:///home/fspletti/vorlesungen/2023S_Signal_processing_and_Analysis_of_human_brain_potentials_(EEG)/git/eeg_course_project/data/ds003702/derivatives/mne-bids-pipeline/sub-48/eeg/sub-48_task-SocialMemoryCuing_report.html\u001b\\\u001b[1m)\u001b[0m\u001b]8;;\u001b\\\u001b]8;id=207863;file:///home/fspletti/vorlesungen/2023S_Signal_processing_and_Analysis_of_human_brain_potentials_(EEG)/git/eeg_course_project/data/ds003702/derivatives/mne-bids-pipeline/sub-48/eeg/sub-48_task-SocialMemoryCuing_report.html\u001b\\\u001b[35m/git/eeg_course_project/data/ds003702/derivatives/mne-bids-pipeline/sub-48/eeg/\u001b[0m\u001b]8;;\u001b\\\u001b]8;id=477169;file:///home/fspletti/vorlesungen/2023S_Signal_processing_and_Analysis_of_human_brain_potentials_(EEG)/git/eeg_course_project/data/ds003702/derivatives/mne-bids-pipeline/sub-48/eeg/sub-48_task-SocialMemoryCuing_report.html\u001b\\\u001b[95msub-48_task-SocialMemoryCuing_report.html\u001b[0m\u001b]8;;\u001b\\\n",
      "\u001b[32m│\u001b[0m\u001b[1;32m14:57:15\u001b[0m\u001b[32m│ \u001b[0m\u001b[1;36m⏳️ sub-\u001b[0m\u001b[1;36m49\u001b[0m\u001b[1;36m \u001b[0mAdding config and sys info to report\n",
      "\u001b[32m│\u001b[0m\u001b[1;32m14:57:15\u001b[0m\u001b[32m│ \u001b[0m\u001b[1;36m⏳️ sub-\u001b[0m\u001b[1;36m49\u001b[0m\u001b[1;36m \u001b[0mSaving report: \u001b]8;id=487616;file:///home/fspletti/vorlesungen/2023S_Signal_processing_and_Analysis_of_human_brain_potentials_(EEG)/git/eeg_course_project/data/ds003702/derivatives/mne-bids-pipeline/sub-49/eeg/sub-49_task-SocialMemoryCuing_report.html\u001b\\\u001b[35m/home/fspletti/vorlesungen/\u001b[0m\u001b]8;;\u001b\\\u001b]8;id=50419;file:///home/fspletti/vorlesungen/2023S_Signal_processing_and_Analysis_of_human_brain_potentials_(EEG)/git/eeg_course_project/data/ds003702/derivatives/mne-bids-pipeline/sub-49/eeg/sub-49_task-SocialMemoryCuing_report.html\u001b\\\u001b[95m2023S_Signal_processing_and_Analysis_of_human_brain_potentials_\u001b[0m\u001b]8;;\u001b\\\u001b]8;id=628089;file:///home/fspletti/vorlesungen/2023S_Signal_processing_and_Analysis_of_human_brain_potentials_(EEG)/git/eeg_course_project/data/ds003702/derivatives/mne-bids-pipeline/sub-49/eeg/sub-49_task-SocialMemoryCuing_report.html\u001b\\\u001b[1m(\u001b[0m\u001b]8;;\u001b\\\u001b]8;id=877645;file:///home/fspletti/vorlesungen/2023S_Signal_processing_and_Analysis_of_human_brain_potentials_(EEG)/git/eeg_course_project/data/ds003702/derivatives/mne-bids-pipeline/sub-49/eeg/sub-49_task-SocialMemoryCuing_report.html\u001b\\EEG\u001b]8;;\u001b\\\u001b]8;id=628089;file:///home/fspletti/vorlesungen/2023S_Signal_processing_and_Analysis_of_human_brain_potentials_(EEG)/git/eeg_course_project/data/ds003702/derivatives/mne-bids-pipeline/sub-49/eeg/sub-49_task-SocialMemoryCuing_report.html\u001b\\\u001b[1m)\u001b[0m\u001b]8;;\u001b\\\u001b]8;id=487616;file:///home/fspletti/vorlesungen/2023S_Signal_processing_and_Analysis_of_human_brain_potentials_(EEG)/git/eeg_course_project/data/ds003702/derivatives/mne-bids-pipeline/sub-49/eeg/sub-49_task-SocialMemoryCuing_report.html\u001b\\\u001b[35m/git/eeg_course_project/data/ds003702/derivatives/mne-bids-pipeline/sub-49/eeg/\u001b[0m\u001b]8;;\u001b\\\u001b]8;id=50419;file:///home/fspletti/vorlesungen/2023S_Signal_processing_and_Analysis_of_human_brain_potentials_(EEG)/git/eeg_course_project/data/ds003702/derivatives/mne-bids-pipeline/sub-49/eeg/sub-49_task-SocialMemoryCuing_report.html\u001b\\\u001b[95msub-49_task-SocialMemoryCuing_report.html\u001b[0m\u001b]8;;\u001b\\\n",
      "\u001b[32m│\u001b[0m\u001b[1;32m14:57:17\u001b[0m\u001b[32m│ \u001b[0m\u001b[1;36m⏳️ sub-\u001b[0m\u001b[1;36m50\u001b[0m\u001b[1;36m \u001b[0mAdding config and sys info to report\n",
      "\u001b[32m│\u001b[0m\u001b[1;32m14:57:17\u001b[0m\u001b[32m│ \u001b[0m\u001b[1;36m⏳️ sub-\u001b[0m\u001b[1;36m50\u001b[0m\u001b[1;36m \u001b[0mSaving report: \u001b]8;id=374908;file:///home/fspletti/vorlesungen/2023S_Signal_processing_and_Analysis_of_human_brain_potentials_(EEG)/git/eeg_course_project/data/ds003702/derivatives/mne-bids-pipeline/sub-50/eeg/sub-50_task-SocialMemoryCuing_report.html\u001b\\\u001b[35m/home/fspletti/vorlesungen/\u001b[0m\u001b]8;;\u001b\\\u001b]8;id=255215;file:///home/fspletti/vorlesungen/2023S_Signal_processing_and_Analysis_of_human_brain_potentials_(EEG)/git/eeg_course_project/data/ds003702/derivatives/mne-bids-pipeline/sub-50/eeg/sub-50_task-SocialMemoryCuing_report.html\u001b\\\u001b[95m2023S_Signal_processing_and_Analysis_of_human_brain_potentials_\u001b[0m\u001b]8;;\u001b\\\u001b]8;id=196716;file:///home/fspletti/vorlesungen/2023S_Signal_processing_and_Analysis_of_human_brain_potentials_(EEG)/git/eeg_course_project/data/ds003702/derivatives/mne-bids-pipeline/sub-50/eeg/sub-50_task-SocialMemoryCuing_report.html\u001b\\\u001b[1m(\u001b[0m\u001b]8;;\u001b\\\u001b]8;id=174986;file:///home/fspletti/vorlesungen/2023S_Signal_processing_and_Analysis_of_human_brain_potentials_(EEG)/git/eeg_course_project/data/ds003702/derivatives/mne-bids-pipeline/sub-50/eeg/sub-50_task-SocialMemoryCuing_report.html\u001b\\EEG\u001b]8;;\u001b\\\u001b]8;id=196716;file:///home/fspletti/vorlesungen/2023S_Signal_processing_and_Analysis_of_human_brain_potentials_(EEG)/git/eeg_course_project/data/ds003702/derivatives/mne-bids-pipeline/sub-50/eeg/sub-50_task-SocialMemoryCuing_report.html\u001b\\\u001b[1m)\u001b[0m\u001b]8;;\u001b\\\u001b]8;id=374908;file:///home/fspletti/vorlesungen/2023S_Signal_processing_and_Analysis_of_human_brain_potentials_(EEG)/git/eeg_course_project/data/ds003702/derivatives/mne-bids-pipeline/sub-50/eeg/sub-50_task-SocialMemoryCuing_report.html\u001b\\\u001b[35m/git/eeg_course_project/data/ds003702/derivatives/mne-bids-pipeline/sub-50/eeg/\u001b[0m\u001b]8;;\u001b\\\u001b]8;id=255215;file:///home/fspletti/vorlesungen/2023S_Signal_processing_and_Analysis_of_human_brain_potentials_(EEG)/git/eeg_course_project/data/ds003702/derivatives/mne-bids-pipeline/sub-50/eeg/sub-50_task-SocialMemoryCuing_report.html\u001b\\\u001b[95msub-50_task-SocialMemoryCuing_report.html\u001b[0m\u001b]8;;\u001b\\\n",
      "\u001b[1;32m└────────┴ done \u001b[0m\u001b[1;32m(\u001b[0m\u001b[1;32m1m 48s\u001b[0m\u001b[1;32m)\u001b[0m\n"
     ]
    }
   ],
   "source": [
    "curr_steps = \"preprocessing/_01_data_quality\"\n",
    "!mne_bids_pipeline --config {config_path} --steps {curr_steps}"
   ]
  },
  {
   "cell_type": "code",
   "execution_count": 12,
   "id": "16e75916-fd04-4fb2-8f17-916a1faf3060",
   "metadata": {},
   "outputs": [
    {
     "name": "stdout",
     "output_type": "stream",
     "text": [
      "sub-01_task-SocialMemoryCuing_report.h5\n",
      "[...]\n",
      "</details>\n",
      "        <details open>\n",
      "            <summary><strong>Data</strong></summary>\n",
      "            <table class=\"table table-hover table-striped table-sm table-responsive small\">\n",
      "                \n",
      "                <tr>\n",
      "                    <th>Sampling frequency</th>\n",
      "                    <td>500.00 Hz</td>\n",
      "                </tr>\n",
      "                \n",
      "       \n",
      "[...]\n",
      "\n",
      "===\n",
      "more data: see at..\n",
      "./data/ds003702/derivatives/mne-bids-pipeline/sub-01/eeg/sub-01_task-SocialMemoryCuing_report.html\n"
     ]
    }
   ],
   "source": [
    "# checkup: print some content which was written to file\n",
    "import h5py\n",
    "\n",
    "# set filename\n",
    "curr_checkup_filename = f\"{curr_bids_root}/derivatives/mne-bids-pipeline/sub-01/eeg/sub-01_task-SocialMemoryCuing_report.h5\"\n",
    "\n",
    "# print file name if file exists\n",
    "!ls \"{curr_checkup_filename}\" | xargs basename\n",
    "\n",
    "# import data\n",
    "curr_checkup_h5file = h5py.File(curr_checkup_filename, 'r')\n",
    "curr_html_length = len(curr_checkup_h5file[\"mnepython/key__content/idx_0/key_html\"])\n",
    "htmlContent = ''.join([ chr(curr_checkup_h5file[\"mnepython/key__content/idx_0/key_html\"][idx] ) for idx in range(curr_html_length) ])\n",
    "curr_checkup_h5file.close()\n",
    "# print excerpt of html output\n",
    "print(f\"[...]\\n{htmlContent[2500:2850]}\\n[...]\")\n",
    "\n",
    "# print hint regarding extra data\n",
    "print(\"\\n===\\nmore data: see at..\")\n",
    "# for more data, open the written html report file\n",
    "!ls ./\"{cfg.bids_root.parts[-2]}\"/\"{cfg.bids_root.parts[-1]}\"/derivatives/mne-bids-pipeline/sub-01/eeg/sub-01_task-SocialMemoryCuing_report.html"
   ]
  },
  {
   "cell_type": "code",
   "execution_count": 13,
   "id": "03c2ad4b-3eae-4be7-9696-5a1ecf5cc076",
   "metadata": {},
   "outputs": [
    {
     "name": "stdout",
     "output_type": "stream",
     "text": [
      "\u001b[1;32m┌────────┬ Welcome aboard MNE-BIDS-Pipeline! 👋\u001b[0m \u001b[1;32m────────────────────────────────\u001b[0m\n",
      "\u001b[32m│\u001b[0m\u001b[1;32m14:57:21\u001b[0m\u001b[32m│ \u001b[0m\u001b[1;36m📝 \u001b[0mUsing configuration: .\u001b[35m/mne-bids/config/\u001b[0m\u001b[95mmne-bids-pipeline_tests.py\u001b[0m\n",
      "\u001b[1;32m└────────┴ \u001b[0m\n",
      "\u001b[1;32m┌────────┬ init/_01_init_derivatives_dir\u001b[0m \u001b[1;32m───────────────────────────────────────\u001b[0m\n",
      "\u001b[32m│\u001b[0m\u001b[1;32m14:57:21\u001b[0m\u001b[32m│ \u001b[0m\u001b[1;36m✅ \u001b[0mOutput directories already exist …\n",
      "\u001b[1;32m└────────┴ done \u001b[0m\u001b[1;32m(\u001b[0m\u001b[1;32m1s\u001b[0m\u001b[1;32m)\u001b[0m\n",
      "\u001b[1;32m┌────────┬ init/_02_find_empty_room\u001b[0m \u001b[1;32m────────────────────────────────────────────\u001b[0m\n",
      "\u001b[32m│\u001b[0m\u001b[1;32m14:57:22\u001b[0m\u001b[32m│ \u001b[0m\u001b[1;36m⏩ \u001b[0mSkipping, empty-room data only relevant for MEG …\n",
      "\u001b[1;32m└────────┴ done \u001b[0m\u001b[1;32m(\u001b[0m\u001b[1;32m1s\u001b[0m\u001b[1;32m)\u001b[0m\n",
      "\u001b[1;32m┌────────┬ preprocessing/_02_head_pos\u001b[0m \u001b[1;32m──────────────────────────────────────────\u001b[0m\n",
      "\u001b[32m│\u001b[0m\u001b[1;32m14:57:22\u001b[0m\u001b[32m│ \u001b[0m\u001b[1;36m⏩ \u001b[0mSkipping …\n",
      "\u001b[1;32m└────────┴ done \u001b[0m\u001b[1;32m(\u001b[0m\u001b[1;32m1s\u001b[0m\u001b[1;32m)\u001b[0m\n"
     ]
    }
   ],
   "source": [
    "curr_steps = \"preprocessing/_02_head_pos\"\n",
    "!mne_bids_pipeline --config {config_path} --steps {curr_steps}"
   ]
  },
  {
   "cell_type": "code",
   "execution_count": 14,
   "id": "0f860145-2fcd-4b31-99f2-fc309c434526",
   "metadata": {},
   "outputs": [],
   "source": [
    "# checkup: not needed, since this step was skipped"
   ]
  },
  {
   "cell_type": "code",
   "execution_count": 15,
   "id": "524be875-79b9-431e-980f-b74027f2a0cd",
   "metadata": {},
   "outputs": [
    {
     "name": "stdout",
     "output_type": "stream",
     "text": [
      "\u001b[1;32m┌────────┬ Welcome aboard MNE-BIDS-Pipeline! 👋\u001b[0m \u001b[1;32m────────────────────────────────\u001b[0m\n",
      "\u001b[32m│\u001b[0m\u001b[1;32m14:57:23\u001b[0m\u001b[32m│ \u001b[0m\u001b[1;36m📝 \u001b[0mUsing configuration: .\u001b[35m/mne-bids/config/\u001b[0m\u001b[95mmne-bids-pipeline_tests.py\u001b[0m\n",
      "\u001b[1;32m└────────┴ \u001b[0m\n",
      "\u001b[1;32m┌────────┬ init/_01_init_derivatives_dir\u001b[0m \u001b[1;32m───────────────────────────────────────\u001b[0m\n",
      "\u001b[32m│\u001b[0m\u001b[1;32m14:57:23\u001b[0m\u001b[32m│ \u001b[0m\u001b[1;36m✅ \u001b[0mOutput directories already exist …\n",
      "\u001b[1;32m└────────┴ done \u001b[0m\u001b[1;32m(\u001b[0m\u001b[1;32m1s\u001b[0m\u001b[1;32m)\u001b[0m\n",
      "\u001b[1;32m┌────────┬ init/_02_find_empty_room\u001b[0m \u001b[1;32m────────────────────────────────────────────\u001b[0m\n",
      "\u001b[32m│\u001b[0m\u001b[1;32m14:57:24\u001b[0m\u001b[32m│ \u001b[0m\u001b[1;36m⏩ \u001b[0mSkipping, empty-room data only relevant for MEG …\n",
      "\u001b[1;32m└────────┴ done \u001b[0m\u001b[1;32m(\u001b[0m\u001b[1;32m1s\u001b[0m\u001b[1;32m)\u001b[0m\n",
      "\u001b[1;32m┌────────┬ preprocessing/_03_maxfilter\u001b[0m \u001b[1;32m─────────────────────────────────────────\u001b[0m\n",
      "\u001b[32m│\u001b[0m\u001b[1;32m14:57:24\u001b[0m\u001b[32m│ \u001b[0m\u001b[1;36m⏩ \u001b[0mSkipping …\n",
      "\u001b[1;32m└────────┴ done \u001b[0m\u001b[1;32m(\u001b[0m\u001b[1;32m1s\u001b[0m\u001b[1;32m)\u001b[0m\n"
     ]
    }
   ],
   "source": [
    "curr_steps = \"preprocessing/_03_maxfilter\"\n",
    "!mne_bids_pipeline --config {config_path} --steps {curr_steps}"
   ]
  },
  {
   "cell_type": "code",
   "execution_count": 16,
   "id": "df401ca1-27cb-493b-869f-33177749f661",
   "metadata": {},
   "outputs": [],
   "source": [
    "# checkup: not needed, since this step was skipped"
   ]
  },
  {
   "cell_type": "code",
   "execution_count": null,
   "id": "e9871691-da11-49ce-9403-5cf294e0cc58",
   "metadata": {
    "scrolled": true
   },
   "outputs": [
    {
     "name": "stdout",
     "output_type": "stream",
     "text": [
      "\u001b[1;32m┌────────┬ Welcome aboard MNE-BIDS-Pipeline! 👋\u001b[0m \u001b[1;32m────────────────────────────────\u001b[0m\n",
      "\u001b[32m│\u001b[0m\u001b[1;32m14:57:25\u001b[0m\u001b[32m│ \u001b[0m\u001b[1;36m📝 \u001b[0mUsing configuration: .\u001b[35m/mne-bids/config/\u001b[0m\u001b[95mmne-bids-pipeline_tests.py\u001b[0m\n",
      "\u001b[1;32m└────────┴ \u001b[0m\n",
      "\u001b[1;32m┌────────┬ init/_01_init_derivatives_dir\u001b[0m \u001b[1;32m───────────────────────────────────────\u001b[0m\n",
      "\u001b[32m│\u001b[0m\u001b[1;32m14:57:25\u001b[0m\u001b[32m│ \u001b[0m\u001b[1;36m✅ \u001b[0mOutput directories already exist …\n",
      "\u001b[1;32m└────────┴ done \u001b[0m\u001b[1;32m(\u001b[0m\u001b[1;32m1s\u001b[0m\u001b[1;32m)\u001b[0m\n",
      "\u001b[1;32m┌────────┬ init/_02_find_empty_room\u001b[0m \u001b[1;32m────────────────────────────────────────────\u001b[0m\n",
      "\u001b[32m│\u001b[0m\u001b[1;32m14:57:26\u001b[0m\u001b[32m│ \u001b[0m\u001b[1;36m⏩ \u001b[0mSkipping, empty-room data only relevant for MEG …\n",
      "\u001b[1;32m└────────┴ done \u001b[0m\u001b[1;32m(\u001b[0m\u001b[1;32m1s\u001b[0m\u001b[1;32m)\u001b[0m\n",
      "\u001b[1;32m┌────────┬ preprocessing/_04_frequency_filter\u001b[0m \u001b[1;32m──────────────────────────────────\u001b[0m\n",
      "\u001b[32m│\u001b[0m\u001b[1;32m14:57:32\u001b[0m\u001b[32m│ \u001b[0m\u001b[1;36m⏳️ sub-\u001b[0m\u001b[1;36m05\u001b[0m\u001b[1;36m \u001b[0mSetting EEG channel locations to template montage: standard_1005.\n",
      "\u001b[32m│\u001b[0m\u001b[1;32m14:57:32\u001b[0m\u001b[32m│ \u001b[0m\u001b[1;36m⏳️ sub-\u001b[0m\u001b[1;36m05\u001b[0m\u001b[1;36m \u001b[0mDropping channels: EOG, BIP1, BIP2, BIP3, BIP4, BIP5, BIP6, BIP7, BIP8, BIP9, BIP10, BIP11, BIP12, BIP13, BIP14, BIP15, BIP16, BIP17, BIP18, BIP19, BIP20, BIP21, BIP22, BIP23, BIP24\n",
      "\u001b[32m│\u001b[0m\u001b[1;32m14:57:35\u001b[0m\u001b[32m│ \u001b[0m\u001b[1;36m⏳️ sub-\u001b[0m\u001b[1;36m04\u001b[0m\u001b[1;36m \u001b[0mSetting EEG channel locations to template montage: standard_1005.\n",
      "\u001b[32m│\u001b[0m\u001b[1;32m14:57:35\u001b[0m\u001b[32m│ \u001b[0m\u001b[1;36m⏳️ sub-\u001b[0m\u001b[1;36m04\u001b[0m\u001b[1;36m \u001b[0mDropping channels: EOG, BIP1, BIP2, BIP3, BIP4, BIP5, BIP6, BIP7, BIP8, BIP9, BIP10, BIP11, BIP12, BIP13, BIP14, BIP15, BIP16, BIP17, BIP18, BIP19, BIP20, BIP21, BIP22, BIP23, BIP24\n",
      "\u001b[32m│\u001b[0m\u001b[1;32m14:57:35\u001b[0m\u001b[32m│ \u001b[0m\u001b[1;36m⏳️ sub-\u001b[0m\u001b[1;36m06\u001b[0m\u001b[1;36m \u001b[0mSetting EEG channel locations to template montage: standard_1005.\n",
      "\u001b[32m│\u001b[0m\u001b[1;32m14:57:35\u001b[0m\u001b[32m│ \u001b[0m\u001b[1;36m⏳️ sub-\u001b[0m\u001b[1;36m06\u001b[0m\u001b[1;36m \u001b[0mDropping channels: EOG, BIP1, BIP2, BIP3, BIP4, BIP5, BIP6, BIP7, BIP8, BIP9, BIP10, BIP11, BIP12, BIP13, BIP14, BIP15, BIP16, BIP17, BIP18, BIP19, BIP20, BIP21, BIP22, BIP23, BIP24\n",
      "\u001b[32m│\u001b[0m\u001b[1;32m14:57:36\u001b[0m\u001b[32m│ \u001b[0m\u001b[1;36m⏳️ sub-\u001b[0m\u001b[1;36m01\u001b[0m\u001b[1;36m \u001b[0mSetting EEG channel locations to template montage: standard_1005.\n",
      "\u001b[32m│\u001b[0m\u001b[1;32m14:57:36\u001b[0m\u001b[32m│ \u001b[0m\u001b[1;36m⏳️ sub-\u001b[0m\u001b[1;36m01\u001b[0m\u001b[1;36m \u001b[0mDropping channels: EOG, BIP1, BIP2, BIP3, BIP4, BIP5, BIP6, BIP7, BIP8, BIP9, BIP10, BIP11, BIP12, BIP13, BIP14, BIP15, BIP16, BIP17, BIP18, BIP19, BIP20, BIP21, BIP22, BIP23, BIP24\n",
      "\u001b[32m│\u001b[0m\u001b[1;32m14:57:36\u001b[0m\u001b[32m│ \u001b[0m\u001b[1;36m⏳️ sub-\u001b[0m\u001b[1;36m02\u001b[0m\u001b[1;36m \u001b[0mSetting EEG channel locations to template montage: standard_1005.\n",
      "\u001b[32m│\u001b[0m\u001b[1;32m14:57:36\u001b[0m\u001b[32m│ \u001b[0m\u001b[1;36m⏳️ sub-\u001b[0m\u001b[1;36m05\u001b[0m\u001b[1;36m \u001b[0mRenaming events …\n",
      "\u001b[32m│\u001b[0m\u001b[1;32m14:57:36\u001b[0m\u001b[32m│ \u001b[0m\u001b[1;36m⏳️ sub-\u001b[0m\u001b[1;36m05\u001b[0m\u001b[1;36m \u001b[0m… s3021 -> avatar\n",
      "\u001b[32m│\u001b[0m\u001b[1;32m14:57:36\u001b[0m\u001b[32m│ \u001b[0m\u001b[1;36m⏳️ sub-\u001b[0m\u001b[1;36m02\u001b[0m\u001b[1;36m \u001b[0mDropping channels: EOG, BIP1, BIP2, BIP3, BIP4, BIP5, BIP6, BIP7, BIP8, BIP9, BIP10, BIP11, BIP12, BIP13, BIP14, BIP15, BIP16, BIP17, BIP18, BIP19, BIP20, BIP21, BIP22, BIP23, BIP24\n",
      "\u001b[32m│\u001b[0m\u001b[1;32m14:57:36\u001b[0m\u001b[32m│ \u001b[0m\u001b[1;36m⏳️ sub-\u001b[0m\u001b[1;36m05\u001b[0m\u001b[1;36m \u001b[0m… s3041 -> sticks\n",
      "\u001b[32m│\u001b[0m\u001b[1;32m14:57:36\u001b[0m\u001b[32m│ \u001b[0m\u001b[1;36m⏳️ sub-\u001b[0m\u001b[1;36m05\u001b[0m\u001b[1;36m \u001b[0mNot applying notch filter to experimental data.\n",
      "\u001b[32m│\u001b[0m\u001b[1;32m14:57:36\u001b[0m\u001b[32m│ \u001b[0m\u001b[1;36m⏳️ sub-\u001b[0m\u001b[1;36m05\u001b[0m\u001b[1;36m \u001b[0mBand-pass filtering experimental data; range: \u001b[1;36m1.0\u001b[0m – \u001b[1;36m30.0\u001b[0m Hz\n",
      "\u001b[32m│\u001b[0m\u001b[1;32m14:57:37\u001b[0m\u001b[32m│ \u001b[0m\u001b[1;36m⏳️ sub-\u001b[0m\u001b[1;36m03\u001b[0m\u001b[1;36m \u001b[0mSetting EEG channel locations to template montage: standard_1005.\n",
      "\u001b[32m│\u001b[0m\u001b[1;32m14:57:37\u001b[0m\u001b[32m│ \u001b[0m\u001b[1;36m⏳️ sub-\u001b[0m\u001b[1;36m03\u001b[0m\u001b[1;36m \u001b[0mDropping channels: EOG, BIP1, BIP2, BIP3, BIP4, BIP5, BIP6, BIP7, BIP8, BIP9, BIP10, BIP11, BIP12, BIP13, BIP14, BIP15, BIP16, BIP17, BIP18, BIP19, BIP20, BIP21, BIP22, BIP23, BIP24\n",
      "\u001b[32m│\u001b[0m\u001b[1;32m14:57:39\u001b[0m\u001b[32m│ \u001b[0m\u001b[1;36m⏳️ sub-\u001b[0m\u001b[1;36m04\u001b[0m\u001b[1;36m \u001b[0mRenaming events …\n",
      "\u001b[32m│\u001b[0m\u001b[1;32m14:57:39\u001b[0m\u001b[32m│ \u001b[0m\u001b[1;36m⏳️ sub-\u001b[0m\u001b[1;36m04\u001b[0m\u001b[1;36m \u001b[0m… s3021 -> avatar\n",
      "\u001b[32m│\u001b[0m\u001b[1;32m14:57:39\u001b[0m\u001b[32m│ \u001b[0m\u001b[1;36m⏳️ sub-\u001b[0m\u001b[1;36m04\u001b[0m\u001b[1;36m \u001b[0m… s3041 -> sticks\n",
      "\u001b[32m│\u001b[0m\u001b[1;32m14:57:39\u001b[0m\u001b[32m│ \u001b[0m\u001b[1;36m⏳️ sub-\u001b[0m\u001b[1;36m04\u001b[0m\u001b[1;36m \u001b[0mNot applying notch filter to experimental data.\n",
      "\u001b[32m│\u001b[0m\u001b[1;32m14:57:39\u001b[0m\u001b[32m│ \u001b[0m\u001b[1;36m⏳️ sub-\u001b[0m\u001b[1;36m04\u001b[0m\u001b[1;36m \u001b[0mBand-pass filtering experimental data; range: \u001b[1;36m1.0\u001b[0m – \u001b[1;36m30.0\u001b[0m Hz\n",
      "\u001b[32m│\u001b[0m\u001b[1;32m14:57:39\u001b[0m\u001b[32m│ \u001b[0m\u001b[1;36m⏳️ sub-\u001b[0m\u001b[1;36m06\u001b[0m\u001b[1;36m \u001b[0mRenaming events …\n",
      "\u001b[32m│\u001b[0m\u001b[1;32m14:57:39\u001b[0m\u001b[32m│ \u001b[0m\u001b[1;36m⏳️ sub-\u001b[0m\u001b[1;36m06\u001b[0m\u001b[1;36m \u001b[0m… s3021 -> avatar\n",
      "\u001b[32m│\u001b[0m\u001b[1;32m14:57:39\u001b[0m\u001b[32m│ \u001b[0m\u001b[1;36m⏳️ sub-\u001b[0m\u001b[1;36m06\u001b[0m\u001b[1;36m \u001b[0m… s3041 -> sticks\n",
      "\u001b[32m│\u001b[0m\u001b[1;32m14:57:39\u001b[0m\u001b[32m│ \u001b[0m\u001b[1;36m⏳️ sub-\u001b[0m\u001b[1;36m06\u001b[0m\u001b[1;36m \u001b[0mNot applying notch filter to experimental data.\n",
      "\u001b[32m│\u001b[0m\u001b[1;32m14:57:39\u001b[0m\u001b[32m│ \u001b[0m\u001b[1;36m⏳️ sub-\u001b[0m\u001b[1;36m06\u001b[0m\u001b[1;36m \u001b[0mBand-pass filtering experimental data; range: \u001b[1;36m1.0\u001b[0m – \u001b[1;36m30.0\u001b[0m Hz\n",
      "\u001b[32m│\u001b[0m\u001b[1;32m14:57:40\u001b[0m\u001b[32m│ \u001b[0m\u001b[1;36m⏳️ sub-\u001b[0m\u001b[1;36m01\u001b[0m\u001b[1;36m \u001b[0mRenaming events …\n",
      "\u001b[32m│\u001b[0m\u001b[1;32m14:57:40\u001b[0m\u001b[32m│ \u001b[0m\u001b[1;36m⏳️ sub-\u001b[0m\u001b[1;36m02\u001b[0m\u001b[1;36m \u001b[0mRenaming events …\n",
      "\u001b[32m│\u001b[0m\u001b[1;32m14:57:40\u001b[0m\u001b[32m│ \u001b[0m\u001b[1;36m⏳️ sub-\u001b[0m\u001b[1;36m01\u001b[0m\u001b[1;36m \u001b[0m… s3021 -> avatar\n",
      "\u001b[32m│\u001b[0m\u001b[1;32m14:57:40\u001b[0m\u001b[32m│ \u001b[0m\u001b[1;36m⏳️ sub-\u001b[0m\u001b[1;36m02\u001b[0m\u001b[1;36m \u001b[0m… s3021 -> avatar\n",
      "\u001b[32m│\u001b[0m\u001b[1;32m14:57:40\u001b[0m\u001b[32m│ \u001b[0m\u001b[1;36m⏳️ sub-\u001b[0m\u001b[1;36m02\u001b[0m\u001b[1;36m \u001b[0m… s3041 -> sticks\n",
      "\u001b[32m│\u001b[0m\u001b[1;32m14:57:40\u001b[0m\u001b[32m│ \u001b[0m\u001b[1;36m⏳️ sub-\u001b[0m\u001b[1;36m01\u001b[0m\u001b[1;36m \u001b[0m… s3041 -> sticks\n",
      "\u001b[32m│\u001b[0m\u001b[1;32m14:57:40\u001b[0m\u001b[32m│ \u001b[0m\u001b[1;36m⏳️ sub-\u001b[0m\u001b[1;36m02\u001b[0m\u001b[1;36m \u001b[0mNot applying notch filter to experimental data.\n",
      "\u001b[32m│\u001b[0m\u001b[1;32m14:57:40\u001b[0m\u001b[32m│ \u001b[0m\u001b[1;36m⏳️ sub-\u001b[0m\u001b[1;36m01\u001b[0m\u001b[1;36m \u001b[0mNot applying notch filter to experimental data.\n",
      "\u001b[32m│\u001b[0m\u001b[1;32m14:57:40\u001b[0m\u001b[32m│ \u001b[0m\u001b[1;36m⏳️ sub-\u001b[0m\u001b[1;36m02\u001b[0m\u001b[1;36m \u001b[0mBand-pass filtering experimental data; range: \u001b[1;36m1.0\u001b[0m – \u001b[1;36m30.0\u001b[0m Hz\n",
      "\u001b[32m│\u001b[0m\u001b[1;32m14:57:40\u001b[0m\u001b[32m│ \u001b[0m\u001b[1;36m⏳️ sub-\u001b[0m\u001b[1;36m01\u001b[0m\u001b[1;36m \u001b[0mBand-pass filtering experimental data; range: \u001b[1;36m1.0\u001b[0m – \u001b[1;36m30.0\u001b[0m Hz\n",
      "\u001b[32m│\u001b[0m\u001b[1;32m14:57:40\u001b[0m\u001b[32m│ \u001b[0m\u001b[1;36m⏳️ sub-\u001b[0m\u001b[1;36m03\u001b[0m\u001b[1;36m \u001b[0mRenaming events …\n",
      "\u001b[32m│\u001b[0m\u001b[1;32m14:57:40\u001b[0m\u001b[32m│ \u001b[0m\u001b[1;36m⏳️ sub-\u001b[0m\u001b[1;36m03\u001b[0m\u001b[1;36m \u001b[0m… s3021 -> avatar\n",
      "\u001b[32m│\u001b[0m\u001b[1;32m14:57:40\u001b[0m\u001b[32m│ \u001b[0m\u001b[1;36m⏳️ sub-\u001b[0m\u001b[1;36m03\u001b[0m\u001b[1;36m \u001b[0m… s3041 -> sticks\n",
      "\u001b[32m│\u001b[0m\u001b[1;32m14:57:40\u001b[0m\u001b[32m│ \u001b[0m\u001b[1;36m⏳️ sub-\u001b[0m\u001b[1;36m03\u001b[0m\u001b[1;36m \u001b[0mNot applying notch filter to experimental data.\n",
      "\u001b[32m│\u001b[0m\u001b[1;32m14:57:40\u001b[0m\u001b[32m│ \u001b[0m\u001b[1;36m⏳️ sub-\u001b[0m\u001b[1;36m03\u001b[0m\u001b[1;36m \u001b[0mBand-pass filtering experimental data; range: \u001b[1;36m1.0\u001b[0m – \u001b[1;36m30.0\u001b[0m Hz\n",
      "\u001b[32m│\u001b[0m\u001b[1;32m14:57:42\u001b[0m\u001b[32m│ \u001b[0m\u001b[1;36m⏳️ sub-\u001b[0m\u001b[1;36m04\u001b[0m\u001b[1;36m \u001b[0mResampling experimental data to \u001b[1;36m100.0\u001b[0m Hz\n",
      "\u001b[32m│\u001b[0m\u001b[1;32m14:57:43\u001b[0m\u001b[32m│ \u001b[0m\u001b[1;36m⏳️ sub-\u001b[0m\u001b[1;36m05\u001b[0m\u001b[1;36m \u001b[0mResampling experimental data to \u001b[1;36m100.0\u001b[0m Hz\n",
      "\u001b[32m│\u001b[0m\u001b[1;32m14:57:45\u001b[0m\u001b[32m│ \u001b[0m\u001b[1;36m⏳️ sub-\u001b[0m\u001b[1;36m06\u001b[0m\u001b[1;36m \u001b[0mResampling experimental data to \u001b[1;36m100.0\u001b[0m Hz\n",
      "\u001b[32m│\u001b[0m\u001b[1;32m14:57:46\u001b[0m\u001b[32m│ \u001b[0m\u001b[1;36m⏳️ sub-\u001b[0m\u001b[1;36m02\u001b[0m\u001b[1;36m \u001b[0mResampling experimental data to \u001b[1;36m100.0\u001b[0m Hz\n",
      "\u001b[32m│\u001b[0m\u001b[1;32m14:57:50\u001b[0m\u001b[32m│ \u001b[0m\u001b[1;36m⏳️ sub-\u001b[0m\u001b[1;36m01\u001b[0m\u001b[1;36m \u001b[0mResampling experimental data to \u001b[1;36m100.0\u001b[0m Hz\n",
      "\u001b[32m│\u001b[0m\u001b[1;32m14:57:56\u001b[0m\u001b[32m│ \u001b[0m\u001b[1;36m⏳️ sub-\u001b[0m\u001b[1;36m04\u001b[0m\u001b[1;36m \u001b[0mAdding filtered raw data to report\n",
      "\u001b[32m│\u001b[0m\u001b[1;32m14:57:56\u001b[0m\u001b[32m│ \u001b[0m\u001b[1;36m⏳️ sub-\u001b[0m\u001b[1;36m03\u001b[0m\u001b[1;36m \u001b[0mResampling experimental data to \u001b[1;36m100.0\u001b[0m Hz\n",
      "\u001b[32m│\u001b[0m\u001b[1;32m14:57:58\u001b[0m\u001b[32m│ \u001b[0m\u001b[1;36m⏳️ sub-\u001b[0m\u001b[1;36m05\u001b[0m\u001b[1;36m \u001b[0mAdding filtered raw data to report\n",
      "\u001b[32m│\u001b[0m\u001b[1;32m14:58:01\u001b[0m\u001b[32m│ \u001b[0m\u001b[1;36m⏳️ sub-\u001b[0m\u001b[1;36m04\u001b[0m\u001b[1;36m \u001b[0mAdding config and sys info to report\n",
      "\u001b[32m│\u001b[0m\u001b[1;32m14:58:02\u001b[0m\u001b[32m│ \u001b[0m\u001b[1;36m⏳️ sub-\u001b[0m\u001b[1;36m06\u001b[0m\u001b[1;36m \u001b[0mAdding filtered raw data to report\n",
      "\u001b[32m│\u001b[0m\u001b[1;32m14:58:02\u001b[0m\u001b[32m│ \u001b[0m\u001b[1;36m⏳️ sub-\u001b[0m\u001b[1;36m02\u001b[0m\u001b[1;36m \u001b[0mAdding filtered raw data to report\n",
      "\u001b[32m│\u001b[0m\u001b[1;32m14:58:03\u001b[0m\u001b[32m│ \u001b[0m\u001b[1;36m⏳️ sub-\u001b[0m\u001b[1;36m05\u001b[0m\u001b[1;36m \u001b[0mAdding config and sys info to report\n",
      "\u001b[32m│\u001b[0m\u001b[1;32m14:58:06\u001b[0m\u001b[32m│ \u001b[0m\u001b[1;36m⏳️ sub-\u001b[0m\u001b[1;36m01\u001b[0m\u001b[1;36m \u001b[0mAdding filtered raw data to report\n",
      "\u001b[32m│\u001b[0m\u001b[1;32m14:58:06\u001b[0m\u001b[32m│ \u001b[0m\u001b[1;36m⏳️ sub-\u001b[0m\u001b[1;36m06\u001b[0m\u001b[1;36m \u001b[0mAdding config and sys info to report\n",
      "\u001b[32m│\u001b[0m\u001b[1;32m14:58:06\u001b[0m\u001b[32m│ \u001b[0m\u001b[1;36m⏳️ sub-\u001b[0m\u001b[1;36m02\u001b[0m\u001b[1;36m \u001b[0mAdding config and sys info to report\n",
      "\u001b[32m│\u001b[0m\u001b[1;32m14:58:06\u001b[0m\u001b[32m│ \u001b[0m\u001b[1;36m⏳️ sub-\u001b[0m\u001b[1;36m04\u001b[0m\u001b[1;36m \u001b[0mSaving report: \u001b]8;id=417875;file:///home/fspletti/vorlesungen/2023S_Signal_processing_and_Analysis_of_human_brain_potentials_(EEG)/git/eeg_course_project/data/ds003702/derivatives/mne-bids-pipeline/sub-04/eeg/sub-04_task-SocialMemoryCuing_report.html\u001b\\\u001b[35m/home/fspletti/vorlesungen/\u001b[0m\u001b]8;;\u001b\\\u001b]8;id=213316;file:///home/fspletti/vorlesungen/2023S_Signal_processing_and_Analysis_of_human_brain_potentials_(EEG)/git/eeg_course_project/data/ds003702/derivatives/mne-bids-pipeline/sub-04/eeg/sub-04_task-SocialMemoryCuing_report.html\u001b\\\u001b[95m2023S_Signal_processing_and_Analysis_of_human_brain_potentials_\u001b[0m\u001b]8;;\u001b\\\u001b]8;id=452634;file:///home/fspletti/vorlesungen/2023S_Signal_processing_and_Analysis_of_human_brain_potentials_(EEG)/git/eeg_course_project/data/ds003702/derivatives/mne-bids-pipeline/sub-04/eeg/sub-04_task-SocialMemoryCuing_report.html\u001b\\\u001b[1m(\u001b[0m\u001b]8;;\u001b\\\u001b]8;id=397893;file:///home/fspletti/vorlesungen/2023S_Signal_processing_and_Analysis_of_human_brain_potentials_(EEG)/git/eeg_course_project/data/ds003702/derivatives/mne-bids-pipeline/sub-04/eeg/sub-04_task-SocialMemoryCuing_report.html\u001b\\EEG\u001b]8;;\u001b\\\u001b]8;id=452634;file:///home/fspletti/vorlesungen/2023S_Signal_processing_and_Analysis_of_human_brain_potentials_(EEG)/git/eeg_course_project/data/ds003702/derivatives/mne-bids-pipeline/sub-04/eeg/sub-04_task-SocialMemoryCuing_report.html\u001b\\\u001b[1m)\u001b[0m\u001b]8;;\u001b\\\u001b]8;id=417875;file:///home/fspletti/vorlesungen/2023S_Signal_processing_and_Analysis_of_human_brain_potentials_(EEG)/git/eeg_course_project/data/ds003702/derivatives/mne-bids-pipeline/sub-04/eeg/sub-04_task-SocialMemoryCuing_report.html\u001b\\\u001b[35m/git/eeg_course_project/data/ds003702/derivatives/mne-bids-pipeline/sub-04/eeg/\u001b[0m\u001b]8;;\u001b\\\u001b]8;id=213316;file:///home/fspletti/vorlesungen/2023S_Signal_processing_and_Analysis_of_human_brain_potentials_(EEG)/git/eeg_course_project/data/ds003702/derivatives/mne-bids-pipeline/sub-04/eeg/sub-04_task-SocialMemoryCuing_report.html\u001b\\\u001b[95msub-04_task-SocialMemoryCuing_report.html\u001b[0m\u001b]8;;\u001b\\\n",
      "\u001b[32m│\u001b[0m\u001b[1;32m14:58:07\u001b[0m\u001b[32m│ \u001b[0m\u001b[1;36m⏳️ sub-\u001b[0m\u001b[1;36m03\u001b[0m\u001b[1;36m \u001b[0mAdding filtered raw data to report\n",
      "\u001b[32m│\u001b[0m\u001b[1;32m14:58:07\u001b[0m\u001b[32m│ \u001b[0m\u001b[1;36m⏳️ sub-\u001b[0m\u001b[1;36m05\u001b[0m\u001b[1;36m \u001b[0mSaving report: \u001b]8;id=353157;file:///home/fspletti/vorlesungen/2023S_Signal_processing_and_Analysis_of_human_brain_potentials_(EEG)/git/eeg_course_project/data/ds003702/derivatives/mne-bids-pipeline/sub-05/eeg/sub-05_task-SocialMemoryCuing_report.html\u001b\\\u001b[35m/home/fspletti/vorlesungen/\u001b[0m\u001b]8;;\u001b\\\u001b]8;id=576067;file:///home/fspletti/vorlesungen/2023S_Signal_processing_and_Analysis_of_human_brain_potentials_(EEG)/git/eeg_course_project/data/ds003702/derivatives/mne-bids-pipeline/sub-05/eeg/sub-05_task-SocialMemoryCuing_report.html\u001b\\\u001b[95m2023S_Signal_processing_and_Analysis_of_human_brain_potentials_\u001b[0m\u001b]8;;\u001b\\\u001b]8;id=321438;file:///home/fspletti/vorlesungen/2023S_Signal_processing_and_Analysis_of_human_brain_potentials_(EEG)/git/eeg_course_project/data/ds003702/derivatives/mne-bids-pipeline/sub-05/eeg/sub-05_task-SocialMemoryCuing_report.html\u001b\\\u001b[1m(\u001b[0m\u001b]8;;\u001b\\\u001b]8;id=494199;file:///home/fspletti/vorlesungen/2023S_Signal_processing_and_Analysis_of_human_brain_potentials_(EEG)/git/eeg_course_project/data/ds003702/derivatives/mne-bids-pipeline/sub-05/eeg/sub-05_task-SocialMemoryCuing_report.html\u001b\\EEG\u001b]8;;\u001b\\\u001b]8;id=321438;file:///home/fspletti/vorlesungen/2023S_Signal_processing_and_Analysis_of_human_brain_potentials_(EEG)/git/eeg_course_project/data/ds003702/derivatives/mne-bids-pipeline/sub-05/eeg/sub-05_task-SocialMemoryCuing_report.html\u001b\\\u001b[1m)\u001b[0m\u001b]8;;\u001b\\\u001b]8;id=353157;file:///home/fspletti/vorlesungen/2023S_Signal_processing_and_Analysis_of_human_brain_potentials_(EEG)/git/eeg_course_project/data/ds003702/derivatives/mne-bids-pipeline/sub-05/eeg/sub-05_task-SocialMemoryCuing_report.html\u001b\\\u001b[35m/git/eeg_course_project/data/ds003702/derivatives/mne-bids-pipeline/sub-05/eeg/\u001b[0m\u001b]8;;\u001b\\\u001b]8;id=576067;file:///home/fspletti/vorlesungen/2023S_Signal_processing_and_Analysis_of_human_brain_potentials_(EEG)/git/eeg_course_project/data/ds003702/derivatives/mne-bids-pipeline/sub-05/eeg/sub-05_task-SocialMemoryCuing_report.html\u001b\\\u001b[95msub-05_task-SocialMemoryCuing_report.html\u001b[0m\u001b]8;;\u001b\\\n",
      "\u001b[32m│\u001b[0m\u001b[1;32m14:58:08\u001b[0m\u001b[32m│ \u001b[0m\u001b[1;36m⏳️ sub-\u001b[0m\u001b[1;36m07\u001b[0m\u001b[1;36m \u001b[0mSetting EEG channel locations to template montage: standard_1005.\n",
      "\u001b[32m│\u001b[0m\u001b[1;32m14:58:08\u001b[0m\u001b[32m│ \u001b[0m\u001b[1;36m⏳️ sub-\u001b[0m\u001b[1;36m07\u001b[0m\u001b[1;36m \u001b[0mDropping channels: EOG, BIP1, BIP2, BIP3, BIP4, BIP5, BIP6, BIP7, BIP8, BIP9, BIP10, BIP11, BIP12, BIP13, BIP14, BIP15, BIP16, BIP17, BIP18, BIP19, BIP20, BIP21, BIP22, BIP23, BIP24\n",
      "\u001b[32m│\u001b[0m\u001b[1;32m14:58:09\u001b[0m\u001b[32m│ \u001b[0m\u001b[1;36m⏳️ sub-\u001b[0m\u001b[1;36m01\u001b[0m\u001b[1;36m \u001b[0mAdding config and sys info to report\n",
      "\u001b[32m│\u001b[0m\u001b[1;32m14:58:09\u001b[0m\u001b[32m│ \u001b[0m\u001b[1;36m⏳️ sub-\u001b[0m\u001b[1;36m06\u001b[0m\u001b[1;36m \u001b[0mSaving report: \u001b]8;id=111208;file:///home/fspletti/vorlesungen/2023S_Signal_processing_and_Analysis_of_human_brain_potentials_(EEG)/git/eeg_course_project/data/ds003702/derivatives/mne-bids-pipeline/sub-06/eeg/sub-06_task-SocialMemoryCuing_report.html\u001b\\\u001b[35m/home/fspletti/vorlesungen/\u001b[0m\u001b]8;;\u001b\\\u001b]8;id=514356;file:///home/fspletti/vorlesungen/2023S_Signal_processing_and_Analysis_of_human_brain_potentials_(EEG)/git/eeg_course_project/data/ds003702/derivatives/mne-bids-pipeline/sub-06/eeg/sub-06_task-SocialMemoryCuing_report.html\u001b\\\u001b[95m2023S_Signal_processing_and_Analysis_of_human_brain_potentials_\u001b[0m\u001b]8;;\u001b\\\u001b]8;id=42161;file:///home/fspletti/vorlesungen/2023S_Signal_processing_and_Analysis_of_human_brain_potentials_(EEG)/git/eeg_course_project/data/ds003702/derivatives/mne-bids-pipeline/sub-06/eeg/sub-06_task-SocialMemoryCuing_report.html\u001b\\\u001b[1m(\u001b[0m\u001b]8;;\u001b\\\u001b]8;id=116210;file:///home/fspletti/vorlesungen/2023S_Signal_processing_and_Analysis_of_human_brain_potentials_(EEG)/git/eeg_course_project/data/ds003702/derivatives/mne-bids-pipeline/sub-06/eeg/sub-06_task-SocialMemoryCuing_report.html\u001b\\EEG\u001b]8;;\u001b\\\u001b]8;id=42161;file:///home/fspletti/vorlesungen/2023S_Signal_processing_and_Analysis_of_human_brain_potentials_(EEG)/git/eeg_course_project/data/ds003702/derivatives/mne-bids-pipeline/sub-06/eeg/sub-06_task-SocialMemoryCuing_report.html\u001b\\\u001b[1m)\u001b[0m\u001b]8;;\u001b\\\u001b]8;id=111208;file:///home/fspletti/vorlesungen/2023S_Signal_processing_and_Analysis_of_human_brain_potentials_(EEG)/git/eeg_course_project/data/ds003702/derivatives/mne-bids-pipeline/sub-06/eeg/sub-06_task-SocialMemoryCuing_report.html\u001b\\\u001b[35m/git/eeg_course_project/data/ds003702/derivatives/mne-bids-pipeline/sub-06/eeg/\u001b[0m\u001b]8;;\u001b\\\u001b]8;id=514356;file:///home/fspletti/vorlesungen/2023S_Signal_processing_and_Analysis_of_human_brain_potentials_(EEG)/git/eeg_course_project/data/ds003702/derivatives/mne-bids-pipeline/sub-06/eeg/sub-06_task-SocialMemoryCuing_report.html\u001b\\\u001b[95msub-06_task-SocialMemoryCuing_report.html\u001b[0m\u001b]8;;\u001b\\\n",
      "\u001b[32m│\u001b[0m\u001b[1;32m14:58:09\u001b[0m\u001b[32m│ \u001b[0m\u001b[1;36m⏳️ sub-\u001b[0m\u001b[1;36m02\u001b[0m\u001b[1;36m \u001b[0mSaving report: \u001b]8;id=512600;file:///home/fspletti/vorlesungen/2023S_Signal_processing_and_Analysis_of_human_brain_potentials_(EEG)/git/eeg_course_project/data/ds003702/derivatives/mne-bids-pipeline/sub-02/eeg/sub-02_task-SocialMemoryCuing_report.html\u001b\\\u001b[35m/home/fspletti/vorlesungen/\u001b[0m\u001b]8;;\u001b\\\u001b]8;id=932727;file:///home/fspletti/vorlesungen/2023S_Signal_processing_and_Analysis_of_human_brain_potentials_(EEG)/git/eeg_course_project/data/ds003702/derivatives/mne-bids-pipeline/sub-02/eeg/sub-02_task-SocialMemoryCuing_report.html\u001b\\\u001b[95m2023S_Signal_processing_and_Analysis_of_human_brain_potentials_\u001b[0m\u001b]8;;\u001b\\\u001b]8;id=168207;file:///home/fspletti/vorlesungen/2023S_Signal_processing_and_Analysis_of_human_brain_potentials_(EEG)/git/eeg_course_project/data/ds003702/derivatives/mne-bids-pipeline/sub-02/eeg/sub-02_task-SocialMemoryCuing_report.html\u001b\\\u001b[1m(\u001b[0m\u001b]8;;\u001b\\\u001b]8;id=823159;file:///home/fspletti/vorlesungen/2023S_Signal_processing_and_Analysis_of_human_brain_potentials_(EEG)/git/eeg_course_project/data/ds003702/derivatives/mne-bids-pipeline/sub-02/eeg/sub-02_task-SocialMemoryCuing_report.html\u001b\\EEG\u001b]8;;\u001b\\\u001b]8;id=168207;file:///home/fspletti/vorlesungen/2023S_Signal_processing_and_Analysis_of_human_brain_potentials_(EEG)/git/eeg_course_project/data/ds003702/derivatives/mne-bids-pipeline/sub-02/eeg/sub-02_task-SocialMemoryCuing_report.html\u001b\\\u001b[1m)\u001b[0m\u001b]8;;\u001b\\\u001b]8;id=512600;file:///home/fspletti/vorlesungen/2023S_Signal_processing_and_Analysis_of_human_brain_potentials_(EEG)/git/eeg_course_project/data/ds003702/derivatives/mne-bids-pipeline/sub-02/eeg/sub-02_task-SocialMemoryCuing_report.html\u001b\\\u001b[35m/git/eeg_course_project/data/ds003702/derivatives/mne-bids-pipeline/sub-02/eeg/\u001b[0m\u001b]8;;\u001b\\\u001b]8;id=932727;file:///home/fspletti/vorlesungen/2023S_Signal_processing_and_Analysis_of_human_brain_potentials_(EEG)/git/eeg_course_project/data/ds003702/derivatives/mne-bids-pipeline/sub-02/eeg/sub-02_task-SocialMemoryCuing_report.html\u001b\\\u001b[95msub-02_task-SocialMemoryCuing_report.html\u001b[0m\u001b]8;;\u001b\\\n",
      "\u001b[32m│\u001b[0m\u001b[1;32m14:58:10\u001b[0m\u001b[32m│ \u001b[0m\u001b[1;36m⏳️ sub-\u001b[0m\u001b[1;36m07\u001b[0m\u001b[1;36m \u001b[0mRenaming events …\n",
      "\u001b[32m│\u001b[0m\u001b[1;32m14:58:10\u001b[0m\u001b[32m│ \u001b[0m\u001b[1;36m⏳️ sub-\u001b[0m\u001b[1;36m07\u001b[0m\u001b[1;36m \u001b[0m… s3021 -> avatar\n",
      "\u001b[32m│\u001b[0m\u001b[1;32m14:58:10\u001b[0m\u001b[32m│ \u001b[0m\u001b[1;36m⏳️ sub-\u001b[0m\u001b[1;36m07\u001b[0m\u001b[1;36m \u001b[0m… s3041 -> sticks\n",
      "\u001b[32m│\u001b[0m\u001b[1;32m14:58:10\u001b[0m\u001b[32m│ \u001b[0m\u001b[1;36m⏳️ sub-\u001b[0m\u001b[1;36m07\u001b[0m\u001b[1;36m \u001b[0mNot applying notch filter to experimental data.\n",
      "\u001b[32m│\u001b[0m\u001b[1;32m14:58:10\u001b[0m\u001b[32m│ \u001b[0m\u001b[1;36m⏳️ sub-\u001b[0m\u001b[1;36m07\u001b[0m\u001b[1;36m \u001b[0mBand-pass filtering experimental data; range: \u001b[1;36m1.0\u001b[0m – \u001b[1;36m30.0\u001b[0m Hz\n",
      "\u001b[32m│\u001b[0m\u001b[1;32m14:58:11\u001b[0m\u001b[32m│ \u001b[0m\u001b[1;36m⏳️ sub-\u001b[0m\u001b[1;36m09\u001b[0m\u001b[1;36m \u001b[0mSetting EEG channel locations to template montage: standard_1005.\n",
      "\u001b[32m│\u001b[0m\u001b[1;32m14:58:11\u001b[0m\u001b[32m│ \u001b[0m\u001b[1;36m⏳️ sub-\u001b[0m\u001b[1;36m09\u001b[0m\u001b[1;36m \u001b[0mDropping channels: EOG, BIP1, BIP2, BIP3, BIP4, BIP5, BIP6, BIP7, BIP8, BIP9, BIP10, BIP11, BIP12, BIP13, BIP14, BIP15, BIP16, BIP17, BIP18, BIP19, BIP20, BIP21, BIP22, BIP23, BIP24\n",
      "\u001b[32m│\u001b[0m\u001b[1;32m14:58:11\u001b[0m\u001b[32m│ \u001b[0m\u001b[1;36m⏳️ sub-\u001b[0m\u001b[1;36m03\u001b[0m\u001b[1;36m \u001b[0mAdding config and sys info to report\n",
      "\u001b[32m│\u001b[0m\u001b[1;32m14:58:13\u001b[0m\u001b[32m│ \u001b[0m\u001b[1;36m⏳️ sub-\u001b[0m\u001b[1;36m01\u001b[0m\u001b[1;36m \u001b[0mSaving report: \u001b]8;id=541365;file:///home/fspletti/vorlesungen/2023S_Signal_processing_and_Analysis_of_human_brain_potentials_(EEG)/git/eeg_course_project/data/ds003702/derivatives/mne-bids-pipeline/sub-01/eeg/sub-01_task-SocialMemoryCuing_report.html\u001b\\\u001b[35m/home/fspletti/vorlesungen/\u001b[0m\u001b]8;;\u001b\\\u001b]8;id=506690;file:///home/fspletti/vorlesungen/2023S_Signal_processing_and_Analysis_of_human_brain_potentials_(EEG)/git/eeg_course_project/data/ds003702/derivatives/mne-bids-pipeline/sub-01/eeg/sub-01_task-SocialMemoryCuing_report.html\u001b\\\u001b[95m2023S_Signal_processing_and_Analysis_of_human_brain_potentials_\u001b[0m\u001b]8;;\u001b\\\u001b]8;id=616740;file:///home/fspletti/vorlesungen/2023S_Signal_processing_and_Analysis_of_human_brain_potentials_(EEG)/git/eeg_course_project/data/ds003702/derivatives/mne-bids-pipeline/sub-01/eeg/sub-01_task-SocialMemoryCuing_report.html\u001b\\\u001b[1m(\u001b[0m\u001b]8;;\u001b\\\u001b]8;id=681545;file:///home/fspletti/vorlesungen/2023S_Signal_processing_and_Analysis_of_human_brain_potentials_(EEG)/git/eeg_course_project/data/ds003702/derivatives/mne-bids-pipeline/sub-01/eeg/sub-01_task-SocialMemoryCuing_report.html\u001b\\EEG\u001b]8;;\u001b\\\u001b]8;id=616740;file:///home/fspletti/vorlesungen/2023S_Signal_processing_and_Analysis_of_human_brain_potentials_(EEG)/git/eeg_course_project/data/ds003702/derivatives/mne-bids-pipeline/sub-01/eeg/sub-01_task-SocialMemoryCuing_report.html\u001b\\\u001b[1m)\u001b[0m\u001b]8;;\u001b\\\u001b]8;id=541365;file:///home/fspletti/vorlesungen/2023S_Signal_processing_and_Analysis_of_human_brain_potentials_(EEG)/git/eeg_course_project/data/ds003702/derivatives/mne-bids-pipeline/sub-01/eeg/sub-01_task-SocialMemoryCuing_report.html\u001b\\\u001b[35m/git/eeg_course_project/data/ds003702/derivatives/mne-bids-pipeline/sub-01/eeg/\u001b[0m\u001b]8;;\u001b\\\u001b]8;id=506690;file:///home/fspletti/vorlesungen/2023S_Signal_processing_and_Analysis_of_human_brain_potentials_(EEG)/git/eeg_course_project/data/ds003702/derivatives/mne-bids-pipeline/sub-01/eeg/sub-01_task-SocialMemoryCuing_report.html\u001b\\\u001b[95msub-01_task-SocialMemoryCuing_report.html\u001b[0m\u001b]8;;\u001b\\\n",
      "\u001b[32m│\u001b[0m\u001b[1;32m14:58:13\u001b[0m\u001b[32m│ \u001b[0m\u001b[1;36m⏳️ sub-\u001b[0m\u001b[1;36m09\u001b[0m\u001b[1;36m \u001b[0mRenaming events …\n",
      "\u001b[32m│\u001b[0m\u001b[1;32m14:58:13\u001b[0m\u001b[32m│ \u001b[0m\u001b[1;36m⏳️ sub-\u001b[0m\u001b[1;36m09\u001b[0m\u001b[1;36m \u001b[0m… s3021 -> avatar\n",
      "\u001b[32m│\u001b[0m\u001b[1;32m14:58:13\u001b[0m\u001b[32m│ \u001b[0m\u001b[1;36m⏳️ sub-\u001b[0m\u001b[1;36m09\u001b[0m\u001b[1;36m \u001b[0m… s3041 -> sticks\n",
      "\u001b[32m│\u001b[0m\u001b[1;32m14:58:13\u001b[0m\u001b[32m│ \u001b[0m\u001b[1;36m⏳️ sub-\u001b[0m\u001b[1;36m09\u001b[0m\u001b[1;36m \u001b[0mNot applying notch filter to experimental data.\n",
      "\u001b[32m│\u001b[0m\u001b[1;32m14:58:14\u001b[0m\u001b[32m│ \u001b[0m\u001b[1;36m⏳️ sub-\u001b[0m\u001b[1;36m09\u001b[0m\u001b[1;36m \u001b[0mBand-pass filtering experimental data; range: \u001b[1;36m1.0\u001b[0m – \u001b[1;36m30.0\u001b[0m Hz\n",
      "\u001b[32m│\u001b[0m\u001b[1;32m14:58:14\u001b[0m\u001b[32m│ \u001b[0m\u001b[1;36m⏳️ sub-\u001b[0m\u001b[1;36m07\u001b[0m\u001b[1;36m \u001b[0mResampling experimental data to \u001b[1;36m100.0\u001b[0m Hz\n",
      "\u001b[32m│\u001b[0m\u001b[1;32m14:58:16\u001b[0m\u001b[32m│ \u001b[0m\u001b[1;36m⏳️ sub-\u001b[0m\u001b[1;36m03\u001b[0m\u001b[1;36m \u001b[0mSaving report: \u001b]8;id=412818;file:///home/fspletti/vorlesungen/2023S_Signal_processing_and_Analysis_of_human_brain_potentials_(EEG)/git/eeg_course_project/data/ds003702/derivatives/mne-bids-pipeline/sub-03/eeg/sub-03_task-SocialMemoryCuing_report.html\u001b\\\u001b[35m/home/fspletti/vorlesungen/\u001b[0m\u001b]8;;\u001b\\\u001b]8;id=849892;file:///home/fspletti/vorlesungen/2023S_Signal_processing_and_Analysis_of_human_brain_potentials_(EEG)/git/eeg_course_project/data/ds003702/derivatives/mne-bids-pipeline/sub-03/eeg/sub-03_task-SocialMemoryCuing_report.html\u001b\\\u001b[95m2023S_Signal_processing_and_Analysis_of_human_brain_potentials_\u001b[0m\u001b]8;;\u001b\\\u001b]8;id=432518;file:///home/fspletti/vorlesungen/2023S_Signal_processing_and_Analysis_of_human_brain_potentials_(EEG)/git/eeg_course_project/data/ds003702/derivatives/mne-bids-pipeline/sub-03/eeg/sub-03_task-SocialMemoryCuing_report.html\u001b\\\u001b[1m(\u001b[0m\u001b]8;;\u001b\\\u001b]8;id=42637;file:///home/fspletti/vorlesungen/2023S_Signal_processing_and_Analysis_of_human_brain_potentials_(EEG)/git/eeg_course_project/data/ds003702/derivatives/mne-bids-pipeline/sub-03/eeg/sub-03_task-SocialMemoryCuing_report.html\u001b\\EEG\u001b]8;;\u001b\\\u001b]8;id=432518;file:///home/fspletti/vorlesungen/2023S_Signal_processing_and_Analysis_of_human_brain_potentials_(EEG)/git/eeg_course_project/data/ds003702/derivatives/mne-bids-pipeline/sub-03/eeg/sub-03_task-SocialMemoryCuing_report.html\u001b\\\u001b[1m)\u001b[0m\u001b]8;;\u001b\\\u001b]8;id=412818;file:///home/fspletti/vorlesungen/2023S_Signal_processing_and_Analysis_of_human_brain_potentials_(EEG)/git/eeg_course_project/data/ds003702/derivatives/mne-bids-pipeline/sub-03/eeg/sub-03_task-SocialMemoryCuing_report.html\u001b\\\u001b[35m/git/eeg_course_project/data/ds003702/derivatives/mne-bids-pipeline/sub-03/eeg/\u001b[0m\u001b]8;;\u001b\\\u001b]8;id=849892;file:///home/fspletti/vorlesungen/2023S_Signal_processing_and_Analysis_of_human_brain_potentials_(EEG)/git/eeg_course_project/data/ds003702/derivatives/mne-bids-pipeline/sub-03/eeg/sub-03_task-SocialMemoryCuing_report.html\u001b\\\u001b[95msub-03_task-SocialMemoryCuing_report.html\u001b[0m\u001b]8;;\u001b\\\n",
      "\u001b[32m│\u001b[0m\u001b[1;32m14:58:16\u001b[0m\u001b[32m│ \u001b[0m\u001b[1;36m⏳️ sub-\u001b[0m\u001b[1;36m10\u001b[0m\u001b[1;36m \u001b[0mSetting EEG channel locations to template montage: standard_1005.\n",
      "\u001b[32m│\u001b[0m\u001b[1;32m14:58:17\u001b[0m\u001b[32m│ \u001b[0m\u001b[1;36m⏳️ sub-\u001b[0m\u001b[1;36m10\u001b[0m\u001b[1;36m \u001b[0mDropping channels: EOG, BIP1, BIP2, BIP3, BIP4, BIP5, BIP6, BIP7, BIP8, BIP9, BIP10, BIP11, BIP12, BIP13, BIP14, BIP15, BIP16, BIP17, BIP18, BIP19, BIP20, BIP21, BIP22, BIP23, BIP24\n",
      "\u001b[32m│\u001b[0m\u001b[1;32m14:58:18\u001b[0m\u001b[32m│ \u001b[0m\u001b[1;36m⏳️ sub-\u001b[0m\u001b[1;36m09\u001b[0m\u001b[1;36m \u001b[0mResampling experimental data to \u001b[1;36m100.0\u001b[0m Hz\n"
     ]
    }
   ],
   "source": [
    "curr_steps = \"preprocessing/_04_frequency_filter\"\n",
    "!mne_bids_pipeline --config {config_path} --steps {curr_steps}"
   ]
  },
  {
   "cell_type": "code",
   "execution_count": null,
   "id": "241a668a-9095-4e64-a2aa-f4a3aeb99be9",
   "metadata": {},
   "outputs": [],
   "source": [
    "import mne\n",
    "import matplotlib.pyplot as plt"
   ]
  },
  {
   "cell_type": "code",
   "execution_count": null,
   "id": "7559252e-0835-49ee-9d81-5e6c13a335ec",
   "metadata": {},
   "outputs": [],
   "source": [
    "%matplotlib widget"
   ]
  },
  {
   "cell_type": "code",
   "execution_count": null,
   "id": "e89260c9-bd91-4a62-be9a-1f73c84e7210",
   "metadata": {},
   "outputs": [],
   "source": [
    "# checkup: print spectrum of original and filtered signals, print sample rate of new raw data file\n",
    "curr_checkup_filename = f\"{curr_bids_root}/derivatives/mne-bids-pipeline/sub-01/eeg/sub-01_task-SocialMemoryCuing_proc-filt_raw.fif\"\n",
    "curr_checkup_raw_filtered = mne.io.read_raw_fif(curr_checkup_filename, preload=True)\n",
    "curr_checkup_raw_filtered.plot_psd()\n",
    "print(\"checkup plot showing reduced bandwidth of eeg signals\")"
   ]
  },
  {
   "cell_type": "code",
   "execution_count": null,
   "id": "47d6fb9b-bd99-4380-941b-94d5b553f7a7",
   "metadata": {},
   "outputs": [],
   "source": [
    "# checkup: print file name if the processed file exists\n",
    "curr_subject_path = f\"{curr_bids_root}/derivatives/mne-bids-pipeline/sub-01/eeg\"\n",
    "!ls \"{curr_subject_path}\"/sub-01_task-SocialMemoryCuing_proc-filt_raw.fif | xargs basename"
   ]
  },
  {
   "cell_type": "code",
   "execution_count": null,
   "id": "8ae2e819-7e3a-417f-aae6-52a28744bc7d",
   "metadata": {
    "scrolled": true
   },
   "outputs": [],
   "source": [
    "curr_steps = \"preprocessing/_05_make_epochs\"\n",
    "!mne_bids_pipeline --config {config_path} --steps {curr_steps}"
   ]
  },
  {
   "cell_type": "code",
   "execution_count": null,
   "id": "1be4676f-a31b-4728-9083-14a3e550fa14",
   "metadata": {},
   "outputs": [],
   "source": [
    "# checkup: plot epochs\n",
    "curr_checkup_epochs = mne.read_epochs(f\"{curr_subject_path}/sub-01_task-SocialMemoryCuing_epo.fif\")\n",
    "mne.viz.plot_epochs_image(curr_checkup_epochs)"
   ]
  },
  {
   "cell_type": "code",
   "execution_count": null,
   "id": "37522a72-cf8e-414f-965f-807164672ea7",
   "metadata": {
    "scrolled": true
   },
   "outputs": [],
   "source": [
    "curr_steps = \"preprocessing/_06a_run_ica\"\n",
    "!mne_bids_pipeline --config {config_path} --steps {curr_steps}"
   ]
  },
  {
   "cell_type": "code",
   "execution_count": null,
   "id": "9006e449-86bd-4b29-bfcc-0d3da7e59e1c",
   "metadata": {},
   "outputs": [],
   "source": [
    "# checkup: plot ica components\n",
    "curr_checkup_ica = mne.preprocessing.read_ica(f\"{curr_subject_path}/sub-01_task-SocialMemoryCuing_ica.fif\")\n",
    "curr_checkup_ica.apply(curr_checkup_raw_filtered)\n",
    "curr_checkup_ica.plot_components(inst=curr_checkup_raw_filtered)\n",
    "print(\"checkup: ICA component plots of the selected subject\")"
   ]
  },
  {
   "cell_type": "code",
   "execution_count": null,
   "id": "91e892dd",
   "metadata": {
    "scrolled": true
   },
   "outputs": [],
   "source": [
    "import mne\n",
    "import mne_icalabel\n",
    "from mne.preprocessing import read_ica\n",
    "import pandas as pd\n",
    "from mne_bids_pipeline._config_utils import (\n",
    "    get_subjects,\n",
    "    get_sessions\n",
    ")\n",
    "\n",
    "for subject in get_subjects(cfg):\n",
    "    for session in get_sessions(cfg):\n",
    "        paths = get_input_fnames_apply_ica(cfg=cfg, subject=subject, session=session)\n",
    "        ica = read_ica(paths[\"ica\"])\n",
    "        raw = mne.io.read_raw_fif(paths[\"raw\"])\n",
    "        \n",
    "        label_results = mne_icalabel.label_components(raw, ica, method=\"iclabel\")\n",
    "\n",
    "        print(\"\\n\\nSUBJECT:\", subject)\n",
    "        print(str(ica)) # checkup print of known data about ICA\n",
    "        print(\"\\nresulting predictions:\", label_results[\"y_pred_proba\"]) # checkup print\n",
    "        print(\"\\nresulting labels:     \", label_results[\"labels\"])       # checkup print\n",
    "        \n",
    "        labels = label_results[\"labels\"]\n",
    "        exclude_idx = [\n",
    "            idx for idx, label in enumerate(labels) if label not in [\"brain\", \"other\"]\n",
    "        ]\n",
    "        tsv_data = pd.read_csv(paths[\"components\"], sep=\"\\t\")\n",
    "        \n",
    "        # checkup: print old content of the file\n",
    "        print(\"\\nold tsv file content:\")\n",
    "        print(str(tsv_data))\n",
    "        \n",
    "        tsv_data.loc[exclude_idx, \"status\"] = \"bad\"\n",
    "        \n",
    "        # checkup: print updated content of the file\n",
    "        print(\"\\nnew tsv file content:\")\n",
    "        print(tsv_data)\n",
    "        \n",
    "        tsv_data.to_csv(paths[\"components\"], sep=\"\\t\", index=False)\n",
    "    \n"
   ]
  },
  {
   "cell_type": "code",
   "execution_count": null,
   "id": "7fc01d65-e0d9-405c-ae4c-7f8ae00158d8",
   "metadata": {},
   "outputs": [],
   "source": [
    "# checkup: print list of components given in updated …_proc-ica+components.tsv file\n",
    "!cat \"{curr_subject_path}/sub-01_task-SocialMemoryCuing_proc-ica_components.tsv\"\n",
    "# This file should contain a status like \"bad\" for eye blinks, or \"good\" for brain activity, as it is indicated above and visible in the ICA component plots."
   ]
  },
  {
   "cell_type": "code",
   "execution_count": null,
   "id": "b0e70992",
   "metadata": {
    "scrolled": true
   },
   "outputs": [],
   "source": [
    "curr_steps = \"preprocessing/_07a_apply_ica\"\n",
    "!mne_bids_pipeline --config {config_path} --steps {curr_steps}"
   ]
  },
  {
   "cell_type": "code",
   "execution_count": null,
   "id": "3d13510c-e87f-4e43-b5b8-84a8119bd806",
   "metadata": {},
   "outputs": [],
   "source": [
    "# checkup: plot original (conventionally filtered) epochs\n",
    "curr_checkup_epochs = mne.read_epochs(f\"{curr_subject_path}/sub-01_task-SocialMemoryCuing_epo.fif\")\n",
    "mne.viz.plot_epochs_image(curr_checkup_epochs)\n",
    "print(\"checkup: original (top) vs. ica-applied (bottom) epochs\")"
   ]
  },
  {
   "cell_type": "code",
   "execution_count": null,
   "id": "d844daf0-8c06-4ff9-b00a-9d71ef0d6a48",
   "metadata": {},
   "outputs": [],
   "source": [
    "# checkup: plot ICA-corrected epochs\n",
    "curr_checkup_epochs_ica = mne.read_epochs(f\"{curr_subject_path}/sub-01_task-SocialMemoryCuing_proc-ica_epo.fif\")\n",
    "mne.viz.plot_epochs_image(curr_checkup_epochs_ica)\n",
    "print(\"checkup: original (top) vs. ica-applied (bottom) epochs; Compare the scale in μV.\")"
   ]
  },
  {
   "cell_type": "code",
   "execution_count": null,
   "id": "419f1629-19ef-46a0-93c6-22f840beb280",
   "metadata": {
    "scrolled": true
   },
   "outputs": [],
   "source": [
    "curr_steps = \"preprocessing/_08_ptp_reject\"\n",
    "!mne_bids_pipeline --config {config_path} --steps {curr_steps}"
   ]
  },
  {
   "cell_type": "code",
   "execution_count": null,
   "id": "f68661a7-4ebf-43d8-8616-bcc5336e57f3",
   "metadata": {},
   "outputs": [],
   "source": [
    "# checkup: plot original (conventionally filtered) epochs\n",
    "curr_checkup_epochs = mne.read_epochs(f\"{curr_subject_path}/sub-01_task-SocialMemoryCuing_epo.fif\")\n",
    "mne.viz.plot_epochs_image(curr_checkup_epochs)\n",
    "print(\"checkup: original epochs\")"
   ]
  },
  {
   "cell_type": "code",
   "execution_count": null,
   "id": "edb6a27f-effb-4981-b5a2-5bf384e50edc",
   "metadata": {},
   "outputs": [],
   "source": [
    "# checkup: plot cleaned epochs\n",
    "curr_checkup_epochs_ptp = mne.read_epochs(f\"{curr_subject_path}/sub-01_task-SocialMemoryCuing_proc-clean_epo.fif\")\n",
    "mne.viz.plot_epochs_image(curr_checkup_epochs_ptp)\n",
    "print(\"checkup: original (top) vs. cleaned epochs (bottom)\")"
   ]
  },
  {
   "cell_type": "code",
   "execution_count": null,
   "id": "2636109a",
   "metadata": {
    "scrolled": true
   },
   "outputs": [],
   "source": [
    "curr_steps = \"sensor\"\n",
    "!mne_bids_pipeline --config {config_path} --steps {curr_steps}"
   ]
  },
  {
   "cell_type": "code",
   "execution_count": null,
   "id": "16c0472c",
   "metadata": {
    "scrolled": true
   },
   "outputs": [],
   "source": [
    "curr_steps = \"source\"\n",
    "!mne_bids_pipeline --config {config_path} --steps {curr_steps}"
   ]
  },
  {
   "cell_type": "code",
   "execution_count": null,
   "id": "b9b7ddd2-ea19-463a-81a3-e0f3b0f1f206",
   "metadata": {},
   "outputs": [],
   "source": [
    "## Files per Step\n",
    "\n",
    "- `preprocessing/_01_data_quality`\n",
    "    ```\n",
    "    sub-01_task-SocialMemoryCuing_report.h5\n",
    "    sub-01_task-SocialMemoryCuing_report.h5.lock\n",
    "    sub-01_task-SocialMemoryCuing_report.html\n",
    "    ```\n",
    "- `preprocessing/_04_frequency_filter`\n",
    "    ```\n",
    "    sub-01_task-SocialMemoryCuing_proc-filt_raw.fif\n",
    "    ```\n",
    "- `preprocessing/_05_make_epochs`\n",
    "    ```\n",
    "    sub-01_task-SocialMemoryCuing_epo.fif\n",
    "    ```\n",
    "- `preprocessing/_06\n",
    "    ```\n",
    "    sub-01_task-SocialMemoryCuing_ica.fif\n",
    "    sub-01_task-SocialMemoryCuing_proc-ica_components.tsv\n",
    "    sub-01_task-SocialMemoryCuing_proc-ica+components_report.html\n",
    "    ```\n",
    "- ica labelling: no new file (just changes of `*.tsv` file)\n",
    "- `preprocessing/_07a_apply_ica`\n",
    "    ```\n",
    "    sub-01_task-SocialMemoryCuing_proc-ica_epo.fif\n",
    "    sub-01_task-SocialMemoryCuing_proc-ica_report.html\n",
    "    ```\n",
    "- `preprocessing/_08_ptp_reject\n",
    "    ```\n",
    "    sub-01_task-SocialMemoryCuing_proc-clean_epo.fif\n",
    "    ```\n",
    "- `sensor`\n",
    "    ```\n",
    "    sub-01_task-SocialMemoryCuing_ave.fif\n",
    "    sub-01_task-SocialMemoryCuing_proc-avatar+sticks+FullEpochs+rocauc_decoding.mat\n",
    "    sub-01_task-SocialMemoryCuing_proc-avatar+sticks+FullEpochs+rocauc_decoding.tsv\n",
    "    sub-01_task-SocialMemoryCuing_proc-avatar+sticks+TimeByTime+rocauc_decoding.mat\n",
    "    sub-01_task-SocialMemoryCuing_proc-avatar+sticks+TimeByTime+rocauc_decoding.tsv\n",
    "    \n",
    "    sub-01_task-SocialMemoryCuing_itc+avatar+tfr.h5\n",
    "    sub-01_task-SocialMemoryCuing_itc+sticks+tfr.h5\n",
    "    sub-01_task-SocialMemoryCuing_power+avatar+tfr.h5\n",
    "    sub-01_task-SocialMemoryCuing_power+sticks+tfr.h5\n",
    "     \n",
    "    sub-01_task-SocialMemoryCuing_cov.fif\n",
    "    sub-01_task-SocialMemoryCuing_proc-avatar+sticks+CSP+rocauc_decoding.xlsx\n",
    "    ```\n",
    "- source\n",
    "    ```\n",
    "    sub-01_task-SocialMemoryCuing_fwd.fif\n",
    "    sub-01_task-SocialMemoryCuing_trans.fif\n",
    "    ```\n"
   ]
  }
 ],
 "metadata": {
  "kernelspec": {
   "display_name": "Python 3 (ipykernel)",
   "language": "python",
   "name": "python3"
  },
  "language_info": {
   "codemirror_mode": {
    "name": "ipython",
    "version": 3
   },
   "file_extension": ".py",
   "mimetype": "text/x-python",
   "name": "python",
   "nbconvert_exporter": "python",
   "pygments_lexer": "ipython3",
   "version": "3.11.6"
  }
 },
 "nbformat": 4,
 "nbformat_minor": 5
}
