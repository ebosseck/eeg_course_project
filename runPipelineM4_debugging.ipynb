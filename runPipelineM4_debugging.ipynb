{
 "cells": [
  {
   "cell_type": "markdown",
   "id": "f2646af1-9b3f-4ee3-8551-9bdceaca3ad8",
   "metadata": {},
   "source": [
    "# Run the MNE BIDS Pipeline"
   ]
  },
  {
   "cell_type": "markdown",
   "id": "7c1210ee-b19c-4660-80fe-e0205da1fb44",
   "metadata": {},
   "source": [
    "## Steps for Running this Notebook\n",
    "\n",
    "1. Clone the Git repository of this project. (Since the Notebook is available, this step should be fulfilled.)\n",
    "2. Download the data set using our script.\n",
    "3. Run the patches as described in the readme file.\n",
    "4. Convert the incompatible epoch label files to a BIDS compatible format using the Python script at `./src/data_handling/convert_brainvision2bids.py`\n",
    "5. Run this notebook."
   ]
  },
  {
   "cell_type": "markdown",
   "id": "735b4a99-fe54-4962-9b3e-321a521de132",
   "metadata": {},
   "source": [
    "## Header: Load Modules, Set and Load Parameters, Define Functions\n",
    "Prior to running the main steps of the pipeline, multiple steps need to be performed:\n",
    "\n",
    "- Load modules:\n",
    "  Load modules needed for all (e. g. MNE BIDS pipeline), or few (e. g. `typing`) pipeline steps. Load custom modules (e. g. `ica_helpers`)\n",
    "- Set and load parameters:\n",
    "  Set the relative (or absolute) path to the pipeline configuration, and load the configuration from the file."
   ]
  },
  {
   "cell_type": "code",
   "execution_count": 1,
   "id": "cebd9f38",
   "metadata": {},
   "outputs": [],
   "source": [
    "# import basic EEG manipulation and analysis modules\n",
    "import mne_bids_pipeline\n",
    "from mne_bids import BIDSPath\n",
    "\n",
    "# import function to load configuration from file\n",
    "from mne_bids_pipeline._config_import import _import_config as getConfig\n",
    "\n",
    "# allow for definition oRENAMEf optional parameters in a function definition\n",
    "from typing import Optional\n",
    "\n",
    "# allow for accessing the command line within Python\n",
    "import sys"
   ]
  },
  {
   "cell_type": "code",
   "execution_count": 2,
   "id": "5a16acc5-b28b-40d5-975e-706a485f0729",
   "metadata": {},
   "outputs": [],
   "source": [
    "# set the file path of the main configuration file\n",
    "config_path = \"./mne-bids/config/mne-bids-pipeline_tests.py\""
   ]
  },
  {
   "cell_type": "code",
   "execution_count": 21,
   "id": "34f6d1ee-f8b2-478f-a8c1-d3b384cd8143",
   "metadata": {},
   "outputs": [],
   "source": [
    "# for checkups, set the command for listing files directly or in a directory\n",
    "ls_command = 'dir' if sys.platform.startswith('win') else 'ls'"
   ]
  },
  {
   "cell_type": "code",
   "execution_count": 4,
   "id": "d9cf9f5e-9c87-4e11-b7ee-bfc872457cea",
   "metadata": {},
   "outputs": [],
   "source": [
    "# define a function which gets used in application of the ICA results to the raw data\n",
    "import src.tools.ica_helpers as ih"
   ]
  },
  {
   "cell_type": "markdown",
   "id": "719e1a06-8c6a-4539-967e-948f92db3fb5",
   "metadata": {},
   "source": [
    "## Pipeline\n",
    "\n",
    "Start the pipeline running these steps:\n",
    "\n",
    "- `preprocessing/_01_data_quality`\n",
    "- `preprocessing/_04_frequency_filter`\n",
    "- `preprocessing/_05_make_epochs`\n",
    "- `preprocessing/_06a_run_ica`, ica labelling, `preprocessing/_07a_apply_ica`\n",
    "- `preprocessing/_08_ptp_reject`\n",
    "- `sensor`\n",
    "- `source`\n",
    "\n",
    "Each of the steps contains one or more checkups for validating the results of the step."
   ]
  },
  {
   "cell_type": "markdown",
   "id": "93e0aced-ca85-4823-99f6-eba60a96f32a",
   "metadata": {},
   "source": [
    "### Initial Setup\n",
    "\n",
    "First, the selected pipeline configuration gets loaded.\n",
    "Few of its entries get printed as checkup.\n",
    "\n",
    "Then, the initial preparations for running the pipeline get started: configuration loading and directory creation.\n",
    "This also is followed by a checkup."
   ]
  },
  {
   "cell_type": "code",
   "execution_count": 3,
   "id": "b1cd52dd-2250-4d73-9ab1-67a8af75c20d",
   "metadata": {},
   "outputs": [],
   "source": [
    "# load configured settings from file\n",
    "cfg = getConfig(\n",
    "    config_path=config_path\n",
    ")"
   ]
  },
  {
   "cell_type": "code",
   "execution_count": 15,
   "id": "8c615dcf-35e3-49df-abdc-312f7c67201d",
   "metadata": {
    "scrolled": true
   },
   "outputs": [
    {
     "name": "stdout",
     "output_type": "stream",
     "text": [
      "study name:\t\t EEG-course-project \n",
      "subjects dir:\t\t ../data/ds003702/ \n",
      "task:\t\t\t SocialMemoryCuing \n",
      "conditions:\t\t ['avatar', 'sticks'] \n",
      "raw resample sfreq:\t 100.0 \n",
      "l/h freq:\t\t [1.0, 30.0] \n",
      "ica max iterations:\t 3000 \n",
      "ica n components:\t 0.95 \n",
      "decoding csp freqs:\t {'theta': [3, 7], 'alpha': [8, 12]}\n"
     ]
    }
   ],
   "source": [
    "# checkup: print config contents\n",
    "print(\n",
    "    \"study name:\\t\\t\", cfg.study_name, \n",
    "    \"\\nsubjects dir:\\t\\t\", cfg.subjects_dir, \n",
    "    \"\\ntask:\\t\\t\\t\", cfg.task, \n",
    "    \"\\nconditions:\\t\\t\", cfg.conditions, \n",
    "    \"\\nraw resample sfreq:\\t\", cfg.raw_resample_sfreq,\n",
    "    \"\\nl/h freq:\\t\\t\", [cfg.l_freq, cfg.h_freq],\n",
    "    \"\\nica max iterations:\\t\", cfg.ica_max_iterations, \n",
    "    \"\\nica n components:\\t\", cfg.ica_n_components, \n",
    "    \"\\ndecoding csp freqs:\\t\", cfg.decoding_csp_freqs\n",
    ")"
   ]
  },
  {
   "cell_type": "code",
   "execution_count": 16,
   "id": "1ac2b9ff-635f-4040-863f-42e0d50bbc73",
   "metadata": {},
   "outputs": [
    {
     "data": {
      "text/plain": [
       "('data', 'ds003702')"
      ]
     },
     "execution_count": 16,
     "metadata": {},
     "output_type": "execute_result"
    }
   ],
   "source": [
    "# checkup: # print end of path to the stored bids root path\n",
    "cfg.bids_root.parts[-2:]"
   ]
  },
  {
   "cell_type": "code",
   "execution_count": 17,
   "id": "59424cd4",
   "metadata": {},
   "outputs": [
    {
     "name": "stdout",
     "output_type": "stream",
     "text": [
      "\u001b[1;32m┌────────┬ Welcome aboard MNE-BIDS-Pipeline! 👋\u001b[0m \u001b[1;32m────────────────────────────────\u001b[0m\n",
      "\u001b[32m│\u001b[0m\u001b[1;32m09:10:37\u001b[0m\u001b[32m│ \u001b[0m\u001b[1;36m📝 \u001b[0mUsing configuration: .\u001b[35m/mne-bids/config/\u001b[0m\u001b[95mmne-bids-pipeline_tests.py\u001b[0m\n",
      "\u001b[1;32m└────────┴ \u001b[0m\n",
      "\u001b[1;32m┌────────┬ init/_01_init_derivatives_dir\u001b[0m \u001b[1;32m───────────────────────────────────────\u001b[0m\n",
      "\u001b[32m│\u001b[0m\u001b[1;32m09:10:37\u001b[0m\u001b[32m│ \u001b[0m\u001b[1;36m✅ \u001b[0mOutput directories already exist …\n",
      "\u001b[1;32m└────────┴ done \u001b[0m\u001b[1;32m(\u001b[0m\u001b[1;32m1s\u001b[0m\u001b[1;32m)\u001b[0m\n",
      "\u001b[1;32m┌────────┬ init/_02_find_empty_room\u001b[0m \u001b[1;32m────────────────────────────────────────────\u001b[0m\n",
      "\u001b[32m│\u001b[0m\u001b[1;32m09:10:38\u001b[0m\u001b[32m│ \u001b[0m\u001b[1;36m⏩ \u001b[0mSkipping, empty-room data only relevant for MEG …\n",
      "\u001b[1;32m└────────┴ done \u001b[0m\u001b[1;32m(\u001b[0m\u001b[1;32m1s\u001b[0m\u001b[1;32m)\u001b[0m\n",
      "\u001b[1;32m┌────────┬ init/_01_init_derivatives_dir\u001b[0m \u001b[1;32m───────────────────────────────────────\u001b[0m\n",
      "\u001b[32m│\u001b[0m\u001b[1;32m09:10:38\u001b[0m\u001b[32m│ \u001b[0m\u001b[1;36m✅ \u001b[0mOutput directories already exist …\n",
      "\u001b[1;32m└────────┴ done \u001b[0m\u001b[1;32m(\u001b[0m\u001b[1;32m1s\u001b[0m\u001b[1;32m)\u001b[0m\n",
      "\u001b[1;32m┌────────┬ init/_02_find_empty_room\u001b[0m \u001b[1;32m────────────────────────────────────────────\u001b[0m\n",
      "\u001b[32m│\u001b[0m\u001b[1;32m09:10:38\u001b[0m\u001b[32m│ \u001b[0m\u001b[1;36m⏩ \u001b[0mSkipping, empty-room data only relevant for MEG …\n",
      "\u001b[1;32m└────────┴ done \u001b[0m\u001b[1;32m(\u001b[0m\u001b[1;32m1s\u001b[0m\u001b[1;32m)\u001b[0m\n"
     ]
    }
   ],
   "source": [
    "curr_steps = \"init\"\n",
    "!mne_bids_pipeline --config {config_path} --steps {curr_steps}"
   ]
  },
  {
   "cell_type": "code",
   "execution_count": 22,
   "id": "af9de78c-9658-4f25-9bca-e42c2cdd048d",
   "metadata": {},
   "outputs": [
    {
     "name": "stdout",
     "output_type": "stream",
     "text": [
      "_cache\t\t\t  sub-13  sub-26  sub-39\n",
      "dataset_description.json  sub-14  sub-27  sub-40\n",
      "sub-01\t\t\t  sub-15  sub-28  sub-41\n",
      "sub-02\t\t\t  sub-16  sub-29  sub-43\n",
      "sub-03\t\t\t  sub-17  sub-30  sub-44\n",
      "sub-04\t\t\t  sub-18  sub-31  sub-45\n",
      "sub-05\t\t\t  sub-19  sub-32  sub-46\n",
      "sub-06\t\t\t  sub-20  sub-33  sub-48\n",
      "sub-07\t\t\t  sub-21  sub-34  sub-49\n",
      "sub-09\t\t\t  sub-22  sub-35  sub-50\n",
      "sub-10\t\t\t  sub-23  sub-36  task-SocialMemoryCuing_log.xlsx\n",
      "sub-11\t\t\t  sub-24  sub-37  task-SocialMemoryCuing_log.xlsx.lock\n",
      "sub-12\t\t\t  sub-25  sub-38\n"
     ]
    }
   ],
   "source": [
    "# checkup: check, whether output directory was created\n",
    "#          The derivatives directory should exist and contain a subfolder per selected subject.\n",
    "#          The subjects subfolders should be empty if no data were alread generated.\n",
    "curr_bids_root = cfg.bids_root.__str__()\n",
    "!\"{ls_command}\" \"{curr_bids_root}\"/derivatives/mne-bids-pipeline/"
   ]
  },
  {
   "cell_type": "markdown",
   "id": "92f0ee59-111d-40c4-ac6f-2f049bd8fb27",
   "metadata": {},
   "source": [
    "### Pre Processing: Data Quality\n",
    "Next, an investsigation on the provided data set is started.\n",
    "Per subject, a report gets created.\n",
    "A simple checkup is used to print an excerpt of one of the checkups."
   ]
  },
  {
   "cell_type": "code",
   "execution_count": 19,
   "id": "c2bc75e7-f181-4b8e-87c8-b10a67217fe8",
   "metadata": {
    "scrolled": true
   },
   "outputs": [
    {
     "name": "stdout",
     "output_type": "stream",
     "text": [
      "\u001b[1;32m┌────────┬ Welcome aboard MNE-BIDS-Pipeline! 👋\u001b[0m \u001b[1;32m────────────────────────────────\u001b[0m\n",
      "\u001b[32m│\u001b[0m\u001b[1;32m09:10:47\u001b[0m\u001b[32m│ \u001b[0m\u001b[1;36m📝 \u001b[0mUsing configuration: .\u001b[35m/mne-bids/config/\u001b[0m\u001b[95mmne-bids-pipeline_tests.py\u001b[0m\n",
      "\u001b[1;32m└────────┴ \u001b[0m\n",
      "\u001b[1;32m┌────────┬ init/_01_init_derivatives_dir\u001b[0m \u001b[1;32m───────────────────────────────────────\u001b[0m\n",
      "\u001b[32m│\u001b[0m\u001b[1;32m09:10:47\u001b[0m\u001b[32m│ \u001b[0m\u001b[1;36m✅ \u001b[0mOutput directories already exist …\n",
      "\u001b[1;32m└────────┴ done \u001b[0m\u001b[1;32m(\u001b[0m\u001b[1;32m1s\u001b[0m\u001b[1;32m)\u001b[0m\n",
      "\u001b[1;32m┌────────┬ init/_02_find_empty_room\u001b[0m \u001b[1;32m────────────────────────────────────────────\u001b[0m\n",
      "\u001b[32m│\u001b[0m\u001b[1;32m09:10:47\u001b[0m\u001b[32m│ \u001b[0m\u001b[1;36m⏩ \u001b[0mSkipping, empty-room data only relevant for MEG …\n",
      "\u001b[1;32m└────────┴ done \u001b[0m\u001b[1;32m(\u001b[0m\u001b[1;32m1s\u001b[0m\u001b[1;32m)\u001b[0m\n",
      "\u001b[1;32m┌────────┬ preprocessing/_01_data_quality\u001b[0m \u001b[1;32m──────────────────────────────────────\u001b[0m\n",
      "\u001b[32m│\u001b[0m\u001b[1;32m09:10:49\u001b[0m\u001b[32m│ \u001b[0m\u001b[1;36m✅ sub-\u001b[0m\u001b[1;36m04\u001b[0m\u001b[1;36m \u001b[0mComputation unnecessary \u001b[1m(\u001b[0mcached\u001b[1m)\u001b[0m …\n",
      "\u001b[32m│\u001b[0m\u001b[1;32m09:10:49\u001b[0m\u001b[32m│ \u001b[0m\u001b[1;36m✅ sub-\u001b[0m\u001b[1;36m02\u001b[0m\u001b[1;36m \u001b[0mComputation unnecessary \u001b[1m(\u001b[0mcached\u001b[1m)\u001b[0m …\n",
      "\u001b[32m│\u001b[0m\u001b[1;32m09:10:49\u001b[0m\u001b[32m│ \u001b[0m\u001b[1;36m✅ sub-\u001b[0m\u001b[1;36m07\u001b[0m\u001b[1;36m \u001b[0mComputation unnecessary \u001b[1m(\u001b[0mcached\u001b[1m)\u001b[0m …\n",
      "\u001b[32m│\u001b[0m\u001b[1;32m09:10:49\u001b[0m\u001b[32m│ \u001b[0m\u001b[1;36m✅ sub-\u001b[0m\u001b[1;36m09\u001b[0m\u001b[1;36m \u001b[0mComputation unnecessary \u001b[1m(\u001b[0mcached\u001b[1m)\u001b[0m …\n",
      "\u001b[32m│\u001b[0m\u001b[1;32m09:10:49\u001b[0m\u001b[32m│ \u001b[0m\u001b[1;36m✅ sub-\u001b[0m\u001b[1;36m10\u001b[0m\u001b[1;36m \u001b[0mComputation unnecessary \u001b[1m(\u001b[0mcached\u001b[1m)\u001b[0m …\n",
      "\u001b[32m│\u001b[0m\u001b[1;32m09:10:50\u001b[0m\u001b[32m│ \u001b[0m\u001b[1;36m✅ sub-\u001b[0m\u001b[1;36m11\u001b[0m\u001b[1;36m \u001b[0mComputation unnecessary \u001b[1m(\u001b[0mcached\u001b[1m)\u001b[0m …\n",
      "\u001b[32m│\u001b[0m\u001b[1;32m09:10:50\u001b[0m\u001b[32m│ \u001b[0m\u001b[1;36m✅ sub-\u001b[0m\u001b[1;36m12\u001b[0m\u001b[1;36m \u001b[0mComputation unnecessary \u001b[1m(\u001b[0mcached\u001b[1m)\u001b[0m …\n",
      "\u001b[32m│\u001b[0m\u001b[1;32m09:10:50\u001b[0m\u001b[32m│ \u001b[0m\u001b[1;36m✅ sub-\u001b[0m\u001b[1;36m13\u001b[0m\u001b[1;36m \u001b[0mComputation unnecessary \u001b[1m(\u001b[0mcached\u001b[1m)\u001b[0m …\n",
      "\u001b[32m│\u001b[0m\u001b[1;32m09:10:50\u001b[0m\u001b[32m│ \u001b[0m\u001b[1;36m✅ sub-\u001b[0m\u001b[1;36m14\u001b[0m\u001b[1;36m \u001b[0mComputation unnecessary \u001b[1m(\u001b[0mcached\u001b[1m)\u001b[0m …\n",
      "\u001b[32m│\u001b[0m\u001b[1;32m09:10:50\u001b[0m\u001b[32m│ \u001b[0m\u001b[1;36m✅ sub-\u001b[0m\u001b[1;36m15\u001b[0m\u001b[1;36m \u001b[0mComputation unnecessary \u001b[1m(\u001b[0mcached\u001b[1m)\u001b[0m …\n",
      "\u001b[32m│\u001b[0m\u001b[1;32m09:10:50\u001b[0m\u001b[32m│ \u001b[0m\u001b[1;36m✅ sub-\u001b[0m\u001b[1;36m05\u001b[0m\u001b[1;36m \u001b[0mComputation unnecessary \u001b[1m(\u001b[0mcached\u001b[1m)\u001b[0m …\n",
      "\u001b[32m│\u001b[0m\u001b[1;32m09:10:50\u001b[0m\u001b[32m│ \u001b[0m\u001b[1;36m✅ sub-\u001b[0m\u001b[1;36m06\u001b[0m\u001b[1;36m \u001b[0mComputation unnecessary \u001b[1m(\u001b[0mcached\u001b[1m)\u001b[0m …\n",
      "\u001b[32m│\u001b[0m\u001b[1;32m09:10:50\u001b[0m\u001b[32m│ \u001b[0m\u001b[1;36m✅ sub-\u001b[0m\u001b[1;36m16\u001b[0m\u001b[1;36m \u001b[0mComputation unnecessary \u001b[1m(\u001b[0mcached\u001b[1m)\u001b[0m …\n",
      "\u001b[32m│\u001b[0m\u001b[1;32m09:10:50\u001b[0m\u001b[32m│ \u001b[0m\u001b[1;36m✅ sub-\u001b[0m\u001b[1;36m17\u001b[0m\u001b[1;36m \u001b[0mComputation unnecessary \u001b[1m(\u001b[0mcached\u001b[1m)\u001b[0m …\n",
      "\u001b[32m│\u001b[0m\u001b[1;32m09:10:50\u001b[0m\u001b[32m│ \u001b[0m\u001b[1;36m✅ sub-\u001b[0m\u001b[1;36m18\u001b[0m\u001b[1;36m \u001b[0mComputation unnecessary \u001b[1m(\u001b[0mcached\u001b[1m)\u001b[0m …\n",
      "\u001b[32m│\u001b[0m\u001b[1;32m09:10:50\u001b[0m\u001b[32m│ \u001b[0m\u001b[1;36m✅ sub-\u001b[0m\u001b[1;36m19\u001b[0m\u001b[1;36m \u001b[0mComputation unnecessary \u001b[1m(\u001b[0mcached\u001b[1m)\u001b[0m …\n",
      "\u001b[32m│\u001b[0m\u001b[1;32m09:10:50\u001b[0m\u001b[32m│ \u001b[0m\u001b[1;36m✅ sub-\u001b[0m\u001b[1;36m20\u001b[0m\u001b[1;36m \u001b[0mComputation unnecessary \u001b[1m(\u001b[0mcached\u001b[1m)\u001b[0m …\n",
      "\u001b[32m│\u001b[0m\u001b[1;32m09:10:50\u001b[0m\u001b[32m│ \u001b[0m\u001b[1;36m✅ sub-\u001b[0m\u001b[1;36m21\u001b[0m\u001b[1;36m \u001b[0mComputation unnecessary \u001b[1m(\u001b[0mcached\u001b[1m)\u001b[0m …\n",
      "\u001b[32m│\u001b[0m\u001b[1;32m09:10:50\u001b[0m\u001b[32m│ \u001b[0m\u001b[1;36m✅ sub-\u001b[0m\u001b[1;36m23\u001b[0m\u001b[1;36m \u001b[0mComputation unnecessary \u001b[1m(\u001b[0mcached\u001b[1m)\u001b[0m …\n",
      "\u001b[32m│\u001b[0m\u001b[1;32m09:10:50\u001b[0m\u001b[32m│ \u001b[0m\u001b[1;36m✅ sub-\u001b[0m\u001b[1;36m22\u001b[0m\u001b[1;36m \u001b[0mComputation unnecessary \u001b[1m(\u001b[0mcached\u001b[1m)\u001b[0m …\n",
      "\u001b[32m│\u001b[0m\u001b[1;32m09:10:50\u001b[0m\u001b[32m│ \u001b[0m\u001b[1;36m✅ sub-\u001b[0m\u001b[1;36m24\u001b[0m\u001b[1;36m \u001b[0mComputation unnecessary \u001b[1m(\u001b[0mcached\u001b[1m)\u001b[0m …\n",
      "\u001b[32m│\u001b[0m\u001b[1;32m09:10:50\u001b[0m\u001b[32m│ \u001b[0m\u001b[1;36m✅ sub-\u001b[0m\u001b[1;36m25\u001b[0m\u001b[1;36m \u001b[0mComputation unnecessary \u001b[1m(\u001b[0mcached\u001b[1m)\u001b[0m …\n",
      "\u001b[32m│\u001b[0m\u001b[1;32m09:10:50\u001b[0m\u001b[32m│ \u001b[0m\u001b[1;36m✅ sub-\u001b[0m\u001b[1;36m26\u001b[0m\u001b[1;36m \u001b[0mComputation unnecessary \u001b[1m(\u001b[0mcached\u001b[1m)\u001b[0m …\n",
      "\u001b[32m│\u001b[0m\u001b[1;32m09:10:50\u001b[0m\u001b[32m│ \u001b[0m\u001b[1;36m✅ sub-\u001b[0m\u001b[1;36m27\u001b[0m\u001b[1;36m \u001b[0mComputation unnecessary \u001b[1m(\u001b[0mcached\u001b[1m)\u001b[0m …\n",
      "\u001b[32m│\u001b[0m\u001b[1;32m09:10:50\u001b[0m\u001b[32m│ \u001b[0m\u001b[1;36m✅ sub-\u001b[0m\u001b[1;36m28\u001b[0m\u001b[1;36m \u001b[0mComputation unnecessary \u001b[1m(\u001b[0mcached\u001b[1m)\u001b[0m …\n",
      "\u001b[32m│\u001b[0m\u001b[1;32m09:10:50\u001b[0m\u001b[32m│ \u001b[0m\u001b[1;36m✅ sub-\u001b[0m\u001b[1;36m30\u001b[0m\u001b[1;36m \u001b[0mComputation unnecessary \u001b[1m(\u001b[0mcached\u001b[1m)\u001b[0m …\n",
      "\u001b[32m│\u001b[0m\u001b[1;32m09:10:50\u001b[0m\u001b[32m│ \u001b[0m\u001b[1;36m✅ sub-\u001b[0m\u001b[1;36m29\u001b[0m\u001b[1;36m \u001b[0mComputation unnecessary \u001b[1m(\u001b[0mcached\u001b[1m)\u001b[0m …\n",
      "\u001b[32m│\u001b[0m\u001b[1;32m09:10:50\u001b[0m\u001b[32m│ \u001b[0m\u001b[1;36m✅ sub-\u001b[0m\u001b[1;36m32\u001b[0m\u001b[1;36m \u001b[0mComputation unnecessary \u001b[1m(\u001b[0mcached\u001b[1m)\u001b[0m …\n",
      "\u001b[32m│\u001b[0m\u001b[1;32m09:10:50\u001b[0m\u001b[32m│ \u001b[0m\u001b[1;36m✅ sub-\u001b[0m\u001b[1;36m33\u001b[0m\u001b[1;36m \u001b[0mComputation unnecessary \u001b[1m(\u001b[0mcached\u001b[1m)\u001b[0m …\n",
      "\u001b[32m│\u001b[0m\u001b[1;32m09:10:50\u001b[0m\u001b[32m│ \u001b[0m\u001b[1;36m✅ sub-\u001b[0m\u001b[1;36m34\u001b[0m\u001b[1;36m \u001b[0mComputation unnecessary \u001b[1m(\u001b[0mcached\u001b[1m)\u001b[0m …\n",
      "\u001b[32m│\u001b[0m\u001b[1;32m09:10:50\u001b[0m\u001b[32m│ \u001b[0m\u001b[1;36m⏳️ sub-\u001b[0m\u001b[1;36m31\u001b[0m\u001b[1;36m \u001b[0mInitializing report HDF5 file\n",
      "\u001b[32m│\u001b[0m\u001b[1;32m09:10:50\u001b[0m\u001b[32m│ \u001b[0m\u001b[1;36m✅ sub-\u001b[0m\u001b[1;36m36\u001b[0m\u001b[1;36m \u001b[0mComputation unnecessary \u001b[1m(\u001b[0mcached\u001b[1m)\u001b[0m …\n",
      "\u001b[32m│\u001b[0m\u001b[1;32m09:10:50\u001b[0m\u001b[32m│ \u001b[0m\u001b[1;36m✅ sub-\u001b[0m\u001b[1;36m35\u001b[0m\u001b[1;36m \u001b[0mComputation unnecessary \u001b[1m(\u001b[0mcached\u001b[1m)\u001b[0m …\n",
      "\u001b[32m│\u001b[0m\u001b[1;32m09:10:50\u001b[0m\u001b[32m│ \u001b[0m\u001b[1;36m✅ sub-\u001b[0m\u001b[1;36m38\u001b[0m\u001b[1;36m \u001b[0mComputation unnecessary \u001b[1m(\u001b[0mcached\u001b[1m)\u001b[0m …\n",
      "\u001b[32m│\u001b[0m\u001b[1;32m09:10:50\u001b[0m\u001b[32m│ \u001b[0m\u001b[1;36m✅ sub-\u001b[0m\u001b[1;36m39\u001b[0m\u001b[1;36m \u001b[0mComputation unnecessary \u001b[1m(\u001b[0mcached\u001b[1m)\u001b[0m …\n",
      "\u001b[32m│\u001b[0m\u001b[1;32m09:10:50\u001b[0m\u001b[32m│ \u001b[0m\u001b[1;36m⏳️ sub-\u001b[0m\u001b[1;36m37\u001b[0m\u001b[1;36m \u001b[0mInitializing report HDF5 file\n",
      "\u001b[32m│\u001b[0m\u001b[1;32m09:10:50\u001b[0m\u001b[32m│ \u001b[0m\u001b[1;36m✅ sub-\u001b[0m\u001b[1;36m01\u001b[0m\u001b[1;36m \u001b[0mComputation unnecessary \u001b[1m(\u001b[0mcached\u001b[1m)\u001b[0m …\n",
      "\u001b[32m│\u001b[0m\u001b[1;32m09:10:50\u001b[0m\u001b[32m│ \u001b[0m\u001b[1;36m✅ sub-\u001b[0m\u001b[1;36m41\u001b[0m\u001b[1;36m \u001b[0mComputation unnecessary \u001b[1m(\u001b[0mcached\u001b[1m)\u001b[0m …\n",
      "\u001b[32m│\u001b[0m\u001b[1;32m09:10:50\u001b[0m\u001b[32m│ \u001b[0m\u001b[1;36m✅ sub-\u001b[0m\u001b[1;36m40\u001b[0m\u001b[1;36m \u001b[0mComputation unnecessary \u001b[1m(\u001b[0mcached\u001b[1m)\u001b[0m …\n",
      "\u001b[32m│\u001b[0m\u001b[1;32m09:10:50\u001b[0m\u001b[32m│ \u001b[0m\u001b[1;36m✅ sub-\u001b[0m\u001b[1;36m43\u001b[0m\u001b[1;36m \u001b[0mComputation unnecessary \u001b[1m(\u001b[0mcached\u001b[1m)\u001b[0m …\n",
      "\u001b[32m│\u001b[0m\u001b[1;32m09:10:50\u001b[0m\u001b[32m│ \u001b[0m\u001b[1;36m✅ sub-\u001b[0m\u001b[1;36m44\u001b[0m\u001b[1;36m \u001b[0mComputation unnecessary \u001b[1m(\u001b[0mcached\u001b[1m)\u001b[0m …\n",
      "\u001b[32m│\u001b[0m\u001b[1;32m09:10:50\u001b[0m\u001b[32m│ \u001b[0m\u001b[1;36m✅ sub-\u001b[0m\u001b[1;36m45\u001b[0m\u001b[1;36m \u001b[0mComputation unnecessary \u001b[1m(\u001b[0mcached\u001b[1m)\u001b[0m …\n",
      "\u001b[32m│\u001b[0m\u001b[1;32m09:10:50\u001b[0m\u001b[32m│ \u001b[0m\u001b[1;36m✅ sub-\u001b[0m\u001b[1;36m46\u001b[0m\u001b[1;36m \u001b[0mComputation unnecessary \u001b[1m(\u001b[0mcached\u001b[1m)\u001b[0m …\n",
      "\u001b[32m│\u001b[0m\u001b[1;32m09:10:50\u001b[0m\u001b[32m│ \u001b[0m\u001b[1;36m✅ sub-\u001b[0m\u001b[1;36m49\u001b[0m\u001b[1;36m \u001b[0mComputation unnecessary \u001b[1m(\u001b[0mcached\u001b[1m)\u001b[0m …\n",
      "\u001b[32m│\u001b[0m\u001b[1;32m09:10:50\u001b[0m\u001b[32m│ \u001b[0m\u001b[1;36m⏳️ sub-\u001b[0m\u001b[1;36m31\u001b[0m\u001b[1;36m \u001b[0mAdding original raw data to report\n",
      "\u001b[32m│\u001b[0m\u001b[1;32m09:10:50\u001b[0m\u001b[32m│ \u001b[0m\u001b[1;36m✅ sub-\u001b[0m\u001b[1;36m48\u001b[0m\u001b[1;36m \u001b[0mComputation unnecessary \u001b[1m(\u001b[0mcached\u001b[1m)\u001b[0m …\n",
      "\u001b[32m│\u001b[0m\u001b[1;32m09:10:50\u001b[0m\u001b[32m│ \u001b[0m\u001b[1;36m⏳️ sub-\u001b[0m\u001b[1;36m37\u001b[0m\u001b[1;36m \u001b[0mAdding original raw data to report\n",
      "\u001b[32m│\u001b[0m\u001b[1;32m09:10:50\u001b[0m\u001b[32m│ \u001b[0m\u001b[1;36m✅ sub-\u001b[0m\u001b[1;36m50\u001b[0m\u001b[1;36m \u001b[0mComputation unnecessary \u001b[1m(\u001b[0mcached\u001b[1m)\u001b[0m …\n",
      "\u001b[32m│\u001b[0m\u001b[1;32m09:10:50\u001b[0m\u001b[32m│ \u001b[0m\u001b[1;36m✅ sub-\u001b[0m\u001b[1;36m03\u001b[0m\u001b[1;36m \u001b[0mComputation unnecessary \u001b[1m(\u001b[0mcached\u001b[1m)\u001b[0m …\n",
      "\u001b[32m│\u001b[0m\u001b[1;32m09:11:00\u001b[0m\u001b[32m│ \u001b[0m\u001b[1;36m⏳️ sub-\u001b[0m\u001b[1;36m31\u001b[0m\u001b[1;36m \u001b[0mAdding config and sys info to report\n",
      "\u001b[32m│\u001b[0m\u001b[1;32m09:11:01\u001b[0m\u001b[32m│ \u001b[0m\u001b[1;36m⏳️ sub-\u001b[0m\u001b[1;36m37\u001b[0m\u001b[1;36m \u001b[0mAdding config and sys info to report\n",
      "\u001b[32m│\u001b[0m\u001b[1;32m09:11:04\u001b[0m\u001b[32m│ \u001b[0m\u001b[1;36m⏳️ sub-\u001b[0m\u001b[1;36m37\u001b[0m\u001b[1;36m \u001b[0mSaving report: \u001b]8;id=225435;file:///home/fspletti/vorlesungen/2023S_Signal_processing_and_Analysis_of_human_brain_potentials_(EEG)/git/eeg_course_project/data/ds003702/derivatives/mne-bids-pipeline/sub-37/eeg/sub-37_task-SocialMemoryCuing_report.html\u001b\\\u001b[35m/home/fspletti/vorlesungen/\u001b[0m\u001b]8;;\u001b\\\u001b]8;id=471141;file:///home/fspletti/vorlesungen/2023S_Signal_processing_and_Analysis_of_human_brain_potentials_(EEG)/git/eeg_course_project/data/ds003702/derivatives/mne-bids-pipeline/sub-37/eeg/sub-37_task-SocialMemoryCuing_report.html\u001b\\\u001b[95m2023S_Signal_processing_and_Analysis_of_human_brain_potentials_\u001b[0m\u001b]8;;\u001b\\\u001b]8;id=831438;file:///home/fspletti/vorlesungen/2023S_Signal_processing_and_Analysis_of_human_brain_potentials_(EEG)/git/eeg_course_project/data/ds003702/derivatives/mne-bids-pipeline/sub-37/eeg/sub-37_task-SocialMemoryCuing_report.html\u001b\\\u001b[1m(\u001b[0m\u001b]8;;\u001b\\\u001b]8;id=264028;file:///home/fspletti/vorlesungen/2023S_Signal_processing_and_Analysis_of_human_brain_potentials_(EEG)/git/eeg_course_project/data/ds003702/derivatives/mne-bids-pipeline/sub-37/eeg/sub-37_task-SocialMemoryCuing_report.html\u001b\\EEG\u001b]8;;\u001b\\\u001b]8;id=831438;file:///home/fspletti/vorlesungen/2023S_Signal_processing_and_Analysis_of_human_brain_potentials_(EEG)/git/eeg_course_project/data/ds003702/derivatives/mne-bids-pipeline/sub-37/eeg/sub-37_task-SocialMemoryCuing_report.html\u001b\\\u001b[1m)\u001b[0m\u001b]8;;\u001b\\\u001b]8;id=225435;file:///home/fspletti/vorlesungen/2023S_Signal_processing_and_Analysis_of_human_brain_potentials_(EEG)/git/eeg_course_project/data/ds003702/derivatives/mne-bids-pipeline/sub-37/eeg/sub-37_task-SocialMemoryCuing_report.html\u001b\\\u001b[35m/git/eeg_course_project/data/ds003702/derivatives/mne-bids-pipeline/sub-37/eeg/\u001b[0m\u001b]8;;\u001b\\\u001b]8;id=471141;file:///home/fspletti/vorlesungen/2023S_Signal_processing_and_Analysis_of_human_brain_potentials_(EEG)/git/eeg_course_project/data/ds003702/derivatives/mne-bids-pipeline/sub-37/eeg/sub-37_task-SocialMemoryCuing_report.html\u001b\\\u001b[95msub-37_task-SocialMemoryCuing_report.html\u001b[0m\u001b]8;;\u001b\\\n",
      "\u001b[32m│\u001b[0m\u001b[1;32m09:11:04\u001b[0m\u001b[32m│ \u001b[0m\u001b[1;36m⏳️ sub-\u001b[0m\u001b[1;36m31\u001b[0m\u001b[1;36m \u001b[0mSaving report: \u001b]8;id=561708;file:///home/fspletti/vorlesungen/2023S_Signal_processing_and_Analysis_of_human_brain_potentials_(EEG)/git/eeg_course_project/data/ds003702/derivatives/mne-bids-pipeline/sub-31/eeg/sub-31_task-SocialMemoryCuing_report.html\u001b\\\u001b[35m/home/fspletti/vorlesungen/\u001b[0m\u001b]8;;\u001b\\\u001b]8;id=603700;file:///home/fspletti/vorlesungen/2023S_Signal_processing_and_Analysis_of_human_brain_potentials_(EEG)/git/eeg_course_project/data/ds003702/derivatives/mne-bids-pipeline/sub-31/eeg/sub-31_task-SocialMemoryCuing_report.html\u001b\\\u001b[95m2023S_Signal_processing_and_Analysis_of_human_brain_potentials_\u001b[0m\u001b]8;;\u001b\\\u001b]8;id=29919;file:///home/fspletti/vorlesungen/2023S_Signal_processing_and_Analysis_of_human_brain_potentials_(EEG)/git/eeg_course_project/data/ds003702/derivatives/mne-bids-pipeline/sub-31/eeg/sub-31_task-SocialMemoryCuing_report.html\u001b\\\u001b[1m(\u001b[0m\u001b]8;;\u001b\\\u001b]8;id=947611;file:///home/fspletti/vorlesungen/2023S_Signal_processing_and_Analysis_of_human_brain_potentials_(EEG)/git/eeg_course_project/data/ds003702/derivatives/mne-bids-pipeline/sub-31/eeg/sub-31_task-SocialMemoryCuing_report.html\u001b\\EEG\u001b]8;;\u001b\\\u001b]8;id=29919;file:///home/fspletti/vorlesungen/2023S_Signal_processing_and_Analysis_of_human_brain_potentials_(EEG)/git/eeg_course_project/data/ds003702/derivatives/mne-bids-pipeline/sub-31/eeg/sub-31_task-SocialMemoryCuing_report.html\u001b\\\u001b[1m)\u001b[0m\u001b]8;;\u001b\\\u001b]8;id=561708;file:///home/fspletti/vorlesungen/2023S_Signal_processing_and_Analysis_of_human_brain_potentials_(EEG)/git/eeg_course_project/data/ds003702/derivatives/mne-bids-pipeline/sub-31/eeg/sub-31_task-SocialMemoryCuing_report.html\u001b\\\u001b[35m/git/eeg_course_project/data/ds003702/derivatives/mne-bids-pipeline/sub-31/eeg/\u001b[0m\u001b]8;;\u001b\\\u001b]8;id=603700;file:///home/fspletti/vorlesungen/2023S_Signal_processing_and_Analysis_of_human_brain_potentials_(EEG)/git/eeg_course_project/data/ds003702/derivatives/mne-bids-pipeline/sub-31/eeg/sub-31_task-SocialMemoryCuing_report.html\u001b\\\u001b[95msub-31_task-SocialMemoryCuing_report.html\u001b[0m\u001b]8;;\u001b\\\n",
      "\u001b[1;32m└────────┴ done \u001b[0m\u001b[1;32m(\u001b[0m\u001b[1;32m17s\u001b[0m\u001b[1;32m)\u001b[0m\n"
     ]
    }
   ],
   "source": [
    "curr_steps = \"preprocessing/_01_data_quality\"\n",
    "!mne_bids_pipeline --config {config_path} --steps {curr_steps}"
   ]
  },
  {
   "cell_type": "code",
   "execution_count": 12,
   "id": "16e75916-fd04-4fb2-8f17-916a1faf3060",
   "metadata": {},
   "outputs": [
    {
     "name": "stdout",
     "output_type": "stream",
     "text": [
      "sub-01_task-SocialMemoryCuing_report.h5\n",
      "[...]\n",
      "</details>\n",
      "        <details open>\n",
      "            <summary><strong>Data</strong></summary>\n",
      "            <table class=\"table table-hover table-striped table-sm table-responsive small\">\n",
      "                \n",
      "                <tr>\n",
      "                    <th>Sampling frequency</th>\n",
      "                    <td>500.00 Hz</td>\n",
      "                </tr>\n",
      "                \n",
      "       \n",
      "[...]\n",
      "\n",
      "===\n",
      "more data: see at..\n",
      "./data/ds003702/derivatives/mne-bids-pipeline/sub-01/eeg/sub-01_task-SocialMemoryCuing_report.html\n"
     ]
    }
   ],
   "source": [
    "# checkup: print some content which was written to file\n",
    "import h5py\n",
    "\n",
    "# set filename\n",
    "curr_checkup_filename = f\"{curr_bids_root}/derivatives/mne-bids-pipeline/sub-01/eeg/sub-01_task-SocialMemoryCuing_report.h5\"\n",
    "\n",
    "# print file name if file exists\n",
    "!\"{ls_command}\" \"{curr_checkup_filename}\" | xargs basename\n",
    "\n",
    "# import data\n",
    "curr_checkup_h5file = h5py.File(curr_checkup_filename, 'r')\n",
    "curr_html_length = len(curr_checkup_h5file[\"mnepython/key__content/idx_0/key_html\"])\n",
    "htmlContent = ''.join([ chr(curr_checkup_h5file[\"mnepython/key__content/idx_0/key_html\"][idx] ) for idx in range(curr_html_length) ])\n",
    "curr_checkup_h5file.close()\n",
    "# print excerpt of html output\n",
    "print(f\"[...]\\n{htmlContent[2500:2850]}\\n[...]\")\n",
    "\n",
    "# print hint regarding extra data\n",
    "print(\"\\n===\\nmore data: see at..\")\n",
    "# for more data, open the written html report file\n",
    "!\"{ls_command}\" ./\"{cfg.bids_root.parts[-2]}\"/\"{cfg.bids_root.parts[-1]}\"/derivatives/mne-bids-pipeline/sub-01/eeg/sub-01_task-SocialMemoryCuing_report.html"
   ]
  },
  {
   "cell_type": "code",
   "execution_count": 13,
   "id": "03c2ad4b-3eae-4be7-9696-5a1ecf5cc076",
   "metadata": {},
   "outputs": [
    {
     "name": "stdout",
     "output_type": "stream",
     "text": [
      "\u001b[1;32m┌────────┬ Welcome aboard MNE-BIDS-Pipeline! 👋\u001b[0m \u001b[1;32m────────────────────────────────\u001b[0m\n",
      "\u001b[32m│\u001b[0m\u001b[1;32m14:57:21\u001b[0m\u001b[32m│ \u001b[0m\u001b[1;36m📝 \u001b[0mUsing configuration: .\u001b[35m/mne-bids/config/\u001b[0m\u001b[95mmne-bids-pipeline_tests.py\u001b[0m\n",
      "\u001b[1;32m└────────┴ \u001b[0m\n",
      "\u001b[1;32m┌────────┬ init/_01_init_derivatives_dir\u001b[0m \u001b[1;32m───────────────────────────────────────\u001b[0m\n",
      "\u001b[32m│\u001b[0m\u001b[1;32m14:57:21\u001b[0m\u001b[32m│ \u001b[0m\u001b[1;36m✅ \u001b[0mOutput directories already exist …\n",
      "\u001b[1;32m└────────┴ done \u001b[0m\u001b[1;32m(\u001b[0m\u001b[1;32m1s\u001b[0m\u001b[1;32m)\u001b[0m\n",
      "\u001b[1;32m┌────────┬ init/_02_find_empty_room\u001b[0m \u001b[1;32m────────────────────────────────────────────\u001b[0m\n",
      "\u001b[32m│\u001b[0m\u001b[1;32m14:57:22\u001b[0m\u001b[32m│ \u001b[0m\u001b[1;36m⏩ \u001b[0mSkipping, empty-room data only relevant for MEG …\n",
      "\u001b[1;32m└────────┴ done \u001b[0m\u001b[1;32m(\u001b[0m\u001b[1;32m1s\u001b[0m\u001b[1;32m)\u001b[0m\n",
      "\u001b[1;32m┌────────┬ preprocessing/_02_head_pos\u001b[0m \u001b[1;32m──────────────────────────────────────────\u001b[0m\n",
      "\u001b[32m│\u001b[0m\u001b[1;32m14:57:22\u001b[0m\u001b[32m│ \u001b[0m\u001b[1;36m⏩ \u001b[0mSkipping …\n",
      "\u001b[1;32m└────────┴ done \u001b[0m\u001b[1;32m(\u001b[0m\u001b[1;32m1s\u001b[0m\u001b[1;32m)\u001b[0m\n"
     ]
    }
   ],
   "source": [
    "curr_steps = \"preprocessing/_02_head_pos\"\n",
    "!mne_bids_pipeline --config {config_path} --steps {curr_steps}"
   ]
  },
  {
   "cell_type": "code",
   "execution_count": 14,
   "id": "0f860145-2fcd-4b31-99f2-fc309c434526",
   "metadata": {},
   "outputs": [],
   "source": [
    "# checkup: not needed, since this step was skipped"
   ]
  },
  {
   "cell_type": "code",
   "execution_count": 15,
   "id": "524be875-79b9-431e-980f-b74027f2a0cd",
   "metadata": {},
   "outputs": [
    {
     "name": "stdout",
     "output_type": "stream",
     "text": [
      "\u001b[1;32m┌────────┬ Welcome aboard MNE-BIDS-Pipeline! 👋\u001b[0m \u001b[1;32m────────────────────────────────\u001b[0m\n",
      "\u001b[32m│\u001b[0m\u001b[1;32m14:57:23\u001b[0m\u001b[32m│ \u001b[0m\u001b[1;36m📝 \u001b[0mUsing configuration: .\u001b[35m/mne-bids/config/\u001b[0m\u001b[95mmne-bids-pipeline_tests.py\u001b[0m\n",
      "\u001b[1;32m└────────┴ \u001b[0m\n",
      "\u001b[1;32m┌────────┬ init/_01_init_derivatives_dir\u001b[0m \u001b[1;32m───────────────────────────────────────\u001b[0m\n",
      "\u001b[32m│\u001b[0m\u001b[1;32m14:57:23\u001b[0m\u001b[32m│ \u001b[0m\u001b[1;36m✅ \u001b[0mOutput directories already exist …\n",
      "\u001b[1;32m└────────┴ done \u001b[0m\u001b[1;32m(\u001b[0m\u001b[1;32m1s\u001b[0m\u001b[1;32m)\u001b[0m\n",
      "\u001b[1;32m┌────────┬ init/_02_find_empty_room\u001b[0m \u001b[1;32m────────────────────────────────────────────\u001b[0m\n",
      "\u001b[32m│\u001b[0m\u001b[1;32m14:57:24\u001b[0m\u001b[32m│ \u001b[0m\u001b[1;36m⏩ \u001b[0mSkipping, empty-room data only relevant for MEG …\n",
      "\u001b[1;32m└────────┴ done \u001b[0m\u001b[1;32m(\u001b[0m\u001b[1;32m1s\u001b[0m\u001b[1;32m)\u001b[0m\n",
      "\u001b[1;32m┌────────┬ preprocessing/_03_maxfilter\u001b[0m \u001b[1;32m─────────────────────────────────────────\u001b[0m\n",
      "\u001b[32m│\u001b[0m\u001b[1;32m14:57:24\u001b[0m\u001b[32m│ \u001b[0m\u001b[1;36m⏩ \u001b[0mSkipping …\n",
      "\u001b[1;32m└────────┴ done \u001b[0m\u001b[1;32m(\u001b[0m\u001b[1;32m1s\u001b[0m\u001b[1;32m)\u001b[0m\n"
     ]
    }
   ],
   "source": [
    "curr_steps = \"preprocessing/_03_maxfilter\"\n",
    "!mne_bids_pipeline --config {config_path} --steps {curr_steps}"
   ]
  },
  {
   "cell_type": "code",
   "execution_count": 16,
   "id": "df401ca1-27cb-493b-869f-33177749f661",
   "metadata": {},
   "outputs": [],
   "source": [
    "# checkup: not needed, since this step was skipped"
   ]
  },
  {
   "cell_type": "code",
   "execution_count": null,
   "id": "e9871691-da11-49ce-9403-5cf294e0cc58",
   "metadata": {
    "scrolled": true
   },
   "outputs": [
    {
     "name": "stdout",
     "output_type": "stream",
     "text": [
      "\u001b[1;32m┌────────┬ Welcome aboard MNE-BIDS-Pipeline! 👋\u001b[0m \u001b[1;32m────────────────────────────────\u001b[0m\n",
      "\u001b[32m│\u001b[0m\u001b[1;32m14:57:25\u001b[0m\u001b[32m│ \u001b[0m\u001b[1;36m📝 \u001b[0mUsing configuration: .\u001b[35m/mne-bids/config/\u001b[0m\u001b[95mmne-bids-pipeline_tests.py\u001b[0m\n",
      "\u001b[1;32m└────────┴ \u001b[0m\n",
      "\u001b[1;32m┌────────┬ init/_01_init_derivatives_dir\u001b[0m \u001b[1;32m───────────────────────────────────────\u001b[0m\n",
      "\u001b[32m│\u001b[0m\u001b[1;32m14:57:25\u001b[0m\u001b[32m│ \u001b[0m\u001b[1;36m✅ \u001b[0mOutput directories already exist …\n",
      "\u001b[1;32m└────────┴ done \u001b[0m\u001b[1;32m(\u001b[0m\u001b[1;32m1s\u001b[0m\u001b[1;32m)\u001b[0m\n",
      "\u001b[1;32m┌────────┬ init/_02_find_empty_room\u001b[0m \u001b[1;32m────────────────────────────────────────────\u001b[0m\n",
      "\u001b[32m│\u001b[0m\u001b[1;32m14:57:26\u001b[0m\u001b[32m│ \u001b[0m\u001b[1;36m⏩ \u001b[0mSkipping, empty-room data only relevant for MEG …\n",
      "\u001b[1;32m└────────┴ done \u001b[0m\u001b[1;32m(\u001b[0m\u001b[1;32m1s\u001b[0m\u001b[1;32m)\u001b[0m\n",
      "\u001b[1;32m┌────────┬ preprocessing/_04_frequency_filter\u001b[0m \u001b[1;32m──────────────────────────────────\u001b[0m\n",
      "\u001b[32m│\u001b[0m\u001b[1;32m14:57:32\u001b[0m\u001b[32m│ \u001b[0m\u001b[1;36m⏳️ sub-\u001b[0m\u001b[1;36m05\u001b[0m\u001b[1;36m \u001b[0mSetting EEG channel locations to template montage: standard_1005.\n",
      "\u001b[32m│\u001b[0m\u001b[1;32m14:57:32\u001b[0m\u001b[32m│ \u001b[0m\u001b[1;36m⏳️ sub-\u001b[0m\u001b[1;36m05\u001b[0m\u001b[1;36m \u001b[0mDropping channels: EOG, BIP1, BIP2, BIP3, BIP4, BIP5, BIP6, BIP7, BIP8, BIP9, BIP10, BIP11, BIP12, BIP13, BIP14, BIP15, BIP16, BIP17, BIP18, BIP19, BIP20, BIP21, BIP22, BIP23, BIP24\n",
      "\u001b[32m│\u001b[0m\u001b[1;32m14:57:35\u001b[0m\u001b[32m│ \u001b[0m\u001b[1;36m⏳️ sub-\u001b[0m\u001b[1;36m04\u001b[0m\u001b[1;36m \u001b[0mSetting EEG channel locations to template montage: standard_1005.\n",
      "\u001b[32m│\u001b[0m\u001b[1;32m14:57:35\u001b[0m\u001b[32m│ \u001b[0m\u001b[1;36m⏳️ sub-\u001b[0m\u001b[1;36m04\u001b[0m\u001b[1;36m \u001b[0mDropping channels: EOG, BIP1, BIP2, BIP3, BIP4, BIP5, BIP6, BIP7, BIP8, BIP9, BIP10, BIP11, BIP12, BIP13, BIP14, BIP15, BIP16, BIP17, BIP18, BIP19, BIP20, BIP21, BIP22, BIP23, BIP24\n",
      "\u001b[32m│\u001b[0m\u001b[1;32m14:57:35\u001b[0m\u001b[32m│ \u001b[0m\u001b[1;36m⏳️ sub-\u001b[0m\u001b[1;36m06\u001b[0m\u001b[1;36m \u001b[0mSetting EEG channel locations to template montage: standard_1005.\n",
      "\u001b[32m│\u001b[0m\u001b[1;32m14:57:35\u001b[0m\u001b[32m│ \u001b[0m\u001b[1;36m⏳️ sub-\u001b[0m\u001b[1;36m06\u001b[0m\u001b[1;36m \u001b[0mDropping channels: EOG, BIP1, BIP2, BIP3, BIP4, BIP5, BIP6, BIP7, BIP8, BIP9, BIP10, BIP11, BIP12, BIP13, BIP14, BIP15, BIP16, BIP17, BIP18, BIP19, BIP20, BIP21, BIP22, BIP23, BIP24\n",
      "\u001b[32m│\u001b[0m\u001b[1;32m14:57:36\u001b[0m\u001b[32m│ \u001b[0m\u001b[1;36m⏳️ sub-\u001b[0m\u001b[1;36m01\u001b[0m\u001b[1;36m \u001b[0mSetting EEG channel locations to template montage: standard_1005.\n",
      "\u001b[32m│\u001b[0m\u001b[1;32m14:57:36\u001b[0m\u001b[32m│ \u001b[0m\u001b[1;36m⏳️ sub-\u001b[0m\u001b[1;36m01\u001b[0m\u001b[1;36m \u001b[0mDropping channels: EOG, BIP1, BIP2, BIP3, BIP4, BIP5, BIP6, BIP7, BIP8, BIP9, BIP10, BIP11, BIP12, BIP13, BIP14, BIP15, BIP16, BIP17, BIP18, BIP19, BIP20, BIP21, BIP22, BIP23, BIP24\n",
      "\u001b[32m│\u001b[0m\u001b[1;32m14:57:36\u001b[0m\u001b[32m│ \u001b[0m\u001b[1;36m⏳️ sub-\u001b[0m\u001b[1;36m02\u001b[0m\u001b[1;36m \u001b[0mSetting EEG channel locations to template montage: standard_1005.\n",
      "\u001b[32m│\u001b[0m\u001b[1;32m14:57:36\u001b[0m\u001b[32m│ \u001b[0m\u001b[1;36m⏳️ sub-\u001b[0m\u001b[1;36m05\u001b[0m\u001b[1;36m \u001b[0mRenaming events …\n",
      "\u001b[32m│\u001b[0m\u001b[1;32m14:57:36\u001b[0m\u001b[32m│ \u001b[0m\u001b[1;36m⏳️ sub-\u001b[0m\u001b[1;36m05\u001b[0m\u001b[1;36m \u001b[0m… s3021 -> avatar\n",
      "\u001b[32m│\u001b[0m\u001b[1;32m14:57:36\u001b[0m\u001b[32m│ \u001b[0m\u001b[1;36m⏳️ sub-\u001b[0m\u001b[1;36m02\u001b[0m\u001b[1;36m \u001b[0mDropping channels: EOG, BIP1, BIP2, BIP3, BIP4, BIP5, BIP6, BIP7, BIP8, BIP9, BIP10, BIP11, BIP12, BIP13, BIP14, BIP15, BIP16, BIP17, BIP18, BIP19, BIP20, BIP21, BIP22, BIP23, BIP24\n",
      "\u001b[32m│\u001b[0m\u001b[1;32m14:57:36\u001b[0m\u001b[32m│ \u001b[0m\u001b[1;36m⏳️ sub-\u001b[0m\u001b[1;36m05\u001b[0m\u001b[1;36m \u001b[0m… s3041 -> sticks\n",
      "\u001b[32m│\u001b[0m\u001b[1;32m14:57:36\u001b[0m\u001b[32m│ \u001b[0m\u001b[1;36m⏳️ sub-\u001b[0m\u001b[1;36m05\u001b[0m\u001b[1;36m \u001b[0mNot applying notch filter to experimental data.\n",
      "\u001b[32m│\u001b[0m\u001b[1;32m14:57:36\u001b[0m\u001b[32m│ \u001b[0m\u001b[1;36m⏳️ sub-\u001b[0m\u001b[1;36m05\u001b[0m\u001b[1;36m \u001b[0mBand-pass filtering experimental data; range: \u001b[1;36m1.0\u001b[0m – \u001b[1;36m30.0\u001b[0m Hz\n",
      "\u001b[32m│\u001b[0m\u001b[1;32m14:57:37\u001b[0m\u001b[32m│ \u001b[0m\u001b[1;36m⏳️ sub-\u001b[0m\u001b[1;36m03\u001b[0m\u001b[1;36m \u001b[0mSetting EEG channel locations to template montage: standard_1005.\n",
      "\u001b[32m│\u001b[0m\u001b[1;32m14:57:37\u001b[0m\u001b[32m│ \u001b[0m\u001b[1;36m⏳️ sub-\u001b[0m\u001b[1;36m03\u001b[0m\u001b[1;36m \u001b[0mDropping channels: EOG, BIP1, BIP2, BIP3, BIP4, BIP5, BIP6, BIP7, BIP8, BIP9, BIP10, BIP11, BIP12, BIP13, BIP14, BIP15, BIP16, BIP17, BIP18, BIP19, BIP20, BIP21, BIP22, BIP23, BIP24\n",
      "\u001b[32m│\u001b[0m\u001b[1;32m14:57:39\u001b[0m\u001b[32m│ \u001b[0m\u001b[1;36m⏳️ sub-\u001b[0m\u001b[1;36m04\u001b[0m\u001b[1;36m \u001b[0mRenaming events …\n",
      "\u001b[32m│\u001b[0m\u001b[1;32m14:57:39\u001b[0m\u001b[32m│ \u001b[0m\u001b[1;36m⏳️ sub-\u001b[0m\u001b[1;36m04\u001b[0m\u001b[1;36m \u001b[0m… s3021 -> avatar\n",
      "\u001b[32m│\u001b[0m\u001b[1;32m14:57:39\u001b[0m\u001b[32m│ \u001b[0m\u001b[1;36m⏳️ sub-\u001b[0m\u001b[1;36m04\u001b[0m\u001b[1;36m \u001b[0m… s3041 -> sticks\n",
      "\u001b[32m│\u001b[0m\u001b[1;32m14:57:39\u001b[0m\u001b[32m│ \u001b[0m\u001b[1;36m⏳️ sub-\u001b[0m\u001b[1;36m04\u001b[0m\u001b[1;36m \u001b[0mNot applying notch filter to experimental data.\n",
      "\u001b[32m│\u001b[0m\u001b[1;32m14:57:39\u001b[0m\u001b[32m│ \u001b[0m\u001b[1;36m⏳️ sub-\u001b[0m\u001b[1;36m04\u001b[0m\u001b[1;36m \u001b[0mBand-pass filtering experimental data; range: \u001b[1;36m1.0\u001b[0m – \u001b[1;36m30.0\u001b[0m Hz\n",
      "\u001b[32m│\u001b[0m\u001b[1;32m14:57:39\u001b[0m\u001b[32m│ \u001b[0m\u001b[1;36m⏳️ sub-\u001b[0m\u001b[1;36m06\u001b[0m\u001b[1;36m \u001b[0mRenaming events …\n",
      "\u001b[32m│\u001b[0m\u001b[1;32m14:57:39\u001b[0m\u001b[32m│ \u001b[0m\u001b[1;36m⏳️ sub-\u001b[0m\u001b[1;36m06\u001b[0m\u001b[1;36m \u001b[0m… s3021 -> avatar\n",
      "\u001b[32m│\u001b[0m\u001b[1;32m14:57:39\u001b[0m\u001b[32m│ \u001b[0m\u001b[1;36m⏳️ sub-\u001b[0m\u001b[1;36m06\u001b[0m\u001b[1;36m \u001b[0m… s3041 -> sticks\n",
      "\u001b[32m│\u001b[0m\u001b[1;32m14:57:39\u001b[0m\u001b[32m│ \u001b[0m\u001b[1;36m⏳️ sub-\u001b[0m\u001b[1;36m06\u001b[0m\u001b[1;36m \u001b[0mNot applying notch filter to experimental data.\n",
      "\u001b[32m│\u001b[0m\u001b[1;32m14:57:39\u001b[0m\u001b[32m│ \u001b[0m\u001b[1;36m⏳️ sub-\u001b[0m\u001b[1;36m06\u001b[0m\u001b[1;36m \u001b[0mBand-pass filtering experimental data; range: \u001b[1;36m1.0\u001b[0m – \u001b[1;36m30.0\u001b[0m Hz\n",
      "\u001b[32m│\u001b[0m\u001b[1;32m14:57:40\u001b[0m\u001b[32m│ \u001b[0m\u001b[1;36m⏳️ sub-\u001b[0m\u001b[1;36m01\u001b[0m\u001b[1;36m \u001b[0mRenaming events …\n",
      "\u001b[32m│\u001b[0m\u001b[1;32m14:57:40\u001b[0m\u001b[32m│ \u001b[0m\u001b[1;36m⏳️ sub-\u001b[0m\u001b[1;36m02\u001b[0m\u001b[1;36m \u001b[0mRenaming events …\n",
      "\u001b[32m│\u001b[0m\u001b[1;32m14:57:40\u001b[0m\u001b[32m│ \u001b[0m\u001b[1;36m⏳️ sub-\u001b[0m\u001b[1;36m01\u001b[0m\u001b[1;36m \u001b[0m… s3021 -> avatar\n",
      "\u001b[32m│\u001b[0m\u001b[1;32m14:57:40\u001b[0m\u001b[32m│ \u001b[0m\u001b[1;36m⏳️ sub-\u001b[0m\u001b[1;36m02\u001b[0m\u001b[1;36m \u001b[0m… s3021 -> avatar\n",
      "\u001b[32m│\u001b[0m\u001b[1;32m14:57:40\u001b[0m\u001b[32m│ \u001b[0m\u001b[1;36m⏳️ sub-\u001b[0m\u001b[1;36m02\u001b[0m\u001b[1;36m \u001b[0m… s3041 -> sticks\n",
      "\u001b[32m│\u001b[0m\u001b[1;32m14:57:40\u001b[0m\u001b[32m│ \u001b[0m\u001b[1;36m⏳️ sub-\u001b[0m\u001b[1;36m01\u001b[0m\u001b[1;36m \u001b[0m… s3041 -> sticks\n",
      "\u001b[32m│\u001b[0m\u001b[1;32m14:57:40\u001b[0m\u001b[32m│ \u001b[0m\u001b[1;36m⏳️ sub-\u001b[0m\u001b[1;36m02\u001b[0m\u001b[1;36m \u001b[0mNot applying notch filter to experimental data.\n",
      "\u001b[32m│\u001b[0m\u001b[1;32m14:57:40\u001b[0m\u001b[32m│ \u001b[0m\u001b[1;36m⏳️ sub-\u001b[0m\u001b[1;36m01\u001b[0m\u001b[1;36m \u001b[0mNot applying notch filter to experimental data.\n",
      "\u001b[32m│\u001b[0m\u001b[1;32m14:57:40\u001b[0m\u001b[32m│ \u001b[0m\u001b[1;36m⏳️ sub-\u001b[0m\u001b[1;36m02\u001b[0m\u001b[1;36m \u001b[0mBand-pass filtering experimental data; range: \u001b[1;36m1.0\u001b[0m – \u001b[1;36m30.0\u001b[0m Hz\n",
      "\u001b[32m│\u001b[0m\u001b[1;32m14:57:40\u001b[0m\u001b[32m│ \u001b[0m\u001b[1;36m⏳️ sub-\u001b[0m\u001b[1;36m01\u001b[0m\u001b[1;36m \u001b[0mBand-pass filtering experimental data; range: \u001b[1;36m1.0\u001b[0m – \u001b[1;36m30.0\u001b[0m Hz\n",
      "\u001b[32m│\u001b[0m\u001b[1;32m14:57:40\u001b[0m\u001b[32m│ \u001b[0m\u001b[1;36m⏳️ sub-\u001b[0m\u001b[1;36m03\u001b[0m\u001b[1;36m \u001b[0mRenaming events …\n",
      "\u001b[32m│\u001b[0m\u001b[1;32m14:57:40\u001b[0m\u001b[32m│ \u001b[0m\u001b[1;36m⏳️ sub-\u001b[0m\u001b[1;36m03\u001b[0m\u001b[1;36m \u001b[0m… s3021 -> avatar\n",
      "\u001b[32m│\u001b[0m\u001b[1;32m14:57:40\u001b[0m\u001b[32m│ \u001b[0m\u001b[1;36m⏳️ sub-\u001b[0m\u001b[1;36m03\u001b[0m\u001b[1;36m \u001b[0m… s3041 -> sticks\n",
      "\u001b[32m│\u001b[0m\u001b[1;32m14:57:40\u001b[0m\u001b[32m│ \u001b[0m\u001b[1;36m⏳️ sub-\u001b[0m\u001b[1;36m03\u001b[0m\u001b[1;36m \u001b[0mNot applying notch filter to experimental data.\n",
      "\u001b[32m│\u001b[0m\u001b[1;32m14:57:40\u001b[0m\u001b[32m│ \u001b[0m\u001b[1;36m⏳️ sub-\u001b[0m\u001b[1;36m03\u001b[0m\u001b[1;36m \u001b[0mBand-pass filtering experimental data; range: \u001b[1;36m1.0\u001b[0m – \u001b[1;36m30.0\u001b[0m Hz\n",
      "\u001b[32m│\u001b[0m\u001b[1;32m14:57:42\u001b[0m\u001b[32m│ \u001b[0m\u001b[1;36m⏳️ sub-\u001b[0m\u001b[1;36m04\u001b[0m\u001b[1;36m \u001b[0mResampling experimental data to \u001b[1;36m100.0\u001b[0m Hz\n",
      "\u001b[32m│\u001b[0m\u001b[1;32m14:57:43\u001b[0m\u001b[32m│ \u001b[0m\u001b[1;36m⏳️ sub-\u001b[0m\u001b[1;36m05\u001b[0m\u001b[1;36m \u001b[0mResampling experimental data to \u001b[1;36m100.0\u001b[0m Hz\n",
      "\u001b[32m│\u001b[0m\u001b[1;32m14:57:45\u001b[0m\u001b[32m│ \u001b[0m\u001b[1;36m⏳️ sub-\u001b[0m\u001b[1;36m06\u001b[0m\u001b[1;36m \u001b[0mResampling experimental data to \u001b[1;36m100.0\u001b[0m Hz\n",
      "\u001b[32m│\u001b[0m\u001b[1;32m14:57:46\u001b[0m\u001b[32m│ \u001b[0m\u001b[1;36m⏳️ sub-\u001b[0m\u001b[1;36m02\u001b[0m\u001b[1;36m \u001b[0mResampling experimental data to \u001b[1;36m100.0\u001b[0m Hz\n",
      "\u001b[32m│\u001b[0m\u001b[1;32m14:57:50\u001b[0m\u001b[32m│ \u001b[0m\u001b[1;36m⏳️ sub-\u001b[0m\u001b[1;36m01\u001b[0m\u001b[1;36m \u001b[0mResampling experimental data to \u001b[1;36m100.0\u001b[0m Hz\n",
      "\u001b[32m│\u001b[0m\u001b[1;32m14:57:56\u001b[0m\u001b[32m│ \u001b[0m\u001b[1;36m⏳️ sub-\u001b[0m\u001b[1;36m04\u001b[0m\u001b[1;36m \u001b[0mAdding filtered raw data to report\n",
      "\u001b[32m│\u001b[0m\u001b[1;32m14:57:56\u001b[0m\u001b[32m│ \u001b[0m\u001b[1;36m⏳️ sub-\u001b[0m\u001b[1;36m03\u001b[0m\u001b[1;36m \u001b[0mResampling experimental data to \u001b[1;36m100.0\u001b[0m Hz\n",
      "\u001b[32m│\u001b[0m\u001b[1;32m14:57:58\u001b[0m\u001b[32m│ \u001b[0m\u001b[1;36m⏳️ sub-\u001b[0m\u001b[1;36m05\u001b[0m\u001b[1;36m \u001b[0mAdding filtered raw data to report\n",
      "\u001b[32m│\u001b[0m\u001b[1;32m14:58:01\u001b[0m\u001b[32m│ \u001b[0m\u001b[1;36m⏳️ sub-\u001b[0m\u001b[1;36m04\u001b[0m\u001b[1;36m \u001b[0mAdding config and sys info to report\n",
      "\u001b[32m│\u001b[0m\u001b[1;32m14:58:02\u001b[0m\u001b[32m│ \u001b[0m\u001b[1;36m⏳️ sub-\u001b[0m\u001b[1;36m06\u001b[0m\u001b[1;36m \u001b[0mAdding filtered raw data to report\n",
      "\u001b[32m│\u001b[0m\u001b[1;32m14:58:02\u001b[0m\u001b[32m│ \u001b[0m\u001b[1;36m⏳️ sub-\u001b[0m\u001b[1;36m02\u001b[0m\u001b[1;36m \u001b[0mAdding filtered raw data to report\n",
      "\u001b[32m│\u001b[0m\u001b[1;32m14:58:03\u001b[0m\u001b[32m│ \u001b[0m\u001b[1;36m⏳️ sub-\u001b[0m\u001b[1;36m05\u001b[0m\u001b[1;36m \u001b[0mAdding config and sys info to report\n",
      "\u001b[32m│\u001b[0m\u001b[1;32m14:58:06\u001b[0m\u001b[32m│ \u001b[0m\u001b[1;36m⏳️ sub-\u001b[0m\u001b[1;36m01\u001b[0m\u001b[1;36m \u001b[0mAdding filtered raw data to report\n",
      "\u001b[32m│\u001b[0m\u001b[1;32m14:58:06\u001b[0m\u001b[32m│ \u001b[0m\u001b[1;36m⏳️ sub-\u001b[0m\u001b[1;36m06\u001b[0m\u001b[1;36m \u001b[0mAdding config and sys info to report\n",
      "\u001b[32m│\u001b[0m\u001b[1;32m14:58:06\u001b[0m\u001b[32m│ \u001b[0m\u001b[1;36m⏳️ sub-\u001b[0m\u001b[1;36m02\u001b[0m\u001b[1;36m \u001b[0mAdding config and sys info to report\n",
      "\u001b[32m│\u001b[0m\u001b[1;32m14:58:06\u001b[0m\u001b[32m│ \u001b[0m\u001b[1;36m⏳️ sub-\u001b[0m\u001b[1;36m04\u001b[0m\u001b[1;36m \u001b[0mSaving report: \u001b]8;id=417875;file:///home/fspletti/vorlesungen/2023S_Signal_processing_and_Analysis_of_human_brain_potentials_(EEG)/git/eeg_course_project/data/ds003702/derivatives/mne-bids-pipeline/sub-04/eeg/sub-04_task-SocialMemoryCuing_report.html\u001b\\\u001b[35m/home/fspletti/vorlesungen/\u001b[0m\u001b]8;;\u001b\\\u001b]8;id=213316;file:///home/fspletti/vorlesungen/2023S_Signal_processing_and_Analysis_of_human_brain_potentials_(EEG)/git/eeg_course_project/data/ds003702/derivatives/mne-bids-pipeline/sub-04/eeg/sub-04_task-SocialMemoryCuing_report.html\u001b\\\u001b[95m2023S_Signal_processing_and_Analysis_of_human_brain_potentials_\u001b[0m\u001b]8;;\u001b\\\u001b]8;id=452634;file:///home/fspletti/vorlesungen/2023S_Signal_processing_and_Analysis_of_human_brain_potentials_(EEG)/git/eeg_course_project/data/ds003702/derivatives/mne-bids-pipeline/sub-04/eeg/sub-04_task-SocialMemoryCuing_report.html\u001b\\\u001b[1m(\u001b[0m\u001b]8;;\u001b\\\u001b]8;id=397893;file:///home/fspletti/vorlesungen/2023S_Signal_processing_and_Analysis_of_human_brain_potentials_(EEG)/git/eeg_course_project/data/ds003702/derivatives/mne-bids-pipeline/sub-04/eeg/sub-04_task-SocialMemoryCuing_report.html\u001b\\EEG\u001b]8;;\u001b\\\u001b]8;id=452634;file:///home/fspletti/vorlesungen/2023S_Signal_processing_and_Analysis_of_human_brain_potentials_(EEG)/git/eeg_course_project/data/ds003702/derivatives/mne-bids-pipeline/sub-04/eeg/sub-04_task-SocialMemoryCuing_report.html\u001b\\\u001b[1m)\u001b[0m\u001b]8;;\u001b\\\u001b]8;id=417875;file:///home/fspletti/vorlesungen/2023S_Signal_processing_and_Analysis_of_human_brain_potentials_(EEG)/git/eeg_course_project/data/ds003702/derivatives/mne-bids-pipeline/sub-04/eeg/sub-04_task-SocialMemoryCuing_report.html\u001b\\\u001b[35m/git/eeg_course_project/data/ds003702/derivatives/mne-bids-pipeline/sub-04/eeg/\u001b[0m\u001b]8;;\u001b\\\u001b]8;id=213316;file:///home/fspletti/vorlesungen/2023S_Signal_processing_and_Analysis_of_human_brain_potentials_(EEG)/git/eeg_course_project/data/ds003702/derivatives/mne-bids-pipeline/sub-04/eeg/sub-04_task-SocialMemoryCuing_report.html\u001b\\\u001b[95msub-04_task-SocialMemoryCuing_report.html\u001b[0m\u001b]8;;\u001b\\\n",
      "\u001b[32m│\u001b[0m\u001b[1;32m14:58:07\u001b[0m\u001b[32m│ \u001b[0m\u001b[1;36m⏳️ sub-\u001b[0m\u001b[1;36m03\u001b[0m\u001b[1;36m \u001b[0mAdding filtered raw data to report\n",
      "\u001b[32m│\u001b[0m\u001b[1;32m14:58:07\u001b[0m\u001b[32m│ \u001b[0m\u001b[1;36m⏳️ sub-\u001b[0m\u001b[1;36m05\u001b[0m\u001b[1;36m \u001b[0mSaving report: \u001b]8;id=353157;file:///home/fspletti/vorlesungen/2023S_Signal_processing_and_Analysis_of_human_brain_potentials_(EEG)/git/eeg_course_project/data/ds003702/derivatives/mne-bids-pipeline/sub-05/eeg/sub-05_task-SocialMemoryCuing_report.html\u001b\\\u001b[35m/home/fspletti/vorlesungen/\u001b[0m\u001b]8;;\u001b\\\u001b]8;id=576067;file:///home/fspletti/vorlesungen/2023S_Signal_processing_and_Analysis_of_human_brain_potentials_(EEG)/git/eeg_course_project/data/ds003702/derivatives/mne-bids-pipeline/sub-05/eeg/sub-05_task-SocialMemoryCuing_report.html\u001b\\\u001b[95m2023S_Signal_processing_and_Analysis_of_human_brain_potentials_\u001b[0m\u001b]8;;\u001b\\\u001b]8;id=321438;file:///home/fspletti/vorlesungen/2023S_Signal_processing_and_Analysis_of_human_brain_potentials_(EEG)/git/eeg_course_project/data/ds003702/derivatives/mne-bids-pipeline/sub-05/eeg/sub-05_task-SocialMemoryCuing_report.html\u001b\\\u001b[1m(\u001b[0m\u001b]8;;\u001b\\\u001b]8;id=494199;file:///home/fspletti/vorlesungen/2023S_Signal_processing_and_Analysis_of_human_brain_potentials_(EEG)/git/eeg_course_project/data/ds003702/derivatives/mne-bids-pipeline/sub-05/eeg/sub-05_task-SocialMemoryCuing_report.html\u001b\\EEG\u001b]8;;\u001b\\\u001b]8;id=321438;file:///home/fspletti/vorlesungen/2023S_Signal_processing_and_Analysis_of_human_brain_potentials_(EEG)/git/eeg_course_project/data/ds003702/derivatives/mne-bids-pipeline/sub-05/eeg/sub-05_task-SocialMemoryCuing_report.html\u001b\\\u001b[1m)\u001b[0m\u001b]8;;\u001b\\\u001b]8;id=353157;file:///home/fspletti/vorlesungen/2023S_Signal_processing_and_Analysis_of_human_brain_potentials_(EEG)/git/eeg_course_project/data/ds003702/derivatives/mne-bids-pipeline/sub-05/eeg/sub-05_task-SocialMemoryCuing_report.html\u001b\\\u001b[35m/git/eeg_course_project/data/ds003702/derivatives/mne-bids-pipeline/sub-05/eeg/\u001b[0m\u001b]8;;\u001b\\\u001b]8;id=576067;file:///home/fspletti/vorlesungen/2023S_Signal_processing_and_Analysis_of_human_brain_potentials_(EEG)/git/eeg_course_project/data/ds003702/derivatives/mne-bids-pipeline/sub-05/eeg/sub-05_task-SocialMemoryCuing_report.html\u001b\\\u001b[95msub-05_task-SocialMemoryCuing_report.html\u001b[0m\u001b]8;;\u001b\\\n",
      "\u001b[32m│\u001b[0m\u001b[1;32m14:58:08\u001b[0m\u001b[32m│ \u001b[0m\u001b[1;36m⏳️ sub-\u001b[0m\u001b[1;36m07\u001b[0m\u001b[1;36m \u001b[0mSetting EEG channel locations to template montage: standard_1005.\n",
      "\u001b[32m│\u001b[0m\u001b[1;32m14:58:08\u001b[0m\u001b[32m│ \u001b[0m\u001b[1;36m⏳️ sub-\u001b[0m\u001b[1;36m07\u001b[0m\u001b[1;36m \u001b[0mDropping channels: EOG, BIP1, BIP2, BIP3, BIP4, BIP5, BIP6, BIP7, BIP8, BIP9, BIP10, BIP11, BIP12, BIP13, BIP14, BIP15, BIP16, BIP17, BIP18, BIP19, BIP20, BIP21, BIP22, BIP23, BIP24\n",
      "\u001b[32m│\u001b[0m\u001b[1;32m14:58:09\u001b[0m\u001b[32m│ \u001b[0m\u001b[1;36m⏳️ sub-\u001b[0m\u001b[1;36m01\u001b[0m\u001b[1;36m \u001b[0mAdding config and sys info to report\n",
      "\u001b[32m│\u001b[0m\u001b[1;32m14:58:09\u001b[0m\u001b[32m│ \u001b[0m\u001b[1;36m⏳️ sub-\u001b[0m\u001b[1;36m06\u001b[0m\u001b[1;36m \u001b[0mSaving report: \u001b]8;id=111208;file:///home/fspletti/vorlesungen/2023S_Signal_processing_and_Analysis_of_human_brain_potentials_(EEG)/git/eeg_course_project/data/ds003702/derivatives/mne-bids-pipeline/sub-06/eeg/sub-06_task-SocialMemoryCuing_report.html\u001b\\\u001b[35m/home/fspletti/vorlesungen/\u001b[0m\u001b]8;;\u001b\\\u001b]8;id=514356;file:///home/fspletti/vorlesungen/2023S_Signal_processing_and_Analysis_of_human_brain_potentials_(EEG)/git/eeg_course_project/data/ds003702/derivatives/mne-bids-pipeline/sub-06/eeg/sub-06_task-SocialMemoryCuing_report.html\u001b\\\u001b[95m2023S_Signal_processing_and_Analysis_of_human_brain_potentials_\u001b[0m\u001b]8;;\u001b\\\u001b]8;id=42161;file:///home/fspletti/vorlesungen/2023S_Signal_processing_and_Analysis_of_human_brain_potentials_(EEG)/git/eeg_course_project/data/ds003702/derivatives/mne-bids-pipeline/sub-06/eeg/sub-06_task-SocialMemoryCuing_report.html\u001b\\\u001b[1m(\u001b[0m\u001b]8;;\u001b\\\u001b]8;id=116210;file:///home/fspletti/vorlesungen/2023S_Signal_processing_and_Analysis_of_human_brain_potentials_(EEG)/git/eeg_course_project/data/ds003702/derivatives/mne-bids-pipeline/sub-06/eeg/sub-06_task-SocialMemoryCuing_report.html\u001b\\EEG\u001b]8;;\u001b\\\u001b]8;id=42161;file:///home/fspletti/vorlesungen/2023S_Signal_processing_and_Analysis_of_human_brain_potentials_(EEG)/git/eeg_course_project/data/ds003702/derivatives/mne-bids-pipeline/sub-06/eeg/sub-06_task-SocialMemoryCuing_report.html\u001b\\\u001b[1m)\u001b[0m\u001b]8;;\u001b\\\u001b]8;id=111208;file:///home/fspletti/vorlesungen/2023S_Signal_processing_and_Analysis_of_human_brain_potentials_(EEG)/git/eeg_course_project/data/ds003702/derivatives/mne-bids-pipeline/sub-06/eeg/sub-06_task-SocialMemoryCuing_report.html\u001b\\\u001b[35m/git/eeg_course_project/data/ds003702/derivatives/mne-bids-pipeline/sub-06/eeg/\u001b[0m\u001b]8;;\u001b\\\u001b]8;id=514356;file:///home/fspletti/vorlesungen/2023S_Signal_processing_and_Analysis_of_human_brain_potentials_(EEG)/git/eeg_course_project/data/ds003702/derivatives/mne-bids-pipeline/sub-06/eeg/sub-06_task-SocialMemoryCuing_report.html\u001b\\\u001b[95msub-06_task-SocialMemoryCuing_report.html\u001b[0m\u001b]8;;\u001b\\\n",
      "\u001b[32m│\u001b[0m\u001b[1;32m14:58:09\u001b[0m\u001b[32m│ \u001b[0m\u001b[1;36m⏳️ sub-\u001b[0m\u001b[1;36m02\u001b[0m\u001b[1;36m \u001b[0mSaving report: \u001b]8;id=512600;file:///home/fspletti/vorlesungen/2023S_Signal_processing_and_Analysis_of_human_brain_potentials_(EEG)/git/eeg_course_project/data/ds003702/derivatives/mne-bids-pipeline/sub-02/eeg/sub-02_task-SocialMemoryCuing_report.html\u001b\\\u001b[35m/home/fspletti/vorlesungen/\u001b[0m\u001b]8;;\u001b\\\u001b]8;id=932727;file:///home/fspletti/vorlesungen/2023S_Signal_processing_and_Analysis_of_human_brain_potentials_(EEG)/git/eeg_course_project/data/ds003702/derivatives/mne-bids-pipeline/sub-02/eeg/sub-02_task-SocialMemoryCuing_report.html\u001b\\\u001b[95m2023S_Signal_processing_and_Analysis_of_human_brain_potentials_\u001b[0m\u001b]8;;\u001b\\\u001b]8;id=168207;file:///home/fspletti/vorlesungen/2023S_Signal_processing_and_Analysis_of_human_brain_potentials_(EEG)/git/eeg_course_project/data/ds003702/derivatives/mne-bids-pipeline/sub-02/eeg/sub-02_task-SocialMemoryCuing_report.html\u001b\\\u001b[1m(\u001b[0m\u001b]8;;\u001b\\\u001b]8;id=823159;file:///home/fspletti/vorlesungen/2023S_Signal_processing_and_Analysis_of_human_brain_potentials_(EEG)/git/eeg_course_project/data/ds003702/derivatives/mne-bids-pipeline/sub-02/eeg/sub-02_task-SocialMemoryCuing_report.html\u001b\\EEG\u001b]8;;\u001b\\\u001b]8;id=168207;file:///home/fspletti/vorlesungen/2023S_Signal_processing_and_Analysis_of_human_brain_potentials_(EEG)/git/eeg_course_project/data/ds003702/derivatives/mne-bids-pipeline/sub-02/eeg/sub-02_task-SocialMemoryCuing_report.html\u001b\\\u001b[1m)\u001b[0m\u001b]8;;\u001b\\\u001b]8;id=512600;file:///home/fspletti/vorlesungen/2023S_Signal_processing_and_Analysis_of_human_brain_potentials_(EEG)/git/eeg_course_project/data/ds003702/derivatives/mne-bids-pipeline/sub-02/eeg/sub-02_task-SocialMemoryCuing_report.html\u001b\\\u001b[35m/git/eeg_course_project/data/ds003702/derivatives/mne-bids-pipeline/sub-02/eeg/\u001b[0m\u001b]8;;\u001b\\\u001b]8;id=932727;file:///home/fspletti/vorlesungen/2023S_Signal_processing_and_Analysis_of_human_brain_potentials_(EEG)/git/eeg_course_project/data/ds003702/derivatives/mne-bids-pipeline/sub-02/eeg/sub-02_task-SocialMemoryCuing_report.html\u001b\\\u001b[95msub-02_task-SocialMemoryCuing_report.html\u001b[0m\u001b]8;;\u001b\\\n",
      "\u001b[32m│\u001b[0m\u001b[1;32m14:58:10\u001b[0m\u001b[32m│ \u001b[0m\u001b[1;36m⏳️ sub-\u001b[0m\u001b[1;36m07\u001b[0m\u001b[1;36m \u001b[0mRenaming events …\n",
      "\u001b[32m│\u001b[0m\u001b[1;32m14:58:10\u001b[0m\u001b[32m│ \u001b[0m\u001b[1;36m⏳️ sub-\u001b[0m\u001b[1;36m07\u001b[0m\u001b[1;36m \u001b[0m… s3021 -> avatar\n",
      "\u001b[32m│\u001b[0m\u001b[1;32m14:58:10\u001b[0m\u001b[32m│ \u001b[0m\u001b[1;36m⏳️ sub-\u001b[0m\u001b[1;36m07\u001b[0m\u001b[1;36m \u001b[0m… s3041 -> sticks\n",
      "\u001b[32m│\u001b[0m\u001b[1;32m14:58:10\u001b[0m\u001b[32m│ \u001b[0m\u001b[1;36m⏳️ sub-\u001b[0m\u001b[1;36m07\u001b[0m\u001b[1;36m \u001b[0mNot applying notch filter to experimental data.\n",
      "\u001b[32m│\u001b[0m\u001b[1;32m14:58:10\u001b[0m\u001b[32m│ \u001b[0m\u001b[1;36m⏳️ sub-\u001b[0m\u001b[1;36m07\u001b[0m\u001b[1;36m \u001b[0mBand-pass filtering experimental data; range: \u001b[1;36m1.0\u001b[0m – \u001b[1;36m30.0\u001b[0m Hz\n",
      "\u001b[32m│\u001b[0m\u001b[1;32m14:58:11\u001b[0m\u001b[32m│ \u001b[0m\u001b[1;36m⏳️ sub-\u001b[0m\u001b[1;36m09\u001b[0m\u001b[1;36m \u001b[0mSetting EEG channel locations to template montage: standard_1005.\n",
      "\u001b[32m│\u001b[0m\u001b[1;32m14:58:11\u001b[0m\u001b[32m│ \u001b[0m\u001b[1;36m⏳️ sub-\u001b[0m\u001b[1;36m09\u001b[0m\u001b[1;36m \u001b[0mDropping channels: EOG, BIP1, BIP2, BIP3, BIP4, BIP5, BIP6, BIP7, BIP8, BIP9, BIP10, BIP11, BIP12, BIP13, BIP14, BIP15, BIP16, BIP17, BIP18, BIP19, BIP20, BIP21, BIP22, BIP23, BIP24\n",
      "\u001b[32m│\u001b[0m\u001b[1;32m14:58:11\u001b[0m\u001b[32m│ \u001b[0m\u001b[1;36m⏳️ sub-\u001b[0m\u001b[1;36m03\u001b[0m\u001b[1;36m \u001b[0mAdding config and sys info to report\n",
      "\u001b[32m│\u001b[0m\u001b[1;32m14:58:13\u001b[0m\u001b[32m│ \u001b[0m\u001b[1;36m⏳️ sub-\u001b[0m\u001b[1;36m01\u001b[0m\u001b[1;36m \u001b[0mSaving report: \u001b]8;id=541365;file:///home/fspletti/vorlesungen/2023S_Signal_processing_and_Analysis_of_human_brain_potentials_(EEG)/git/eeg_course_project/data/ds003702/derivatives/mne-bids-pipeline/sub-01/eeg/sub-01_task-SocialMemoryCuing_report.html\u001b\\\u001b[35m/home/fspletti/vorlesungen/\u001b[0m\u001b]8;;\u001b\\\u001b]8;id=506690;file:///home/fspletti/vorlesungen/2023S_Signal_processing_and_Analysis_of_human_brain_potentials_(EEG)/git/eeg_course_project/data/ds003702/derivatives/mne-bids-pipeline/sub-01/eeg/sub-01_task-SocialMemoryCuing_report.html\u001b\\\u001b[95m2023S_Signal_processing_and_Analysis_of_human_brain_potentials_\u001b[0m\u001b]8;;\u001b\\\u001b]8;id=616740;file:///home/fspletti/vorlesungen/2023S_Signal_processing_and_Analysis_of_human_brain_potentials_(EEG)/git/eeg_course_project/data/ds003702/derivatives/mne-bids-pipeline/sub-01/eeg/sub-01_task-SocialMemoryCuing_report.html\u001b\\\u001b[1m(\u001b[0m\u001b]8;;\u001b\\\u001b]8;id=681545;file:///home/fspletti/vorlesungen/2023S_Signal_processing_and_Analysis_of_human_brain_potentials_(EEG)/git/eeg_course_project/data/ds003702/derivatives/mne-bids-pipeline/sub-01/eeg/sub-01_task-SocialMemoryCuing_report.html\u001b\\EEG\u001b]8;;\u001b\\\u001b]8;id=616740;file:///home/fspletti/vorlesungen/2023S_Signal_processing_and_Analysis_of_human_brain_potentials_(EEG)/git/eeg_course_project/data/ds003702/derivatives/mne-bids-pipeline/sub-01/eeg/sub-01_task-SocialMemoryCuing_report.html\u001b\\\u001b[1m)\u001b[0m\u001b]8;;\u001b\\\u001b]8;id=541365;file:///home/fspletti/vorlesungen/2023S_Signal_processing_and_Analysis_of_human_brain_potentials_(EEG)/git/eeg_course_project/data/ds003702/derivatives/mne-bids-pipeline/sub-01/eeg/sub-01_task-SocialMemoryCuing_report.html\u001b\\\u001b[35m/git/eeg_course_project/data/ds003702/derivatives/mne-bids-pipeline/sub-01/eeg/\u001b[0m\u001b]8;;\u001b\\\u001b]8;id=506690;file:///home/fspletti/vorlesungen/2023S_Signal_processing_and_Analysis_of_human_brain_potentials_(EEG)/git/eeg_course_project/data/ds003702/derivatives/mne-bids-pipeline/sub-01/eeg/sub-01_task-SocialMemoryCuing_report.html\u001b\\\u001b[95msub-01_task-SocialMemoryCuing_report.html\u001b[0m\u001b]8;;\u001b\\\n",
      "\u001b[32m│\u001b[0m\u001b[1;32m14:58:13\u001b[0m\u001b[32m│ \u001b[0m\u001b[1;36m⏳️ sub-\u001b[0m\u001b[1;36m09\u001b[0m\u001b[1;36m \u001b[0mRenaming events …\n",
      "\u001b[32m│\u001b[0m\u001b[1;32m14:58:13\u001b[0m\u001b[32m│ \u001b[0m\u001b[1;36m⏳️ sub-\u001b[0m\u001b[1;36m09\u001b[0m\u001b[1;36m \u001b[0m… s3021 -> avatar\n",
      "\u001b[32m│\u001b[0m\u001b[1;32m14:58:13\u001b[0m\u001b[32m│ \u001b[0m\u001b[1;36m⏳️ sub-\u001b[0m\u001b[1;36m09\u001b[0m\u001b[1;36m \u001b[0m… s3041 -> sticks\n",
      "\u001b[32m│\u001b[0m\u001b[1;32m14:58:13\u001b[0m\u001b[32m│ \u001b[0m\u001b[1;36m⏳️ sub-\u001b[0m\u001b[1;36m09\u001b[0m\u001b[1;36m \u001b[0mNot applying notch filter to experimental data.\n",
      "\u001b[32m│\u001b[0m\u001b[1;32m14:58:14\u001b[0m\u001b[32m│ \u001b[0m\u001b[1;36m⏳️ sub-\u001b[0m\u001b[1;36m09\u001b[0m\u001b[1;36m \u001b[0mBand-pass filtering experimental data; range: \u001b[1;36m1.0\u001b[0m – \u001b[1;36m30.0\u001b[0m Hz\n",
      "\u001b[32m│\u001b[0m\u001b[1;32m14:58:14\u001b[0m\u001b[32m│ \u001b[0m\u001b[1;36m⏳️ sub-\u001b[0m\u001b[1;36m07\u001b[0m\u001b[1;36m \u001b[0mResampling experimental data to \u001b[1;36m100.0\u001b[0m Hz\n",
      "\u001b[32m│\u001b[0m\u001b[1;32m14:58:16\u001b[0m\u001b[32m│ \u001b[0m\u001b[1;36m⏳️ sub-\u001b[0m\u001b[1;36m03\u001b[0m\u001b[1;36m \u001b[0mSaving report: \u001b]8;id=412818;file:///home/fspletti/vorlesungen/2023S_Signal_processing_and_Analysis_of_human_brain_potentials_(EEG)/git/eeg_course_project/data/ds003702/derivatives/mne-bids-pipeline/sub-03/eeg/sub-03_task-SocialMemoryCuing_report.html\u001b\\\u001b[35m/home/fspletti/vorlesungen/\u001b[0m\u001b]8;;\u001b\\\u001b]8;id=849892;file:///home/fspletti/vorlesungen/2023S_Signal_processing_and_Analysis_of_human_brain_potentials_(EEG)/git/eeg_course_project/data/ds003702/derivatives/mne-bids-pipeline/sub-03/eeg/sub-03_task-SocialMemoryCuing_report.html\u001b\\\u001b[95m2023S_Signal_processing_and_Analysis_of_human_brain_potentials_\u001b[0m\u001b]8;;\u001b\\\u001b]8;id=432518;file:///home/fspletti/vorlesungen/2023S_Signal_processing_and_Analysis_of_human_brain_potentials_(EEG)/git/eeg_course_project/data/ds003702/derivatives/mne-bids-pipeline/sub-03/eeg/sub-03_task-SocialMemoryCuing_report.html\u001b\\\u001b[1m(\u001b[0m\u001b]8;;\u001b\\\u001b]8;id=42637;file:///home/fspletti/vorlesungen/2023S_Signal_processing_and_Analysis_of_human_brain_potentials_(EEG)/git/eeg_course_project/data/ds003702/derivatives/mne-bids-pipeline/sub-03/eeg/sub-03_task-SocialMemoryCuing_report.html\u001b\\EEG\u001b]8;;\u001b\\\u001b]8;id=432518;file:///home/fspletti/vorlesungen/2023S_Signal_processing_and_Analysis_of_human_brain_potentials_(EEG)/git/eeg_course_project/data/ds003702/derivatives/mne-bids-pipeline/sub-03/eeg/sub-03_task-SocialMemoryCuing_report.html\u001b\\\u001b[1m)\u001b[0m\u001b]8;;\u001b\\\u001b]8;id=412818;file:///home/fspletti/vorlesungen/2023S_Signal_processing_and_Analysis_of_human_brain_potentials_(EEG)/git/eeg_course_project/data/ds003702/derivatives/mne-bids-pipeline/sub-03/eeg/sub-03_task-SocialMemoryCuing_report.html\u001b\\\u001b[35m/git/eeg_course_project/data/ds003702/derivatives/mne-bids-pipeline/sub-03/eeg/\u001b[0m\u001b]8;;\u001b\\\u001b]8;id=849892;file:///home/fspletti/vorlesungen/2023S_Signal_processing_and_Analysis_of_human_brain_potentials_(EEG)/git/eeg_course_project/data/ds003702/derivatives/mne-bids-pipeline/sub-03/eeg/sub-03_task-SocialMemoryCuing_report.html\u001b\\\u001b[95msub-03_task-SocialMemoryCuing_report.html\u001b[0m\u001b]8;;\u001b\\\n",
      "\u001b[32m│\u001b[0m\u001b[1;32m14:58:16\u001b[0m\u001b[32m│ \u001b[0m\u001b[1;36m⏳️ sub-\u001b[0m\u001b[1;36m10\u001b[0m\u001b[1;36m \u001b[0mSetting EEG channel locations to template montage: standard_1005.\n",
      "\u001b[32m│\u001b[0m\u001b[1;32m14:58:17\u001b[0m\u001b[32m│ \u001b[0m\u001b[1;36m⏳️ sub-\u001b[0m\u001b[1;36m10\u001b[0m\u001b[1;36m \u001b[0mDropping channels: EOG, BIP1, BIP2, BIP3, BIP4, BIP5, BIP6, BIP7, BIP8, BIP9, BIP10, BIP11, BIP12, BIP13, BIP14, BIP15, BIP16, BIP17, BIP18, BIP19, BIP20, BIP21, BIP22, BIP23, BIP24\n",
      "\u001b[32m│\u001b[0m\u001b[1;32m14:58:18\u001b[0m\u001b[32m│ \u001b[0m\u001b[1;36m⏳️ sub-\u001b[0m\u001b[1;36m09\u001b[0m\u001b[1;36m \u001b[0mResampling experimental data to \u001b[1;36m100.0\u001b[0m Hz\n"
     ]
    }
   ],
   "source": [
    "curr_steps = \"preprocessing/_04_frequency_filter\"\n",
    "!mne_bids_pipeline --config {config_path} --steps {curr_steps}"
   ]
  },
  {
   "cell_type": "code",
   "execution_count": null,
   "id": "241a668a-9095-4e64-a2aa-f4a3aeb99be9",
   "metadata": {},
   "outputs": [],
   "source": [
    "import mne\n",
    "import matplotlib.pyplot as plt"
   ]
  },
  {
   "cell_type": "code",
   "execution_count": null,
   "id": "7559252e-0835-49ee-9d81-5e6c13a335ec",
   "metadata": {},
   "outputs": [],
   "source": [
    "%matplotlib widget"
   ]
  },
  {
   "cell_type": "code",
   "execution_count": null,
   "id": "e89260c9-bd91-4a62-be9a-1f73c84e7210",
   "metadata": {},
   "outputs": [],
   "source": [
    "# checkup: print spectrum of original and filtered signals, print sample rate of new raw data file\n",
    "curr_checkup_filename = f\"{curr_bids_root}/derivatives/mne-bids-pipeline/sub-01/eeg/sub-01_task-SocialMemoryCuing_proc-filt_raw.fif\"\n",
    "curr_checkup_raw_filtered = mne.io.read_raw_fif(curr_checkup_filename, preload=True)\n",
    "curr_checkup_raw_filtered.plot_psd()\n",
    "print(\"checkup plot showing reduced bandwidth of eeg signals\")"
   ]
  },
  {
   "cell_type": "code",
   "execution_count": 23,
   "id": "47d6fb9b-bd99-4380-941b-94d5b553f7a7",
   "metadata": {},
   "outputs": [
    {
     "name": "stdout",
     "output_type": "stream",
     "text": [
      "sub-01_task-SocialMemoryCuing_proc-filt_raw.fif\n"
     ]
    }
   ],
   "source": [
    "# checkup: print file name if the processed file exists\n",
    "curr_subject_path = f\"{curr_bids_root}/derivatives/mne-bids-pipeline/sub-01/eeg\"\n",
    "!\"{ls_command}\" \"{curr_subject_path}\"/sub-01_task-SocialMemoryCuing_proc-filt_raw.fif | xargs basename"
   ]
  },
  {
   "cell_type": "code",
   "execution_count": null,
   "id": "8ae2e819-7e3a-417f-aae6-52a28744bc7d",
   "metadata": {
    "scrolled": true
   },
   "outputs": [],
   "source": [
    "curr_steps = \"preprocessing/_05_make_epochs\"\n",
    "!mne_bids_pipeline --config {config_path} --steps {curr_steps}"
   ]
  },
  {
   "cell_type": "code",
   "execution_count": null,
   "id": "1be4676f-a31b-4728-9083-14a3e550fa14",
   "metadata": {},
   "outputs": [],
   "source": [
    "# checkup: plot epochs\n",
    "curr_checkup_epochs = mne.read_epochs(f\"{curr_subject_path}/sub-01_task-SocialMemoryCuing_epo.fif\")\n",
    "mne.viz.plot_epochs_image(curr_checkup_epochs)"
   ]
  },
  {
   "cell_type": "code",
   "execution_count": null,
   "id": "37522a72-cf8e-414f-965f-807164672ea7",
   "metadata": {
    "scrolled": true
   },
   "outputs": [],
   "source": [
    "curr_steps = \"preprocessing/_06a_run_ica\"\n",
    "!mne_bids_pipeline --config {config_path} --steps {curr_steps}"
   ]
  },
  {
   "cell_type": "code",
   "execution_count": null,
   "id": "9006e449-86bd-4b29-bfcc-0d3da7e59e1c",
   "metadata": {},
   "outputs": [],
   "source": [
    "# checkup: plot ica components\n",
    "curr_checkup_ica = mne.preprocessing.read_ica(f\"{curr_subject_path}/sub-01_task-SocialMemoryCuing_ica.fif\")\n",
    "curr_checkup_ica.apply(curr_checkup_raw_filtered)\n",
    "curr_checkup_ica.plot_components(inst=curr_checkup_raw_filtered)\n",
    "print(\"checkup: ICA component plots of the selected subject\")"
   ]
  },
  {
   "cell_type": "code",
   "execution_count": null,
   "id": "91e892dd",
   "metadata": {
    "scrolled": true
   },
   "outputs": [],
   "source": [
    "import mne\n",
    "import mne_icalabel\n",
    "from mne.preprocessing import read_ica\n",
    "import pandas as pd\n",
    "from mne_bids_pipeline._config_utils import (\n",
    "    get_subjects,\n",
    "    get_sessions\n",
    ")\n",
    "\n",
    "for subject in get_subjects(cfg):\n",
    "    for session in get_sessions(cfg):\n",
    "        paths = ih.get_input_fnames_apply_ica(cfg=cfg, subject=subject, session=session)\n",
    "        ica = read_ica(paths[\"ica\"])\n",
    "        raw = mne.io.read_raw_fif(paths[\"raw\"])\n",
    "        \n",
    "        label_results = mne_icalabel.label_components(raw, ica, method=\"iclabel\")\n",
    "\n",
    "        print(\"\\n\\nSUBJECT:\", subject)\n",
    "        print(str(ica)) # checkup print of known data about ICA\n",
    "        print(\"\\nresulting predictions:\", label_results[\"y_pred_proba\"]) # checkup print\n",
    "        print(\"\\nresulting labels:     \", label_results[\"labels\"])       # checkup print\n",
    "        \n",
    "        labels = label_results[\"labels\"]\n",
    "        exclude_idx = [\n",
    "            idx for idx, label in enumerate(labels) if label not in [\"brain\", \"other\"]\n",
    "        ]\n",
    "        tsv_data = pd.read_csv(paths[\"components\"], sep=\"\\t\")\n",
    "        \n",
    "        # checkup: print old content of the file\n",
    "        print(\"\\nold tsv file content:\")\n",
    "        print(str(tsv_data))\n",
    "        \n",
    "        tsv_data.loc[exclude_idx, \"status\"] = \"bad\"\n",
    "        \n",
    "        # checkup: print updated content of the file\n",
    "        print(\"\\nnew tsv file content:\")\n",
    "        print(tsv_data)\n",
    "        \n",
    "        tsv_data.to_csv(paths[\"components\"], sep=\"\\t\", index=False)\n",
    "    \n"
   ]
  },
  {
   "cell_type": "code",
   "execution_count": null,
   "id": "7fc01d65-e0d9-405c-ae4c-7f8ae00158d8",
   "metadata": {},
   "outputs": [],
   "source": [
    "# checkup: print list of components given in updated …_proc-ica+components.tsv file\n",
    "!cat \"{curr_subject_path}/sub-01_task-SocialMemoryCuing_proc-ica_components.tsv\"\n",
    "# This file should contain a status like \"bad\" for eye blinks, or \"good\" for brain activity, as it is indicated above and visible in the ICA component plots."
   ]
  },
  {
   "cell_type": "code",
   "execution_count": null,
   "id": "b0e70992",
   "metadata": {
    "scrolled": true
   },
   "outputs": [],
   "source": [
    "curr_steps = \"preprocessing/_07a_apply_ica\"\n",
    "!mne_bids_pipeline --config {config_path} --steps {curr_steps}"
   ]
  },
  {
   "cell_type": "code",
   "execution_count": null,
   "id": "3d13510c-e87f-4e43-b5b8-84a8119bd806",
   "metadata": {},
   "outputs": [],
   "source": [
    "# checkup: plot original (conventionally filtered) epochs\n",
    "curr_checkup_epochs = mne.read_epochs(f\"{curr_subject_path}/sub-01_task-SocialMemoryCuing_epo.fif\")\n",
    "mne.viz.plot_epochs_image(curr_checkup_epochs)\n",
    "print(\"checkup: original (top) vs. ica-applied (bottom) epochs\")"
   ]
  },
  {
   "cell_type": "code",
   "execution_count": null,
   "id": "d844daf0-8c06-4ff9-b00a-9d71ef0d6a48",
   "metadata": {},
   "outputs": [],
   "source": [
    "# checkup: plot ICA-corrected epochs\n",
    "curr_checkup_epochs_ica = mne.read_epochs(f\"{curr_subject_path}/sub-01_task-SocialMemoryCuing_proc-ica_epo.fif\")\n",
    "mne.viz.plot_epochs_image(curr_checkup_epochs_ica)\n",
    "print(\"checkup: original (top) vs. ica-applied (bottom) epochs; Compare the scale in μV.\")"
   ]
  },
  {
   "cell_type": "code",
   "execution_count": null,
   "id": "419f1629-19ef-46a0-93c6-22f840beb280",
   "metadata": {
    "scrolled": true
   },
   "outputs": [],
   "source": [
    "curr_steps = \"preprocessing/_08_ptp_reject\"\n",
    "!mne_bids_pipeline --config {config_path} --steps {curr_steps}"
   ]
  },
  {
   "cell_type": "code",
   "execution_count": null,
   "id": "f68661a7-4ebf-43d8-8616-bcc5336e57f3",
   "metadata": {},
   "outputs": [],
   "source": [
    "# checkup: plot original (conventionally filtered) epochs\n",
    "curr_checkup_epochs = mne.read_epochs(f\"{curr_subject_path}/sub-01_task-SocialMemoryCuing_epo.fif\")\n",
    "mne.viz.plot_epochs_image(curr_checkup_epochs)\n",
    "print(\"checkup: original epochs\")"
   ]
  },
  {
   "cell_type": "code",
   "execution_count": null,
   "id": "edb6a27f-effb-4981-b5a2-5bf384e50edc",
   "metadata": {},
   "outputs": [],
   "source": [
    "# checkup: plot cleaned epochs\n",
    "curr_checkup_epochs_ptp = mne.read_epochs(f\"{curr_subject_path}/sub-01_task-SocialMemoryCuing_proc-clean_epo.fif\")\n",
    "mne.viz.plot_epochs_image(curr_checkup_epochs_ptp)\n",
    "print(\"checkup: original (top) vs. cleaned epochs (bottom)\")"
   ]
  },
  {
   "cell_type": "code",
   "execution_count": null,
   "id": "2636109a",
   "metadata": {
    "scrolled": true
   },
   "outputs": [],
   "source": [
    "curr_steps = \"sensor\"\n",
    "!mne_bids_pipeline --config {config_path} --steps {curr_steps}"
   ]
  },
  {
   "cell_type": "code",
   "execution_count": null,
   "id": "16c0472c",
   "metadata": {
    "scrolled": true
   },
   "outputs": [],
   "source": [
    "curr_steps = \"source\"\n",
    "!mne_bids_pipeline --config {config_path} --steps {curr_steps}"
   ]
  },
  {
   "cell_type": "markdown",
   "id": "43ee7dd7-2fdb-4ba5-833d-306f30db80a1",
   "metadata": {},
   "source": [
    "## Files per Step\n",
    "\n",
    "- `preprocessing/_01_data_quality`\n",
    "    ```\n",
    "    sub-01_task-SocialMemoryCuing_report.h5\n",
    "    sub-01_task-SocialMemoryCuing_report.h5.lock\n",
    "    sub-01_task-SocialMemoryCuing_report.html\n",
    "    ```\n",
    "- `preprocessing/_04_frequency_filter`\n",
    "    ```\n",
    "    sub-01_task-SocialMemoryCuing_proc-filt_raw.fif\n",
    "    ```\n",
    "- `preprocessing/_05_make_epochs`\n",
    "    ```\n",
    "    sub-01_task-SocialMemoryCuing_epo.fif\n",
    "    ```\n",
    "- `preprocessing/_06a_run_ica`\n",
    "\n",
    "    ```\n",
    "    sub-01_task-SocialMemoryCuing_ica.fif\n",
    "    sub-01_task-SocialMemoryCuing_proc-ica_components.tsv\n",
    "    sub-01_task-SocialMemoryCuing_proc-ica+components_report.html\n",
    "    ```\n",
    "- ica labelling: no new file (just changes of `*.tsv` file)\n",
    "- `preprocessing/_07a_apply_ica`\n",
    "    ```\n",
    "    sub-01_task-SocialMemoryCuing_proc-ica_epo.fif\n",
    "    sub-01_task-SocialMemoryCuing_proc-ica_report.html\n",
    "    ```\n",
    "- `preprocessing/_08_ptp_reject`\n",
    "    ```\n",
    "    sub-01_task-SocialMemoryCuing_proc-clean_epo.fif\n",
    "    ```\n",
    "- `sensor`\n",
    "    ```\n",
    "    sub-01_task-SocialMemoryCuing_ave.fif\n",
    "    sub-01_task-SocialMemoryCuing_proc-avatar+sticks+FullEpochs+rocauc_decoding.mat\n",
    "    sub-01_task-SocialMemoryCuing_proc-avatar+sticks+FullEpochs+rocauc_decoding.tsv\n",
    "    sub-01_task-SocialMemoryCuing_proc-avatar+sticks+TimeByTime+rocauc_decoding.mat\n",
    "    sub-01_task-SocialMemoryCuing_proc-avatar+sticks+TimeByTime+rocauc_decoding.tsv\n",
    "    \n",
    "    sub-01_task-SocialMemoryCuing_itc+avatar+tfr.h5\n",
    "    sub-01_task-SocialMemoryCuing_itc+sticks+tfr.h5\n",
    "    sub-01_task-SocialMemoryCuing_power+avatar+tfr.h5\n",
    "    sub-01_task-SocialMemoryCuing_power+sticks+tfr.h5\n",
    "     \n",
    "    sub-01_task-SocialMemoryCuing_cov.fif\n",
    "    sub-01_task-SocialMemoryCuing_proc-avatar+sticks+CSP+rocauc_decoding.xlsx\n",
    "    ```\n",
    "- `source`\n",
    "    ```\n",
    "    sub-01_task-SocialMemoryCuing_fwd.fif\n",
    "    sub-01_task-SocialMemoryCuing_trans.fif\n",
    "    ```\n"
   ]
  }
 ],
 "metadata": {
  "kernelspec": {
   "display_name": "Python 3 (ipykernel)",
   "language": "python",
   "name": "python3"
  },
  "language_info": {
   "codemirror_mode": {
    "name": "ipython",
    "version": 3
   },
   "file_extension": ".py",
   "mimetype": "text/x-python",
   "name": "python",
   "nbconvert_exporter": "python",
   "pygments_lexer": "ipython3",
   "version": "3.11.6"
  }
 },
 "nbformat": 4,
 "nbformat_minor": 5
}
