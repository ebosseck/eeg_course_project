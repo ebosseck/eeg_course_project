﻿{
 "cells": [
  {
   "cell_type": "markdown",
   "source": [
    "## Group: Hyacithara - Report\n",
    "\n",
    "First, lets make sure that all required packages are available."
   ],
   "metadata": {
    "collapsed": false
   },
   "id": "568c70ac9cd0d450"
  },
  {
   "cell_type": "code",
   "execution_count": null,
   "outputs": [],
   "source": [
    "!pip install -r requirements.txt"
   ],
   "metadata": {
    "collapsed": false
   },
   "id": "d2f1a44d77400139"
  },
  {
   "cell_type": "markdown",
   "source": [
    "Now, that all python packages required are installed, we can start to fetch all required data and perform some clean-up operations on the data, so we can use the data with the MNE-BIDS pipeline."
   ],
   "metadata": {
    "collapsed": false
   },
   "id": "956e3b8b3c55a98d"
  },
  {
   "cell_type": "code",
   "execution_count": null,
   "id": "initial_id",
   "metadata": {
    "collapsed": true
   },
   "outputs": [],
   "source": [
    "# import function to load configuration from file\n",
    "from mne_bids_pipeline._config_import import _import_config as getConfig\n",
    "from tools.logtools import *\n",
    "\n",
    "# tools to get fresh data\n",
    "import data_handling.data_downloader as dl\n",
    "import data_handling.data_cleaner as clean\n",
    "\n",
    "import matplotlib\n",
    "matplotlib.use('qtagg')"
   ]
  },
  {
   "cell_type": "markdown",
   "source": [
    "First of all, we load the config file for the mne-bids pipeline. Note that we have to disable checks here, otherwise the import would fail if the data is not jet available"
   ],
   "metadata": {
    "collapsed": false
   },
   "id": "f98e700f72b77cb5"
  },
  {
   "cell_type": "code",
   "execution_count": null,
   "outputs": [],
   "source": [
    "# set the file path of the main configuration file\n",
    "bids_config_path = \"./mne-bids/config/mne-bids-pipeline_data_tests.py\"\n",
    "# load configured settings from file\n",
    "bids_cfg = getConfig(\n",
    "    config_path=bids_config_path,\n",
    "    check=False\n",
    ")"
   ],
   "metadata": {
    "collapsed": false
   },
   "id": "f9c8ac0a1562327c"
  },
  {
   "cell_type": "markdown",
   "source": [
    "Then, we may need to fetch a fresh copy of the data. In order to avoid confusion, this is done by this notebook. \n",
    "\n",
    "If the data is not where it is expected, a fresh copy is downloaded and extracted. Please ensure that you have enough disk space available (ca. 150 gigabyte).\n",
    "For this there are some configuration options: "
   ],
   "metadata": {
    "collapsed": false
   },
   "id": "a0067e01f3b48c6f"
  },
  {
   "cell_type": "code",
   "execution_count": null,
   "outputs": [],
   "source": [
    "from data_handling import getDataPathFromBidsRoot\n",
    "\n",
    "dl.CLEAN_DATA = False # if true, clears the data directory in order to force downloading a fresh copy of the data\n",
    "dl.DATA_BASE_DIR = getDataPathFromBidsRoot(bids_cfg.bids_root) # get the data folder from the bids pipeline configuration\n",
    "dl.VALIDATE_DATA = True # if true, checks that the downloaded zip file is the expected file"
   ],
   "metadata": {
    "collapsed": false
   },
   "id": "80b28eb3a3f246b0"
  },
  {
   "cell_type": "code",
   "execution_count": null,
   "outputs": [],
   "source": [
    "if dl.CLEAN_DATA:\n",
    "    clean.removeDirectory(dl.DATA_BASE_DIR)\n",
    "dl.fetchData()"
   ],
   "metadata": {
    "collapsed": false
   },
   "id": "2cd3e8883be7ee99"
  },
  {
   "cell_type": "markdown",
   "source": [
    "Once all data is downloaded and unpacked, we have to do some preprocessing, in order to be able to use the data.\n",
    "\n",
    "For this data set, this consists mainly of two tasks:\n",
    "\n",
    "1. Fix file links in *.vhdr and *.vmrk files. This is needed, because the files got renamed after exporting, but the original authors did not fix the file links\n",
    "2. Generate a events.tsv file for each subject"
   ],
   "metadata": {
    "collapsed": false
   },
   "id": "b68769931b45f518"
  },
  {
   "cell_type": "code",
   "execution_count": null,
   "outputs": [],
   "source": [
    "# tools to patch fresh data\n",
    "import data_handling.data_patcher as patch\n",
    "import data_handling.convert_brainvision2bids as convert\n",
    "\n",
    "patch.patchAllFiles(bids_cfg.bids_root)\n",
    "convert.buildEventTSV(bids_cfg.bids_root)"
   ],
   "metadata": {
    "collapsed": false
   },
   "id": "956ddf79dffd021e"
  },
  {
   "cell_type": "markdown",
   "source": [
    "Now that we got all the data we require, we can import the config again, this time with checks that all parameters are valid."
   ],
   "metadata": {
    "collapsed": false
   },
   "id": "72bfd512c3fba5ca"
  },
  {
   "cell_type": "code",
   "execution_count": null,
   "outputs": [],
   "source": [
    "bids_cfg = getConfig(\n",
    "    config_path=bids_config_path,\n",
    ")"
   ],
   "metadata": {
    "collapsed": false
   },
   "id": "c3088771f4cffa8e"
  },
  {
   "cell_type": "markdown",
   "source": [
    "Once the configuration is loaded, we can then run the pipeline."
   ],
   "metadata": {
    "collapsed": false
   },
   "id": "6fb02521fb594da7"
  },
  {
   "cell_type": "code",
   "execution_count": null,
   "outputs": [],
   "source": [
    "# allow for calling mne_bids_pipeline within Python\n",
    "import sys\n",
    "\n",
    "import mne_bids_pipeline\n",
    "from mne_bids import BIDSPath\n",
    "\n",
    "import mne_bids_pipeline._main\n",
    "from typing import Optional\n",
    "\n",
    "# define the function to run the pipeline within Python\n",
    "def run_pipeline(config:str=\"\", steps:str=\"\"):\n",
    "    sys.args = [\"\", \"--config\", config, \"--steps\", steps]\n",
    "    mne_bids_pipeline._main.main()"
   ],
   "metadata": {
    "collapsed": false
   },
   "id": "e811e39d8ee675e7"
  },
  {
   "cell_type": "markdown",
   "source": [
    "In case errors occur while running the pipeline, we should remove the output of the previous pipeline runs."
   ],
   "metadata": {
    "collapsed": false
   },
   "id": "113709b71277e18e"
  },
  {
   "cell_type": "code",
   "execution_count": null,
   "outputs": [],
   "source": [
    "CLEAR_PIPELINE_OUTPUT = False"
   ],
   "metadata": {
    "collapsed": false
   },
   "id": "d72fe23fbac4c448"
  },
  {
   "cell_type": "code",
   "execution_count": null,
   "outputs": [],
   "source": [
    "if CLEAR_PIPELINE_OUTPUT:\n",
    "    clean.removeDirectory(\"{}/derivatives/mne-bids-pipeline\".format(bids_cfg.bids_root))\n"
   ],
   "metadata": {
    "collapsed": false
   },
   "id": "f87e970eb4371de4"
  },
  {
   "cell_type": "markdown",
   "source": [
    "Now, we can finally start running the pipeline:"
   ],
   "metadata": {
    "collapsed": false
   },
   "id": "1d1d7feb115806f7"
  },
  {
   "cell_type": "code",
   "execution_count": null,
   "outputs": [],
   "source": [
    "curr_steps = \"init\"\n",
    "!mne_bids_pipeline --config {bids_config_path} --steps {curr_steps}"
   ],
   "metadata": {
    "collapsed": false
   },
   "id": "a7b85f17c1e50329"
  },
  {
   "cell_type": "markdown",
   "source": [
    "In case of Unicode encode errors when attempting to run the pipeline, make sure that the following environment variable is set:"
   ],
   "metadata": {
    "collapsed": false
   },
   "id": "97841505b3f049b"
  },
  {
   "cell_type": "raw",
   "source": [
    "PYTHONIOENCODING=utf8"
   ],
   "metadata": {
    "collapsed": false
   },
   "id": "198744ccc077d5a9"
  },
  {
   "cell_type": "markdown",
   "source": [
    "Remember to restart Jupyter after setting the environment variable."
   ],
   "metadata": {
    "collapsed": false
   },
   "id": "922764c372c2fcb8"
  },
  {
   "cell_type": "code",
   "execution_count": null,
   "outputs": [],
   "source": [
    "curr_steps = \"preprocessing/_01_data_quality\"\n",
    "!mne_bids_pipeline --config {bids_config_path} --steps {curr_steps}"
   ],
   "metadata": {
    "collapsed": false
   },
   "id": "9c8d272040fb76aa"
  },
  {
   "cell_type": "markdown",
   "source": [],
   "metadata": {
    "collapsed": false
   },
   "id": "bf090dfc20398b7c"
  },
  {
   "cell_type": "markdown",
   "source": [],
   "metadata": {
    "collapsed": false
   },
   "id": "f125b815131f58bc"
  },
  {
   "cell_type": "markdown",
   "source": [],
   "metadata": {
    "collapsed": false
   },
   "id": "b3b1bfe2a20fee71"
  },
  {
   "cell_type": "code",
   "execution_count": null,
   "outputs": [],
   "source": [
    "curr_steps = \"preprocessing/_02_head_pos\"\n",
    "!mne_bids_pipeline --config {bids_config_path} --steps {curr_steps}"
   ],
   "metadata": {
    "collapsed": false
   },
   "id": "45b975a907876614"
  },
  {
   "cell_type": "code",
   "execution_count": null,
   "outputs": [],
   "source": [
    "curr_steps = \"preprocessing/_03_maxfilter\"\n",
    "!mne_bids_pipeline --config {bids_config_path} --steps {curr_steps}"
   ],
   "metadata": {
    "collapsed": false
   },
   "id": "94dc7c8be65056ea"
  },
  {
   "cell_type": "code",
   "execution_count": null,
   "outputs": [],
   "source": [
    "curr_steps = \"preprocessing/_04_frequency_filter\"\n",
    "!mne_bids_pipeline --config {bids_config_path} --steps {curr_steps}"
   ],
   "metadata": {
    "collapsed": false
   },
   "id": "20aa43da11ab7d2b"
  },
  {
   "cell_type": "code",
   "execution_count": null,
   "outputs": [],
   "source": [
    "curr_steps = \"preprocessing/_05_make_epochs\"\n",
    "!mne_bids_pipeline --config {bids_config_path} --steps {curr_steps}"
   ],
   "metadata": {
    "collapsed": false
   },
   "id": "89ac3904cce52ab4"
  },
  {
   "cell_type": "code",
   "execution_count": null,
   "outputs": [],
   "source": [
    "curr_steps = \"preprocessing/_06a_run_ica\"\n",
    "!mne_bids_pipeline --config {bids_config_path} --steps {curr_steps}"
   ],
   "metadata": {
    "collapsed": false
   },
   "id": "3d6e2ee257bc36ed"
  },
  {
   "cell_type": "code",
   "execution_count": null,
   "outputs": [],
   "source": [
    "# define a function which gets used in application of the ICA results to the raw data\n",
    "def get_input_fnames_apply_ica(\n",
    "        *,\n",
    "        cfg,\n",
    "        subject: str,\n",
    "        session: Optional[str],\n",
    ") -> dict:\n",
    "    bids_basename = BIDSPath(\n",
    "        subject=subject,\n",
    "        session=session,\n",
    "        task=cfg.task,\n",
    "        acquisition=cfg.acq,\n",
    "        recording=cfg.rec,\n",
    "        space=cfg.space,\n",
    "        datatype='eeg',\n",
    "        root=cfg.deriv_root,\n",
    "        check=False,\n",
    "    )\n",
    "    paths = dict()\n",
    "    paths[\"ica\"] = bids_basename.copy().update(suffix=\"ica\", extension=\".fif\")\n",
    "    paths[\"raw\"] = bids_basename.copy().update(suffix=\"proc-filt_raw\", extension=\".fif\")\n",
    "    paths[\"components\"] = bids_basename.copy().update(\n",
    "        processing=\"ica\", suffix=\"components\", extension=\".tsv\"\n",
    "    )\n",
    "    return paths"
   ],
   "metadata": {
    "collapsed": false
   },
   "id": "c3fe074dfbe68acf"
  },
  {
   "cell_type": "code",
   "execution_count": null,
   "outputs": [],
   "source": [
    "from os.path import exists\n",
    "import mne\n",
    "import mne_icalabel\n",
    "from mne.preprocessing import read_ica\n",
    "import pandas as pd\n",
    "from mne_bids_pipeline._config_utils import (\n",
    "    get_subjects,\n",
    "    get_sessions\n",
    ")\n",
    "\n",
    "for subject in get_subjects(bids_cfg):\n",
    "    for session in get_sessions(bids_cfg):\n",
    "        paths = get_input_fnames_apply_ica(cfg=bids_cfg, subject=subject, session=session)\n",
    "        if not exists(paths[\"ica\"]):\n",
    "            print(formatString(\"ICA file not found, skipping Subject:\", style=STYLE_TEXT_RED),\n",
    "                  formatString(subject, style=STYLE_TEXT_BLUE))\n",
    "            continue\n",
    "        ica = read_ica(paths[\"ica\"])\n",
    "        raw = mne.io.read_raw_fif(paths[\"raw\"])\n",
    "\n",
    "        label_results = mne_icalabel.label_components(raw, ica, method=\"iclabel\")\n",
    "\n",
    "        print(str(ica))  # checkup print of known data about ICA\n",
    "        print(\"\\nresulting predictions:\", label_results[\"y_pred_proba\"])  # checkup print\n",
    "        print(\"\\nresulting labels:     \", label_results[\"labels\"])  # checkup print\n",
    "\n",
    "        labels = label_results[\"labels\"]\n",
    "        exclude_idx = [\n",
    "            idx for idx, label in enumerate(labels) if label not in [\"brain\", \"other\"]\n",
    "        ]\n",
    "        tsv_data = pd.read_csv(paths[\"components\"], sep=\"\\t\")\n",
    "\n",
    "        # checkup: print old content of the file\n",
    "        print(\"\\nold tsv file content:\")\n",
    "        print(str(tsv_data))\n",
    "\n",
    "        tsv_data.loc[exclude_idx, \"status\"] = \"bad\"\n",
    "\n",
    "        # checkup: print updated content of the file\n",
    "        print(\"\\nnew tsv file content:\")\n",
    "        print(tsv_data)\n",
    "\n",
    "        tsv_data.to_csv(paths[\"components\"], sep=\"\\t\", index=False)"
   ],
   "metadata": {
    "collapsed": false
   },
   "id": "e2334c87f1e2b46f"
  },
  {
   "cell_type": "code",
   "execution_count": null,
   "outputs": [],
   "source": [
    "curr_steps = \"preprocessing/_07a_apply_ica\"\n",
    "!mne_bids_pipeline --config {bids_config_path} --steps {curr_steps}"
   ],
   "metadata": {
    "collapsed": false
   },
   "id": "536f8a79e11414d"
  },
  {
   "cell_type": "code",
   "execution_count": null,
   "outputs": [],
   "source": [
    "curr_steps = \"preprocessing/_08_ptp_reject\"\n",
    "!mne_bids_pipeline --config {bids_config_path} --steps {curr_steps}"
   ],
   "metadata": {
    "collapsed": false
   },
   "id": "72f73b7fd53ba77d"
  },
  {
   "cell_type": "code",
   "execution_count": null,
   "outputs": [],
   "source": [
    "curr_steps = \"sensor\"\n",
    "!mne_bids_pipeline --config {bids_config_path} --steps {curr_steps}"
   ],
   "metadata": {
    "collapsed": false
   },
   "id": "58bf33ffd3c56704"
  },
  {
   "cell_type": "code",
   "execution_count": null,
   "outputs": [],
   "source": [
    "curr_steps = \"source\"\n",
    "!mne_bids_pipeline --config {bids_config_path} --steps {curr_steps}"
   ],
   "metadata": {
    "collapsed": false
   },
   "id": "70cb194a29cf5eb9"
  },
  {
   "cell_type": "code",
   "execution_count": null,
   "outputs": [],
   "source": [],
   "metadata": {
    "collapsed": false
   },
   "id": "bca4bdb94f914fb1"
  }
 ],
 "metadata": {
  "kernelspec": {
   "display_name": "Python 3",
   "language": "python",
   "name": "python3"
  },
  "language_info": {
   "codemirror_mode": {
    "name": "ipython",
    "version": 2
   },
   "file_extension": ".py",
   "mimetype": "text/x-python",
   "name": "python",
   "nbconvert_exporter": "python",
   "pygments_lexer": "ipython2",
   "version": "2.7.6"
  }
 },
 "nbformat": 4,
 "nbformat_minor": 5
}
