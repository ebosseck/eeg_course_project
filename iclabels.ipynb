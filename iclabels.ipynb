{
 "cells": [
  {
   "cell_type": "code",
   "execution_count": 5,
   "id": "initial_id",
   "metadata": {
    "collapsed": true,
    "ExecuteTime": {
     "end_time": "2024-01-24T05:05:27.614197800Z",
     "start_time": "2024-01-24T05:05:27.604194200Z"
    }
   },
   "outputs": [],
   "source": [
    "import mne\n",
    "from mne.preprocessing import ICA\n",
    "\n",
    "from mne_icalabel import label_components"
   ]
  },
  {
   "cell_type": "code",
   "execution_count": 6,
   "outputs": [
    {
     "ename": "ValueError",
     "evalue": "Unsupported file type (). Consider using a dedicated reader function for more options.",
     "output_type": "error",
     "traceback": [
      "\u001B[1;31m---------------------------------------------------------------------------\u001B[0m",
      "\u001B[1;31mValueError\u001B[0m                                Traceback (most recent call last)",
      "Cell \u001B[1;32mIn[6], line 1\u001B[0m\n\u001B[1;32m----> 1\u001B[0m raw \u001B[38;5;241m=\u001B[39m \u001B[43mmne\u001B[49m\u001B[38;5;241;43m.\u001B[39;49m\u001B[43mio\u001B[49m\u001B[38;5;241;43m.\u001B[39;49m\u001B[43mread_raw\u001B[49m\u001B[43m \u001B[49m\u001B[43m(\u001B[49m\u001B[38;5;124;43m\"\u001B[39;49m\u001B[38;5;124;43m./data/ds003702/derivatives/mne-bids-pipeline/sub-average/eeg/\u001B[39;49m\u001B[38;5;124;43m\"\u001B[39;49m\u001B[43m)\u001B[49m\n\u001B[0;32m      3\u001B[0m ica \u001B[38;5;241m=\u001B[39m ICA(\n\u001B[0;32m      4\u001B[0m     n_components\u001B[38;5;241m=\u001B[39m\u001B[38;5;241m15\u001B[39m,\n\u001B[0;32m      5\u001B[0m     max_iter\u001B[38;5;241m=\u001B[39m\u001B[38;5;124m\"\u001B[39m\u001B[38;5;124mauto\u001B[39m\u001B[38;5;124m\"\u001B[39m,\n\u001B[1;32m   (...)\u001B[0m\n\u001B[0;32m      8\u001B[0m     fit_params\u001B[38;5;241m=\u001B[39m\u001B[38;5;28mdict\u001B[39m(extended\u001B[38;5;241m=\u001B[39m\u001B[38;5;28;01mTrue\u001B[39;00m),\n\u001B[0;32m      9\u001B[0m )\n\u001B[0;32m     10\u001B[0m ica\u001B[38;5;241m.\u001B[39mfit(raw)\n",
      "File \u001B[1;32mB:\\Uni\\Master\\Semester_03\\EEG\\project\\repo\\eeg_course_project\\venv\\lib\\site-packages\\mne\\io\\_read_raw.py:153\u001B[0m, in \u001B[0;36mread_raw\u001B[1;34m(fname, preload, verbose, **kwargs)\u001B[0m\n\u001B[0;32m    151\u001B[0m readers \u001B[38;5;241m=\u001B[39m _get_readers()\n\u001B[0;32m    152\u001B[0m \u001B[38;5;28;01mif\u001B[39;00m ext \u001B[38;5;129;01mnot\u001B[39;00m \u001B[38;5;129;01min\u001B[39;00m readers:\n\u001B[1;32m--> 153\u001B[0m     \u001B[43m_read_unsupported\u001B[49m\u001B[43m(\u001B[49m\u001B[43mfname\u001B[49m\u001B[43m)\u001B[49m\n\u001B[0;32m    154\u001B[0m these_readers \u001B[38;5;241m=\u001B[39m \u001B[38;5;28mlist\u001B[39m(readers[ext]\u001B[38;5;241m.\u001B[39mvalues())\n\u001B[0;32m    155\u001B[0m \u001B[38;5;28;01mfor\u001B[39;00m reader \u001B[38;5;129;01min\u001B[39;00m these_readers:\n",
      "File \u001B[1;32mB:\\Uni\\Master\\Semester_03\\EEG\\project\\repo\\eeg_course_project\\venv\\lib\\site-packages\\mne\\io\\_read_raw.py:22\u001B[0m, in \u001B[0;36m_read_unsupported\u001B[1;34m(fname, **kwargs)\u001B[0m\n\u001B[0;32m     20\u001B[0m     msg \u001B[38;5;241m+\u001B[39m\u001B[38;5;241m=\u001B[39m \u001B[38;5;124mf\u001B[39m\u001B[38;5;124m\"\u001B[39m\u001B[38;5;124m Try reading a \u001B[39m\u001B[38;5;132;01m{\u001B[39;00msuggest\u001B[38;5;132;01m}\u001B[39;00m\u001B[38;5;124m file instead.\u001B[39m\u001B[38;5;124m\"\u001B[39m\n\u001B[0;32m     21\u001B[0m msg \u001B[38;5;241m+\u001B[39m\u001B[38;5;241m=\u001B[39m \u001B[38;5;124m\"\u001B[39m\u001B[38;5;124m Consider using a dedicated reader function for more options.\u001B[39m\u001B[38;5;124m\"\u001B[39m\n\u001B[1;32m---> 22\u001B[0m \u001B[38;5;28;01mraise\u001B[39;00m \u001B[38;5;167;01mValueError\u001B[39;00m(msg)\n",
      "\u001B[1;31mValueError\u001B[0m: Unsupported file type (). Consider using a dedicated reader function for more options."
     ]
    }
   ],
   "source": [
    "\n",
    "\n",
    "\n",
    "ic_labels = label_components(raw, ica, method=\"iclabel\")\n",
    "\n",
    "# ICA0 was correctly identified as an eye blink, whereas ICA12 was\n",
    "# classified as a muscle artifact.\n",
    "print(ic_labels[\"labels\"])\n",
    "ica.plot_properties(raw, picks=[0, 12], verbose=False)"
   ],
   "metadata": {
    "collapsed": false,
    "ExecuteTime": {
     "end_time": "2024-01-24T05:05:27.674216300Z",
     "start_time": "2024-01-24T05:05:27.615198Z"
    }
   },
   "id": "6bb938599dd6aa40"
  }
 ],
 "metadata": {
  "kernelspec": {
   "display_name": "Python 3",
   "language": "python",
   "name": "python3"
  },
  "language_info": {
   "codemirror_mode": {
    "name": "ipython",
    "version": 2
   },
   "file_extension": ".py",
   "mimetype": "text/x-python",
   "name": "python",
   "nbconvert_exporter": "python",
   "pygments_lexer": "ipython2",
   "version": "2.7.6"
  }
 },
 "nbformat": 4,
 "nbformat_minor": 5
}
